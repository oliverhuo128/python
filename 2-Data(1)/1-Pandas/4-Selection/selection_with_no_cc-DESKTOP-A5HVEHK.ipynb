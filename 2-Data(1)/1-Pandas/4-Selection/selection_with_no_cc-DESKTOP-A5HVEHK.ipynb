{
 "cells": [
  {
   "cell_type": "markdown",
   "id": "4e8963bf",
   "metadata": {},
   "source": [
    "# Data Indexing and Selection\n",
    "---\n",
    "\n",
    "In the previous units we learnt about the concepts of __Series__ and __DataFrames__ and how to construct them. Let's explore the ways we can access subsets of data from them. \n",
    "\n",
    "---\n",
    "## 1. Data Indexing and Selection - Definition:\n",
    "__Data Indexing__  (also __Subset Selection__) in Pandas simply means selecting a certain sub-part of data from a Pandas Object.\n",
    "\n",
    "In the context of a __Series__, data indexing could mean selecting one or multiple elements of a Series. In the context of __DataFrames__, data indexing could refer to selecting a subset of rows and columns, individual values, etc."
   ]
  },
  {
   "cell_type": "code",
   "execution_count": 2,
   "id": "3b4babbc",
   "metadata": {},
   "outputs": [],
   "source": [
    "# Imports\n",
    "import pandas as pd\n",
    "import numpy as np\n",
    "import datetime as dt"
   ]
  },
  {
   "cell_type": "markdown",
   "id": "c8c354a7",
   "metadata": {},
   "source": [
    "---\n",
    "## 2. Series - Data Indexing and Selection:\n",
    "Recall that __Series__ are 1-dimensional objects of indexed data.\n",
    "We can index a Series object in one of the following ways:\n",
    "- __Explicit vs Implicit Indexing__\n",
    "- __Slicing__\n",
    "- __Boolean Indexing__"
   ]
  },
  {
   "cell_type": "markdown",
   "id": "f575a296",
   "metadata": {},
   "source": [
    "---\n",
    "### 2.1 Explicit vs Implicit Indexing:\n",
    "The first way to select an element from a Series is by using its __index__ as a key!\n",
    "\n",
    "\n",
    "- __Explicit Indexing__ - accessing a single element via the actual label (name) of its corresponding index\n",
    "- __Implicit Indexing__ - accessing a single element via the integer position of its corresponding index\n",
    "\n",
    "Syntax:\n",
    "-  __Explicit Indexing__ - `series_name.loc[index_label]`\n",
    "- __Implicit Indexing__ - `series_name.iloc[index_position]`\n",
    "\n",
    "\n",
    "__Point to Note__: Indexing is done by using one of two possible accessors - `.loc` and `.iloc`. An easy way to distinguish them from one another is by remembering that `.iloc` stands for __integer location__. In fact, associating the __i__ in `.iloc` with __integer, index,__ or even __implicit__ will help you remember which indexing method does what in the future! "
   ]
  },
  {
   "cell_type": "code",
   "execution_count": 3,
   "id": "918dd0fa",
   "metadata": {},
   "outputs": [
    {
     "data": {
      "text/plain": [
       "1    a\n",
       "2    b\n",
       "3    c\n",
       "4    d\n",
       "dtype: object"
      ]
     },
     "metadata": {},
     "output_type": "display_data"
    }
   ],
   "source": [
    "# Create a series\n",
    "s = pd.Series(['a','b','c','d'], index=[1,2,3,4])\n",
    "display(s)"
   ]
  },
  {
   "cell_type": "code",
   "execution_count": null,
   "id": "09caabf9",
   "metadata": {},
   "outputs": [],
   "source": [
    "# Explicit indexing (using the actual index labels)\n",
    "# in this example we access the element, corresponding to index of name 1\n",
    "print('Explicit indexing s.loc[1]: ', s.loc[1])"
   ]
  },
  {
   "cell_type": "code",
   "execution_count": null,
   "id": "6518fa2c",
   "metadata": {},
   "outputs": [],
   "source": [
    "# Implicit index (using the position)\n",
    "# in this example we access the element, corresponding to position number 1\n",
    "# Recall that Series are 0-indexed -- the element on position 1 is in fact the 2nd element in the Series\n",
    "print('Implicit indexing s.iloc[1]: ', s.iloc[1])"
   ]
  },
  {
   "cell_type": "markdown",
   "id": "52461ed7",
   "metadata": {},
   "source": [
    "Using __unspecified indexing__ is __NOT recommended!__\n",
    "\n",
    "Without passing an accessor, Pandas will try to find an element with the specified index label, and if it does not exist, it will search for an element with the specified index position. In any ways, not using an accessor when indexing Series introduces __ambiguity__."
   ]
  },
  {
   "cell_type": "code",
   "execution_count": null,
   "id": "5b22b861",
   "metadata": {},
   "outputs": [],
   "source": [
    "# in this case using unspecified indexing resulted in locating the element, corresponding to index label 1\n",
    "print('Unspecified indexing s[1]: ', s[1])"
   ]
  },
  {
   "cell_type": "markdown",
   "id": "a241f94f",
   "metadata": {},
   "source": [
    "---\n",
    "### 2.2 Slicing:\n",
    "We learnt how to access a single element of a Series via Explicit or Implicit Indexing.\n",
    "To access a subset of elements of a Series, we use a method, called __Slicing__!\n",
    "\n",
    "\n",
    "__Slicing__ leverages the same accessors as Indexing - `.loc` and `.iloc`. This time however, instead of passing on a single argument - the index label, or the index position of the desired element, we will be passing two arguments, delimited by a colon (__:__)\n",
    "\n",
    "\n",
    "Syntax:\n",
    "- __Explicit Slicing__ - `series_name.loc[start_index_label: stop_index_label]` - value corresponding to stop_index_label is __included__ in the output\n",
    "- __Implicit Slicing__ - `series_name.iloc[start_index_position: stop_index_position]` - value corresponding to stop_index_label is __excluded__ from the output"
   ]
  },
  {
   "cell_type": "code",
   "execution_count": null,
   "id": "fb075e48",
   "metadata": {},
   "outputs": [],
   "source": [
    "# Create a Series\n",
    "s = pd.Series(['a','b','c','d'], index=[1,2,3,4])\n",
    "display(s)"
   ]
  },
  {
   "cell_type": "code",
   "execution_count": null,
   "id": "6da04b82",
   "metadata": {},
   "outputs": [],
   "source": [
    "# Explicit Slicing - both values at index labels 1 and 3 included -- output has length 3\n",
    "print('Using explicit slicing s.loc[1:3]')\n",
    "s.loc[1:3]"
   ]
  },
  {
   "cell_type": "code",
   "execution_count": null,
   "id": "09e3c58f",
   "metadata": {},
   "outputs": [],
   "source": [
    "# Implicit Slicing - value at index position 3 is excluded - output has length 2\n",
    "print('Using implicit slicing s.iloc[1:3]')\n",
    "s.iloc[1:3]"
   ]
  },
  {
   "cell_type": "markdown",
   "id": "53efe064",
   "metadata": {},
   "source": [
    "---\n",
    "### 2.3 Boolean Indexing (Masking):\n",
    "\n",
    "__Boolean indexing__ is an alternative method to index a Series/DataFrame using a __boolean mask__.\n",
    "A __mask__ is a vector of boolean objects - e.g. `[True, False, True]`.\n",
    "When a Pandas Object (Series or DataFrame)  is indexed by a boolean mask, the resultant output will be the subset of rows which match to True values."
   ]
  },
  {
   "cell_type": "code",
   "execution_count": 4,
   "id": "dc6352bd",
   "metadata": {},
   "outputs": [
    {
     "data": {
      "text/plain": [
       "0    1\n",
       "1    2\n",
       "2    3\n",
       "3    4\n",
       "4    5\n",
       "dtype: int64"
      ]
     },
     "metadata": {},
     "output_type": "display_data"
    }
   ],
   "source": [
    "# Create a Series\n",
    "s = pd.Series([1,2,3,4,5])\n",
    "display(s)"
   ]
  },
  {
   "cell_type": "code",
   "execution_count": 5,
   "id": "a8cb9386",
   "metadata": {},
   "outputs": [
    {
     "name": "stdout",
     "output_type": "stream",
     "text": [
      "After applying the boolean mask:\n"
     ]
    },
    {
     "data": {
      "text/plain": [
       "0    1\n",
       "1    2\n",
       "2    3\n",
       "dtype: int64"
      ]
     },
     "execution_count": 5,
     "metadata": {},
     "output_type": "execute_result"
    }
   ],
   "source": [
    "# Create a mask explicitly (manually entering True/False bools)\n",
    "# note - once the mask is created, we can pass it onto the series via using the [] operator\n",
    "mask = [True, True, True, False, False]\n",
    "print('After applying the boolean mask:')\n",
    "s[mask]"
   ]
  },
  {
   "cell_type": "markdown",
   "id": "91b93db1",
   "metadata": {},
   "source": [
    "What makes this useful, is that we can create this mask __implicitly__ by using the __values__ of the Series.\n",
    "When values of a Series are passed to a boolean expression, a mask is created from how the values evaluate in the expression."
   ]
  },
  {
   "cell_type": "code",
   "execution_count": null,
   "id": "504b10bc",
   "metadata": {},
   "outputs": [],
   "source": [
    "# Create a mask automatically via a True/False statement\n",
    "mask = (s <= 3)\n",
    "display(mask)"
   ]
  },
  {
   "cell_type": "code",
   "execution_count": null,
   "id": "f30b19e4",
   "metadata": {},
   "outputs": [],
   "source": [
    "# Which we can then use to index the series as before\n",
    "s[mask]"
   ]
  },
  {
   "cell_type": "markdown",
   "id": "0fa659ec",
   "metadata": {},
   "source": [
    "So while it appears complicated at the outset, boolean indexing is means to filter your dataset based on whether the values meet a condition.\n",
    "(Much like a SQL 'WHERE' statement!)"
   ]
  },
  {
   "cell_type": "markdown",
   "id": "649f2819",
   "metadata": {},
   "source": [
    "---\n",
    "### 2.4 Assigning Values to a Series:\n",
    "Data Indexing or Slicing is often used not just for 'selection and display purposes', but also for assigning new values to a Series. Below are some examples of how to do this:"
   ]
  },
  {
   "cell_type": "code",
   "execution_count": 11,
   "id": "96c39443",
   "metadata": {},
   "outputs": [
    {
     "data": {
      "text/plain": [
       "0    1\n",
       "1    2\n",
       "2    3\n",
       "3    4\n",
       "dtype: int64"
      ]
     },
     "metadata": {},
     "output_type": "display_data"
    },
    {
     "data": {
      "text/plain": [
       "0    9000\n",
       "1       2\n",
       "2       3\n",
       "3       4\n",
       "dtype: int64"
      ]
     },
     "metadata": {},
     "output_type": "display_data"
    },
    {
     "data": {
      "text/plain": [
       "0    9000\n",
       "1    9005\n",
       "2       3\n",
       "3       4\n",
       "dtype: int64"
      ]
     },
     "metadata": {},
     "output_type": "display_data"
    },
    {
     "data": {
      "text/plain": [
       "0    9000\n",
       "1    9005\n",
       "2    9010\n",
       "3    9015\n",
       "dtype: int64"
      ]
     },
     "metadata": {},
     "output_type": "display_data"
    }
   ],
   "source": [
    "s = pd.Series([1, 2, 3, 4])\n",
    "display(s)\n",
    "\n",
    "# Assign a new value to single element\n",
    "\n",
    "s.iloc[0] = 9000\n",
    "display(s)\n",
    "\n",
    "# Assign a single value to a slice\n",
    "s.iloc[1:2] = 9005\n",
    "display(s)\n",
    "\n",
    "# Assign multiple values to a slice\n",
    "s.iloc[2:4] = [9010, 9015]\n",
    "display(s)\n"
   ]
  },
  {
   "cell_type": "markdown",
   "id": "50e29f25",
   "metadata": {},
   "source": [
    "---\n",
    "## 3. DataFrames - Data Indexing and Selection:\n",
    "\n",
    "Recall that __DataFrames__ are 2-dimensional objects of data, indexed by its rows and columns. \n",
    "\n",
    "We can index a DataFrame object in one of the following ways:\n",
    "- __Explicit vs Implicit Indexing__\n",
    "- __Slicing__\n",
    "- __Boolean Indexing__\n",
    "- __Column Selection__"
   ]
  },
  {
   "cell_type": "code",
   "execution_count": 23,
   "id": "dc60be19",
   "metadata": {},
   "outputs": [],
   "source": [
    "# Useful function to make dummy data\n",
    "def make_df(cols, rows):\n",
    "    data = {c:[str(c) + str(c) for r in rows] for c in cols}\n",
    "    return pd.DataFrame(data)"
   ]
  },
  {
   "cell_type": "code",
   "execution_count": 24,
   "id": "088d1c29",
   "metadata": {},
   "outputs": [
    {
     "data": {
      "text/html": [
       "<div>\n",
       "<style scoped>\n",
       "    .dataframe tbody tr th:only-of-type {\n",
       "        vertical-align: middle;\n",
       "    }\n",
       "\n",
       "    .dataframe tbody tr th {\n",
       "        vertical-align: top;\n",
       "    }\n",
       "\n",
       "    .dataframe thead th {\n",
       "        text-align: right;\n",
       "    }\n",
       "</style>\n",
       "<table border=\"1\" class=\"dataframe\">\n",
       "  <thead>\n",
       "    <tr style=\"text-align: right;\">\n",
       "      <th></th>\n",
       "      <th>a</th>\n",
       "      <th>b</th>\n",
       "      <th>c</th>\n",
       "    </tr>\n",
       "  </thead>\n",
       "  <tbody>\n",
       "    <tr>\n",
       "      <th>0</th>\n",
       "      <td>aa</td>\n",
       "      <td>bb</td>\n",
       "      <td>cc</td>\n",
       "    </tr>\n",
       "    <tr>\n",
       "      <th>1</th>\n",
       "      <td>aa</td>\n",
       "      <td>bb</td>\n",
       "      <td>cc</td>\n",
       "    </tr>\n",
       "    <tr>\n",
       "      <th>2</th>\n",
       "      <td>aa</td>\n",
       "      <td>bb</td>\n",
       "      <td>cc</td>\n",
       "    </tr>\n",
       "    <tr>\n",
       "      <th>3</th>\n",
       "      <td>aa</td>\n",
       "      <td>bb</td>\n",
       "      <td>cc</td>\n",
       "    </tr>\n",
       "  </tbody>\n",
       "</table>\n",
       "</div>"
      ],
      "text/plain": [
       "    a   b   c\n",
       "0  aa  bb  cc\n",
       "1  aa  bb  cc\n",
       "2  aa  bb  cc\n",
       "3  aa  bb  cc"
      ]
     },
     "metadata": {},
     "output_type": "display_data"
    }
   ],
   "source": [
    "df = make_df(\"abc\", [1, 2, 3, 4])\n",
    "display(df)"
   ]
  },
  {
   "cell_type": "markdown",
   "id": "4b9f54d8",
   "metadata": {},
   "source": [
    "---\n",
    "### 3.1 Explicit vs Implicit Indexing:\n",
    "Explicit and Implicit Indexing for DataFrames work in exactly the same way as for Series, except a value in a __DataFrame__ is now uniquely identified by a pair of two keys - its column and its row.\n",
    "\n",
    "Syntax:\n",
    "-  __Explicit Indexing__ - `dataframe_name.loc[row_label, column_label]`\n",
    "- __Implicit Indexing__ - `dataframe_name.iloc[row_number, column_number]`"
   ]
  },
  {
   "cell_type": "code",
   "execution_count": 34,
   "id": "3d7517c5",
   "metadata": {},
   "outputs": [
    {
     "ename": "KeyError",
     "evalue": "4",
     "output_type": "error",
     "traceback": [
      "\u001b[1;31m---------------------------------------------------------------------------\u001b[0m",
      "\u001b[1;31mValueError\u001b[0m                                Traceback (most recent call last)",
      "File \u001b[1;32mc:\\Users\\WestonWhyde\\anaconda3\\lib\\site-packages\\pandas\\core\\indexes\\range.py:385\u001b[0m, in \u001b[0;36mRangeIndex.get_loc\u001b[1;34m(self, key, method, tolerance)\u001b[0m\n\u001b[0;32m    384\u001b[0m \u001b[39mtry\u001b[39;00m:\n\u001b[1;32m--> 385\u001b[0m     \u001b[39mreturn\u001b[39;00m \u001b[39mself\u001b[39;49m\u001b[39m.\u001b[39;49m_range\u001b[39m.\u001b[39;49mindex(new_key)\n\u001b[0;32m    386\u001b[0m \u001b[39mexcept\u001b[39;00m \u001b[39mValueError\u001b[39;00m \u001b[39mas\u001b[39;00m err:\n",
      "\u001b[1;31mValueError\u001b[0m: 4 is not in range",
      "\nThe above exception was the direct cause of the following exception:\n",
      "\u001b[1;31mKeyError\u001b[0m                                  Traceback (most recent call last)",
      "\u001b[1;32mc:\\Users\\WestonWhyde\\Kubrick Group\\DE28 - Python\\2-Data\\1-Pandas\\4-Selection\\selection_with_no_cc.ipynb Cell 27'\u001b[0m in \u001b[0;36m<cell line: 1>\u001b[1;34m()\u001b[0m\n\u001b[1;32m----> <a href='vscode-notebook-cell:/c%3A/Users/WestonWhyde/Kubrick%20Group/DE28%20-%20Python/2-Data/1-Pandas/4-Selection/selection_with_no_cc.ipynb#ch0000026?line=0'>1</a>\u001b[0m df\u001b[39m.\u001b[39;49mloc[\u001b[39m4\u001b[39;49m, \u001b[39m\"\u001b[39;49m\u001b[39ma\u001b[39;49m\u001b[39m\"\u001b[39;49m]\n",
      "File \u001b[1;32mc:\\Users\\WestonWhyde\\anaconda3\\lib\\site-packages\\pandas\\core\\indexing.py:960\u001b[0m, in \u001b[0;36m_LocationIndexer.__getitem__\u001b[1;34m(self, key)\u001b[0m\n\u001b[0;32m    958\u001b[0m     key \u001b[39m=\u001b[39m \u001b[39mtuple\u001b[39m(com\u001b[39m.\u001b[39mapply_if_callable(x, \u001b[39mself\u001b[39m\u001b[39m.\u001b[39mobj) \u001b[39mfor\u001b[39;00m x \u001b[39min\u001b[39;00m key)\n\u001b[0;32m    959\u001b[0m     \u001b[39mif\u001b[39;00m \u001b[39mself\u001b[39m\u001b[39m.\u001b[39m_is_scalar_access(key):\n\u001b[1;32m--> 960\u001b[0m         \u001b[39mreturn\u001b[39;00m \u001b[39mself\u001b[39;49m\u001b[39m.\u001b[39;49mobj\u001b[39m.\u001b[39;49m_get_value(\u001b[39m*\u001b[39;49mkey, takeable\u001b[39m=\u001b[39;49m\u001b[39mself\u001b[39;49m\u001b[39m.\u001b[39;49m_takeable)\n\u001b[0;32m    961\u001b[0m     \u001b[39mreturn\u001b[39;00m \u001b[39mself\u001b[39m\u001b[39m.\u001b[39m_getitem_tuple(key)\n\u001b[0;32m    962\u001b[0m \u001b[39melse\u001b[39;00m:\n\u001b[0;32m    963\u001b[0m     \u001b[39m# we by definition only have the 0th axis\u001b[39;00m\n",
      "File \u001b[1;32mc:\\Users\\WestonWhyde\\anaconda3\\lib\\site-packages\\pandas\\core\\frame.py:3622\u001b[0m, in \u001b[0;36mDataFrame._get_value\u001b[1;34m(self, index, col, takeable)\u001b[0m\n\u001b[0;32m   3616\u001b[0m engine \u001b[39m=\u001b[39m \u001b[39mself\u001b[39m\u001b[39m.\u001b[39mindex\u001b[39m.\u001b[39m_engine\n\u001b[0;32m   3618\u001b[0m \u001b[39mif\u001b[39;00m \u001b[39mnot\u001b[39;00m \u001b[39misinstance\u001b[39m(\u001b[39mself\u001b[39m\u001b[39m.\u001b[39mindex, MultiIndex):\n\u001b[0;32m   3619\u001b[0m     \u001b[39m# CategoricalIndex: Trying to use the engine fastpath may give incorrect\u001b[39;00m\n\u001b[0;32m   3620\u001b[0m     \u001b[39m#  results if our categories are integers that dont match our codes\u001b[39;00m\n\u001b[0;32m   3621\u001b[0m     \u001b[39m# IntervalIndex: IntervalTree has no get_loc\u001b[39;00m\n\u001b[1;32m-> 3622\u001b[0m     row \u001b[39m=\u001b[39m \u001b[39mself\u001b[39;49m\u001b[39m.\u001b[39;49mindex\u001b[39m.\u001b[39;49mget_loc(index)\n\u001b[0;32m   3623\u001b[0m     \u001b[39mreturn\u001b[39;00m series\u001b[39m.\u001b[39m_values[row]\n\u001b[0;32m   3625\u001b[0m \u001b[39m# For MultiIndex going through engine effectively restricts us to\u001b[39;00m\n\u001b[0;32m   3626\u001b[0m \u001b[39m#  same-length tuples; see test_get_set_value_no_partial_indexing\u001b[39;00m\n",
      "File \u001b[1;32mc:\\Users\\WestonWhyde\\anaconda3\\lib\\site-packages\\pandas\\core\\indexes\\range.py:387\u001b[0m, in \u001b[0;36mRangeIndex.get_loc\u001b[1;34m(self, key, method, tolerance)\u001b[0m\n\u001b[0;32m    385\u001b[0m         \u001b[39mreturn\u001b[39;00m \u001b[39mself\u001b[39m\u001b[39m.\u001b[39m_range\u001b[39m.\u001b[39mindex(new_key)\n\u001b[0;32m    386\u001b[0m     \u001b[39mexcept\u001b[39;00m \u001b[39mValueError\u001b[39;00m \u001b[39mas\u001b[39;00m err:\n\u001b[1;32m--> 387\u001b[0m         \u001b[39mraise\u001b[39;00m \u001b[39mKeyError\u001b[39;00m(key) \u001b[39mfrom\u001b[39;00m \u001b[39merr\u001b[39;00m\n\u001b[0;32m    388\u001b[0m \u001b[39mself\u001b[39m\u001b[39m.\u001b[39m_check_indexing_error(key)\n\u001b[0;32m    389\u001b[0m \u001b[39mraise\u001b[39;00m \u001b[39mKeyError\u001b[39;00m(key)\n",
      "\u001b[1;31mKeyError\u001b[0m: 4"
     ]
    }
   ],
   "source": [
    "df.loc[4, \"a\"]"
   ]
  },
  {
   "cell_type": "code",
   "execution_count": null,
   "id": "0d14f040",
   "metadata": {},
   "outputs": [],
   "source": []
  },
  {
   "cell_type": "markdown",
   "id": "70f46c4a",
   "metadata": {},
   "source": [
    "---\n",
    "### 3.2 Slicing:\n",
    "Again, __Slicing__ a DataFrame is very similar to Slicing a Series - we shall again use the `.iloc` and `.loc` accessors. However, as __DataFrames__ are 2-dimensional objects, we now can obtain subsets of a DataFrame of all sorts and shapes!\n",
    "\n",
    "\n",
    "Syntax:\n",
    "- __Explicit Slicing__ - `dataframe_name.loc[start_row_label: stop_row_label, start_column_label: stop_column_label]` \n",
    "- __Implicit Slicing__ - `dataframe_name.iloc[start_row_lnum: stop_row_num, start_column_num: stop_column_num]`\n",
    "\n",
    "Depending on what output we are after, we can use a number of variations to the above syntax! Let's look into some examples!"
   ]
  },
  {
   "cell_type": "code",
   "execution_count": 26,
   "id": "6814876c",
   "metadata": {},
   "outputs": [
    {
     "data": {
      "text/html": [
       "<div>\n",
       "<style scoped>\n",
       "    .dataframe tbody tr th:only-of-type {\n",
       "        vertical-align: middle;\n",
       "    }\n",
       "\n",
       "    .dataframe tbody tr th {\n",
       "        vertical-align: top;\n",
       "    }\n",
       "\n",
       "    .dataframe thead th {\n",
       "        text-align: right;\n",
       "    }\n",
       "</style>\n",
       "<table border=\"1\" class=\"dataframe\">\n",
       "  <thead>\n",
       "    <tr style=\"text-align: right;\">\n",
       "      <th></th>\n",
       "      <th>b</th>\n",
       "      <th>c</th>\n",
       "    </tr>\n",
       "  </thead>\n",
       "  <tbody>\n",
       "  </tbody>\n",
       "</table>\n",
       "</div>"
      ],
      "text/plain": [
       "Empty DataFrame\n",
       "Columns: [b, c]\n",
       "Index: []"
      ]
     },
     "execution_count": 26,
     "metadata": {},
     "output_type": "execute_result"
    }
   ],
   "source": [
    "# Explicit Slicing -- getting a sub-dataframe\n",
    "df.loc[6:7, 'b':'c'] # Remember the stop index IS included"
   ]
  },
  {
   "cell_type": "code",
   "execution_count": 27,
   "id": "b139d744",
   "metadata": {},
   "outputs": [
    {
     "data": {
      "text/plain": [
       "a    aa\n",
       "b    bb\n",
       "c    cc\n",
       "Name: 1, dtype: object"
      ]
     },
     "metadata": {},
     "output_type": "display_data"
    }
   ],
   "source": [
    "# Implicit Slicing -- getting just the second row in full\n",
    "# note - df.iloc[1] yields the same!\n",
    "display(df.iloc[1,:])"
   ]
  },
  {
   "cell_type": "code",
   "execution_count": 28,
   "metadata": {},
   "outputs": [
    {
     "data": {
      "text/plain": [
       "pandas.core.series.Series"
      ]
     },
     "execution_count": 28,
     "metadata": {},
     "output_type": "execute_result"
    }
   ],
   "source": [
    "# Note that as the data we're selecting is 1-dimensional, this slice returns a Series\n",
    "type(df.iloc[1])"
   ]
  },
  {
   "cell_type": "code",
   "execution_count": 29,
   "id": "288fc07e",
   "metadata": {},
   "outputs": [
    {
     "data": {
      "text/html": [
       "<div>\n",
       "<style scoped>\n",
       "    .dataframe tbody tr th:only-of-type {\n",
       "        vertical-align: middle;\n",
       "    }\n",
       "\n",
       "    .dataframe tbody tr th {\n",
       "        vertical-align: top;\n",
       "    }\n",
       "\n",
       "    .dataframe thead th {\n",
       "        text-align: right;\n",
       "    }\n",
       "</style>\n",
       "<table border=\"1\" class=\"dataframe\">\n",
       "  <thead>\n",
       "    <tr style=\"text-align: right;\">\n",
       "      <th></th>\n",
       "      <th>a</th>\n",
       "      <th>b</th>\n",
       "      <th>c</th>\n",
       "    </tr>\n",
       "  </thead>\n",
       "  <tbody>\n",
       "  </tbody>\n",
       "</table>\n",
       "</div>"
      ],
      "text/plain": [
       "Empty DataFrame\n",
       "Columns: [a, b, c]\n",
       "Index: []"
      ]
     },
     "metadata": {},
     "output_type": "display_data"
    }
   ],
   "source": [
    "# Explicit Slicing -- getting the 2nd and 3rd row in full\n",
    "# note - df.loc[6:7,:] yields the same!\n",
    "display(df.loc[6:7])"
   ]
  },
  {
   "cell_type": "markdown",
   "id": "9bdc8528",
   "metadata": {},
   "source": [
    "---\n",
    "### 3.3 Boolean Indexing  (Masking):\n",
    "\n",
    "__Boolean Masking__ works on DataFrames in a similar way it does on Series. A 1-dimensional mask is passed to the 2-dimensional DataFrame, and it filters down the __rows__. The result is a new DataFrame with the same number of columns but fewer rows."
   ]
  },
  {
   "cell_type": "code",
   "execution_count": 30,
   "id": "1ed6164d",
   "metadata": {},
   "outputs": [
    {
     "data": {
      "text/html": [
       "<div>\n",
       "<style scoped>\n",
       "    .dataframe tbody tr th:only-of-type {\n",
       "        vertical-align: middle;\n",
       "    }\n",
       "\n",
       "    .dataframe tbody tr th {\n",
       "        vertical-align: top;\n",
       "    }\n",
       "\n",
       "    .dataframe thead th {\n",
       "        text-align: right;\n",
       "    }\n",
       "</style>\n",
       "<table border=\"1\" class=\"dataframe\">\n",
       "  <thead>\n",
       "    <tr style=\"text-align: right;\">\n",
       "      <th></th>\n",
       "      <th>a</th>\n",
       "      <th>b</th>\n",
       "      <th>c</th>\n",
       "    </tr>\n",
       "  </thead>\n",
       "  <tbody>\n",
       "    <tr>\n",
       "      <th>1</th>\n",
       "      <td>aa</td>\n",
       "      <td>bb</td>\n",
       "      <td>cc</td>\n",
       "    </tr>\n",
       "    <tr>\n",
       "      <th>3</th>\n",
       "      <td>aa</td>\n",
       "      <td>bb</td>\n",
       "      <td>cc</td>\n",
       "    </tr>\n",
       "  </tbody>\n",
       "</table>\n",
       "</div>"
      ],
      "text/plain": [
       "    a   b   c\n",
       "1  aa  bb  cc\n",
       "3  aa  bb  cc"
      ]
     },
     "execution_count": 30,
     "metadata": {},
     "output_type": "execute_result"
    }
   ],
   "source": [
    "# Explicit Masking -- it returns only the rows that correspond to True\n",
    "mask = [False, True, False, True] \n",
    "df[mask]"
   ]
  },
  {
   "cell_type": "code",
   "execution_count": 31,
   "id": "cee65ab4",
   "metadata": {},
   "outputs": [
    {
     "data": {
      "text/html": [
       "<div>\n",
       "<style scoped>\n",
       "    .dataframe tbody tr th:only-of-type {\n",
       "        vertical-align: middle;\n",
       "    }\n",
       "\n",
       "    .dataframe tbody tr th {\n",
       "        vertical-align: top;\n",
       "    }\n",
       "\n",
       "    .dataframe thead th {\n",
       "        text-align: right;\n",
       "    }\n",
       "</style>\n",
       "<table border=\"1\" class=\"dataframe\">\n",
       "  <thead>\n",
       "    <tr style=\"text-align: right;\">\n",
       "      <th></th>\n",
       "      <th>a</th>\n",
       "      <th>b</th>\n",
       "      <th>c</th>\n",
       "    </tr>\n",
       "  </thead>\n",
       "  <tbody>\n",
       "  </tbody>\n",
       "</table>\n",
       "</div>"
      ],
      "text/plain": [
       "Empty DataFrame\n",
       "Columns: [a, b, c]\n",
       "Index: []"
      ]
     },
     "metadata": {},
     "output_type": "display_data"
    },
    {
     "data": {
      "text/html": [
       "<div>\n",
       "<style scoped>\n",
       "    .dataframe tbody tr th:only-of-type {\n",
       "        vertical-align: middle;\n",
       "    }\n",
       "\n",
       "    .dataframe tbody tr th {\n",
       "        vertical-align: top;\n",
       "    }\n",
       "\n",
       "    .dataframe thead th {\n",
       "        text-align: right;\n",
       "    }\n",
       "</style>\n",
       "<table border=\"1\" class=\"dataframe\">\n",
       "  <thead>\n",
       "    <tr style=\"text-align: right;\">\n",
       "      <th></th>\n",
       "      <th>a</th>\n",
       "      <th>b</th>\n",
       "      <th>c</th>\n",
       "    </tr>\n",
       "  </thead>\n",
       "  <tbody>\n",
       "  </tbody>\n",
       "</table>\n",
       "</div>"
      ],
      "text/plain": [
       "Empty DataFrame\n",
       "Columns: [a, b, c]\n",
       "Index: []"
      ]
     },
     "metadata": {},
     "output_type": "display_data"
    }
   ],
   "source": [
    "# Implicit Masking - it checks for which row contains a column 'a' value of a3\n",
    "mask = (df['a'] == 'a3')\n",
    "display(df[mask])\n",
    "\n",
    "# Note: the '()' brackets aren't needed, but just help visually distinguish the mask\n",
    "mask = df['a'] == 'a3'\n",
    "display(df[mask])"
   ]
  },
  {
   "cell_type": "markdown",
   "id": "93dd8f2d",
   "metadata": {},
   "source": [
    "---\n",
    "### 3.4 Column Selection:\n",
    "\n",
    "With DataFrames, we also have the option of __column selection__. \n",
    "We can specify which columns we would like to select in the following way:\n",
    "\n",
    "Synthax: \n",
    "- __Select Multiple Columns__ - `dataframe_name[['col1, col2, ...]]'`\n",
    "- __Select a Single Column & Return a DataFrame__ - `dataframe_name[['col1']]`\n",
    "- __Select a Single Column & Return a Series__ - `dataframe_name[col1]`"
   ]
  },
  {
   "cell_type": "code",
   "execution_count": 32,
   "id": "4170edef",
   "metadata": {},
   "outputs": [
    {
     "data": {
      "text/plain": [
       "0    bb\n",
       "1    bb\n",
       "2    bb\n",
       "3    bb\n",
       "Name: b, dtype: object"
      ]
     },
     "metadata": {},
     "output_type": "display_data"
    },
    {
     "data": {
      "text/html": [
       "<div>\n",
       "<style scoped>\n",
       "    .dataframe tbody tr th:only-of-type {\n",
       "        vertical-align: middle;\n",
       "    }\n",
       "\n",
       "    .dataframe tbody tr th {\n",
       "        vertical-align: top;\n",
       "    }\n",
       "\n",
       "    .dataframe thead th {\n",
       "        text-align: right;\n",
       "    }\n",
       "</style>\n",
       "<table border=\"1\" class=\"dataframe\">\n",
       "  <thead>\n",
       "    <tr style=\"text-align: right;\">\n",
       "      <th></th>\n",
       "      <th>b</th>\n",
       "    </tr>\n",
       "  </thead>\n",
       "  <tbody>\n",
       "    <tr>\n",
       "      <th>0</th>\n",
       "      <td>bb</td>\n",
       "    </tr>\n",
       "    <tr>\n",
       "      <th>1</th>\n",
       "      <td>bb</td>\n",
       "    </tr>\n",
       "    <tr>\n",
       "      <th>2</th>\n",
       "      <td>bb</td>\n",
       "    </tr>\n",
       "    <tr>\n",
       "      <th>3</th>\n",
       "      <td>bb</td>\n",
       "    </tr>\n",
       "  </tbody>\n",
       "</table>\n",
       "</div>"
      ],
      "text/plain": [
       "    b\n",
       "0  bb\n",
       "1  bb\n",
       "2  bb\n",
       "3  bb"
      ]
     },
     "metadata": {},
     "output_type": "display_data"
    },
    {
     "data": {
      "text/html": [
       "<div>\n",
       "<style scoped>\n",
       "    .dataframe tbody tr th:only-of-type {\n",
       "        vertical-align: middle;\n",
       "    }\n",
       "\n",
       "    .dataframe tbody tr th {\n",
       "        vertical-align: top;\n",
       "    }\n",
       "\n",
       "    .dataframe thead th {\n",
       "        text-align: right;\n",
       "    }\n",
       "</style>\n",
       "<table border=\"1\" class=\"dataframe\">\n",
       "  <thead>\n",
       "    <tr style=\"text-align: right;\">\n",
       "      <th></th>\n",
       "      <th>a</th>\n",
       "      <th>b</th>\n",
       "    </tr>\n",
       "  </thead>\n",
       "  <tbody>\n",
       "    <tr>\n",
       "      <th>0</th>\n",
       "      <td>aa</td>\n",
       "      <td>bb</td>\n",
       "    </tr>\n",
       "    <tr>\n",
       "      <th>1</th>\n",
       "      <td>aa</td>\n",
       "      <td>bb</td>\n",
       "    </tr>\n",
       "    <tr>\n",
       "      <th>2</th>\n",
       "      <td>aa</td>\n",
       "      <td>bb</td>\n",
       "    </tr>\n",
       "    <tr>\n",
       "      <th>3</th>\n",
       "      <td>aa</td>\n",
       "      <td>bb</td>\n",
       "    </tr>\n",
       "  </tbody>\n",
       "</table>\n",
       "</div>"
      ],
      "text/plain": [
       "    a   b\n",
       "0  aa  bb\n",
       "1  aa  bb\n",
       "2  aa  bb\n",
       "3  aa  bb"
      ]
     },
     "metadata": {},
     "output_type": "display_data"
    }
   ],
   "source": [
    "display(df['b']) # return a 1-column Series\n",
    "display(df[['b']]) # return a 1-column DataFrame\n",
    "display(df[['a', 'b']]) # return a multi-column DataFrame"
   ]
  },
  {
   "cell_type": "markdown",
   "id": "40b5c81c",
   "metadata": {},
   "source": [
    "## 4. Summary:\n",
    "- __Data Indexing__ refers to selecting a sub-part of data from a Pandas Objects. The main ways to do this is via:\n",
    "    - __Explicit vs Implicit Indexing__ - applicable to both DataFrames and Series\n",
    "    - __Slicing__ - applicable to both DataFrames and Series\n",
    "    - __Boolean Masking__ -applicable to both DataFrames and Series\n",
    "    - __Column Selection__ - applicable to DataFrames only"
   ]
  },
  {
   "cell_type": "markdown",
   "id": "7d7ee8da",
   "metadata": {},
   "source": [
    "---\n",
    "## 5. Concept Check:\n",
    "1. What are the different ways we can index a series?\n",
    "2. Suppose you have a series pd.Series([1,2,3,4], index=['a','b','c','d'])\n",
    "-  Using implicit and explicit indexing, get the second element\n",
    "-  Using explicit indexing, slice the series to get the first three elements\n",
    "-  Using a boolean mask, select the even numbers s[s % 2 == 0]"
   ]
  },
  {
   "cell_type": "code",
   "execution_count": 43,
   "id": "52cf3166",
   "metadata": {},
   "outputs": [
    {
     "data": {
      "text/plain": [
       "2"
      ]
     },
     "metadata": {},
     "output_type": "display_data"
    },
    {
     "data": {
      "text/plain": [
       "2"
      ]
     },
     "metadata": {},
     "output_type": "display_data"
    },
    {
     "data": {
      "text/plain": [
       "0    9000\n",
       "1    9005\n",
       "2    9010\n",
       "3    9015\n",
       "dtype: int64"
      ]
     },
     "metadata": {},
     "output_type": "display_data"
    },
    {
     "data": {
      "text/plain": [
       "0    9000\n",
       "2    9010\n",
       "dtype: int64"
      ]
     },
     "metadata": {},
     "output_type": "display_data"
    }
   ],
   "source": [
    "# TODO\n",
    "s1 = pd.Series([1,2,3,4], index=['a','b','c','d'])\n",
    "s1\n",
    "\n",
    "#Explicit\n",
    "display(s1.loc['b'])\n",
    "\n",
    "#Implicit\n",
    "display(s1.iloc[1])\n",
    "\n",
    "display(s.loc[:\"c\"])\n",
    "mask = (s%2 == 0)\n",
    "\n",
    "display(s[mask])\n"
   ]
  }
 ],
 "metadata": {
  "kernelspec": {
   "display_name": "Python 3.9.12 ('base')",
   "language": "python",
   "name": "python3"
  },
  "language_info": {
   "codemirror_mode": {
    "name": "ipython",
    "version": 3
   },
   "file_extension": ".py",
   "mimetype": "text/x-python",
   "name": "python",
   "nbconvert_exporter": "python",
   "pygments_lexer": "ipython3",
   "version": "3.9.12"
  },
  "vscode": {
   "interpreter": {
    "hash": "ce3e89a2b77a834c42a796c9d643cbd3bce4e1d86d7b6f43a0e438ca74bdb60a"
   }
  }
 },
 "nbformat": 4,
 "nbformat_minor": 5
}
