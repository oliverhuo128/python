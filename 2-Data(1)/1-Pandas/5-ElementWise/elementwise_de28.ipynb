{
 "cells": [
  {
   "cell_type": "markdown",
   "id": "a3db5e81",
   "metadata": {},
   "source": [
    "---\n",
    "# Element-Wise Data Operations in Pandas\n",
    "\n",
    "\n",
    "---\n",
    "## 1. Element-Wise Operations and Ufunctions - Definitions:\n",
    "An __Element-Wise Opeartion__ is an operation that can easily be distributed over the elements of a data container.\n",
    "One of the essential advantages of Pandas is its ability to perform quick element-wise operations.  \n",
    "\n",
    "A __Universal Function (ufunc)__ is a function that takes an array of data and operates in an element-by-element fashion to produce another array of data.\n",
    "Pandas leverages on __NumPy__'s universal functions, which include __addition, subtraction, multiplication, logs, exponentials__, etc.\n",
    "\n",
    "- __ufuncs__ are index aligned operations\n",
    "- __ufuncs__ are quick - use them when possible\n",
    "\n",
    "\n",
    "For a list of available ufuncs, see: https://docs.scipy.org/doc/numpy/reference/ufuncs.html"
   ]
  },
  {
   "cell_type": "code",
   "execution_count": 1,
   "id": "c7cac422",
   "metadata": {},
   "outputs": [],
   "source": [
    "import pandas as pd\n",
    "import numpy as np"
   ]
  },
  {
   "attachments": {
    "reshape_func.PNG": {
     "image/png": "[encoded data removed]"
    }
   },
   "cell_type": "markdown",
   "id": "2a873705",
   "metadata": {},
   "source": [
    "---\n",
    "## 2. The Reshape() Function:\n",
    "Before we go into exploring element-wise operations and ufunctions, let's take a look at a quick way of generating a DataFrame.\n",
    "To do this, we will use the `reshape()` function - it takes an array of data and reshapes it, without changing the data in the array:\n",
    "\n",
    "Example:\n",
    "<center>\n",
    "<div>\n",
    "<img src=\"reshape_func.png\" width=\"500\"/>\n",
    "</div>\n",
    "</center>                               "
   ]
  },
  {
   "cell_type": "code",
   "execution_count": 2,
   "id": "8f7389b4",
   "metadata": {},
   "outputs": [],
   "source": [
    "# Generate a df with the .reshape function\n",
    "def make_df2():\n",
    "    data = np.array(range(10)).reshape(-1,2)\n",
    "    return pd.DataFrame(data, columns=[\"col1\", \"col2\"])"
   ]
  },
  {
   "cell_type": "code",
   "execution_count": 3,
   "id": "33a46a5d",
   "metadata": {},
   "outputs": [
    {
     "data": {
      "text/html": [
       "<div>\n",
       "<style scoped>\n",
       "    .dataframe tbody tr th:only-of-type {\n",
       "        vertical-align: middle;\n",
       "    }\n",
       "\n",
       "    .dataframe tbody tr th {\n",
       "        vertical-align: top;\n",
       "    }\n",
       "\n",
       "    .dataframe thead th {\n",
       "        text-align: right;\n",
       "    }\n",
       "</style>\n",
       "<table border=\"1\" class=\"dataframe\">\n",
       "  <thead>\n",
       "    <tr style=\"text-align: right;\">\n",
       "      <th></th>\n",
       "      <th>col1</th>\n",
       "      <th>col2</th>\n",
       "    </tr>\n",
       "  </thead>\n",
       "  <tbody>\n",
       "    <tr>\n",
       "      <th>0</th>\n",
       "      <td>0</td>\n",
       "      <td>1</td>\n",
       "    </tr>\n",
       "    <tr>\n",
       "      <th>1</th>\n",
       "      <td>2</td>\n",
       "      <td>3</td>\n",
       "    </tr>\n",
       "    <tr>\n",
       "      <th>2</th>\n",
       "      <td>4</td>\n",
       "      <td>5</td>\n",
       "    </tr>\n",
       "    <tr>\n",
       "      <th>3</th>\n",
       "      <td>6</td>\n",
       "      <td>7</td>\n",
       "    </tr>\n",
       "    <tr>\n",
       "      <th>4</th>\n",
       "      <td>8</td>\n",
       "      <td>9</td>\n",
       "    </tr>\n",
       "  </tbody>\n",
       "</table>\n",
       "</div>"
      ],
      "text/plain": [
       "   col1  col2\n",
       "0     0     1\n",
       "1     2     3\n",
       "2     4     5\n",
       "3     6     7\n",
       "4     8     9"
      ]
     },
     "execution_count": 3,
     "metadata": {},
     "output_type": "execute_result"
    }
   ],
   "source": [
    "df = make_df2()\n",
    "df"
   ]
  },
  {
   "cell_type": "markdown",
   "id": "a9c69d51",
   "metadata": {},
   "source": [
    "---\n",
    "## 3. Element-Wise Operations on Series:\n",
    "Let's explore how universal functions operate on __Series__! In what follows we will learn how to apply some basic math functions on an element-by-element basis, producing a new Series:\n",
    "\n",
    "- __addition__ : using the `+` or `series1.add(series2)` ufunction\n",
    "- __multiplication__ using the `*` or `series.multiply(series2)` ufunction\n",
    "\n",
    "Run the following code snippets to observe how the functions operate in an index aligned manner!"
   ]
  },
  {
   "cell_type": "code",
   "execution_count": 7,
   "id": "0ebbaee1",
   "metadata": {},
   "outputs": [
    {
     "data": {
      "text/html": [
       "<div>\n",
       "<style scoped>\n",
       "    .dataframe tbody tr th:only-of-type {\n",
       "        vertical-align: middle;\n",
       "    }\n",
       "\n",
       "    .dataframe tbody tr th {\n",
       "        vertical-align: top;\n",
       "    }\n",
       "\n",
       "    .dataframe thead th {\n",
       "        text-align: right;\n",
       "    }\n",
       "</style>\n",
       "<table border=\"1\" class=\"dataframe\">\n",
       "  <thead>\n",
       "    <tr style=\"text-align: right;\">\n",
       "      <th></th>\n",
       "      <th>col1</th>\n",
       "      <th>col2</th>\n",
       "    </tr>\n",
       "  </thead>\n",
       "  <tbody>\n",
       "    <tr>\n",
       "      <th>0</th>\n",
       "      <td>0</td>\n",
       "      <td>1</td>\n",
       "    </tr>\n",
       "    <tr>\n",
       "      <th>1</th>\n",
       "      <td>2</td>\n",
       "      <td>3</td>\n",
       "    </tr>\n",
       "    <tr>\n",
       "      <th>2</th>\n",
       "      <td>4</td>\n",
       "      <td>5</td>\n",
       "    </tr>\n",
       "    <tr>\n",
       "      <th>3</th>\n",
       "      <td>6</td>\n",
       "      <td>7</td>\n",
       "    </tr>\n",
       "    <tr>\n",
       "      <th>4</th>\n",
       "      <td>8</td>\n",
       "      <td>9</td>\n",
       "    </tr>\n",
       "  </tbody>\n",
       "</table>\n",
       "</div>"
      ],
      "text/plain": [
       "   col1  col2\n",
       "0     0     1\n",
       "1     2     3\n",
       "2     4     5\n",
       "3     6     7\n",
       "4     8     9"
      ]
     },
     "execution_count": 7,
     "metadata": {},
     "output_type": "execute_result"
    }
   ],
   "source": [
    "df"
   ]
  },
  {
   "cell_type": "code",
   "execution_count": 5,
   "id": "b64fe29f",
   "metadata": {},
   "outputs": [
    {
     "data": {
      "text/plain": [
       "0    9000\n",
       "1    9002\n",
       "2    9004\n",
       "3    9006\n",
       "4    9008\n",
       "Name: col1, dtype: int32"
      ]
     },
     "execution_count": 5,
     "metadata": {},
     "output_type": "execute_result"
    }
   ],
   "source": [
    "# Adding a constant to a Series\n",
    "df[\"col1\"] + 9000"
   ]
  },
  {
   "cell_type": "code",
   "execution_count": 6,
   "id": "7188f47e",
   "metadata": {},
   "outputs": [
    {
     "data": {
      "text/plain": [
       "0     1\n",
       "1     5\n",
       "2     9\n",
       "3    13\n",
       "4    17\n",
       "dtype: int32"
      ]
     },
     "execution_count": 6,
     "metadata": {},
     "output_type": "execute_result"
    }
   ],
   "source": [
    "# Add two Series together\n",
    "df[\"col2\"] + df[\"col1\"]"
   ]
  },
  {
   "cell_type": "code",
   "execution_count": 8,
   "id": "b8621703",
   "metadata": {},
   "outputs": [
    {
     "data": {
      "text/plain": [
       "0     1\n",
       "1     5\n",
       "2     9\n",
       "3    13\n",
       "4    17\n",
       "dtype: int32"
      ]
     },
     "execution_count": 8,
     "metadata": {},
     "output_type": "execute_result"
    }
   ],
   "source": [
    "# Alternatively, we can use the .add() ufunc\n",
    "df[\"col1\"].add(df[\"col2\"])"
   ]
  },
  {
   "cell_type": "code",
   "execution_count": 9,
   "id": "77cb362a",
   "metadata": {},
   "outputs": [
    {
     "data": {
      "text/plain": [
       "0     0\n",
       "1     6\n",
       "2    20\n",
       "3    42\n",
       "4    72\n",
       "dtype: int32"
      ]
     },
     "execution_count": 9,
     "metadata": {},
     "output_type": "execute_result"
    }
   ],
   "source": [
    "# Multiply two Series together\n",
    "df[\"col1\"]*df[\"col2\"]"
   ]
  },
  {
   "cell_type": "code",
   "execution_count": 10,
   "id": "e3ab39be",
   "metadata": {},
   "outputs": [
    {
     "data": {
      "text/plain": [
       "0     0\n",
       "1     6\n",
       "2    20\n",
       "3    42\n",
       "4    72\n",
       "dtype: int32"
      ]
     },
     "execution_count": 10,
     "metadata": {},
     "output_type": "execute_result"
    }
   ],
   "source": [
    "# Alternatively, use .multiply() ufunc\n",
    "df[\"col1\"].multiply(df[\"col2\"])"
   ]
  },
  {
   "cell_type": "markdown",
   "id": "68aa23f5",
   "metadata": {},
   "source": [
    "---\n",
    "## 4. Element-Wise Operations on DataFrames:\n",
    "\n",
    "Similarly to Series, we can apply Element-Wise Operations on __DataFrames__. \n",
    "\n",
    "Note that ufuncs on DataFrames again operate in an index aligned manner - operations between dataframes with different dimensions will result in a dataframe with the dimensions of the bigger one!"
   ]
  },
  {
   "cell_type": "code",
   "execution_count": 11,
   "id": "824ffcc0",
   "metadata": {},
   "outputs": [
    {
     "data": {
      "text/html": [
       "<div>\n",
       "<style scoped>\n",
       "    .dataframe tbody tr th:only-of-type {\n",
       "        vertical-align: middle;\n",
       "    }\n",
       "\n",
       "    .dataframe tbody tr th {\n",
       "        vertical-align: top;\n",
       "    }\n",
       "\n",
       "    .dataframe thead th {\n",
       "        text-align: right;\n",
       "    }\n",
       "</style>\n",
       "<table border=\"1\" class=\"dataframe\">\n",
       "  <thead>\n",
       "    <tr style=\"text-align: right;\">\n",
       "      <th></th>\n",
       "      <th>col1</th>\n",
       "      <th>col2</th>\n",
       "    </tr>\n",
       "  </thead>\n",
       "  <tbody>\n",
       "    <tr>\n",
       "      <th>0</th>\n",
       "      <td>0</td>\n",
       "      <td>1</td>\n",
       "    </tr>\n",
       "    <tr>\n",
       "      <th>1</th>\n",
       "      <td>2</td>\n",
       "      <td>3</td>\n",
       "    </tr>\n",
       "    <tr>\n",
       "      <th>2</th>\n",
       "      <td>4</td>\n",
       "      <td>5</td>\n",
       "    </tr>\n",
       "    <tr>\n",
       "      <th>3</th>\n",
       "      <td>6</td>\n",
       "      <td>7</td>\n",
       "    </tr>\n",
       "    <tr>\n",
       "      <th>4</th>\n",
       "      <td>8</td>\n",
       "      <td>9</td>\n",
       "    </tr>\n",
       "  </tbody>\n",
       "</table>\n",
       "</div>"
      ],
      "text/plain": [
       "   col1  col2\n",
       "0     0     1\n",
       "1     2     3\n",
       "2     4     5\n",
       "3     6     7\n",
       "4     8     9"
      ]
     },
     "execution_count": 11,
     "metadata": {},
     "output_type": "execute_result"
    }
   ],
   "source": [
    "df = make_df2()\n",
    "df"
   ]
  },
  {
   "cell_type": "code",
   "execution_count": 12,
   "id": "60359916",
   "metadata": {},
   "outputs": [
    {
     "data": {
      "text/html": [
       "<div>\n",
       "<style scoped>\n",
       "    .dataframe tbody tr th:only-of-type {\n",
       "        vertical-align: middle;\n",
       "    }\n",
       "\n",
       "    .dataframe tbody tr th {\n",
       "        vertical-align: top;\n",
       "    }\n",
       "\n",
       "    .dataframe thead th {\n",
       "        text-align: right;\n",
       "    }\n",
       "</style>\n",
       "<table border=\"1\" class=\"dataframe\">\n",
       "  <thead>\n",
       "    <tr style=\"text-align: right;\">\n",
       "      <th></th>\n",
       "      <th>col1</th>\n",
       "      <th>col2</th>\n",
       "    </tr>\n",
       "  </thead>\n",
       "  <tbody>\n",
       "    <tr>\n",
       "      <th>0</th>\n",
       "      <td>9000</td>\n",
       "      <td>9001</td>\n",
       "    </tr>\n",
       "    <tr>\n",
       "      <th>1</th>\n",
       "      <td>9002</td>\n",
       "      <td>9003</td>\n",
       "    </tr>\n",
       "    <tr>\n",
       "      <th>2</th>\n",
       "      <td>9004</td>\n",
       "      <td>9005</td>\n",
       "    </tr>\n",
       "    <tr>\n",
       "      <th>3</th>\n",
       "      <td>9006</td>\n",
       "      <td>9007</td>\n",
       "    </tr>\n",
       "    <tr>\n",
       "      <th>4</th>\n",
       "      <td>9008</td>\n",
       "      <td>9009</td>\n",
       "    </tr>\n",
       "  </tbody>\n",
       "</table>\n",
       "</div>"
      ],
      "text/plain": [
       "   col1  col2\n",
       "0  9000  9001\n",
       "1  9002  9003\n",
       "2  9004  9005\n",
       "3  9006  9007\n",
       "4  9008  9009"
      ]
     },
     "execution_count": 12,
     "metadata": {},
     "output_type": "execute_result"
    }
   ],
   "source": [
    "# DataFrame + scalar -- adds the scalar to all elements in the df\n",
    "df + 9000"
   ]
  },
  {
   "cell_type": "code",
   "execution_count": 13,
   "id": "12dd04cf",
   "metadata": {},
   "outputs": [
    {
     "data": {
      "text/html": [
       "<div>\n",
       "<style scoped>\n",
       "    .dataframe tbody tr th:only-of-type {\n",
       "        vertical-align: middle;\n",
       "    }\n",
       "\n",
       "    .dataframe tbody tr th {\n",
       "        vertical-align: top;\n",
       "    }\n",
       "\n",
       "    .dataframe thead th {\n",
       "        text-align: right;\n",
       "    }\n",
       "</style>\n",
       "<table border=\"1\" class=\"dataframe\">\n",
       "  <thead>\n",
       "    <tr style=\"text-align: right;\">\n",
       "      <th></th>\n",
       "      <th>col1</th>\n",
       "      <th>col2</th>\n",
       "    </tr>\n",
       "  </thead>\n",
       "  <tbody>\n",
       "    <tr>\n",
       "      <th>0</th>\n",
       "      <td>1</td>\n",
       "      <td>3</td>\n",
       "    </tr>\n",
       "    <tr>\n",
       "      <th>1</th>\n",
       "      <td>3</td>\n",
       "      <td>5</td>\n",
       "    </tr>\n",
       "    <tr>\n",
       "      <th>2</th>\n",
       "      <td>5</td>\n",
       "      <td>7</td>\n",
       "    </tr>\n",
       "    <tr>\n",
       "      <th>3</th>\n",
       "      <td>7</td>\n",
       "      <td>9</td>\n",
       "    </tr>\n",
       "    <tr>\n",
       "      <th>4</th>\n",
       "      <td>9</td>\n",
       "      <td>11</td>\n",
       "    </tr>\n",
       "  </tbody>\n",
       "</table>\n",
       "</div>"
      ],
      "text/plain": [
       "   col1  col2\n",
       "0     1     3\n",
       "1     3     5\n",
       "2     5     7\n",
       "3     7     9\n",
       "4     9    11"
      ]
     },
     "execution_count": 13,
     "metadata": {},
     "output_type": "execute_result"
    }
   ],
   "source": [
    "# DataFrame + List -- operation is called broadcasting\n",
    "# Adds 1 to all elements in 'col1', and 2 to elements in 'col2'\n",
    "df + [1,2]"
   ]
  },
  {
   "cell_type": "code",
   "execution_count": 14,
   "id": "16572515",
   "metadata": {},
   "outputs": [
    {
     "data": {
      "text/html": [
       "<div>\n",
       "<style scoped>\n",
       "    .dataframe tbody tr th:only-of-type {\n",
       "        vertical-align: middle;\n",
       "    }\n",
       "\n",
       "    .dataframe tbody tr th {\n",
       "        vertical-align: top;\n",
       "    }\n",
       "\n",
       "    .dataframe thead th {\n",
       "        text-align: right;\n",
       "    }\n",
       "</style>\n",
       "<table border=\"1\" class=\"dataframe\">\n",
       "  <thead>\n",
       "    <tr style=\"text-align: right;\">\n",
       "      <th></th>\n",
       "      <th>col1</th>\n",
       "      <th>col2</th>\n",
       "    </tr>\n",
       "  </thead>\n",
       "  <tbody>\n",
       "    <tr>\n",
       "      <th>0</th>\n",
       "      <td>0</td>\n",
       "      <td>2</td>\n",
       "    </tr>\n",
       "    <tr>\n",
       "      <th>1</th>\n",
       "      <td>4</td>\n",
       "      <td>6</td>\n",
       "    </tr>\n",
       "    <tr>\n",
       "      <th>2</th>\n",
       "      <td>8</td>\n",
       "      <td>10</td>\n",
       "    </tr>\n",
       "    <tr>\n",
       "      <th>3</th>\n",
       "      <td>12</td>\n",
       "      <td>14</td>\n",
       "    </tr>\n",
       "    <tr>\n",
       "      <th>4</th>\n",
       "      <td>16</td>\n",
       "      <td>18</td>\n",
       "    </tr>\n",
       "  </tbody>\n",
       "</table>\n",
       "</div>"
      ],
      "text/plain": [
       "   col1  col2\n",
       "0     0     2\n",
       "1     4     6\n",
       "2     8    10\n",
       "3    12    14\n",
       "4    16    18"
      ]
     },
     "execution_count": 14,
     "metadata": {},
     "output_type": "execute_result"
    }
   ],
   "source": [
    "# DataFrame + DataFrame -- adds every element of 1st df to corresponding element in 2nd df\n",
    "df + df"
   ]
  },
  {
   "cell_type": "markdown",
   "id": "6795c2d0",
   "metadata": {},
   "source": [
    "---\n",
    "## 5. The .apply() Method:¶\n",
    "\n",
    "The `.apply()` method is used to apply an element-wise function to a Series or along one of the axes of a DataFrame. \n",
    "\n",
    "Syntax:\n",
    "- __.apply() method on Series__: `series_name.apply(function)`\n",
    "- __.apply() method on DataFrames__: `df_name.apply(function, axis = ...)` where `axis = 0 (default)` or `axis = 1`\n",
    "\n",
    "Since __DataFrames__ are 2-dimensional, we need to instruct the __.apply()__ method on which axis to perform the operation:\n",
    "- __axis = 1__ - the operation is performed on column level --> the result has the same shape as a column\n",
    "- __axis = 0 (default)__ - the operation is performed on row level --> the result has the same shape as a row"
   ]
  },
  {
   "cell_type": "markdown",
   "id": "a8eea5a2",
   "metadata": {},
   "source": [
    "---\n",
    "### 5.1. .apply() on Series:"
   ]
  },
  {
   "cell_type": "code",
   "execution_count": 15,
   "id": "7eb7c2de",
   "metadata": {},
   "outputs": [
    {
     "data": {
      "text/plain": [
       "0    0\n",
       "1    2\n",
       "2    4\n",
       "3    6\n",
       "4    8\n",
       "Name: col1, dtype: int32"
      ]
     },
     "execution_count": 15,
     "metadata": {},
     "output_type": "execute_result"
    }
   ],
   "source": [
    "s = df[\"col1\"]\n",
    "s"
   ]
  },
  {
   "cell_type": "code",
   "execution_count": 19,
   "id": "62b4f5e5",
   "metadata": {},
   "outputs": [
    {
     "data": {
      "text/plain": [
       "0      0\n",
       "1      8\n",
       "2     64\n",
       "3    216\n",
       "4    512\n",
       "Name: col1, dtype: int64"
      ]
     },
     "execution_count": 19,
     "metadata": {},
     "output_type": "execute_result"
    }
   ],
   "source": [
    "# Using .apply to cube every element in our series -- recall lambda functions\n",
    "# Only use .apply to perform element-wise operations, when there is no supported ufunc\n",
    "s.apply(lambda x: x**3)"
   ]
  },
  {
   "cell_type": "markdown",
   "id": "71527f35",
   "metadata": {},
   "source": [
    "---\n",
    "### 5.2. .apply() on DataFrames:"
   ]
  },
  {
   "cell_type": "code",
   "execution_count": 20,
   "id": "2d3667de",
   "metadata": {},
   "outputs": [
    {
     "data": {
      "text/html": [
       "<div>\n",
       "<style scoped>\n",
       "    .dataframe tbody tr th:only-of-type {\n",
       "        vertical-align: middle;\n",
       "    }\n",
       "\n",
       "    .dataframe tbody tr th {\n",
       "        vertical-align: top;\n",
       "    }\n",
       "\n",
       "    .dataframe thead th {\n",
       "        text-align: right;\n",
       "    }\n",
       "</style>\n",
       "<table border=\"1\" class=\"dataframe\">\n",
       "  <thead>\n",
       "    <tr style=\"text-align: right;\">\n",
       "      <th></th>\n",
       "      <th>col1</th>\n",
       "      <th>col2</th>\n",
       "    </tr>\n",
       "  </thead>\n",
       "  <tbody>\n",
       "    <tr>\n",
       "      <th>0</th>\n",
       "      <td>0</td>\n",
       "      <td>1</td>\n",
       "    </tr>\n",
       "    <tr>\n",
       "      <th>1</th>\n",
       "      <td>8</td>\n",
       "      <td>27</td>\n",
       "    </tr>\n",
       "    <tr>\n",
       "      <th>2</th>\n",
       "      <td>64</td>\n",
       "      <td>125</td>\n",
       "    </tr>\n",
       "    <tr>\n",
       "      <th>3</th>\n",
       "      <td>216</td>\n",
       "      <td>343</td>\n",
       "    </tr>\n",
       "    <tr>\n",
       "      <th>4</th>\n",
       "      <td>512</td>\n",
       "      <td>729</td>\n",
       "    </tr>\n",
       "  </tbody>\n",
       "</table>\n",
       "</div>"
      ],
      "text/plain": [
       "   col1  col2\n",
       "0     0     1\n",
       "1     8    27\n",
       "2    64   125\n",
       "3   216   343\n",
       "4   512   729"
      ]
     },
     "execution_count": 20,
     "metadata": {},
     "output_type": "execute_result"
    }
   ],
   "source": [
    "# Applying a function to every element in our dataframe\n",
    "df.apply(lambda x: x**3)"
   ]
  },
  {
   "cell_type": "code",
   "execution_count": 24,
   "id": "6a956a72",
   "metadata": {},
   "outputs": [
    {
     "data": {
      "text/html": [
       "<div>\n",
       "<style scoped>\n",
       "    .dataframe tbody tr th:only-of-type {\n",
       "        vertical-align: middle;\n",
       "    }\n",
       "\n",
       "    .dataframe tbody tr th {\n",
       "        vertical-align: top;\n",
       "    }\n",
       "\n",
       "    .dataframe thead th {\n",
       "        text-align: right;\n",
       "    }\n",
       "</style>\n",
       "<table border=\"1\" class=\"dataframe\">\n",
       "  <thead>\n",
       "    <tr style=\"text-align: right;\">\n",
       "      <th></th>\n",
       "      <th>col1</th>\n",
       "      <th>col2</th>\n",
       "    </tr>\n",
       "  </thead>\n",
       "  <tbody>\n",
       "    <tr>\n",
       "      <th>0</th>\n",
       "      <td>0</td>\n",
       "      <td>1</td>\n",
       "    </tr>\n",
       "    <tr>\n",
       "      <th>1</th>\n",
       "      <td>2</td>\n",
       "      <td>3</td>\n",
       "    </tr>\n",
       "    <tr>\n",
       "      <th>2</th>\n",
       "      <td>4</td>\n",
       "      <td>5</td>\n",
       "    </tr>\n",
       "    <tr>\n",
       "      <th>3</th>\n",
       "      <td>6</td>\n",
       "      <td>7</td>\n",
       "    </tr>\n",
       "    <tr>\n",
       "      <th>4</th>\n",
       "      <td>8</td>\n",
       "      <td>9</td>\n",
       "    </tr>\n",
       "  </tbody>\n",
       "</table>\n",
       "</div>"
      ],
      "text/plain": [
       "   col1  col2\n",
       "0     0     1\n",
       "1     2     3\n",
       "2     4     5\n",
       "3     6     7\n",
       "4     8     9"
      ]
     },
     "metadata": {},
     "output_type": "display_data"
    },
    {
     "data": {
      "text/plain": [
       "0     2\n",
       "1     8\n",
       "2    14\n",
       "3    20\n",
       "4    26\n",
       "dtype: int32"
      ]
     },
     "execution_count": 24,
     "metadata": {},
     "output_type": "execute_result"
    }
   ],
   "source": [
    "# axis = 1 - > return something the shape of a column, i.e. apply the function row-wise\n",
    "# ufunc equivalent: df[\"col1\"] + 2*df[\"col2\"]\n",
    "display(df)\n",
    "df.apply(lambda row: row[\"col1\"] + 2*row[\"col2\"], axis=1)"
   ]
  },
  {
   "cell_type": "code",
   "execution_count": 23,
   "id": "8f5f9e51",
   "metadata": {},
   "outputs": [
    {
     "data": {
      "text/html": [
       "<div>\n",
       "<style scoped>\n",
       "    .dataframe tbody tr th:only-of-type {\n",
       "        vertical-align: middle;\n",
       "    }\n",
       "\n",
       "    .dataframe tbody tr th {\n",
       "        vertical-align: top;\n",
       "    }\n",
       "\n",
       "    .dataframe thead th {\n",
       "        text-align: right;\n",
       "    }\n",
       "</style>\n",
       "<table border=\"1\" class=\"dataframe\">\n",
       "  <thead>\n",
       "    <tr style=\"text-align: right;\">\n",
       "      <th></th>\n",
       "      <th>col1</th>\n",
       "      <th>col2</th>\n",
       "    </tr>\n",
       "  </thead>\n",
       "  <tbody>\n",
       "    <tr>\n",
       "      <th>0</th>\n",
       "      <td>0</td>\n",
       "      <td>1</td>\n",
       "    </tr>\n",
       "    <tr>\n",
       "      <th>1</th>\n",
       "      <td>2</td>\n",
       "      <td>3</td>\n",
       "    </tr>\n",
       "    <tr>\n",
       "      <th>2</th>\n",
       "      <td>4</td>\n",
       "      <td>5</td>\n",
       "    </tr>\n",
       "    <tr>\n",
       "      <th>3</th>\n",
       "      <td>6</td>\n",
       "      <td>7</td>\n",
       "    </tr>\n",
       "    <tr>\n",
       "      <th>4</th>\n",
       "      <td>8</td>\n",
       "      <td>9</td>\n",
       "    </tr>\n",
       "  </tbody>\n",
       "</table>\n",
       "</div>"
      ],
      "text/plain": [
       "   col1  col2\n",
       "0     0     1\n",
       "1     2     3\n",
       "2     4     5\n",
       "3     6     7\n",
       "4     8     9"
      ]
     },
     "metadata": {},
     "output_type": "display_data"
    },
    {
     "data": {
      "text/plain": [
       "col1    20\n",
       "col2    25\n",
       "dtype: int64"
      ]
     },
     "execution_count": 23,
     "metadata": {},
     "output_type": "execute_result"
    }
   ],
   "source": [
    "# axis = 0 -> return something the shape of a row, i.e. apply the function column-wise\n",
    "display(df)\n",
    "df.apply(lambda col: sum(col), axis=0)"
   ]
  },
  {
   "cell_type": "markdown",
   "id": "995df4be",
   "metadata": {},
   "source": [
    "---\n",
    "## 6. Summary:\n",
    "- An __Element-Wise Operation__ is an operation that can easily be distributed over the elements of a data container\n",
    "- Pandas leverages on __NumPy's universal functions__, which include addition, subtraction, multiplication, logs, exponentials, etc\n",
    "- The __.apply()__ method is used to apply an element-wise function to a Series or along one of the axes of a DataFrame - a great tool to use when there is no ufunc existing for the operation we want to conduct!"
   ]
  },
  {
   "cell_type": "markdown",
   "id": "330edce9",
   "metadata": {},
   "source": [
    "---\n",
    "## 7. Concept Check:\n",
    "1. If you use df.apply(..., axis=0), what is the shape of the output? Suppose df.shape = (10,5)\n",
    "2. If you use df.apply(..., axis=1), what is the shape of the output? Suppose df.shape = (10,5)\n",
    "3. Use .apply on a series. The input to the function is x. If x is even, return 0. Else, return x.\n",
    "    - Eg. pd.Series([1,2,3,4,5]) -> [1,0,3,0,5]\n",
    "4. Suppose you had a dataframe df = pd.DataFrame({'currency':['USD','AUD','USD'], 'amount':[100,200,300]}). Use the apply method to get a column with the amounts in GBP.\n",
    "   - To go from AUD to GBP, divide by 1.94.\n",
    "   - To go from USD to GBP, divide by 1.32.\n",
    "5. Compare the time it takes to use apply vs a ufunc. Hint: Google and use the `%timeit`."
   ]
  },
  {
   "cell_type": "code",
   "execution_count": 57,
   "id": "26232fe5",
   "metadata": {},
   "outputs": [
    {
     "data": {
      "text/plain": [
       "0    1\n",
       "1    0\n",
       "2    3\n",
       "3    0\n",
       "4    5\n",
       "dtype: int64"
      ]
     },
     "metadata": {},
     "output_type": "display_data"
    },
    {
     "data": {
      "text/plain": [
       "0     75.757576\n",
       "1    103.092784\n",
       "2    227.272727\n",
       "dtype: float64"
      ]
     },
     "metadata": {},
     "output_type": "display_data"
    }
   ],
   "source": [
    "# 1. (1,5) 1 row, 5 cols\n",
    "# 2. (10,1)\n",
    "# 3.\n",
    "s = pd.Series([1,2,3,4,5])\n",
    "s2 = s.apply(lambda x: 0 if x%2==0 else x)\n",
    "display(s2)\n",
    "# 4.\n",
    "df = pd.DataFrame({'currency':['USD','AUD','USD'], 'amount':[100,200,300]})\n",
    "\n",
    "def convert(row):\n",
    "    if row[\"currency\"] == \"USD\":\n",
    "        return row[\"amount\"] / 1.32\n",
    "    else:\n",
    "        return row[\"amount\"] / 1.94\n",
    "\n",
    "# df2 = df.apply(convert, axis=1)\n",
    "# axis = 1, iterate over the row\n",
    "df.loc[[0]]#[\"amount\"]\n",
    "\n",
    "df2 = df.apply(lambda row: row[\"amount\"]/1.32 if row[\"currency\"]==\"USD\" else row[\"amount\"]/1.94, axis=1)\n",
    "display(df2)\n",
    "\n",
    "# 5.\n",
    "%timeit s * 1000\n",
    "%timeit s.apply(lambda x:x*1000)\n"
   ]
  },
  {
   "cell_type": "code",
   "execution_count": 50,
   "id": "0adbf338",
   "metadata": {},
   "outputs": [
    {
     "data": {
      "text/html": [
       "<div>\n",
       "<style scoped>\n",
       "    .dataframe tbody tr th:only-of-type {\n",
       "        vertical-align: middle;\n",
       "    }\n",
       "\n",
       "    .dataframe tbody tr th {\n",
       "        vertical-align: top;\n",
       "    }\n",
       "\n",
       "    .dataframe thead th {\n",
       "        text-align: right;\n",
       "    }\n",
       "</style>\n",
       "<table border=\"1\" class=\"dataframe\">\n",
       "  <thead>\n",
       "    <tr style=\"text-align: right;\">\n",
       "      <th></th>\n",
       "      <th>currency</th>\n",
       "      <th>amount</th>\n",
       "    </tr>\n",
       "  </thead>\n",
       "  <tbody>\n",
       "    <tr>\n",
       "      <th>0</th>\n",
       "      <td>USD</td>\n",
       "      <td>100</td>\n",
       "    </tr>\n",
       "    <tr>\n",
       "      <th>2</th>\n",
       "      <td>USD</td>\n",
       "      <td>300</td>\n",
       "    </tr>\n",
       "  </tbody>\n",
       "</table>\n",
       "</div>"
      ],
      "text/plain": [
       "  currency  amount\n",
       "0      USD     100\n",
       "2      USD     300"
      ]
     },
     "execution_count": 50,
     "metadata": {},
     "output_type": "execute_result"
    }
   ],
   "source": [
    "mask = (df[\"currency\"] == \"USD\")\n",
    "df[mask]"
   ]
  }
 ],
 "metadata": {
  "interpreter": {
   "hash": "54b57a9d7255aa9bd89013014712be1af3e9c0518087b34529522b12b0bc87de"
  },
  "kernelspec": {
   "display_name": "Python 3.9.7 ('base')",
   "language": "python",
   "name": "python3"
  },
  "language_info": {
   "codemirror_mode": {
    "name": "ipython",
    "version": 3
   },
   "file_extension": ".py",
   "mimetype": "text/x-python",
   "name": "python",
   "nbconvert_exporter": "python",
   "pygments_lexer": "ipython3",
   "version": "3.9.7"
  },
  "vscode": {
   "interpreter": {
    "hash": "54b57a9d7255aa9bd89013014712be1af3e9c0518087b34529522b12b0bc87de"
   }
  }
 },
 "nbformat": 4,
 "nbformat_minor": 5
}
