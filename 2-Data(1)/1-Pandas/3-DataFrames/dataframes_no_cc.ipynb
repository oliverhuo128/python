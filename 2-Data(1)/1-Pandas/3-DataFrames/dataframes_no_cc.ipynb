{
 "cells": [
  {
   "cell_type": "markdown",
   "id": "3dbd1dc9",
   "metadata": {},
   "source": [
    "# Pandas DataFrames\n",
    "---\n",
    "\n",
    "## 1. Pandas DataFrames - Definition:\n",
    "\n",
    "In the previous unit we learnt about the concept of __Series__. Pandas __DataFrames__ are a natural continuation of it.\n",
    "\n",
    "A __DataFrame__ is a 2-dimensional array of data, indexed by rows and columns. Each column in a __DataFrame__ corresponds to a __Series__ object. Put simply, a __DataFrame__ is the Pandas' term for a table. And just like with any table, each cell in it is uniquely identified by its row and column index - in that sense:  \n",
    "\n",
    "- Each __DataFrame__ is a collection of __Series__, each having a single data type\n",
    "- We can think of each pair (row_index, column_index) as a key of an element in the __DataFrame__\n"
   ]
  },
  {
   "cell_type": "code",
   "execution_count": null,
   "id": "c6fbd9ae",
   "metadata": {},
   "outputs": [],
   "source": [
    "# Imports\n",
    "import pandas as pd\n",
    "import numpy as np\n",
    "import datetime as dt"
   ]
  },
  {
   "cell_type": "markdown",
   "id": "8ea5eee4",
   "metadata": {},
   "source": [
    "---\n",
    "## 2. Constructing a Pandas DataFrame:\n",
    "\n",
    "A __DataFrame__ object can be created in many ways. To see why, recall that a simple __Series__ object can be constructed from a list as well as a dictionary. Now we are handling not a 1- but a 2-dimensional object. In that sense, there are multiple ways to navigate the construction - horizontally via creating a collection of rows, or vertically - via a collection of columns!\n",
    "\n",
    "### 2.1 Constructing a DataFrame with 1 Column:\n",
    "\n",
    "A __DataFrame__ can have a single column. Yes - this really looks like a Series, however, once initialised as a DataFrame object, Python will treat it as such - a table with only one column. A single-column DataFrame can be built in 2 ways:\n",
    "\n",
    "- From a List:\n",
    "    - `pd.DataFrame([item1, item2, ...], columns = ['column1'])` \n",
    "    \n",
    "- From a Series:\n",
    "    - `pd.DataFrame(series_name)`"
   ]
  },
  {
   "cell_type": "code",
   "execution_count": null,
   "id": "83d18a79",
   "metadata": {},
   "outputs": [],
   "source": [
    "# Constructing a dataframe from a simple list\n",
    "df = pd.DataFrame([1,2,3,4], columns=['column1'])\n",
    "display(df)"
   ]
  },
  {
   "cell_type": "code",
   "execution_count": null,
   "id": "d26c0729",
   "metadata": {},
   "outputs": [],
   "source": [
    "# Constructing a dataframe from a series object\n",
    "s  = pd.Series({'a':123, 'b':456})\n",
    "df = pd.DataFrame(s)\n",
    "display(df)\n",
    "\n",
    "# unless the column name is specified, it will be assigned a default value 0 - we can rename the column in this way\n",
    "df = df.rename(columns = {0:'column1'})\n",
    "display(df)"
   ]
  },
  {
   "cell_type": "markdown",
   "id": "0fa199f3",
   "metadata": {},
   "source": [
    "### 2.1 Constructing a DataFrame with multiple columns:\n",
    "\n",
    "Now let's explore the ways to build a multi-column __DataFrame__. Below is a brief syntax guide on the different ways to do it:\n",
    "\n",
    "- From a __List of Lists__ - each inner list corresponds to a row:\n",
    "    - `pd.DataFrame([list1, list2, list3, ...], columns = ['column1', ...])` where `list1 = [item1, item2, ...]`\n",
    "    \n",
    "    \n",
    "- From a __List of Dictionaries__ - each dictionary corresponds to a row; each key in a dict corresponds to a column name\n",
    "    - `pd.DataFrame([dict1, dict2, dict3, ...])` where `dict1 = {'column1': value1, 'columns2': value2, ...}`\n",
    "   \n",
    "   \n",
    "- From a __Dictionary of List Values__ - each key correspond to a column name; each list corresponds to column values\n",
    "    - `pd.DataFrame({'column1': list1, 'column2': list2, ...})` where `list1 = [item1, item2, ...]`\n",
    "    \n",
    "    \n",
    "- From a __Dictionary of Series__ - each key corresponds to a column name; each Series corresponds to column values\n",
    "    - `pd.DataFrame({'column1': series1, 'column2': series2, ...})` where `series1 = pd.Series(...)`"
   ]
  },
  {
   "cell_type": "code",
   "execution_count": null,
   "id": "1a580f4f",
   "metadata": {},
   "outputs": [],
   "source": [
    "# Constructing a dataframe using a list of lists.\n",
    "data = [[1,2], # row 1\n",
    "        [3,4], # row 2\n",
    "        [5,6]] # row 3\n",
    "\n",
    "df = pd.DataFrame(data, columns=['col1', 'col2'])\n",
    "display(df)"
   ]
  },
  {
   "cell_type": "code",
   "execution_count": null,
   "id": "f5410fd2",
   "metadata": {},
   "outputs": [],
   "source": [
    "# From a list of dictionaries\n",
    "data = [{'a':111, 'b':222}, # row 1\n",
    "        {'a':333, 'b':444}, # row 2\n",
    "        {'b':666, 'a':555}] # row 3 # Note, the order of the items in the dictionary doesn't matter, the keys do.\n",
    "\n",
    "df = pd.DataFrame(data)\n",
    "display(df)"
   ]
  },
  {
   "cell_type": "code",
   "execution_count": null,
   "id": "6f19911b",
   "metadata": {},
   "outputs": [],
   "source": [
    "# From a dictionary of list values\n",
    "data = {'a':[1,2,3,4], 'b':[5,6,7,8]}\n",
    "\n",
    "df = pd.DataFrame(data)\n",
    "display(df)"
   ]
  },
  {
   "cell_type": "code",
   "execution_count": null,
   "id": "938a53e8",
   "metadata": {},
   "outputs": [],
   "source": [
    "# From a dictionary of series\n",
    "s1 = pd.Series([1,2], index=['a','b'])\n",
    "s2 = pd.Series([3,4], index=['a','b'])\n",
    "\n",
    "data = {'series1':s1, 'series2':s2}\n",
    "\n",
    "df = pd.DataFrame(data)\n",
    "display(df)"
   ]
  },
  {
   "cell_type": "code",
   "execution_count": null,
   "id": "178e49af",
   "metadata": {},
   "outputs": [],
   "source": [
    "# From a dictionary of series - showing index alignment\n",
    "s1 = pd.Series([1,2], index=['a','b'])\n",
    "s2 = pd.Series([3,4], index=['b','c'])\n",
    "data = {'series1':s1, 'series2':s2}\n",
    "\n",
    "df = pd.DataFrame(data)\n",
    "display(df)"
   ]
  },
  {
   "cell_type": "markdown",
   "id": "adc6ddad",
   "metadata": {},
   "source": [
    "---\n",
    "## 3. Getting the Index, Columns and Values from a DataFrame:\n",
    "\n",
    "Obtaining information on values and the index of a DataFrame is identical to how we do it with Series:"
   ]
  },
  {
   "cell_type": "code",
   "execution_count": null,
   "id": "a3f85471",
   "metadata": {},
   "outputs": [],
   "source": [
    "# Getting the index\n",
    "df.index"
   ]
  },
  {
   "cell_type": "code",
   "execution_count": null,
   "id": "31ff664e",
   "metadata": {},
   "outputs": [],
   "source": [
    "# Getting the columns\n",
    "df.columns"
   ]
  },
  {
   "cell_type": "code",
   "execution_count": null,
   "id": "48b2cc66",
   "metadata": {},
   "outputs": [],
   "source": [
    "# Getting the values\n",
    "df.values # Returns an array of the values"
   ]
  },
  {
   "cell_type": "markdown",
   "id": "a25e44c7",
   "metadata": {},
   "source": [
    "---\n",
    "## 4. DataFrame - Column Data Types:\n",
    "\n",
    "Since a __DataFrame__ is really just a collection of __Series__, we can easily obtain the data types of all columns in the same way we did with Series. To cast a new data type onto a column however, we now have to specify the column name of interest:"
   ]
  },
  {
   "cell_type": "code",
   "execution_count": null,
   "id": "d152d60b",
   "metadata": {},
   "outputs": [],
   "source": [
    "# Getting datatypes for each column\n",
    "df.dtypes"
   ]
  },
  {
   "cell_type": "code",
   "execution_count": null,
   "id": "400da893",
   "metadata": {},
   "outputs": [],
   "source": [
    "# Typecasting a dataframe column\n",
    "df[['series1']] = df[['series1']].astype(str) # Note the interesting way we indexed the column, we'll talk more about this later.\n",
    "df.dtypes"
   ]
  },
  {
   "cell_type": "markdown",
   "id": "86630c6d",
   "metadata": {},
   "source": [
    "---\n",
    "## 5. DataFrame Shape:\n",
    "\n",
    "As we know, the __Shape__ of an object returns information on its dimensions. With __Series__ we saw that the outcome of the `.shape` method was a __(x,)__ pair, indicating the number of elements in the Series. \n",
    "\n",
    "\n",
    "__DataFrames__ are however 2-dimensional, so we would expect to obtain information on 2 things - the number of rows and number of columns in it. \n",
    "\n",
    "Remember: The output of `df.shape` is a pair __(x,y)__ where:\n",
    "- __x__ corresponds to the number of rows\n",
    "- __y__ corresponds to the number of columns"
   ]
  },
  {
   "cell_type": "code",
   "execution_count": null,
   "id": "c84890a8",
   "metadata": {},
   "outputs": [],
   "source": [
    "# 2 dimensions - 3 rows, 2 columns.\n",
    "df.shape"
   ]
  },
  {
   "cell_type": "markdown",
   "id": "c64c0841",
   "metadata": {},
   "source": [
    "---\n",
    "## 6. The Pandas Index Object:\n",
    "\n",
    "We encountered the concept of __Index__ with both __Series__ and __DataFrames__. \n",
    "\n",
    "__Pandas Index__ is an immutable sequence used for indexing and alignment - the basic object, storing axis labels for all Pandas objects. Think of an index as an immutable list or tuple.\n",
    "\n",
    "In the context of working with Series and DataFrames, unless explicitly specified, indexes will be automatically created. Below we are showing a couple of ways to explicitly construct an __Index__ object via the `.Index()` method:"
   ]
  },
  {
   "cell_type": "code",
   "execution_count": null,
   "id": "8228b599",
   "metadata": {},
   "outputs": [],
   "source": [
    "# Creating an integer index\n",
    "idx = pd.Index([1,2,3])\n",
    "idx"
   ]
  },
  {
   "cell_type": "code",
   "execution_count": null,
   "id": "735764d6",
   "metadata": {},
   "outputs": [],
   "source": [
    "# Creating a datetime index\n",
    "pd.Index([dt.datetime(2020,1,1), dt.datetime(2020,1,2)])"
   ]
  },
  {
   "cell_type": "code",
   "execution_count": null,
   "id": "b9f12929",
   "metadata": {},
   "outputs": [],
   "source": [
    "# Pandas indexes are immutable objects -- we can't change its value.\n",
    "idx = pd.Index([1,2,3])\n",
    "idx[1] = 5 # We get an error"
   ]
  },
  {
   "cell_type": "markdown",
   "id": "4c4f651e",
   "metadata": {},
   "source": [
    "---\n",
    "## 7. Summary:\n",
    "\n",
    "- Pandas __DataFrame__ is a 2-dimensional array of data, indexed by rows and columns\n",
    "- DataFrames can be constructed in multiple ways - via list of lists, list of dictionaries, dictionary of lists, etc.\n",
    "- Obtaining the values, index, columns, column data types and the shape of a dataframe is identical to Series\n",
    "- Pandas __Index__ Object is an immutable sequence for indexing and alignment of Pandas objects"
   ]
  },
  {
   "cell_type": "markdown",
   "id": "c17db8e7",
   "metadata": {},
   "source": [
    "---\n",
    "## 8. Concept Check:\n",
    "\n",
    "1. What is a pandas DataFrame? How is it different to a Series?\n",
    "2. What are some useful attributes of a DataFrame instance?\n",
    "3. What is the data type for a column in a dataframe?\n",
    "4. Construct the following dataframe:\n",
    "\n",
    "|   | col1 | col2 |\n",
    "|---|------|------|\n",
    "| 0 | 1    | 2    |\n",
    "| 1 | 3    | 4    |\n",
    "| 2 | 5    | 6.0  |\n",
    "\n",
    "Using:\n",
    "\n",
    "   - a. A list of lists\n",
    "   - b. A list of tuples\n",
    "   - c. A dictionary of lists\n",
    "   - d. A dictionary of pd.Series objects\n",
    "\n",
    "1. Construct a pandas.Index of length 20, object consisting of the first 20 days of this month"
   ]
  },
  {
   "cell_type": "code",
   "execution_count": null,
   "id": "d7f349d9",
   "metadata": {},
   "outputs": [],
   "source": [
    "# 1. dataframes are 2-dimensional, series are 1-dimensional\n",
    "# 2. df.index, df.columns, df.values, df.shape\n",
    "# 3. pd.Series object\n",
    "# 4a.\n",
    "my_data1 = [[1,2], [3,4], [5,6.0]]\n",
    "df1 = pd.DataFrame(my_data1, columns=['col1', 'col2'])\n",
    "display(df1)\n",
    "# 4b.\n",
    "my_data2 = [(1,2), (3,4), (5,6.0)]\n",
    "df2 = pd.DataFrame(my_data2, columns=['col1', 'col2'])\n",
    "display(df2)\n",
    "# 4c.\n",
    "my_data3 = {'col1': [1,3,5], 'col2': [4,5,6.0]}\n",
    "df3 = pd.DataFrame(my_data3)\n",
    "display(df3)\n",
    "# 4d.\n",
    "s1 = pd.Series([1,3,5])\n",
    "s2 = pd.Series([4,5,6.0])\n",
    "df4 = pd.DataFrame({'col1': s1, 'col2': s2})\n",
    "display(df4)\n",
    "# 5.\n",
    "my_data4 = [dt.datetime(2022, 5, x) for x in range(1,21)]\n",
    "idx = pd.Index(my_data4)\n",
    "display(idx)"
   ]
  }
 ],
 "metadata": {
  "kernelspec": {
   "display_name": "Python 3 (ipykernel)",
   "language": "python",
   "name": "python3"
  },
  "language_info": {
   "codemirror_mode": {
    "name": "ipython",
    "version": 3
   },
   "file_extension": ".py",
   "mimetype": "text/x-python",
   "name": "python",
   "nbconvert_exporter": "python",
   "pygments_lexer": "ipython3",
   "version": "3.9.7"
  }
 },
 "nbformat": 4,
 "nbformat_minor": 5
}
