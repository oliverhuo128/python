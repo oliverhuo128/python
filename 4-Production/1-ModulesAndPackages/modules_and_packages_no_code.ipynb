{
 "cells": [
  {
   "cell_type": "markdown",
   "metadata": {},
   "source": [
    "# Python Scripts, Modules and Packages\n",
    "\n",
    "There are two ways a Python source file can be executed:\n",
    "- as a main program/script\n",
    "- as a module/package\n",
    "\n",
    "When a Python file is executed as a script, the `__name__` variable will set to the string `__main__`. If it is imported as a module, the `__name__` variable will be set to the module name. "
   ]
  },
  {
   "cell_type": "code",
   "execution_count": null,
   "metadata": {},
   "outputs": [],
   "source": []
  },
  {
   "cell_type": "markdown",
   "metadata": {},
   "source": [
    "## Modules and Packages\n",
    "\n",
    "Large Python programs are typically organised into modules and packages. A module or a package is a way of wrapping up your code into nice organisational units. This has several benefits:\n",
    "- Logic in modules/packages can be reused in other scripts or programs. \n",
    "- Modules/packages in a program allow for better code design and separation of responsibilities. "
   ]
  },
  {
   "cell_type": "markdown",
   "metadata": {},
   "source": [
    "### Modules\n",
    "Any Python source file (`.py`) file can be used as a module. A module is just a python `.py` file. Modules can be imported using the `import` statement. "
   ]
  },
  {
   "cell_type": "code",
   "execution_count": null,
   "metadata": {},
   "outputs": [],
   "source": []
  },
  {
   "cell_type": "code",
   "execution_count": null,
   "metadata": {},
   "outputs": [],
   "source": []
  },
  {
   "cell_type": "code",
   "execution_count": null,
   "metadata": {},
   "outputs": [],
   "source": []
  },
  {
   "cell_type": "markdown",
   "metadata": {},
   "source": [
    "#### Creating our own custom module\n"
   ]
  },
  {
   "cell_type": "code",
   "execution_count": null,
   "metadata": {},
   "outputs": [],
   "source": [
    "# Save the following content into a file called hello.py\n",
    "# \n",
    "import pandas as pd\n",
    "\n",
    "my_list = [1,2,3]\n",
    "my_series = pd.Series(my_list, index = ['a','b','c'])\n",
    "\n",
    "def make_df(cols, rows):\n",
    "    data = {c:[str(c)+str(r) for r in rows] for c in cols}\n",
    "    return pd.DataFrame(data)\n",
    "\n",
    "my_df = make_df('abc','1234')\n",
    "\n",
    "if __name__ == '__main__':\n",
    "    print(f'__name__ is {__name__}' )\n",
    "    print('This file is running as a script')\n",
    "else:\n",
    "    print(f'__name__ is {__name__}' )\n",
    "    print('This file is running as a module')"
   ]
  },
  {
   "cell_type": "markdown",
   "metadata": {},
   "source": [
    "Run the above file as a script by running `python hello.py` from command line and check the output. Also, do `import hello` and check the output. Compare the differences. "
   ]
  },
  {
   "cell_type": "markdown",
   "metadata": {},
   "source": [
    "#### Loading our module"
   ]
  },
  {
   "cell_type": "code",
   "execution_count": null,
   "metadata": {},
   "outputs": [],
   "source": []
  },
  {
   "cell_type": "code",
   "execution_count": null,
   "metadata": {},
   "outputs": [],
   "source": []
  },
  {
   "cell_type": "code",
   "execution_count": null,
   "metadata": {},
   "outputs": [],
   "source": []
  },
  {
   "cell_type": "code",
   "execution_count": null,
   "metadata": {},
   "outputs": [],
   "source": []
  },
  {
   "cell_type": "markdown",
   "metadata": {},
   "source": [
    "To reload an already imported module, we can use the reload method from importlib "
   ]
  },
  {
   "cell_type": "code",
   "execution_count": null,
   "metadata": {},
   "outputs": [],
   "source": []
  },
  {
   "cell_type": "code",
   "execution_count": null,
   "metadata": {},
   "outputs": [],
   "source": []
  },
  {
   "cell_type": "markdown",
   "metadata": {},
   "source": [
    "#### Import specific names from the module\n",
    "\n",
    "`from <module> import <symbol1>, <symbol2>`"
   ]
  },
  {
   "cell_type": "code",
   "execution_count": null,
   "metadata": {},
   "outputs": [],
   "source": []
  },
  {
   "cell_type": "code",
   "execution_count": null,
   "metadata": {},
   "outputs": [],
   "source": []
  },
  {
   "cell_type": "code",
   "execution_count": null,
   "metadata": {},
   "outputs": [],
   "source": []
  },
  {
   "cell_type": "markdown",
   "metadata": {},
   "source": [
    "#### Import all names (Aside)\n",
    "You can import all elements from a module by using the following syntax:\n",
    "`from <module> import *`\n",
    "\n",
    "By default, this imports all symbols into the current namespace. You can control which symbols are imported by defining an `__all__` variable within the module. For example, add `__all__ = ['my_variable']` in the test_module.py, then only `my_variable` will be imported when you run `from test_module import *`.\n",
    "\n",
    "**Note**: While this is possible, it is considered bad practice to import all objects into the current namespace. \n"
   ]
  },
  {
   "cell_type": "markdown",
   "metadata": {},
   "source": [
    "## Packages\n",
    "Packages allow a collection of modules and subpackages to be grouped together under a common package name. \n",
    "\n",
    "A package is defined by creating a directory with the same name as the package, then creating `__init__.py` in that directory. When we import a package, the `__init__.py` file is run. \n",
    "\n",
    "In the directory, it is possible to have additional modules or subpackages. "
   ]
  },
  {
   "cell_type": "code",
   "execution_count": null,
   "metadata": {},
   "outputs": [],
   "source": []
  },
  {
   "cell_type": "code",
   "execution_count": null,
   "metadata": {},
   "outputs": [],
   "source": []
  },
  {
   "cell_type": "code",
   "execution_count": null,
   "metadata": {},
   "outputs": [],
   "source": []
  },
  {
   "cell_type": "code",
   "execution_count": null,
   "metadata": {},
   "outputs": [],
   "source": []
  },
  {
   "cell_type": "markdown",
   "metadata": {},
   "source": [
    "#### Concept Check\n",
    "\n",
    "Create a test package with the following structure\n",
    "\n",
    "- test_package\n",
    "    - `__init__.py`\n",
    "    - `module1.py`\n",
    "    - subpackage1\n",
    "        - `__init__.py`\n",
    "        - `module2.py`\n",
    "        - `module3.py`\n",
    "    - subpackage2\n",
    "        - `__init__.py`\n",
    "        - `module4.py`\n",
    "\n",
    "For `moduleX.py`, use the following code to store in the file.\n",
    "\n",
    "```\n",
    "varX = X\n",
    "def my_funcX():\n",
    "    print('my_package\\moduleX')\n",
    "```\n",
    "\n"
   ]
  },
  {
   "cell_type": "markdown",
   "metadata": {},
   "source": []
  }
 ],
 "metadata": {
  "kernelspec": {
   "display_name": "Python 3.9.7 64-bit",
   "language": "python",
   "name": "python3"
  },
  "language_info": {
   "codemirror_mode": {
    "name": "ipython",
    "version": 3
   },
   "file_extension": ".py",
   "mimetype": "text/x-python",
   "name": "python",
   "nbconvert_exporter": "python",
   "pygments_lexer": "ipython3",
   "version": "3.9.7"
  },
  "toc": {
   "base_numbering": 1,
   "nav_menu": {},
   "number_sections": true,
   "sideBar": true,
   "skip_h1_title": false,
   "title_cell": "Table of Contents",
   "title_sidebar": "Contents",
   "toc_cell": false,
   "toc_position": {},
   "toc_section_display": true,
   "toc_window_display": false
  },
  "varInspector": {
   "cols": {
    "lenName": 16,
    "lenType": 16,
    "lenVar": 40
   },
   "kernels_config": {
    "python": {
     "delete_cmd_postfix": "",
     "delete_cmd_prefix": "del ",
     "library": "var_list.py",
     "varRefreshCmd": "print(var_dic_list())"
    },
    "r": {
     "delete_cmd_postfix": ") ",
     "delete_cmd_prefix": "rm(",
     "library": "var_list.r",
     "varRefreshCmd": "cat(var_dic_list()) "
    }
   },
   "types_to_exclude": [
    "module",
    "function",
    "builtin_function_or_method",
    "instance",
    "_Feature"
   ],
   "window_display": false
  },
  "vscode": {
   "interpreter": {
    "hash": "54b57a9d7255aa9bd89013014712be1af3e9c0518087b34529522b12b0bc87de"
   }
  }
 },
 "nbformat": 4,
 "nbformat_minor": 2
}
