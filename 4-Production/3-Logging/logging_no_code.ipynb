{
 "cells": [
  {
   "cell_type": "markdown",
   "id": "7be9843b",
   "metadata": {
    "toc": true
   },
   "source": [
    "<h1>Table of Contents<span class=\"tocSkip\"></span></h1>\n",
    "<div class=\"toc\"><ul class=\"toc-item\"><li><span><a href=\"#1.-Python---Logging\" data-toc-modified-id=\"1.-Python---Logging-1\">1. Python - Logging</a></span><ul class=\"toc-item\"><li><span><a href=\"#1.1-Log-Levels\" data-toc-modified-id=\"1.1-Log-Levels-1.1\">1.1 Log Levels</a></span></li><li><span><a href=\"#1.2-Advantages-of-Logging-over-Diagnostic-Print-Messages\" data-toc-modified-id=\"1.2-Advantages-of-Logging-over-Diagnostic-Print-Messages-1.2\">1.2 Advantages of Logging over Diagnostic Print Messages</a></span></li><li><span><a href=\"#1.3-Import-and-set-up-the-logging-module\" data-toc-modified-id=\"1.3-Import-and-set-up-the-logging-module-1.3\">1.3 Import and set up the logging module</a></span></li></ul></li></ul></div>"
   ]
  },
  {
   "cell_type": "markdown",
   "id": "ab188680",
   "metadata": {},
   "source": [
    "---\n",
    "# 1. Python - Logging\n",
    "---\n",
    "\n",
    "Python has a built-in package for logging events for Python applications. For more information, see <http://docs.python.org/3/library/logging.html>.\n",
    "\n",
    "In this notebook, we will:\n",
    "- Learn about the different log levels and how they affect the output\n",
    "- Learn about the advantages of the logging module over diagnostic print messages\n",
    "- Set up the logging module to write log messages to a file"
   ]
  },
  {
   "cell_type": "markdown",
   "id": "86cf759a",
   "metadata": {},
   "source": [
    "## 1.1 Log Levels\n",
    "\n",
    "There are five standard logging levels based on the severity of the events they track. These are given below along with their corresponding numeric values in brackets:\n",
    "- **DEBUG** (10): Detailed information. Useful for debugging the code \n",
    "- **INFO**  (20): Information messages to show that everything is working as expected\n",
    "- **WARNING** (30): Warning messages indicate that something unexpected has happened albeit without any interruption to the program execution\n",
    "- **ERROR** (40): Error messages are displayed when the program is unable to continue execution\n",
    "- **CRITICAL** (50): For more serious errors"
   ]
  },
  {
   "cell_type": "markdown",
   "id": "d0c4bf90",
   "metadata": {},
   "source": [
    "## 1.2 Advantages of Logging over Diagnostic Print Messages\n",
    "- Messages can be categorised and filtered depending on their level of severity\n",
    "- Logs are highly customisable and can be formatted to include timestamps, line numbers etc. to provide more descriptive information\n",
    "- It is easy to turn logging on/off, this is particularly useful when your package is imported into other Python packages"
   ]
  },
  {
   "cell_type": "markdown",
   "id": "b5580358",
   "metadata": {},
   "source": [
    "## 1.3 Import and set up the logging module"
   ]
  },
  {
   "cell_type": "code",
   "execution_count": null,
   "id": "f949c1e6",
   "metadata": {},
   "outputs": [],
   "source": []
  },
  {
   "cell_type": "markdown",
   "id": "cd89b43b",
   "metadata": {},
   "source": [
    "A full list of logrecord attributes can be seen here:\n",
    "<https://docs.python.org/3/library/logging.html#logrecord-attributes>."
   ]
  },
  {
   "cell_type": "code",
   "execution_count": null,
   "id": "b5c09611",
   "metadata": {},
   "outputs": [],
   "source": []
  },
  {
   "cell_type": "code",
   "execution_count": null,
   "id": "41907427",
   "metadata": {},
   "outputs": [],
   "source": []
  },
  {
   "cell_type": "code",
   "execution_count": null,
   "id": "6bbad2a2",
   "metadata": {},
   "outputs": [],
   "source": []
  },
  {
   "cell_type": "code",
   "execution_count": null,
   "id": "38c981fc",
   "metadata": {},
   "outputs": [],
   "source": [
    "\n"
   ]
  },
  {
   "cell_type": "code",
   "execution_count": null,
   "id": "69775e0c",
   "metadata": {},
   "outputs": [],
   "source": []
  },
  {
   "cell_type": "markdown",
   "id": "e1a2fedb",
   "metadata": {},
   "source": [
    "### Disable logging <a class='tocSkip'>\n",
    "One way to disable verbose logging is to set the severity level to ERROR or CRITICAL. \n",
    "\n",
    "```logging.disable(level=50)``` allows us to disable logging messages up to the set level (default: CRITICAL (50))."
   ]
  },
  {
   "cell_type": "code",
   "execution_count": null,
   "id": "7e2fbff9",
   "metadata": {},
   "outputs": [],
   "source": []
  },
  {
   "cell_type": "code",
   "execution_count": null,
   "id": "61f162cb",
   "metadata": {},
   "outputs": [],
   "source": []
  },
  {
   "cell_type": "code",
   "execution_count": null,
   "id": "e6995608",
   "metadata": {},
   "outputs": [],
   "source": [
    "\n"
   ]
  },
  {
   "cell_type": "code",
   "execution_count": null,
   "id": "e31af350",
   "metadata": {},
   "outputs": [],
   "source": []
  },
  {
   "cell_type": "code",
   "execution_count": null,
   "id": "39ee381a",
   "metadata": {},
   "outputs": [],
   "source": []
  },
  {
   "cell_type": "code",
   "execution_count": null,
   "id": "4e48ef08",
   "metadata": {},
   "outputs": [],
   "source": []
  },
  {
   "cell_type": "code",
   "execution_count": null,
   "id": "1a1b68a1",
   "metadata": {},
   "outputs": [],
   "source": []
  }
 ],
 "metadata": {
  "kernelspec": {
   "display_name": "Python 3",
   "language": "python",
   "name": "python3"
  },
  "language_info": {
   "codemirror_mode": {
    "name": "ipython",
    "version": 3
   },
   "file_extension": ".py",
   "mimetype": "text/x-python",
   "name": "python",
   "nbconvert_exporter": "python",
   "pygments_lexer": "ipython3",
   "version": "3.8.12"
  },
  "toc": {
   "base_numbering": 1,
   "nav_menu": {},
   "number_sections": false,
   "sideBar": true,
   "skip_h1_title": false,
   "title_cell": "Table of Contents",
   "title_sidebar": "Contents",
   "toc_cell": true,
   "toc_position": {},
   "toc_section_display": true,
   "toc_window_display": false
  },
  "varInspector": {
   "cols": {
    "lenName": 16,
    "lenType": 16,
    "lenVar": 40
   },
   "kernels_config": {
    "python": {
     "delete_cmd_postfix": "",
     "delete_cmd_prefix": "del ",
     "library": "var_list.py",
     "varRefreshCmd": "print(var_dic_list())"
    },
    "r": {
     "delete_cmd_postfix": ") ",
     "delete_cmd_prefix": "rm(",
     "library": "var_list.r",
     "varRefreshCmd": "cat(var_dic_list()) "
    }
   },
   "types_to_exclude": [
    "module",
    "function",
    "builtin_function_or_method",
    "instance",
    "_Feature"
   ],
   "window_display": false
  }
 },
 "nbformat": 4,
 "nbformat_minor": 5
}
