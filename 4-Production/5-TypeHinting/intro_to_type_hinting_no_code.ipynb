{
 "cells": [
  {
   "cell_type": "markdown",
   "metadata": {},
   "source": [
    "# Introduction to Python Typing / Type Hinting\n",
    "\n",
    "Python is a [dynamically typed language](https://www.geeksforgeeks.org/type-systemsdynamic-typing-static-typing-duck-typing/). This is useful because it allows us to worry less about data types and more about writing the core logic of our code. However, it can be useful to hint what types we are expecting so make our code more readable, 'type hinting' can also be an invaluable tool when debugging your code later down the line, especially for larger codebases. These type hints can also be leveraged by other programs and modules to add more value elsewhere. For more information beyond the scope of this notebook, please see Python's [official docs](https://docs.python.org/3/library/typing.html)."
   ]
  },
  {
   "cell_type": "code",
   "execution_count": null,
   "metadata": {},
   "outputs": [],
   "source": []
  },
  {
   "cell_type": "markdown",
   "metadata": {},
   "source": [
    "## Type Aliases\n",
    "\n",
    "Type aliasing allows us to simplify more complex type signatures with an alias.\n"
   ]
  },
  {
   "cell_type": "code",
   "execution_count": null,
   "metadata": {},
   "outputs": [],
   "source": [
    "\n"
   ]
  },
  {
   "cell_type": "markdown",
   "metadata": {},
   "source": [
    "In the above example `Vector` and `list[float]` are treated as interchangeable synonyms."
   ]
  },
  {
   "cell_type": "code",
   "execution_count": null,
   "metadata": {},
   "outputs": [],
   "source": []
  },
  {
   "cell_type": "markdown",
   "metadata": {},
   "source": [
    "## Default and Optional Arguments\n",
    "\n",
    "Sometimes our arguments have default values. Type hinting can simply extend to support this as follows."
   ]
  },
  {
   "cell_type": "code",
   "execution_count": null,
   "metadata": {},
   "outputs": [],
   "source": []
  },
  {
   "cell_type": "markdown",
   "metadata": {},
   "source": [
    "Sometimes our arguments are optional and if they are not provided they are set to `None`, which obviously is not the same type as that expected of the argument if it provided. Here the `typing` module comes in handy to help specify this particular scenario for type hinting."
   ]
  },
  {
   "cell_type": "code",
   "execution_count": null,
   "metadata": {},
   "outputs": [],
   "source": []
  }
 ],
 "metadata": {
  "interpreter": {
   "hash": "d42bfd607582e77083f663aed20a2b54e5c55f9518ae081c71d1779f60aaf1e5"
  },
  "kernelspec": {
   "display_name": "Python 3.9.7 ('base')",
   "language": "python",
   "name": "python3"
  },
  "language_info": {
   "codemirror_mode": {
    "name": "ipython",
    "version": 3
   },
   "file_extension": ".py",
   "mimetype": "text/x-python",
   "name": "python",
   "nbconvert_exporter": "python",
   "pygments_lexer": "ipython3",
   "version": "3.9.7"
  },
  "orig_nbformat": 4
 },
 "nbformat": 4,
 "nbformat_minor": 2
}
