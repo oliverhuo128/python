{
 "cells": [
  {
   "cell_type": "markdown",
   "id": "1fc77725",
   "metadata": {
    "toc": true
   },
   "source": [
    "<h1>Table of Contents<span class=\"tocSkip\"></span></h1>\n",
    "<div class=\"toc\"><ul class=\"toc-item\">\n",
    "<li><span><a href=\"#1.-Introduction-to-Web-Scraping\" data-toc-modified-id=\"1.-Introduction-to-Web-Scraping-1\">1. Introduction to Web Scraping</a></span><ul class=\"toc-item\">\n",
    "<li><span><a href=\"#1.1-Example:-Getting-information-about-the-International-Space-Station-(ISS)-from-http://api.open-notify.org\" data-toc-modified-id=\"1.2-Example:-Getting-information-about-the-International-Space-Station-(ISS)-from-http://api.open-notify.org-1.2\">1.2 Example: Getting information about the International Space Station (ISS) from <a href=\"http://api.open-notify.org\" target=\"_blank\">http://api.open-notify.org</a></a></span></li>\n",
    "<li><span><a href=\"#1.2-Example:-Getting-information-about-countries-using-Rest-Countries-API\" data-toc-modified-id=\"1.2-Example:-Getting-information-about-countries-using-Rest-Countries-API-1.3\">1.3 Example: Getting information about countries using Rest Countries API</a></span></li></ul>\n",
    "</li></ul></div>"
   ]
  },
  {
   "cell_type": "markdown",
   "id": "a5fd2746",
   "metadata": {},
   "source": [
    "---\n",
    "# 1. Introduction to Web Scraping\n",
    "---\n",
    "\n",
    "Web scraping is the process of extracting data from websites. It can be performed manually or automated using software to download and store the data in an accessible format. \n",
    "\n",
    "In this notebook, we will be exploring web data access in Python using the built-in **requests** package, which allows us to make HTTP requests."
   ]
  },
  {
   "cell_type": "markdown",
   "id": "6b00adc5",
   "metadata": {},
   "source": [
    "## 1.1 Example: Getting information about the International Space Station (ISS) from http://api.open-notify.org"
   ]
  },
  {
   "cell_type": "code",
   "execution_count": 2,
   "id": "a1b35c3f",
   "metadata": {},
   "outputs": [],
   "source": [
    "import requests"
   ]
  },
  {
   "cell_type": "code",
   "execution_count": 3,
   "id": "a86e51a3",
   "metadata": {},
   "outputs": [
    {
     "name": "stdout",
     "output_type": "stream",
     "text": [
      "200\n"
     ]
    }
   ],
   "source": [
    "url = \"http://api.open-notify.org/iss-now.json\"\n",
    "r = requests.get(url)\n",
    "print(r.status_code)"
   ]
  },
  {
   "cell_type": "code",
   "execution_count": 4,
   "id": "7d81021a",
   "metadata": {},
   "outputs": [
    {
     "data": {
      "text/plain": [
       "'{\"iss_position\": {\"longitude\": \"-120.2624\", \"latitude\": \"11.3818\"}, \"timestamp\": 1656576599, \"message\": \"success\"}'"
      ]
     },
     "execution_count": 4,
     "metadata": {},
     "output_type": "execute_result"
    }
   ],
   "source": [
    "r.text"
   ]
  },
  {
   "cell_type": "markdown",
   "id": "8132ea8e",
   "metadata": {},
   "source": [
    "The response is in .json format, which looks similar to a Python dictionary. It can be converted into an actual Python dictionary using `.json()` method\n",
    "\n",
    "Note: Some websites may also return the response in formats other than json (e.g. html or xml)"
   ]
  },
  {
   "cell_type": "code",
   "execution_count": 5,
   "id": "062f6d13",
   "metadata": {},
   "outputs": [],
   "source": [
    "import json # deserialise this response into python objects (nested ligts and dictionaries)\n",
    "\n",
    "data = json.loads(r.text)\n",
    "type(data)\n",
    "data[\"timestamp\"]\n",
    "json.dump(data, open(\"data.json\", \"w\"))"
   ]
  },
  {
   "cell_type": "code",
   "execution_count": 6,
   "id": "79bd5994",
   "metadata": {},
   "outputs": [
    {
     "data": {
      "text/plain": [
       "{'iss_position': {'longitude': '-120.2624', 'latitude': '11.3818'},\n",
       " 'timestamp': 1656576599,\n",
       " 'message': 'success'}"
      ]
     },
     "execution_count": 6,
     "metadata": {},
     "output_type": "execute_result"
    }
   ],
   "source": [
    "data = r.json()\n",
    "data"
   ]
  },
  {
   "cell_type": "markdown",
   "id": "d7ab9254",
   "metadata": {},
   "source": [
    "Once converted into a dictionary, the response can be manipulated using standard indexing techniques"
   ]
  },
  {
   "cell_type": "code",
   "execution_count": 7,
   "id": "708eb2fe",
   "metadata": {},
   "outputs": [
    {
     "data": {
      "text/plain": [
       "datetime.datetime(2022, 6, 30, 9, 9, 59)"
      ]
     },
     "execution_count": 7,
     "metadata": {},
     "output_type": "execute_result"
    }
   ],
   "source": [
    "from datetime import datetime\n",
    "iss_now = datetime.fromtimestamp(data[\"timestamp\"])\n",
    "iss_now"
   ]
  },
  {
   "cell_type": "code",
   "execution_count": 8,
   "id": "ac4d3473",
   "metadata": {},
   "outputs": [
    {
     "data": {
      "text/plain": [
       "'11.3818'"
      ]
     },
     "execution_count": 8,
     "metadata": {},
     "output_type": "execute_result"
    }
   ],
   "source": [
    "data[\"iss_position\"][\"latitude\"]"
   ]
  },
  {
   "cell_type": "markdown",
   "id": "557df510",
   "metadata": {},
   "source": [
    "The timestamp is a sequence of numbers ([Unix time format](https://en.wikipedia.org/wiki/Unix_time)). We can convert this into a readable date using the built-in **datetime** package in Python"
   ]
  },
  {
   "cell_type": "markdown",
   "id": "82d2a718",
   "metadata": {},
   "source": [
    "### Concept Check <a class=\"tocSkip\">\n",
    "\n",
    "Print out a list of all people who are currently in space on the ISS. Use `http://api.open-notify.org/astros.json`\n",
    "\n"
   ]
  },
  {
   "cell_type": "code",
   "execution_count": 9,
   "id": "a0d4386d",
   "metadata": {},
   "outputs": [
    {
     "name": "stdout",
     "output_type": "stream",
     "text": [
      "GET request status code for http://api.open-notify.org/astros.json: 200\n",
      "Oleg Artemyev\n",
      "Denis Matveev\n",
      "Sergey Korsakov\n",
      "Kjell Lindgren\n",
      "Bob Hines\n",
      "Samantha Cristoforetti\n",
      "Jessica Watkins\n"
     ]
    }
   ],
   "source": [
    "url = \"http://api.open-notify.org/astros.json\"\n",
    "r = requests.get(url)\n",
    "print(f\"GET request status code for {url}: {r.status_code}\")\n",
    "response = r.json()\n",
    "response\n",
    "\n",
    "for person in response[\"people\"]:\n",
    "    if person[\"craft\"] == \"ISS\":\n",
    "        print(person[\"name\"])"
   ]
  },
  {
   "cell_type": "markdown",
   "id": "d589bc6d",
   "metadata": {},
   "source": [
    "## 1.2 Example: Getting information about countries using Rest Countries API\n",
    "Rest Countries API: <https://restcountries.com>"
   ]
  },
  {
   "cell_type": "code",
   "execution_count": 12,
   "id": "2cfb85c9",
   "metadata": {},
   "outputs": [],
   "source": [
    "# Getting API URI for a particular country\n",
    "url = \"https://restcountries.com/v3.1/name/Japan\""
   ]
  },
  {
   "cell_type": "code",
   "execution_count": 13,
   "id": "b0b5b577",
   "metadata": {},
   "outputs": [
    {
     "data": {
      "text/plain": [
       "200"
      ]
     },
     "execution_count": 13,
     "metadata": {},
     "output_type": "execute_result"
    }
   ],
   "source": [
    "r = requests.get(url)\n",
    "r.status_code"
   ]
  },
  {
   "cell_type": "code",
   "execution_count": 14,
   "id": "1b054f23",
   "metadata": {},
   "outputs": [
    {
     "data": {
      "text/plain": [
       "[{'name': {'common': 'Japan',\n",
       "   'official': 'Japan',\n",
       "   'nativeName': {'jpn': {'official': '日本', 'common': '日本'}}},\n",
       "  'tld': ['.jp', '.みんな'],\n",
       "  'cca2': 'JP',\n",
       "  'ccn3': '392',\n",
       "  'cca3': 'JPN',\n",
       "  'cioc': 'JPN',\n",
       "  'independent': True,\n",
       "  'status': 'officially-assigned',\n",
       "  'unMember': True,\n",
       "  'currencies': {'JPY': {'name': 'Japanese yen', 'symbol': '¥'}},\n",
       "  'idd': {'root': '+8', 'suffixes': ['1']},\n",
       "  'capital': ['Tokyo'],\n",
       "  'altSpellings': ['JP', 'Nippon', 'Nihon'],\n",
       "  'region': 'Asia',\n",
       "  'subregion': 'Eastern Asia',\n",
       "  'languages': {'jpn': 'Japanese'},\n",
       "  'translations': {'ara': {'official': 'اليابان', 'common': 'اليابان'},\n",
       "   'ces': {'official': 'Japonsko', 'common': 'Japonsko'},\n",
       "   'cym': {'official': 'Japan', 'common': 'Japan'},\n",
       "   'deu': {'official': 'Japan', 'common': 'Japan'},\n",
       "   'est': {'official': 'Jaapan', 'common': 'Jaapan'},\n",
       "   'fin': {'official': 'Japani', 'common': 'Japani'},\n",
       "   'fra': {'official': 'Japon', 'common': 'Japon'},\n",
       "   'hrv': {'official': 'Japan', 'common': 'Japan'},\n",
       "   'hun': {'official': 'Japán', 'common': 'Japán'},\n",
       "   'ita': {'official': 'Giappone', 'common': 'Giappone'},\n",
       "   'jpn': {'official': '日本', 'common': '日本'},\n",
       "   'kor': {'official': '일본국', 'common': '일본'},\n",
       "   'nld': {'official': 'Japan', 'common': 'Japan'},\n",
       "   'per': {'official': 'ژاپن', 'common': 'ژاپن'},\n",
       "   'pol': {'official': 'Japonia', 'common': 'Japonia'},\n",
       "   'por': {'official': 'Japão', 'common': 'Japão'},\n",
       "   'rus': {'official': 'Япония', 'common': 'Япония'},\n",
       "   'slk': {'official': 'Japonsko', 'common': 'Japonsko'},\n",
       "   'spa': {'official': 'Japón', 'common': 'Japón'},\n",
       "   'swe': {'official': 'Japan', 'common': 'Japan'},\n",
       "   'urd': {'official': 'جاپان', 'common': 'جاپان'},\n",
       "   'zho': {'official': '日本国', 'common': '日本'}},\n",
       "  'latlng': [36.0, 138.0],\n",
       "  'landlocked': False,\n",
       "  'area': 377930.0,\n",
       "  'demonyms': {'eng': {'f': 'Japanese', 'm': 'Japanese'},\n",
       "   'fra': {'f': 'Japonaise', 'm': 'Japonais'}},\n",
       "  'flag': '🇯🇵',\n",
       "  'maps': {'googleMaps': 'https://goo.gl/maps/NGTLSCSrA8bMrvnX9',\n",
       "   'openStreetMaps': 'https://www.openstreetmap.org/relation/382313'},\n",
       "  'population': 125836021,\n",
       "  'gini': {'2013': 32.9},\n",
       "  'fifa': 'JPN',\n",
       "  'car': {'signs': ['J'], 'side': 'left'},\n",
       "  'timezones': ['UTC+09:00'],\n",
       "  'continents': ['Asia'],\n",
       "  'flags': {'png': 'https://flagcdn.com/w320/jp.png',\n",
       "   'svg': 'https://flagcdn.com/jp.svg'},\n",
       "  'coatOfArms': {'png': 'https://mainfacts.com/media/images/coats_of_arms/jp.png',\n",
       "   'svg': 'https://mainfacts.com/media/images/coats_of_arms/jp.svg'},\n",
       "  'startOfWeek': 'monday',\n",
       "  'capitalInfo': {'latlng': [35.68, 139.75]},\n",
       "  'postalCode': {'format': '###-####', 'regex': '^(\\\\d{7})$'}}]"
      ]
     },
     "execution_count": 14,
     "metadata": {},
     "output_type": "execute_result"
    }
   ],
   "source": [
    "response = r.json()\n",
    "response # Note: the response is a list of dictionaries"
   ]
  },
  {
   "cell_type": "code",
   "execution_count": 17,
   "id": "83061da8",
   "metadata": {},
   "outputs": [
    {
     "data": {
      "text/plain": [
       "'Japanese yen'"
      ]
     },
     "execution_count": 17,
     "metadata": {},
     "output_type": "execute_result"
    }
   ],
   "source": [
    "response[0][\"currencies\"][\"JPY\"][\"name\"]"
   ]
  },
  {
   "cell_type": "code",
   "execution_count": 19,
   "id": "12f1d4ad",
   "metadata": {},
   "outputs": [
    {
     "data": {
      "text/plain": [
       "dict_keys(['name', 'tld', 'cca2', 'ccn3', 'cca3', 'cioc', 'independent', 'status', 'unMember', 'currencies', 'idd', 'capital', 'altSpellings', 'region', 'subregion', 'languages', 'translations', 'latlng', 'landlocked', 'area', 'demonyms', 'flag', 'maps', 'population', 'gini', 'fifa', 'car', 'timezones', 'continents', 'flags', 'coatOfArms', 'startOfWeek', 'capitalInfo', 'postalCode'])"
      ]
     },
     "execution_count": 19,
     "metadata": {},
     "output_type": "execute_result"
    }
   ],
   "source": [
    "response[0].keys()"
   ]
  },
  {
   "cell_type": "markdown",
   "id": "30a75bbf",
   "metadata": {},
   "source": [
    "### Concept Check  <a class=\"tocSkip\">\n",
    "\n",
    "1. Print out a list of all the capital cities in Europe that begin with the letter 'L'?\n",
    "2.  Print out a list of all the capital cities for countries that begin with the letter 'L'?"
   ]
  },
  {
   "cell_type": "code",
   "execution_count": 21,
   "id": "dd1b0345",
   "metadata": {},
   "outputs": [],
   "source": [
    "url = \"https://restcountries.com/v3.1/region/europe\""
   ]
  },
  {
   "cell_type": "code",
   "execution_count": 22,
   "id": "ff17407b",
   "metadata": {},
   "outputs": [
    {
     "data": {
      "text/plain": [
       "200"
      ]
     },
     "execution_count": 22,
     "metadata": {},
     "output_type": "execute_result"
    }
   ],
   "source": [
    "r = requests.get(url)\n",
    "r.status_code"
   ]
  },
  {
   "cell_type": "code",
   "execution_count": 38,
   "id": "5bc86f72",
   "metadata": {},
   "outputs": [
    {
     "data": {
      "text/plain": [
       "['Skopje']"
      ]
     },
     "execution_count": 38,
     "metadata": {},
     "output_type": "execute_result"
    }
   ],
   "source": [
    "response = r.json()\n",
    "response[1].get(\"capital\") # if key doesn't exist, .get() returs None instead of failing"
   ]
  },
  {
   "cell_type": "code",
   "execution_count": 41,
   "id": "f2f87802",
   "metadata": {},
   "outputs": [
    {
     "ename": "AttributeError",
     "evalue": "'list' object has no attribute 'startswith'",
     "output_type": "error",
     "traceback": [
      "\u001b[1;31m---------------------------------------------------------------------------\u001b[0m",
      "\u001b[1;31mAttributeError\u001b[0m                            Traceback (most recent call last)",
      "\u001b[1;32mc:\\Users\\WestonWhyde\\Kubrick Group\\DE28 - Python\\3-Web\\2.WebScraping\\1.requests.ipynb Cell 26'\u001b[0m in \u001b[0;36m<cell line: 1>\u001b[1;34m()\u001b[0m\n\u001b[0;32m      <a href='vscode-notebook-cell:/c%3A/Users/WestonWhyde/Kubrick%20Group/DE28%20-%20Python/3-Web/2.WebScraping/1.requests.ipynb#ch0000026?line=1'>2</a>\u001b[0m capital_city \u001b[39m=\u001b[39m country\u001b[39m.\u001b[39mget(\u001b[39m\"\u001b[39m\u001b[39mcapital\u001b[39m\u001b[39m\"\u001b[39m)\n\u001b[0;32m      <a href='vscode-notebook-cell:/c%3A/Users/WestonWhyde/Kubrick%20Group/DE28%20-%20Python/3-Web/2.WebScraping/1.requests.ipynb#ch0000026?line=2'>3</a>\u001b[0m name \u001b[39m=\u001b[39m country\u001b[39m.\u001b[39mget(\u001b[39m\"\u001b[39m\u001b[39mname\u001b[39m\u001b[39m\"\u001b[39m)\u001b[39m.\u001b[39mget(\u001b[39m\"\u001b[39m\u001b[39mcommon\u001b[39m\u001b[39m\"\u001b[39m)\n\u001b[1;32m----> <a href='vscode-notebook-cell:/c%3A/Users/WestonWhyde/Kubrick%20Group/DE28%20-%20Python/3-Web/2.WebScraping/1.requests.ipynb#ch0000026?line=3'>4</a>\u001b[0m \u001b[39mif\u001b[39;00m capital_city\u001b[39m.\u001b[39;49mstartswith(\u001b[39m\"\u001b[39m\u001b[39mL\u001b[39m\u001b[39m\"\u001b[39m):\n\u001b[0;32m      <a href='vscode-notebook-cell:/c%3A/Users/WestonWhyde/Kubrick%20Group/DE28%20-%20Python/3-Web/2.WebScraping/1.requests.ipynb#ch0000026?line=4'>5</a>\u001b[0m     \u001b[39mprint\u001b[39m(\u001b[39mf\u001b[39m\u001b[39m\"\u001b[39m\u001b[39m{\u001b[39;00mname\u001b[39m}\u001b[39;00m\u001b[39m: \u001b[39m\u001b[39m{\u001b[39;00mcapital_city\u001b[39m}\u001b[39;00m\u001b[39m\"\u001b[39m)\n",
      "\u001b[1;31mAttributeError\u001b[0m: 'list' object has no attribute 'startswith'"
     ]
    }
   ],
   "source": [
    "for country in response:\n",
    "    capital_city = country.get(\"capital\")\n",
    "    name = country.get(\"name\").get(\"common\")\n",
    "    if capital_city.startswith(\"L\"):\n",
    "        print(f\"{name}: {capital_city}\")"
   ]
  }
 ],
 "metadata": {
  "kernelspec": {
   "display_name": "Python 3.9.12 ('base')",
   "language": "python",
   "name": "python3"
  },
  "language_info": {
   "codemirror_mode": {
    "name": "ipython",
    "version": 3
   },
   "file_extension": ".py",
   "mimetype": "text/x-python",
   "name": "python",
   "nbconvert_exporter": "python",
   "pygments_lexer": "ipython3",
   "version": "3.9.12"
  },
  "toc": {
   "base_numbering": 1,
   "nav_menu": {},
   "number_sections": false,
   "sideBar": true,
   "skip_h1_title": false,
   "title_cell": "Table of Contents",
   "title_sidebar": "Contents",
   "toc_cell": true,
   "toc_position": {},
   "toc_section_display": true,
   "toc_window_display": false
  },
  "varInspector": {
   "cols": {
    "lenName": 16,
    "lenType": 16,
    "lenVar": 40
   },
   "kernels_config": {
    "python": {
     "delete_cmd_postfix": "",
     "delete_cmd_prefix": "del ",
     "library": "var_list.py",
     "varRefreshCmd": "print(var_dic_list())"
    },
    "r": {
     "delete_cmd_postfix": ") ",
     "delete_cmd_prefix": "rm(",
     "library": "var_list.r",
     "varRefreshCmd": "cat(var_dic_list()) "
    }
   },
   "types_to_exclude": [
    "module",
    "function",
    "builtin_function_or_method",
    "instance",
    "_Feature"
   ],
   "window_display": false
  },
  "vscode": {
   "interpreter": {
    "hash": "ce3e89a2b77a834c42a796c9d643cbd3bce4e1d86d7b6f43a0e438ca74bdb60a"
   }
  }
 },
 "nbformat": 4,
 "nbformat_minor": 5
}
