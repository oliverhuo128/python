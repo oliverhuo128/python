{
 "cells": [
  {
   "cell_type": "markdown",
   "id": "1fc77725",
   "metadata": {
    "toc": true
   },
   "source": [
    "<h1>Table of Contents<span class=\"tocSkip\"></span></h1>\n",
    "<div class=\"toc\"><ul class=\"toc-item\">\n",
    "<li><span><a href=\"#1.-Introduction-to-Web-Scraping\" data-toc-modified-id=\"1.-Introduction-to-Web-Scraping-1\">1. Introduction to Web Scraping</a></span><ul class=\"toc-item\">\n",
    "<li><span><a href=\"#1.1-Example:-Getting-information-about-the-International-Space-Station-(ISS)-from-http://api.open-notify.org\" data-toc-modified-id=\"1.2-Example:-Getting-information-about-the-International-Space-Station-(ISS)-from-http://api.open-notify.org-1.2\">1.2 Example: Getting information about the International Space Station (ISS) from <a href=\"http://api.open-notify.org\" target=\"_blank\">http://api.open-notify.org</a></a></span></li>\n",
    "<li><span><a href=\"#1.2-Example:-Getting-information-about-countries-using-Rest-Countries-API\" data-toc-modified-id=\"1.2-Example:-Getting-information-about-countries-using-Rest-Countries-API-1.3\">1.3 Example: Getting information about countries using Rest Countries API</a></span></li></ul>\n",
    "</li></ul></div>"
   ]
  },
  {
   "cell_type": "markdown",
   "id": "a5fd2746",
   "metadata": {},
   "source": [
    "---\n",
    "# 1. Introduction to Web Scraping\n",
    "---\n",
    "\n",
    "Web scraping is the process of extracting data from websites. It can be performed manually or automated using software to download and store the data in an accessible format. \n",
    "\n",
    "In this notebook, we will be exploring web data access in Python using the built-in **requests** package, which allows us to make HTTP requests."
   ]
  },
  {
   "cell_type": "markdown",
   "id": "6b00adc5",
   "metadata": {},
   "source": [
    "## 1.1 Example: Getting information about the International Space Station (ISS) from http://api.open-notify.org"
   ]
  },
  {
   "cell_type": "code",
   "execution_count": 1,
   "id": "a1b35c3f",
   "metadata": {},
   "outputs": [],
   "source": [
    "import requests"
   ]
  },
  {
   "cell_type": "code",
   "execution_count": 2,
   "id": "a86e51a3",
   "metadata": {},
   "outputs": [
    {
     "name": "stdout",
     "output_type": "stream",
     "text": [
      "200\n"
     ]
    }
   ],
   "source": [
    "# Example: Get info about the ISS\n",
    "url = \"http://api.open-notify.org/iss-now.json\"\n",
    "r = requests.get(url)\n",
    "print(r.status_code)"
   ]
  },
  {
   "cell_type": "code",
   "execution_count": 3,
   "id": "7d81021a",
   "metadata": {},
   "outputs": [
    {
     "data": {
      "text/plain": [
       "'{\"iss_position\": {\"longitude\": \"-120.5067\", \"latitude\": \"11.0557\"}, \"timestamp\": 1656576593, \"message\": \"success\"}'"
      ]
     },
     "execution_count": 3,
     "metadata": {},
     "output_type": "execute_result"
    }
   ],
   "source": [
    "r.text # the raw response"
   ]
  },
  {
   "cell_type": "markdown",
   "id": "8132ea8e",
   "metadata": {},
   "source": [
    "The response is in .json format, which looks similar to a Python dictionary. It can be converted into an actual Python dictionary using `.json()` method\n",
    "\n",
    "Note: Some websites may also return the response in formats other than json (e.g. html or xml)"
   ]
  },
  {
   "cell_type": "code",
   "execution_count": 4,
   "id": "062f6d13",
   "metadata": {},
   "outputs": [],
   "source": [
    "import json # deserilaise this response into python objects (nested lists and dictionaries)\n",
    "\n",
    "data = json.loads(r.text)\n",
    "data[\"timestamp\"]\n",
    "json.dump(data, open(\"data.json\", \"w\")) # This writes it to a file if we want to access it later"
   ]
  },
  {
   "cell_type": "code",
   "execution_count": 5,
   "id": "79bd5994",
   "metadata": {},
   "outputs": [
    {
     "data": {
      "text/plain": [
       "{'iss_position': {'longitude': '-120.5067', 'latitude': '11.0557'},\n",
       " 'timestamp': 1656576593,\n",
       " 'message': 'success'}"
      ]
     },
     "execution_count": 5,
     "metadata": {},
     "output_type": "execute_result"
    }
   ],
   "source": [
    "data = r.json()\n",
    "data"
   ]
  },
  {
   "cell_type": "code",
   "execution_count": 6,
   "id": "10549859",
   "metadata": {},
   "outputs": [
    {
     "data": {
      "text/plain": [
       "'11.0557'"
      ]
     },
     "execution_count": 6,
     "metadata": {},
     "output_type": "execute_result"
    }
   ],
   "source": [
    "data[\"iss_position\"][\"latitude\"]"
   ]
  },
  {
   "cell_type": "markdown",
   "id": "d7ab9254",
   "metadata": {},
   "source": [
    "Once converted into a dictionary, the response can be manipulated using standard indexing techniques"
   ]
  },
  {
   "cell_type": "code",
   "execution_count": 7,
   "id": "708eb2fe",
   "metadata": {},
   "outputs": [
    {
     "data": {
      "text/plain": [
       "datetime.datetime(2022, 6, 30, 9, 9, 53)"
      ]
     },
     "execution_count": 7,
     "metadata": {},
     "output_type": "execute_result"
    }
   ],
   "source": [
    "from datetime import datetime\n",
    "\n",
    "iss_now = datetime.fromtimestamp(data[\"timestamp\"])\n",
    "iss_now"
   ]
  },
  {
   "cell_type": "markdown",
   "id": "557df510",
   "metadata": {},
   "source": [
    "The timestamp is a sequence of numbers ([Unix time format](https://en.wikipedia.org/wiki/Unix_time)). We can convert this into a readable date using the built-in **datetime** package in Python"
   ]
  },
  {
   "cell_type": "markdown",
   "id": "82d2a718",
   "metadata": {},
   "source": [
    "### Concept Check <a class=\"tocSkip\">\n",
    "\n",
    "Print out a list of all people who are currently in space on the ISS. Use `http://api.open-notify.org/astros.json`\n",
    "\n"
   ]
  },
  {
   "cell_type": "code",
   "execution_count": 9,
   "id": "a0d4386d",
   "metadata": {},
   "outputs": [
    {
     "name": "stdout",
     "output_type": "stream",
     "text": [
      "GET request status code for http://api.open-notify.org/astros.json: 200\n",
      "Oleg Artemyev\n",
      "Denis Matveev\n",
      "Sergey Korsakov\n",
      "Kjell Lindgren\n",
      "Bob Hines\n",
      "Samantha Cristoforetti\n",
      "Jessica Watkins\n"
     ]
    }
   ],
   "source": [
    "api_endpoint = \"http://api.open-notify.org/astros.json\"\n",
    "r = requests.get(api_endpoint)\n",
    "print(f\"GET request status code for {api_endpoint}: {r.status_code}\")\n",
    "response = r.json()\n",
    "\n",
    "for person in response[\"people\"]:\n",
    "    if person[\"craft\"] == \"ISS\":\n",
    "        print(person[\"name\"])"
   ]
  },
  {
   "cell_type": "markdown",
   "id": "d589bc6d",
   "metadata": {},
   "source": [
    "## 1.2 Example: Getting information about countries using Rest Countries API\n",
    "Rest Countries API: <https://restcountries.com>"
   ]
  },
  {
   "cell_type": "code",
   "execution_count": 13,
   "id": "2cfb85c9",
   "metadata": {},
   "outputs": [],
   "source": [
    "# Getting API URI for a particular coutnry\n",
    "url = \"https://restcountries.com/v3.1/name/Japan\""
   ]
  },
  {
   "cell_type": "code",
   "execution_count": 14,
   "id": "b0b5b577",
   "metadata": {},
   "outputs": [
    {
     "data": {
      "text/plain": [
       "200"
      ]
     },
     "execution_count": 14,
     "metadata": {},
     "output_type": "execute_result"
    }
   ],
   "source": [
    "r = requests.get(url) # Get request\n",
    "r.status_code # Check status code"
   ]
  },
  {
   "cell_type": "code",
   "execution_count": 15,
   "id": "1b054f23",
   "metadata": {},
   "outputs": [
    {
     "data": {
      "text/plain": [
       "[{'name': {'common': 'Japan',\n",
       "   'official': 'Japan',\n",
       "   'nativeName': {'jpn': {'official': '日本', 'common': '日本'}}},\n",
       "  'tld': ['.jp', '.みんな'],\n",
       "  'cca2': 'JP',\n",
       "  'ccn3': '392',\n",
       "  'cca3': 'JPN',\n",
       "  'cioc': 'JPN',\n",
       "  'independent': True,\n",
       "  'status': 'officially-assigned',\n",
       "  'unMember': True,\n",
       "  'currencies': {'JPY': {'name': 'Japanese yen', 'symbol': '¥'}},\n",
       "  'idd': {'root': '+8', 'suffixes': ['1']},\n",
       "  'capital': ['Tokyo'],\n",
       "  'altSpellings': ['JP', 'Nippon', 'Nihon'],\n",
       "  'region': 'Asia',\n",
       "  'subregion': 'Eastern Asia',\n",
       "  'languages': {'jpn': 'Japanese'},\n",
       "  'translations': {'ara': {'official': 'اليابان', 'common': 'اليابان'},\n",
       "   'ces': {'official': 'Japonsko', 'common': 'Japonsko'},\n",
       "   'cym': {'official': 'Japan', 'common': 'Japan'},\n",
       "   'deu': {'official': 'Japan', 'common': 'Japan'},\n",
       "   'est': {'official': 'Jaapan', 'common': 'Jaapan'},\n",
       "   'fin': {'official': 'Japani', 'common': 'Japani'},\n",
       "   'fra': {'official': 'Japon', 'common': 'Japon'},\n",
       "   'hrv': {'official': 'Japan', 'common': 'Japan'},\n",
       "   'hun': {'official': 'Japán', 'common': 'Japán'},\n",
       "   'ita': {'official': 'Giappone', 'common': 'Giappone'},\n",
       "   'jpn': {'official': '日本', 'common': '日本'},\n",
       "   'kor': {'official': '일본국', 'common': '일본'},\n",
       "   'nld': {'official': 'Japan', 'common': 'Japan'},\n",
       "   'per': {'official': 'ژاپن', 'common': 'ژاپن'},\n",
       "   'pol': {'official': 'Japonia', 'common': 'Japonia'},\n",
       "   'por': {'official': 'Japão', 'common': 'Japão'},\n",
       "   'rus': {'official': 'Япония', 'common': 'Япония'},\n",
       "   'slk': {'official': 'Japonsko', 'common': 'Japonsko'},\n",
       "   'spa': {'official': 'Japón', 'common': 'Japón'},\n",
       "   'swe': {'official': 'Japan', 'common': 'Japan'},\n",
       "   'urd': {'official': 'جاپان', 'common': 'جاپان'},\n",
       "   'zho': {'official': '日本国', 'common': '日本'}},\n",
       "  'latlng': [36.0, 138.0],\n",
       "  'landlocked': False,\n",
       "  'area': 377930.0,\n",
       "  'demonyms': {'eng': {'f': 'Japanese', 'm': 'Japanese'},\n",
       "   'fra': {'f': 'Japonaise', 'm': 'Japonais'}},\n",
       "  'flag': '🇯🇵',\n",
       "  'maps': {'googleMaps': 'https://goo.gl/maps/NGTLSCSrA8bMrvnX9',\n",
       "   'openStreetMaps': 'https://www.openstreetmap.org/relation/382313'},\n",
       "  'population': 125836021,\n",
       "  'gini': {'2013': 32.9},\n",
       "  'fifa': 'JPN',\n",
       "  'car': {'signs': ['J'], 'side': 'left'},\n",
       "  'timezones': ['UTC+09:00'],\n",
       "  'continents': ['Asia'],\n",
       "  'flags': {'png': 'https://flagcdn.com/w320/jp.png',\n",
       "   'svg': 'https://flagcdn.com/jp.svg'},\n",
       "  'coatOfArms': {'png': 'https://mainfacts.com/media/images/coats_of_arms/jp.png',\n",
       "   'svg': 'https://mainfacts.com/media/images/coats_of_arms/jp.svg'},\n",
       "  'startOfWeek': 'monday',\n",
       "  'capitalInfo': {'latlng': [35.68, 139.75]},\n",
       "  'postalCode': {'format': '###-####', 'regex': '^(\\\\d{7})$'}}]"
      ]
     },
     "execution_count": 15,
     "metadata": {},
     "output_type": "execute_result"
    }
   ],
   "source": [
    "response = r.json()\n",
    "response # Note: The response is a list of dictionaries"
   ]
  },
  {
   "cell_type": "code",
   "execution_count": 18,
   "id": "5176f703",
   "metadata": {},
   "outputs": [
    {
     "data": {
      "text/plain": [
       "dict_keys(['name', 'tld', 'cca2', 'ccn3', 'cca3', 'cioc', 'independent', 'status', 'unMember', 'currencies', 'idd', 'capital', 'altSpellings', 'region', 'subregion', 'languages', 'translations', 'latlng', 'landlocked', 'area', 'demonyms', 'flag', 'maps', 'population', 'gini', 'fifa', 'car', 'timezones', 'continents', 'flags', 'coatOfArms', 'startOfWeek', 'capitalInfo', 'postalCode'])"
      ]
     },
     "execution_count": 18,
     "metadata": {},
     "output_type": "execute_result"
    }
   ],
   "source": [
    "response[0].keys()"
   ]
  },
  {
   "cell_type": "code",
   "execution_count": 17,
   "id": "92f000ef",
   "metadata": {},
   "outputs": [
    {
     "data": {
      "text/plain": [
       "'Japanese yen'"
      ]
     },
     "execution_count": 17,
     "metadata": {},
     "output_type": "execute_result"
    }
   ],
   "source": [
    "response[0][\"currencies\"][\"JPY\"][\"name\"]"
   ]
  },
  {
   "cell_type": "markdown",
   "id": "30a75bbf",
   "metadata": {},
   "source": [
    "### Concept Check  <a class=\"tocSkip\">\n",
    "\n",
    "1. Print out a list of all the capital cities in Europe that begin with the letter 'L'?\n",
    "2.  Print out a list of all the capital cities for countries that begin with the letter 'L'?"
   ]
  },
  {
   "cell_type": "code",
   "execution_count": 20,
   "id": "0e2f6488",
   "metadata": {},
   "outputs": [
    {
     "name": "stdout",
     "output_type": "stream",
     "text": [
      "GET request status code for https://restcountries.com/v3.1/region/europe: 200\n"
     ]
    }
   ],
   "source": [
    "europe_endpoint = \"https://restcountries.com/v3.1/region/europe\"\n",
    "r = requests.get(europe_endpoint)\n",
    "print(f\"GET request status code for {europe_endpoint}: {r.status_code}\")\n",
    "response = r.json() # convert to dictionary"
   ]
  },
  {
   "cell_type": "code",
   "execution_count": 25,
   "id": "dd1b0345",
   "metadata": {},
   "outputs": [
    {
     "data": {
      "text/plain": [
       "dict_keys(['name', 'tld', 'cca2', 'ccn3', 'cca3', 'cioc', 'independent', 'status', 'unMember', 'currencies', 'idd', 'capital', 'altSpellings', 'region', 'subregion', 'languages', 'translations', 'latlng', 'landlocked', 'borders', 'area', 'demonyms', 'flag', 'maps', 'population', 'gini', 'fifa', 'car', 'timezones', 'continents', 'flags', 'coatOfArms', 'startOfWeek', 'capitalInfo', 'postalCode'])"
      ]
     },
     "execution_count": 25,
     "metadata": {},
     "output_type": "execute_result"
    }
   ],
   "source": [
    "# Object is a list of dictionaries, one for each country\n",
    "response[2].keys() # Check out keys for each country"
   ]
  },
  {
   "cell_type": "code",
   "execution_count": 32,
   "id": "ff17407b",
   "metadata": {},
   "outputs": [
    {
     "data": {
      "text/plain": [
       "{'common': 'Cyprus',\n",
       " 'official': 'Republic of Cyprus',\n",
       " 'nativeName': {'ell': {'official': 'Δημοκρατία της Κύπρος',\n",
       "   'common': 'Κύπρος'},\n",
       "  'tur': {'official': 'Kıbrıs Cumhuriyeti', 'common': 'Kıbrıs'}}}"
      ]
     },
     "execution_count": 32,
     "metadata": {},
     "output_type": "execute_result"
    }
   ],
   "source": [
    "response[0].get(\"name\") # if key doesn't exist, .get returns none instead of failing\n",
    "# A dictionary of names"
   ]
  },
  {
   "cell_type": "code",
   "execution_count": 33,
   "id": "5bc86f72",
   "metadata": {},
   "outputs": [
    {
     "data": {
      "text/plain": [
       "['Nicosia']"
      ]
     },
     "execution_count": 33,
     "metadata": {},
     "output_type": "execute_result"
    }
   ],
   "source": [
    "response[0].get(\"capital\") # Returns a list of a name"
   ]
  },
  {
   "cell_type": "code",
   "execution_count": 35,
   "id": "f2f87802",
   "metadata": {},
   "outputs": [
    {
     "name": "stdout",
     "output_type": "stream",
     "text": [
      "Portugal: Lisbon\n",
      "United Kingdom: London\n",
      "Luxembourg: Luxembourg\n",
      "Svalbard and Jan Mayen: Longyearbyen\n",
      "Slovenia: Ljubljana\n"
     ]
    }
   ],
   "source": [
    "for country in response:\n",
    "    capital_city = country.get(\"capital\")[0]\n",
    "    name = country.get(\"name\").get(\"common\")\n",
    "    if capital_city.startswith(\"L\"):\n",
    "        print(f\"{name}: {capital_city}\")"
   ]
  }
 ],
 "metadata": {
  "kernelspec": {
   "display_name": "Python 3.9.7 ('base')",
   "language": "python",
   "name": "python3"
  },
  "language_info": {
   "codemirror_mode": {
    "name": "ipython",
    "version": 3
   },
   "file_extension": ".py",
   "mimetype": "text/x-python",
   "name": "python",
   "nbconvert_exporter": "python",
   "pygments_lexer": "ipython3",
   "version": "3.9.7"
  },
  "toc": {
   "base_numbering": 1,
   "nav_menu": {},
   "number_sections": false,
   "sideBar": true,
   "skip_h1_title": false,
   "title_cell": "Table of Contents",
   "title_sidebar": "Contents",
   "toc_cell": true,
   "toc_position": {},
   "toc_section_display": true,
   "toc_window_display": false
  },
  "varInspector": {
   "cols": {
    "lenName": 16,
    "lenType": 16,
    "lenVar": 40
   },
   "kernels_config": {
    "python": {
     "delete_cmd_postfix": "",
     "delete_cmd_prefix": "del ",
     "library": "var_list.py",
     "varRefreshCmd": "print(var_dic_list())"
    },
    "r": {
     "delete_cmd_postfix": ") ",
     "delete_cmd_prefix": "rm(",
     "library": "var_list.r",
     "varRefreshCmd": "cat(var_dic_list()) "
    }
   },
   "types_to_exclude": [
    "module",
    "function",
    "builtin_function_or_method",
    "instance",
    "_Feature"
   ],
   "window_display": false
  },
  "vscode": {
   "interpreter": {
    "hash": "54b57a9d7255aa9bd89013014712be1af3e9c0518087b34529522b12b0bc87de"
   }
  }
 },
 "nbformat": 4,
 "nbformat_minor": 5
}
