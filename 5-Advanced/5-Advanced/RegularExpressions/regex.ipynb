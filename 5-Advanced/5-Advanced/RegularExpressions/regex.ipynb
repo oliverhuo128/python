{
 "cells": [
  {
   "cell_type": "code",
   "execution_count": null,
   "metadata": {},
   "outputs": [],
   "source": [
    "# Import the regex module in Python\n",
    "import re"
   ]
  },
  {
   "cell_type": "code",
   "execution_count": null,
   "metadata": {},
   "outputs": [],
   "source": [
    "pattern = re.compile(r'gr[a|e]y')"
   ]
  },
  {
   "cell_type": "code",
   "execution_count": null,
   "metadata": {},
   "outputs": [],
   "source": [
    "pattern"
   ]
  },
  {
   "cell_type": "code",
   "execution_count": null,
   "metadata": {},
   "outputs": [],
   "source": [
    "my_str = '''Gray and grey are both valid spellings for the intermediate colour between Black and White. \n",
    "While gray is widely used in the US, grey is more common in the UK.'''"
   ]
  },
  {
   "cell_type": "code",
   "execution_count": null,
   "metadata": {},
   "outputs": [],
   "source": [
    "print(my_str)"
   ]
  },
  {
   "cell_type": "markdown",
   "metadata": {},
   "source": [
    "Using `pattern.findall()`"
   ]
  },
  {
   "cell_type": "code",
   "execution_count": null,
   "metadata": {},
   "outputs": [],
   "source": [
    "matches = pattern.findall(my_str)\n",
    "print(matches)"
   ]
  },
  {
   "cell_type": "markdown",
   "metadata": {},
   "source": [
    "Using `pattern.finditer()`"
   ]
  },
  {
   "cell_type": "code",
   "execution_count": null,
   "metadata": {},
   "outputs": [],
   "source": [
    "my_str2 = 'The racing greyhound dogs, however, are usually spelt with grey rather than gray.'\n",
    "print(my_str2)"
   ]
  },
  {
   "cell_type": "code",
   "execution_count": null,
   "metadata": {},
   "outputs": [],
   "source": [
    "matches = pattern.finditer(my_str2)"
   ]
  },
  {
   "cell_type": "code",
   "execution_count": null,
   "metadata": {},
   "outputs": [],
   "source": [
    "type(matches)"
   ]
  },
  {
   "cell_type": "code",
   "execution_count": null,
   "metadata": {},
   "outputs": [],
   "source": [
    "for i in matches:\n",
    "    print(i)\n",
    "    print(i.start())\n",
    "    print(i.end())"
   ]
  },
  {
   "cell_type": "markdown",
   "metadata": {},
   "source": [
    "Using `pattern.search()`"
   ]
  },
  {
   "cell_type": "code",
   "execution_count": null,
   "metadata": {},
   "outputs": [],
   "source": [
    "match = pattern.search(my_str)\n",
    "print(match)"
   ]
  },
  {
   "cell_type": "markdown",
   "metadata": {},
   "source": [
    "### UK Postcode example"
   ]
  },
  {
   "cell_type": "code",
   "execution_count": null,
   "metadata": {},
   "outputs": [],
   "source": [
    "pattern = re.compile(r'^[A-Za-z]{1,2}[0-9][A-Za-z0-9]? ?[0-9][A-Za-z]{2}$')"
   ]
  },
  {
   "cell_type": "code",
   "execution_count": null,
   "metadata": {},
   "outputs": [],
   "source": [
    "postcode = input('Enter a postcode: ')\n",
    "match = pattern.search(postcode)\n",
    "\n",
    "if not match:\n",
    "    print('Not a valid postcode format!')\n",
    "else:\n",
    "    print('Valid postcode format!')"
   ]
  },
  {
   "cell_type": "markdown",
   "metadata": {},
   "source": [
    "### Concept Check: UK Number plate validation\n",
    "\n",
    "The current UK number plate format consists of:\n",
    "\n",
    "- Two letters (area code)\n",
    "- Two numbers (age identifier)\n",
    "- A mandatory space\n",
    "- Three letters (random sequence)\n",
    "\n",
    "For example, `BD51 SMR` is a valid UK number plate.\n",
    "\n",
    "Construct a regex pattern to validate the format of a given UK number plate.\n",
    "\n",
    "**Challenge:** Incorporate the following additional rules for validating the number plate.\n",
    "\n",
    "1) The letters I, Q and Z are not used in the area code (first two letters)\n",
    "2) The letters I and Q are not used in the random sequence (last three letters)"
   ]
  },
  {
   "cell_type": "code",
   "execution_count": null,
   "metadata": {},
   "outputs": [],
   "source": [
    "# Gilson's solution\n",
    "pattern = re.compile(r'^[A-HJ-PR-Ya-hj-pr-y]{2}[0-9]{2} [A-HJ-PR-Za-hj-pr-z]{3}$')\n",
    "car_plate = input('Enter Car Plate')\n",
    "match = pattern.search(car_plate)\n",
    "if not match:\n",
    "    print('Not a valid plate format')\n",
    "else:\n",
    "    print('Valid plate format')"
   ]
  },
  {
   "cell_type": "code",
   "execution_count": null,
   "metadata": {},
   "outputs": [],
   "source": [
    "# Jacob's solution\n",
    "numberplate = input(\"enter a number plate\")\n",
    "\n",
    "pattern = re.compile(r'[A-HJ-PR-Y]{2}[0-9][0-9] [A-HJ-PR-Z]{3}$')\n",
    "\n",
    "match=pattern.search(numberplate)\n",
    "\n",
    "if not match:\n",
    "    print(f\"{numberplate} is not a valid number plate\")\n",
    "\n",
    "else:\n",
    "    print(f\"{numberplate} is a valid number plate\")"
   ]
  },
  {
   "cell_type": "code",
   "execution_count": null,
   "metadata": {},
   "outputs": [],
   "source": []
  }
 ],
 "metadata": {
  "interpreter": {
   "hash": "e055f10a1cbe1d0cbba51f404348e190ab73be374e6176cbbfab8f6ff89a0609"
  },
  "kernelspec": {
   "display_name": "Python 3.8.12 ('base')",
   "language": "python",
   "name": "python3"
  },
  "language_info": {
   "codemirror_mode": {
    "name": "ipython",
    "version": 3
   },
   "file_extension": ".py",
   "mimetype": "text/x-python",
   "name": "python",
   "nbconvert_exporter": "python",
   "pygments_lexer": "ipython3",
   "version": "3.8.12"
  },
  "orig_nbformat": 4
 },
 "nbformat": 4,
 "nbformat_minor": 2
}
