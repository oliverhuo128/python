{
 "cells": [
  {
   "cell_type": "code",
   "execution_count": null,
   "metadata": {},
   "outputs": [],
   "source": [
    "class Car:\n",
    "    def __init__(self, make, model, year, fuel):\n",
    "        # the __init__ method is run everytime we create a new instance\n",
    "        # the following are the instance attributes\n",
    "        # self is an implicit argument that takes the instance name when you run the method or create the instance\n",
    "        self.make = make\n",
    "        self.model = model\n",
    "        self.age = year\n",
    "        self.fuel = fuel\n",
    "    \n",
    "    # this is an instance method\n",
    "    def description(self, colour):\n",
    "        return f'The car is a {colour} {self.make} {self.model} from {self.age}'\n",
    "\n",
    "    # this is another instance method\n",
    "    def is_electric(self):\n",
    "        if self.fuel == 'Battery':\n",
    "            return 'Yay, it is an electric car!'\n",
    "        else:\n",
    "            return 'Boo, it is not an electric car!'\n",
    "\n",
    "    # this is yet another instance method\n",
    "    def require_mot(self):\n",
    "        if self.age < 2019:\n",
    "            return 'MOT is required!'\n",
    "        else:\n",
    "            return 'MOT is not required!'"
   ]
  },
  {
   "cell_type": "code",
   "execution_count": null,
   "metadata": {},
   "outputs": [],
   "source": [
    "olivers_car = Car('Peugeot','207',2006, 'petrol')"
   ]
  },
  {
   "cell_type": "code",
   "execution_count": null,
   "metadata": {},
   "outputs": [],
   "source": [
    "olivers_car.make"
   ]
  },
  {
   "cell_type": "code",
   "execution_count": null,
   "metadata": {},
   "outputs": [],
   "source": [
    "olivers_car.age"
   ]
  },
  {
   "cell_type": "code",
   "execution_count": null,
   "metadata": {},
   "outputs": [],
   "source": [
    "lucas_car = Car('McLaren','P1',2015,'petrol')"
   ]
  },
  {
   "cell_type": "code",
   "execution_count": null,
   "metadata": {},
   "outputs": [],
   "source": [
    "lucas_car.age"
   ]
  },
  {
   "cell_type": "code",
   "execution_count": null,
   "metadata": {},
   "outputs": [],
   "source": [
    "rams_car = Car('Peugeot','e208',2022,'Battery')"
   ]
  },
  {
   "cell_type": "code",
   "execution_count": null,
   "metadata": {},
   "outputs": [],
   "source": [
    "rams_car.is_electric()"
   ]
  },
  {
   "cell_type": "code",
   "execution_count": null,
   "metadata": {},
   "outputs": [],
   "source": [
    "lucas_car.require_mot()"
   ]
  },
  {
   "cell_type": "markdown",
   "metadata": {},
   "source": [
    "## Inheritance\n",
    "Inheritance allows us to create classes that specialise or modify the behaviour of an existing class. \n",
    "\n",
    "The existing class you inherit from : **Parent Class**/**Base Class**/**Super Class**  \n",
    "The new class that inherits from the parent class: **Child Class**/**Sub Class**"
   ]
  },
  {
   "cell_type": "code",
   "execution_count": null,
   "metadata": {},
   "outputs": [],
   "source": [
    "class DataConsultant:\n",
    "    def __init__(self, first, last):\n",
    "        # instance attributes\n",
    "        self.fname = first\n",
    "        self.lname = last\n",
    "        self.email = self.fname.lower() + self.lname.lower() + '@kubrickgroup.com'\n",
    "\n",
    "    # instance method\n",
    "    def learn_python(self):\n",
    "        return f'{self.fname} is learning Python...'"
   ]
  },
  {
   "cell_type": "code",
   "execution_count": null,
   "metadata": {},
   "outputs": [],
   "source": [
    "conlan = DataConsultant('Conlan','Doherty')"
   ]
  },
  {
   "cell_type": "code",
   "execution_count": null,
   "metadata": {},
   "outputs": [],
   "source": [
    "conlan.email"
   ]
  },
  {
   "cell_type": "code",
   "execution_count": null,
   "metadata": {},
   "outputs": [],
   "source": [
    "conlan.learn_python()"
   ]
  },
  {
   "cell_type": "code",
   "execution_count": null,
   "metadata": {},
   "outputs": [],
   "source": [
    "class DPConsultant(DataConsultant):\n",
    "    def __init__(self, cohort, last_name, first_name):\n",
    "        super().__init__(first_name, last_name)\n",
    "        self.practice = 'Data Product Consultant'\n",
    "        self.cohort = cohort\n",
    "\n",
    "    # instance method\n",
    "    def agile_working(self):\n",
    "        return f'{self.fname} is learning agile working...'\n",
    "\n",
    "    def learn_python(self):\n",
    "        return f'Learning Python according to DP curriculum...'"
   ]
  },
  {
   "cell_type": "code",
   "execution_count": null,
   "metadata": {},
   "outputs": [],
   "source": [
    "luca = DPConsultant('DP07','Scanio','Luca')"
   ]
  },
  {
   "cell_type": "markdown",
   "metadata": {},
   "source": [
    "The child class inherits attributes and methods from the parent class"
   ]
  },
  {
   "cell_type": "code",
   "execution_count": null,
   "metadata": {},
   "outputs": [],
   "source": [
    "luca.email"
   ]
  },
  {
   "cell_type": "code",
   "execution_count": null,
   "metadata": {},
   "outputs": [],
   "source": [
    "luca.learn_python()"
   ]
  },
  {
   "cell_type": "markdown",
   "metadata": {},
   "source": [
    "The parent class does not inherit back attributes and methods that are specific to the child class"
   ]
  },
  {
   "cell_type": "code",
   "execution_count": null,
   "metadata": {},
   "outputs": [],
   "source": [
    "conlan.cohort"
   ]
  },
  {
   "cell_type": "markdown",
   "metadata": {},
   "source": [
    "### Multiple inheritance\n",
    "A class can inherit from multiple parents"
   ]
  },
  {
   "cell_type": "code",
   "execution_count": null,
   "metadata": {},
   "outputs": [],
   "source": [
    "class KubrickEmployee:\n",
    "    def __init__(self,employee_number,is_hq=True):\n",
    "        self.en = employee_number\n",
    "        self.is_hq = is_hq\n",
    "\n",
    "    def print_is_hq(self):\n",
    "        if self.is_hq:\n",
    "            print('HQ employee!')\n",
    "        else:\n",
    "            print('Not a HQ employee!')"
   ]
  },
  {
   "cell_type": "code",
   "execution_count": null,
   "metadata": {},
   "outputs": [],
   "source": [
    "class MLEConsultant(KubrickEmployee, DataConsultant):\n",
    "    def __init__(self, fname, lname, employee_number):\n",
    "        KubrickEmployee.__init__(self, employee_number, is_hq=False)\n",
    "        DataConsultant.__init__(self, fname, lname)\n",
    "\n",
    "    def learn_ML(self):\n",
    "        return f'{self.first} is learning ML'"
   ]
  },
  {
   "cell_type": "code",
   "execution_count": null,
   "metadata": {},
   "outputs": [],
   "source": [
    "ethan = MLEConsultant('Ethan','Cheung',123)"
   ]
  },
  {
   "cell_type": "code",
   "execution_count": null,
   "metadata": {},
   "outputs": [],
   "source": [
    "ethan.email"
   ]
  },
  {
   "cell_type": "code",
   "execution_count": null,
   "metadata": {},
   "outputs": [],
   "source": [
    "ethan.en"
   ]
  },
  {
   "cell_type": "code",
   "execution_count": null,
   "metadata": {},
   "outputs": [],
   "source": [
    "ethan.learn_python()"
   ]
  },
  {
   "cell_type": "code",
   "execution_count": null,
   "metadata": {},
   "outputs": [],
   "source": [
    "ethan.print_is_hq()"
   ]
  },
  {
   "cell_type": "code",
   "execution_count": null,
   "metadata": {},
   "outputs": [],
   "source": [
    "type(ethan)"
   ]
  },
  {
   "cell_type": "code",
   "execution_count": null,
   "metadata": {},
   "outputs": [],
   "source": [
    "dir(ethan)"
   ]
  },
  {
   "cell_type": "code",
   "execution_count": null,
   "metadata": {},
   "outputs": [],
   "source": [
    "dir(my_list)"
   ]
  }
 ],
 "metadata": {
  "interpreter": {
   "hash": "e055f10a1cbe1d0cbba51f404348e190ab73be374e6176cbbfab8f6ff89a0609"
  },
  "kernelspec": {
   "display_name": "Python 3.8.12 ('base')",
   "language": "python",
   "name": "python3"
  },
  "language_info": {
   "codemirror_mode": {
    "name": "ipython",
    "version": 3
   },
   "file_extension": ".py",
   "mimetype": "text/x-python",
   "name": "python",
   "nbconvert_exporter": "python",
   "pygments_lexer": "ipython3",
   "version": "3.8.12"
  },
  "orig_nbformat": 4
 },
 "nbformat": 4,
 "nbformat_minor": 2
}
