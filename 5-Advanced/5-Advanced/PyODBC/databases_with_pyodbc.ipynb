{
 "cells": [
  {
   "cell_type": "markdown",
   "metadata": {
    "toc": true
   },
   "source": [
    "<h1>Table of Contents<span class=\"tocSkip\"></span></h1>\n",
    "<div class=\"toc\"><ul class=\"toc-item\"><li><span><a href=\"#Python---PyODBC\" data-toc-modified-id=\"Python---PyODBC-1\"><span class=\"toc-item-num\">1&nbsp;&nbsp;</span>Python - PyODBC</a></span><ul class=\"toc-item\"><li><span><a href=\"#Installation-and-Imports\" data-toc-modified-id=\"Installation-and-Imports-1.1\"><span class=\"toc-item-num\">1.1&nbsp;&nbsp;</span>Installation and Imports</a></span></li><li><span><a href=\"#Example:-Use-pyodbc-to-create,-write-and-read-from-a-sqlite-database-file\" data-toc-modified-id=\"Example:-Use-pyodbc-to-create,-write-and-read-from-a-sqlite-database-file-1.2\"><span class=\"toc-item-num\">1.2&nbsp;&nbsp;</span>Example: Use pyodbc to create, write and read from a sqlite database file</a></span><ul class=\"toc-item\"><li><span><a href=\"#Establish-a-pyodbc-connection\" data-toc-modified-id=\"Establish-a-pyodbc-connection-1.2.1\"><span class=\"toc-item-num\">1.2.1&nbsp;&nbsp;</span>Establish a pyodbc connection</a></span></li><li><span><a href=\"#Interact-with-the-database-with-SQL-queries\" data-toc-modified-id=\"Interact-with-the-database-with-SQL-queries-1.2.2\"><span class=\"toc-item-num\">1.2.2&nbsp;&nbsp;</span>Interact with the database with SQL queries</a></span><ul class=\"toc-item\"><li><span><a href=\"#Create-a-table-to-store-some-data\" data-toc-modified-id=\"Create-a-table-to-store-some-data-1.2.2.1\"><span class=\"toc-item-num\">1.2.2.1&nbsp;&nbsp;</span>Create a table to store some data</a></span></li><li><span><a href=\"#Insert-data-into-this-table\" data-toc-modified-id=\"Insert-data-into-this-table-1.2.2.2\"><span class=\"toc-item-num\">1.2.2.2&nbsp;&nbsp;</span>Insert data into this table</a></span></li><li><span><a href=\"#Connect-to-this-database-again-and-fetch-the-phone-column-from-the-table\" data-toc-modified-id=\"Connect-to-this-database-again-and-fetch-the-phone-column-from-the-table-1.2.2.3\"><span class=\"toc-item-num\">1.2.2.3&nbsp;&nbsp;</span>Connect to this database again and fetch the phone column from the table</a></span></li><li><span><a href=\"#Connect-to-this-database-and-fetch-all-the-rows-one-at-a-time\" data-toc-modified-id=\"Connect-to-this-database-and-fetch-all-the-rows-one-at-a-time-1.2.2.4\"><span class=\"toc-item-num\">1.2.2.4&nbsp;&nbsp;</span>Connect to this database and fetch all the rows one at a time</a></span></li></ul></li></ul></li></ul></li></ul></div>"
   ]
  },
  {
   "cell_type": "markdown",
   "metadata": {},
   "source": [
    "---\n",
    "# Python - PyODBC\n",
    "---\n",
    "PyODBC is an open-source Python library for accessing database systems. ODBC stands for Open Database Connectivity and it provides a standard interface to connect between databases and other applications (e.g. a Python program). \n",
    "\n",
    "In this notebook, we will use PyODBC to interface with a simple SQLite database. PyODBC can also be used to interface with other databases. For example, \n",
    "- an MS Excel or MS Access file\n",
    "- a local MSSQL server\n",
    "- a remote SQL server on an AWS instance\n",
    "\n",
    "PyODBC works in the following manner:\n",
    "1) Establish a connection (typically with authentication) to the database server using `pyodbc.connect`  \n",
    "2) Create a cursor object to interact with the database  \n",
    "3) Execute queries using this cursor object  \n",
    "4) Fetch or commit the results based on the queries\n",
    "5) Close the connection"
   ]
  },
  {
   "cell_type": "markdown",
   "metadata": {},
   "source": [
    "## Installation and Imports\n",
    "PyODBC can be installed using pip or conda as follows:  \n",
    "`pip install pyodbc` or `conda install pyodbc`"
   ]
  },
  {
   "cell_type": "code",
   "execution_count": 1,
   "metadata": {},
   "outputs": [],
   "source": [
    "# Import\n",
    "import pyodbc"
   ]
  },
  {
   "cell_type": "code",
   "execution_count": 2,
   "metadata": {},
   "outputs": [
    {
     "data": {
      "text/plain": [
       "['SQL Server',\n",
       " 'SQL Server Native Client 11.0',\n",
       " 'ODBC Driver 17 for SQL Server',\n",
       " 'SQL Server Native Client RDA 11.0',\n",
       " 'SQLite3 ODBC Driver',\n",
       " 'SQLite ODBC Driver',\n",
       " 'SQLite ODBC (UTF-8) Driver',\n",
       " 'Microsoft Access Driver (*.mdb, *.accdb)',\n",
       " 'Microsoft Excel Driver (*.xls, *.xlsx, *.xlsm, *.xlsb)',\n",
       " 'Microsoft Access Text Driver (*.txt, *.csv)']"
      ]
     },
     "execution_count": 2,
     "metadata": {},
     "output_type": "execute_result"
    }
   ],
   "source": [
    "# List the drivers installed and available for use with pyodbc\n",
    "pyodbc.drivers()"
   ]
  },
  {
   "cell_type": "markdown",
   "metadata": {},
   "source": [
    "If SQLite3/SQLite ODBC Drivers are not listed, they can be installed from <http://www.ch-werner.de/sqliteodbc/> (sqliteodbc_w64.exe). \n",
    "\n",
    "Note: Python provides a default SQLite interface using the built-in sqlite3 library. Here, we are connecting using pyodbc's sqlite drivers to illustrate the use of pyodbc to interface with different database management systems. "
   ]
  },
  {
   "cell_type": "markdown",
   "metadata": {},
   "source": [
    "## Example: Use pyodbc to create, write and read from a sqlite database file\n",
    "In this example, we create a database file `addressbook.db` and write a simple table into this database and query from this table. "
   ]
  },
  {
   "cell_type": "markdown",
   "metadata": {},
   "source": [
    "### Establish a pyodbc connection \n",
    "We use the appropriate driver (in this example, \"SQLite3 ODBC Driver\") to establish the connection."
   ]
  },
  {
   "cell_type": "code",
   "execution_count": 3,
   "metadata": {},
   "outputs": [],
   "source": [
    "conn = pyodbc.connect(r'DRIVER=SQLite3 ODBC Driver;'\n",
    "                      r'DATABASE=addressbook.db')"
   ]
  },
  {
   "cell_type": "markdown",
   "metadata": {},
   "source": [
    "Note: For connecting to other database systems, you may have to include additional parameters such as:\n",
    "- `SERVER` (could be either localhost or a remote cloud instance)  \n",
    "- `PORT` (the server port to connect to)\n",
    "- `UID` (Username to login)\n",
    "- `PWD` (Password for authentication)\n",
    "\n",
    "For more information on how to connect to different databases, see <https://github.com/mkleehammer/pyodbc/wiki>"
   ]
  },
  {
   "cell_type": "code",
   "execution_count": 4,
   "metadata": {},
   "outputs": [],
   "source": [
    "# Create a cursor object\n",
    "cursor = conn.cursor()"
   ]
  },
  {
   "cell_type": "markdown",
   "metadata": {},
   "source": [
    "### Interact with the database with SQL queries "
   ]
  },
  {
   "cell_type": "markdown",
   "metadata": {},
   "source": [
    "#### Create a table to store some data"
   ]
  },
  {
   "cell_type": "code",
   "execution_count": 5,
   "metadata": {},
   "outputs": [],
   "source": [
    "# First, the SQL query is constructed as a Python string\n",
    "query = '''\n",
    "create table addressbook (\n",
    "    first_name varchar(20),\n",
    "    last_name varchar(20),\n",
    "    city varchar(20),\n",
    "    phone varchar(15)\n",
    ")\n",
    "'''"
   ]
  },
  {
   "cell_type": "code",
   "execution_count": 6,
   "metadata": {},
   "outputs": [
    {
     "data": {
      "text/plain": [
       "<pyodbc.Cursor at 0x2a227b02cb0>"
      ]
     },
     "execution_count": 6,
     "metadata": {},
     "output_type": "execute_result"
    }
   ],
   "source": [
    "# Call the cursor.execute() method to perform the SQL query\n",
    "cursor.execute(query)"
   ]
  },
  {
   "cell_type": "markdown",
   "metadata": {},
   "source": [
    "#### Insert data into this table\n",
    "In order to use values from Python variables (dynamic parameters in a query), we can use question marks as placeholders (qmark style). This is probably the easiest/cleanest way to execute queries. Using Python's string operations directly to construct a query is insecure and can be susceptible to SQL injection attacks.  "
   ]
  },
  {
   "cell_type": "markdown",
   "metadata": {},
   "source": [
    "Inserting one row into the table using `cursor.execute()` in qmark style"
   ]
  },
  {
   "cell_type": "code",
   "execution_count": 7,
   "metadata": {},
   "outputs": [],
   "source": [
    "# Data to be inserted\n",
    "jsmith_address = ('John','Smith','London','+442012345678')\n",
    "\n",
    "# Execute the query and commit the changes\n",
    "cursor.execute(\"insert into addressbook values (?,?,?,?)\",jsmith_address)\n",
    "cursor.commit()"
   ]
  },
  {
   "cell_type": "markdown",
   "metadata": {},
   "source": [
    "Inserting  multiple rows into the table using `cursor.executemany()` in qmark style"
   ]
  },
  {
   "cell_type": "code",
   "execution_count": 8,
   "metadata": {},
   "outputs": [],
   "source": [
    "# Data to be inserted\n",
    "address_list = [('Jane','Doe','Belfast','+449012345678'),\n",
    "               ('Joe','Bloggs','New York','+12121234567')]\n",
    "\n",
    "#Execute the query and commit the changes\n",
    "cursor.executemany(\"insert into addressbook values (?,?,?,?)\", address_list)\n",
    "cursor.commit()"
   ]
  },
  {
   "cell_type": "code",
   "execution_count": 9,
   "metadata": {},
   "outputs": [],
   "source": [
    "# Close the connection after running the SQL commands\n",
    "conn.close()"
   ]
  },
  {
   "cell_type": "markdown",
   "metadata": {},
   "source": [
    "#### Connect to this database again and fetch the phone column from the table\n",
    "We can fetch multiple results at the same time using `cursor.fetchall()` method"
   ]
  },
  {
   "cell_type": "code",
   "execution_count": 10,
   "metadata": {},
   "outputs": [],
   "source": [
    "# Establish the connection to the database file\n",
    "conn = pyodbc.connect(r\"Driver=SQLite3 ODBC Driver;Database=addressbook.db\")\n",
    "cursor = conn.cursor()"
   ]
  },
  {
   "cell_type": "code",
   "execution_count": 11,
   "metadata": {},
   "outputs": [],
   "source": [
    "# Execute the SQL query and fetch the results\n",
    "query = '''select phone from addressbook'''\n",
    "\n",
    "cursor.execute(query)\n",
    "\n",
    "results = cursor.fetchall()\n",
    "conn.close()"
   ]
  },
  {
   "cell_type": "code",
   "execution_count": 12,
   "metadata": {},
   "outputs": [
    {
     "name": "stdout",
     "output_type": "stream",
     "text": [
      "[('+442012345678', ), ('+449012345678', ), ('+12121234567', )]\n"
     ]
    }
   ],
   "source": [
    "# Print the results\n",
    "print(results)"
   ]
  },
  {
   "cell_type": "markdown",
   "metadata": {},
   "source": [
    "#### Connect to this database and fetch all the rows one at a time\n",
    "We can fetch one result at a time using `cursor.fetchone()` method"
   ]
  },
  {
   "cell_type": "code",
   "execution_count": 13,
   "metadata": {},
   "outputs": [],
   "source": [
    "# Establish the connection to the file\n",
    "conn = pyodbc.connect(r\"DRIVER=SQLite3 ODBC Driver;DATABASE=addressbook.db\")\n",
    "cursor = conn.cursor()"
   ]
  },
  {
   "cell_type": "code",
   "execution_count": 14,
   "metadata": {},
   "outputs": [
    {
     "name": "stdout",
     "output_type": "stream",
     "text": [
      "('John', 'Smith', 'London', '+442012345678')\n",
      "('Jane', 'Doe', 'Belfast', '+449012345678')\n",
      "('Joe', 'Bloggs', 'New York', '+12121234567')\n",
      "None\n"
     ]
    }
   ],
   "source": [
    "# Execute the query and fetch the results\n",
    "query = '''select * from addressbook'''\n",
    "\n",
    "cursor.execute(query)\n",
    "\n",
    "result = True\n",
    "while result is not None:\n",
    "    result = cursor.fetchone()\n",
    "    print(result)\n",
    "    \n",
    "results = cursor.fetchall()\n",
    "conn.close()"
   ]
  },
  {
   "cell_type": "markdown",
   "metadata": {},
   "source": [
    "#### Concept Check <a class='tocSkip'>\n",
    "Use PyODBC to add a Country column to this table and fetch details of people in United Kingdom."
   ]
  },
  {
   "cell_type": "code",
   "execution_count": null,
   "metadata": {},
   "outputs": [],
   "source": [
    "# Type your code here\n",
    "\n",
    "\n",
    "\n",
    "\n",
    "\n",
    "\n",
    "\n",
    "\n"
   ]
  }
 ],
 "metadata": {
  "interpreter": {
   "hash": "e055f10a1cbe1d0cbba51f404348e190ab73be374e6176cbbfab8f6ff89a0609"
  },
  "kernelspec": {
   "display_name": "Python 3",
   "language": "python",
   "name": "python3"
  },
  "language_info": {
   "codemirror_mode": {
    "name": "ipython",
    "version": 3
   },
   "file_extension": ".py",
   "mimetype": "text/x-python",
   "name": "python",
   "nbconvert_exporter": "python",
   "pygments_lexer": "ipython3",
   "version": "3.8.12"
  },
  "toc": {
   "base_numbering": 1,
   "nav_menu": {},
   "number_sections": true,
   "sideBar": true,
   "skip_h1_title": false,
   "title_cell": "Table of Contents",
   "title_sidebar": "Contents",
   "toc_cell": true,
   "toc_position": {},
   "toc_section_display": true,
   "toc_window_display": false
  },
  "varInspector": {
   "cols": {
    "lenName": 16,
    "lenType": 16,
    "lenVar": 40
   },
   "kernels_config": {
    "python": {
     "delete_cmd_postfix": "",
     "delete_cmd_prefix": "del ",
     "library": "var_list.py",
     "varRefreshCmd": "print(var_dic_list())"
    },
    "r": {
     "delete_cmd_postfix": ") ",
     "delete_cmd_prefix": "rm(",
     "library": "var_list.r",
     "varRefreshCmd": "cat(var_dic_list()) "
    }
   },
   "types_to_exclude": [
    "module",
    "function",
    "builtin_function_or_method",
    "instance",
    "_Feature"
   ],
   "window_display": false
  }
 },
 "nbformat": 4,
 "nbformat_minor": 2
}
