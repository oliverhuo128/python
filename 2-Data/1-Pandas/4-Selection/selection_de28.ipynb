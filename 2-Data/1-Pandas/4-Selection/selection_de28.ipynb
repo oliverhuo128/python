{
 "cells": [
  {
   "cell_type": "markdown",
   "id": "4e8963bf",
   "metadata": {},
   "source": [
    "# Data Indexing and Selection\n",
    "---\n",
    "\n",
    "In the previous units we learnt about the concepts of __Series__ and __DataFrames__ and how to construct them. Let's explore the ways we can access subsets of data from them. \n",
    "\n",
    "---\n",
    "## 1. Data Indexing and Selection - Definition:\n",
    "__Data Indexing__  (also __Subset Selection__) in Pandas simply means selecting a certain sub-part of data from a Pandas Object.\n",
    "\n",
    "In the context of a __Series__, data indexing could mean selecting one or multiple elements of a Series. In the context of __DataFrames__, data indexing could refer to selecting a subset of rows and columns, individual values, etc."
   ]
  },
  {
   "cell_type": "code",
   "execution_count": 1,
   "id": "3b4babbc",
   "metadata": {},
   "outputs": [],
   "source": [
    "import pandas as pd\n",
    "import datetime as dt"
   ]
  },
  {
   "cell_type": "markdown",
   "id": "c8c354a7",
   "metadata": {},
   "source": [
    "---\n",
    "## 2. Series - Data Indexing and Selection:\n",
    "Recall that __Series__ are 1-dimensional objects of indexed data.\n",
    "We can index a Series object in one of the following ways:\n",
    "- __Explicit vs Implicit Indexing__\n",
    "- __Slicing__\n",
    "- __Boolean Indexing__"
   ]
  },
  {
   "cell_type": "markdown",
   "id": "f575a296",
   "metadata": {},
   "source": [
    "---\n",
    "### 2.1 Explicit vs Implicit Indexing:\n",
    "The first way to select an element from a Series is by using its __index__ as a key!\n",
    "\n",
    "\n",
    "- __Explicit Indexing__ - accessing a single element via the actual label (name) of its corresponding index\n",
    "- __Implicit Indexing__ - accessing a single element via the integer position of its corresponding index\n",
    "\n",
    "Syntax:\n",
    "-  __Explicit Indexing__ - `series_name.loc[index_label]`\n",
    "- __Implicit Indexing__ - `series_name.iloc[index_position]`\n",
    "\n",
    "\n",
    "__Point to Note__: Indexing is done by using one of two possible accessors - `.loc` and `.iloc`. An easy way to distinguish them from one another is by remembering that `.iloc` stands for __integer location__. In fact, associating the __i__ in `.iloc` with __integer, index,__ or even __implicit__ will help you remember which indexing method does what in the future! "
   ]
  },
  {
   "cell_type": "code",
   "execution_count": 2,
   "id": "918dd0fa",
   "metadata": {},
   "outputs": [
    {
     "data": {
      "text/plain": [
       "1    a\n",
       "2    b\n",
       "3    c\n",
       "4    d\n",
       "dtype: object"
      ]
     },
     "execution_count": 2,
     "metadata": {},
     "output_type": "execute_result"
    }
   ],
   "source": [
    "s = pd.Series([\"a\", \"b\", \"c\", \"d\"], index=[1, 2, 3, 4])\n",
    "s"
   ]
  },
  {
   "cell_type": "code",
   "execution_count": 3,
   "id": "09caabf9",
   "metadata": {},
   "outputs": [
    {
     "data": {
      "text/plain": [
       "'a'"
      ]
     },
     "execution_count": 3,
     "metadata": {},
     "output_type": "execute_result"
    }
   ],
   "source": [
    "# Explicit indexing (using actual index labels)\n",
    "s.loc[1]"
   ]
  },
  {
   "cell_type": "code",
   "execution_count": 4,
   "id": "6518fa2c",
   "metadata": {},
   "outputs": [
    {
     "data": {
      "text/plain": [
       "'b'"
      ]
     },
     "execution_count": 4,
     "metadata": {},
     "output_type": "execute_result"
    }
   ],
   "source": [
    "# Implicit indexing (using the postion)\n",
    "# Recall that Series are 0-indexed -- element at position 1 is in fact the 2nd element in the Series\n",
    "s.iloc[1]"
   ]
  },
  {
   "cell_type": "markdown",
   "id": "52461ed7",
   "metadata": {},
   "source": [
    "Using __unspecified indexing__ is __NOT recommended!__\n",
    "\n",
    "Without passing an accessor, Pandas will try to find an element with the specified index label, and if it does not exist, it will search for an element with the specified index position. In any ways, not using an accessor when indexing Series introduces __ambiguity__."
   ]
  },
  {
   "cell_type": "code",
   "execution_count": 7,
   "id": "5b22b861",
   "metadata": {},
   "outputs": [
    {
     "data": {
      "text/plain": [
       "'a'"
      ]
     },
     "execution_count": 7,
     "metadata": {},
     "output_type": "execute_result"
    }
   ],
   "source": [
    "# Unspecified indexing\n",
    "s[1]"
   ]
  },
  {
   "cell_type": "markdown",
   "id": "a241f94f",
   "metadata": {},
   "source": [
    "---\n",
    "### 2.2 Slicing:\n",
    "We learnt how to access a single element of a Series via Explicit or Implicit Indexing.\n",
    "To access a subset of elements of a Series, we use a method, called __Slicing__!\n",
    "\n",
    "\n",
    "__Slicing__ leverages the same accessors as Indexing - `.loc` and `.iloc`. This time however, instead of passing on a single argument - the index label, or the index position of the desired element, we will be passing two arguments, delimited by a colon (__:__)\n",
    "\n",
    "\n",
    "Syntax:\n",
    "- __Explicit Slicing__ - `series_name.loc[start_index_label: stop_index_label]` - value corresponding to stop_index_label is __included__ in the output\n",
    "- __Implicit Slicing__ - `series_name.iloc[start_index_position: stop_index_position]` - value corresponding to stop_index_label is __excluded__ from the output"
   ]
  },
  {
   "cell_type": "code",
   "execution_count": 8,
   "id": "fb075e48",
   "metadata": {},
   "outputs": [
    {
     "data": {
      "text/plain": [
       "1    a\n",
       "2    b\n",
       "3    c\n",
       "4    d\n",
       "dtype: object"
      ]
     },
     "execution_count": 8,
     "metadata": {},
     "output_type": "execute_result"
    }
   ],
   "source": [
    "s = pd.Series([\"a\", \"b\", \"c\", \"d\"], index=[1, 2, 3, 4])\n",
    "s"
   ]
  },
  {
   "cell_type": "code",
   "execution_count": 10,
   "id": "6da04b82",
   "metadata": {},
   "outputs": [
    {
     "data": {
      "text/plain": [
       "1    a\n",
       "2    b\n",
       "3    c\n",
       "dtype: object"
      ]
     },
     "execution_count": 10,
     "metadata": {},
     "output_type": "execute_result"
    }
   ],
   "source": [
    "# Explicit slicing - both values at index 1 and 3 are included -- output has length 3\n",
    "s.loc[1:3]"
   ]
  },
  {
   "cell_type": "code",
   "execution_count": 11,
   "id": "09e3c58f",
   "metadata": {},
   "outputs": [
    {
     "data": {
      "text/plain": [
       "2    b\n",
       "3    c\n",
       "dtype: object"
      ]
     },
     "execution_count": 11,
     "metadata": {},
     "output_type": "execute_result"
    }
   ],
   "source": [
    "# Implicit slicing - value at index position position 3 has been excluded -- output has length 2\n",
    "s.iloc[1:3]"
   ]
  },
  {
   "cell_type": "markdown",
   "id": "53efe064",
   "metadata": {},
   "source": [
    "---\n",
    "### 2.3 Boolean Indexing (Masking):\n",
    "\n",
    "__Boolean indexing__ is an alternative method to index a Series/DataFrame using a __boolean mask__.\n",
    "A __mask__ is a vector of boolean objects - e.g. `[True, False, True]`.\n",
    "When a Pandas Object (Series or DataFrame)  is indexed by a boolean mask, the resultant output will be the subset of rows which match to True values."
   ]
  },
  {
   "cell_type": "code",
   "execution_count": 12,
   "id": "dc6352bd",
   "metadata": {},
   "outputs": [
    {
     "data": {
      "text/plain": [
       "0    1\n",
       "1    2\n",
       "2    3\n",
       "3    4\n",
       "4    5\n",
       "dtype: int64"
      ]
     },
     "execution_count": 12,
     "metadata": {},
     "output_type": "execute_result"
    }
   ],
   "source": [
    "s = pd.Series([1,2,3,4,5])\n",
    "s"
   ]
  },
  {
   "cell_type": "code",
   "execution_count": 13,
   "id": "a8cb9386",
   "metadata": {},
   "outputs": [
    {
     "data": {
      "text/plain": [
       "0    1\n",
       "1    2\n",
       "2    3\n",
       "dtype: int64"
      ]
     },
     "execution_count": 13,
     "metadata": {},
     "output_type": "execute_result"
    }
   ],
   "source": [
    "# Create a mask explicitly (manually entering True/False bools)\n",
    "mask = [True, True, True, False, False]\n",
    "s[mask] # note - once the mask is created, we pass it into the series using '[]'"
   ]
  },
  {
   "cell_type": "markdown",
   "id": "91b93db1",
   "metadata": {},
   "source": [
    "What makes this useful, is that we can create this mask __implicitly__ by using the __values__ of the Series.\n",
    "When values of a Series are passed to a boolean expression, a mask is created from how the values evaluate in the expression."
   ]
  },
  {
   "cell_type": "code",
   "execution_count": 14,
   "id": "504b10bc",
   "metadata": {},
   "outputs": [
    {
     "data": {
      "text/plain": [
       "0     True\n",
       "1     True\n",
       "2     True\n",
       "3    False\n",
       "4    False\n",
       "dtype: bool"
      ]
     },
     "metadata": {},
     "output_type": "display_data"
    }
   ],
   "source": [
    "# Create a mask implicitly, using a boolean expression\n",
    "mask = (s <= 3)\n",
    "display(mask)"
   ]
  },
  {
   "cell_type": "code",
   "execution_count": 15,
   "id": "f30b19e4",
   "metadata": {},
   "outputs": [
    {
     "data": {
      "text/plain": [
       "0    1\n",
       "1    2\n",
       "2    3\n",
       "dtype: int64"
      ]
     },
     "execution_count": 15,
     "metadata": {},
     "output_type": "execute_result"
    }
   ],
   "source": [
    "# We can use this mask as before to index the series\n",
    "s[mask]"
   ]
  },
  {
   "cell_type": "markdown",
   "id": "0fa659ec",
   "metadata": {},
   "source": [
    "So while it appears complicated at the outset, boolean indexing is means to filter your dataset based on whether the values meet a condition.\n",
    "(Much like a SQL 'WHERE' statement!)"
   ]
  },
  {
   "cell_type": "markdown",
   "id": "649f2819",
   "metadata": {},
   "source": [
    "---\n",
    "### 2.4 Assigning Values to a Series:\n",
    "Data Indexing or Slicing is often used not just for 'selection and display purposes', but also for assigning new values to a Series. Below are some examples of how to do this:"
   ]
  },
  {
   "cell_type": "code",
   "execution_count": null,
   "id": "96c39443",
   "metadata": {},
   "outputs": [],
   "source": []
  },
  {
   "cell_type": "markdown",
   "id": "50e29f25",
   "metadata": {},
   "source": [
    "---\n",
    "## 3. DataFrames - Data Indexing and Selection:\n",
    "\n",
    "Recall that __DataFrames__ are 2-dimensional objects of data, indexed by its rows and columns. \n",
    "\n",
    "We can index a DataFrame object in one of the following ways:\n",
    "- __Explicit vs Implicit Indexing__\n",
    "- __Slicing__\n",
    "- __Boolean Indexing__\n",
    "- __Column Selection__"
   ]
  },
  {
   "cell_type": "code",
   "execution_count": null,
   "id": "dc60be19",
   "metadata": {},
   "outputs": [],
   "source": []
  },
  {
   "cell_type": "code",
   "execution_count": null,
   "id": "088d1c29",
   "metadata": {},
   "outputs": [],
   "source": []
  },
  {
   "cell_type": "markdown",
   "id": "4b9f54d8",
   "metadata": {},
   "source": [
    "---\n",
    "### 3.1 Explicit vs Implicit Indexing:\n",
    "Explicit and Implicit Indexing for DataFrames work in exactly the same way as for Series, except a value in a __DataFrame__ is now uniquely identified by a pair of two keys - its column and its row.\n",
    "\n",
    "Syntax:\n",
    "-  __Explicit Indexing__ - `dataframe_name.loc[row_label, column_label]`\n",
    "- __Implicit Indexing__ - `dataframe_name.iloc[row_number, column_number]`"
   ]
  },
  {
   "cell_type": "code",
   "execution_count": null,
   "id": "3d7517c5",
   "metadata": {},
   "outputs": [],
   "source": []
  },
  {
   "cell_type": "code",
   "execution_count": null,
   "id": "0d14f040",
   "metadata": {},
   "outputs": [],
   "source": []
  },
  {
   "cell_type": "markdown",
   "id": "70f46c4a",
   "metadata": {},
   "source": [
    "---\n",
    "### 3.2 Slicing:\n",
    "Again, __Slicing__ a DataFrame is very similar to Slicing a Series - we shall again use the `.iloc` and `.loc` accessors. However, as __DataFrames__ are 2-dimensional objects, we now can obtain subsets of a DataFrame of all sorts and shapes!\n",
    "\n",
    "\n",
    "Syntax:\n",
    "- __Explicit Slicing__ - `dataframe_name.loc[start_row_label: stop_row_label, start_column_label: stop_column_label]` \n",
    "- __Implicit Slicing__ - `dataframe_name.iloc[start_row_lnum: stop_row_num, start_column_num: stop_column_num]`\n",
    "\n",
    "Depending on what output we are after, we can use a number of variations to the above syntax! Let's look into some examples!"
   ]
  },
  {
   "cell_type": "code",
   "execution_count": null,
   "id": "6814876c",
   "metadata": {},
   "outputs": [],
   "source": []
  },
  {
   "cell_type": "code",
   "execution_count": null,
   "id": "b139d744",
   "metadata": {},
   "outputs": [],
   "source": []
  },
  {
   "cell_type": "code",
   "execution_count": null,
   "metadata": {},
   "outputs": [],
   "source": []
  },
  {
   "cell_type": "code",
   "execution_count": null,
   "id": "288fc07e",
   "metadata": {},
   "outputs": [],
   "source": []
  },
  {
   "cell_type": "markdown",
   "id": "9bdc8528",
   "metadata": {},
   "source": [
    "---\n",
    "### 3.3 Boolean Indexing  (Masking):\n",
    "\n",
    "__Boolean Masking__ works on DataFrames in a similar way it does on Series. A 1-dimensional mask is passed to the 2-dimensional DataFrame, and it filters down the __rows__. The result is a new DataFrame with the same number of columns but fewer rows."
   ]
  },
  {
   "cell_type": "code",
   "execution_count": null,
   "id": "1ed6164d",
   "metadata": {},
   "outputs": [],
   "source": []
  },
  {
   "cell_type": "code",
   "execution_count": null,
   "id": "cee65ab4",
   "metadata": {},
   "outputs": [],
   "source": []
  },
  {
   "cell_type": "markdown",
   "id": "93dd8f2d",
   "metadata": {},
   "source": [
    "---\n",
    "### 3.4 Column Selection:\n",
    "\n",
    "With DataFrames, we also have the option of __column selection__. \n",
    "We can specify which columns we would like to select in the following way:\n",
    "\n",
    "Synthax: \n",
    "- __Select Multiple Columns__ - `dataframe_name[['col1, col2, ...]]'`\n",
    "- __Select a Single Column & Return a DataFrame__ - `dataframe_name[['col1']]`\n",
    "- __Select a Single Column & Return a Series__ - `dataframe_name[col1]`"
   ]
  },
  {
   "cell_type": "code",
   "execution_count": null,
   "id": "4170edef",
   "metadata": {},
   "outputs": [],
   "source": []
  },
  {
   "cell_type": "markdown",
   "id": "40b5c81c",
   "metadata": {},
   "source": [
    "## 4. Summary:\n",
    "- __Data Indexing__ refers to selecting a sub-part of data from a Pandas Objects. The main ways to do this is via:\n",
    "    - __Explicit vs Implicit Indexing__ - applicable to both DataFrames and Series\n",
    "    - __Slicing__ - applicable to both DataFrames and Series\n",
    "    - __Boolean Masking__ -applicable to both DataFrames and Series\n",
    "    - __Column Selection__ - applicable to DataFrames only"
   ]
  },
  {
   "cell_type": "markdown",
   "id": "7d7ee8da",
   "metadata": {},
   "source": [
    "---\n",
    "## 5. Concept Check:\n",
    "1. What are the different ways we can index a series?\n",
    "2. Suppose you have a series pd.Series([1,2,3,4], index=['a','b','c','d'])\n",
    "-  Using implicit and explicit indexing, get the second element\n",
    "-  Using explicit indexing, slice the series to get the first three elements\n",
    "-  Using a boolean mask, select the even numbers s[s % 2 == 0]"
   ]
  },
  {
   "cell_type": "code",
   "execution_count": null,
   "id": "52cf3166",
   "metadata": {},
   "outputs": [],
   "source": []
  }
 ],
 "metadata": {
  "interpreter": {
   "hash": "54b57a9d7255aa9bd89013014712be1af3e9c0518087b34529522b12b0bc87de"
  },
  "kernelspec": {
   "display_name": "Python 3.9.7 ('base')",
   "language": "python",
   "name": "python3"
  },
  "language_info": {
   "codemirror_mode": {
    "name": "ipython",
    "version": 3
   },
   "file_extension": ".py",
   "mimetype": "text/x-python",
   "name": "python",
   "nbconvert_exporter": "python",
   "pygments_lexer": "ipython3",
   "version": "3.9.7"
  },
  "vscode": {
   "interpreter": {
    "hash": "54b57a9d7255aa9bd89013014712be1af3e9c0518087b34529522b12b0bc87de"
   }
  }
 },
 "nbformat": 4,
 "nbformat_minor": 5
}
