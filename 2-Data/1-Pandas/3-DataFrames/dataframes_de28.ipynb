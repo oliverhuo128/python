{
 "cells": [
  {
   "cell_type": "markdown",
   "id": "3dbd1dc9",
   "metadata": {},
   "source": [
    "# Pandas DataFrames\n",
    "---\n",
    "\n",
    "## 1. Pandas DataFrames - Definition:\n",
    "\n",
    "In the previous unit we learnt about the concept of __Series__. Pandas __DataFrames__ are a natural continuation of it.\n",
    "\n",
    "A __DataFrame__ is a 2-dimensional array of data, indexed by rows and columns. Each column in a __DataFrame__ corresponds to a __Series__ object. Put simply, a __DataFrame__ is the Pandas' term for a table. And just like with any table, each cell in it is uniquely identified by its row and column index - in that sense:  \n",
    "\n",
    "- Each __DataFrame__ is a collection of __Series__, each having a single data type\n",
    "- We can think of each pair (row_index, column_index) as a key of an element in the __DataFrame__\n"
   ]
  },
  {
   "cell_type": "code",
   "execution_count": 22,
   "id": "c6fbd9ae",
   "metadata": {},
   "outputs": [],
   "source": [
    "import pandas as pd\n",
    "import datetime as dt"
   ]
  },
  {
   "cell_type": "markdown",
   "id": "8ea5eee4",
   "metadata": {},
   "source": [
    "---\n",
    "## 2. Constructing a Pandas DataFrame:\n",
    "\n",
    "A __DataFrame__ object can be created in many ways. To see why, recall that a simple __Series__ object can be constructed from a list as well as a dictionary. Now we are handling not a 1- but a 2-dimensional object. In that sense, there are multiple ways to navigate the construction - horizontally via creating a collection of rows, or vertically - via a collection of columns!\n",
    "\n",
    "### 2.1 Constructing a DataFrame with 1 Column:\n",
    "\n",
    "A __DataFrame__ can have a single column. Yes - this really looks like a Series, however, once initialised as a DataFrame object, Python will treat it as such - a table with only one column. A single-column DataFrame can be built in 2 ways:\n",
    "\n",
    "- From a List:\n",
    "    - `pd.DataFrame([item1, item2, ...], columns = ['column1'])` \n",
    "    \n",
    "- From a Series:\n",
    "    - `pd.DataFrame(series_name)`"
   ]
  },
  {
   "cell_type": "code",
   "execution_count": 4,
   "id": "83d18a79",
   "metadata": {},
   "outputs": [
    {
     "data": {
      "text/html": [
       "<div>\n",
       "<style scoped>\n",
       "    .dataframe tbody tr th:only-of-type {\n",
       "        vertical-align: middle;\n",
       "    }\n",
       "\n",
       "    .dataframe tbody tr th {\n",
       "        vertical-align: top;\n",
       "    }\n",
       "\n",
       "    .dataframe thead th {\n",
       "        text-align: right;\n",
       "    }\n",
       "</style>\n",
       "<table border=\"1\" class=\"dataframe\">\n",
       "  <thead>\n",
       "    <tr style=\"text-align: right;\">\n",
       "      <th></th>\n",
       "      <th>column1</th>\n",
       "    </tr>\n",
       "  </thead>\n",
       "  <tbody>\n",
       "    <tr>\n",
       "      <th>0</th>\n",
       "      <td>1</td>\n",
       "    </tr>\n",
       "    <tr>\n",
       "      <th>1</th>\n",
       "      <td>2</td>\n",
       "    </tr>\n",
       "    <tr>\n",
       "      <th>2</th>\n",
       "      <td>3</td>\n",
       "    </tr>\n",
       "    <tr>\n",
       "      <th>3</th>\n",
       "      <td>4</td>\n",
       "    </tr>\n",
       "  </tbody>\n",
       "</table>\n",
       "</div>"
      ],
      "text/plain": [
       "   column1\n",
       "0        1\n",
       "1        2\n",
       "2        3\n",
       "3        4"
      ]
     },
     "metadata": {},
     "output_type": "display_data"
    }
   ],
   "source": [
    "df = pd.DataFrame([1, 2, 3, 4], columns=[\"column1\"])\n",
    "display(df)"
   ]
  },
  {
   "cell_type": "code",
   "execution_count": 6,
   "id": "d26c0729",
   "metadata": {},
   "outputs": [
    {
     "data": {
      "text/html": [
       "<div>\n",
       "<style scoped>\n",
       "    .dataframe tbody tr th:only-of-type {\n",
       "        vertical-align: middle;\n",
       "    }\n",
       "\n",
       "    .dataframe tbody tr th {\n",
       "        vertical-align: top;\n",
       "    }\n",
       "\n",
       "    .dataframe thead th {\n",
       "        text-align: right;\n",
       "    }\n",
       "</style>\n",
       "<table border=\"1\" class=\"dataframe\">\n",
       "  <thead>\n",
       "    <tr style=\"text-align: right;\">\n",
       "      <th></th>\n",
       "      <th>0</th>\n",
       "    </tr>\n",
       "  </thead>\n",
       "  <tbody>\n",
       "    <tr>\n",
       "      <th>a</th>\n",
       "      <td>123</td>\n",
       "    </tr>\n",
       "    <tr>\n",
       "      <th>b</th>\n",
       "      <td>456</td>\n",
       "    </tr>\n",
       "  </tbody>\n",
       "</table>\n",
       "</div>"
      ],
      "text/plain": [
       "     0\n",
       "a  123\n",
       "b  456"
      ]
     },
     "metadata": {},
     "output_type": "display_data"
    },
    {
     "data": {
      "text/html": [
       "<div>\n",
       "<style scoped>\n",
       "    .dataframe tbody tr th:only-of-type {\n",
       "        vertical-align: middle;\n",
       "    }\n",
       "\n",
       "    .dataframe tbody tr th {\n",
       "        vertical-align: top;\n",
       "    }\n",
       "\n",
       "    .dataframe thead th {\n",
       "        text-align: right;\n",
       "    }\n",
       "</style>\n",
       "<table border=\"1\" class=\"dataframe\">\n",
       "  <thead>\n",
       "    <tr style=\"text-align: right;\">\n",
       "      <th></th>\n",
       "      <th>column_1</th>\n",
       "    </tr>\n",
       "  </thead>\n",
       "  <tbody>\n",
       "    <tr>\n",
       "      <th>a</th>\n",
       "      <td>123</td>\n",
       "    </tr>\n",
       "    <tr>\n",
       "      <th>b</th>\n",
       "      <td>456</td>\n",
       "    </tr>\n",
       "  </tbody>\n",
       "</table>\n",
       "</div>"
      ],
      "text/plain": [
       "   column_1\n",
       "a       123\n",
       "b       456"
      ]
     },
     "execution_count": 6,
     "metadata": {},
     "output_type": "execute_result"
    }
   ],
   "source": [
    "s = pd.Series({\"a\": 123, \"b\": 456})\n",
    "df = pd.DataFrame(s)\n",
    "display(df)\n",
    "\n",
    "# unless the column name is specified, it will be assigned a default value\n",
    "df = df.rename(columns={0:\"column_1\"})\n",
    "df"
   ]
  },
  {
   "cell_type": "markdown",
   "id": "0fa199f3",
   "metadata": {},
   "source": [
    "### 2.1 Constructing a DataFrame with multiple columns:\n",
    "\n",
    "Now let's explore the ways to build a multi-column __DataFrame__. Below is a brief syntax guide on the different ways to do it:\n",
    "\n",
    "- From a __List of Lists__ - each inner list corresponds to a row:\n",
    "    - `pd.DataFrame([list1, list2, list3, ...], columns = ['column1', ...])` where `list1 = [item1, item2, ...]`\n",
    "    \n",
    "    \n",
    "- From a __List of Dictionaries__ - each dictionary corresponds to a row; each key in a dict corresponds to a column name\n",
    "    - `pd.DataFrame([dict1, dict2, dict3, ...])` where `dict1 = {'column1': value1, 'columns2': value2, ...}`\n",
    "   \n",
    "   \n",
    "- From a __Dictionary of List Values__ - each key correspond to a column name; each list corresponds to column values\n",
    "    - `pd.DataFrame({'column1': list1, 'column2': list2, ...})` where `list1 = [item1, item2, ...]`\n",
    "    \n",
    "    \n",
    "- From a __Dictionary of Series__ - each key corresponds to a column name; each Series corresponds to column values\n",
    "    - `pd.DataFrame({'column1': series1, 'column2': series2, ...})` where `series1 = pd.Series(...)`"
   ]
  },
  {
   "cell_type": "code",
   "execution_count": 7,
   "id": "1a580f4f",
   "metadata": {},
   "outputs": [
    {
     "data": {
      "text/html": [
       "<div>\n",
       "<style scoped>\n",
       "    .dataframe tbody tr th:only-of-type {\n",
       "        vertical-align: middle;\n",
       "    }\n",
       "\n",
       "    .dataframe tbody tr th {\n",
       "        vertical-align: top;\n",
       "    }\n",
       "\n",
       "    .dataframe thead th {\n",
       "        text-align: right;\n",
       "    }\n",
       "</style>\n",
       "<table border=\"1\" class=\"dataframe\">\n",
       "  <thead>\n",
       "    <tr style=\"text-align: right;\">\n",
       "      <th></th>\n",
       "      <th>col1</th>\n",
       "      <th>col2</th>\n",
       "    </tr>\n",
       "  </thead>\n",
       "  <tbody>\n",
       "    <tr>\n",
       "      <th>0</th>\n",
       "      <td>1</td>\n",
       "      <td>2</td>\n",
       "    </tr>\n",
       "    <tr>\n",
       "      <th>1</th>\n",
       "      <td>3</td>\n",
       "      <td>4</td>\n",
       "    </tr>\n",
       "    <tr>\n",
       "      <th>2</th>\n",
       "      <td>5</td>\n",
       "      <td>6</td>\n",
       "    </tr>\n",
       "  </tbody>\n",
       "</table>\n",
       "</div>"
      ],
      "text/plain": [
       "   col1  col2\n",
       "0     1     2\n",
       "1     3     4\n",
       "2     5     6"
      ]
     },
     "metadata": {},
     "output_type": "display_data"
    }
   ],
   "source": [
    "# list of lists\n",
    "data = [\n",
    "    [1,2], # row 1\n",
    "    [3,4], # row 2\n",
    "    [5,6], # row 3\n",
    "]\n",
    "df = pd.DataFrame(data, columns=[\"col1\", \"col2\"])\n",
    "display(df)"
   ]
  },
  {
   "cell_type": "code",
   "execution_count": 8,
   "id": "f5410fd2",
   "metadata": {},
   "outputs": [
    {
     "data": {
      "text/html": [
       "<div>\n",
       "<style scoped>\n",
       "    .dataframe tbody tr th:only-of-type {\n",
       "        vertical-align: middle;\n",
       "    }\n",
       "\n",
       "    .dataframe tbody tr th {\n",
       "        vertical-align: top;\n",
       "    }\n",
       "\n",
       "    .dataframe thead th {\n",
       "        text-align: right;\n",
       "    }\n",
       "</style>\n",
       "<table border=\"1\" class=\"dataframe\">\n",
       "  <thead>\n",
       "    <tr style=\"text-align: right;\">\n",
       "      <th></th>\n",
       "      <th>a</th>\n",
       "      <th>b</th>\n",
       "    </tr>\n",
       "  </thead>\n",
       "  <tbody>\n",
       "    <tr>\n",
       "      <th>0</th>\n",
       "      <td>111</td>\n",
       "      <td>222</td>\n",
       "    </tr>\n",
       "    <tr>\n",
       "      <th>1</th>\n",
       "      <td>333</td>\n",
       "      <td>444</td>\n",
       "    </tr>\n",
       "    <tr>\n",
       "      <th>2</th>\n",
       "      <td>555</td>\n",
       "      <td>666</td>\n",
       "    </tr>\n",
       "  </tbody>\n",
       "</table>\n",
       "</div>"
      ],
      "text/plain": [
       "     a    b\n",
       "0  111  222\n",
       "1  333  444\n",
       "2  555  666"
      ]
     },
     "execution_count": 8,
     "metadata": {},
     "output_type": "execute_result"
    }
   ],
   "source": [
    "# From a list of dictionaries\n",
    "data = [\n",
    "    {\"a\": 111, \"b\": 222}, # row 1\n",
    "    {\"a\": 333, \"b\": 444}, # row 2\n",
    "    {\"b\": 666, \"a\": 555}, # row 3, note the order of items in the dictionary doesn't matter, the keys do\n",
    "]\n",
    "df = pd.DataFrame(data)\n",
    "df"
   ]
  },
  {
   "cell_type": "code",
   "execution_count": 9,
   "id": "6f19911b",
   "metadata": {},
   "outputs": [
    {
     "data": {
      "text/html": [
       "<div>\n",
       "<style scoped>\n",
       "    .dataframe tbody tr th:only-of-type {\n",
       "        vertical-align: middle;\n",
       "    }\n",
       "\n",
       "    .dataframe tbody tr th {\n",
       "        vertical-align: top;\n",
       "    }\n",
       "\n",
       "    .dataframe thead th {\n",
       "        text-align: right;\n",
       "    }\n",
       "</style>\n",
       "<table border=\"1\" class=\"dataframe\">\n",
       "  <thead>\n",
       "    <tr style=\"text-align: right;\">\n",
       "      <th></th>\n",
       "      <th>a</th>\n",
       "      <th>b</th>\n",
       "    </tr>\n",
       "  </thead>\n",
       "  <tbody>\n",
       "    <tr>\n",
       "      <th>0</th>\n",
       "      <td>1</td>\n",
       "      <td>5</td>\n",
       "    </tr>\n",
       "    <tr>\n",
       "      <th>1</th>\n",
       "      <td>2</td>\n",
       "      <td>6</td>\n",
       "    </tr>\n",
       "    <tr>\n",
       "      <th>2</th>\n",
       "      <td>3</td>\n",
       "      <td>7</td>\n",
       "    </tr>\n",
       "    <tr>\n",
       "      <th>3</th>\n",
       "      <td>4</td>\n",
       "      <td>8</td>\n",
       "    </tr>\n",
       "    <tr>\n",
       "      <th>4</th>\n",
       "      <td>5</td>\n",
       "      <td>9</td>\n",
       "    </tr>\n",
       "  </tbody>\n",
       "</table>\n",
       "</div>"
      ],
      "text/plain": [
       "   a  b\n",
       "0  1  5\n",
       "1  2  6\n",
       "2  3  7\n",
       "3  4  8\n",
       "4  5  9"
      ]
     },
     "execution_count": 9,
     "metadata": {},
     "output_type": "execute_result"
    }
   ],
   "source": [
    "# From a dictionary of list values\n",
    "data = {\n",
    "    \"a\": [1,2,3,4,5],\n",
    "    \"b\": [5,6,7,8,9],\n",
    "}\n",
    "df = pd.DataFrame(data)\n",
    "df"
   ]
  },
  {
   "cell_type": "code",
   "execution_count": 10,
   "id": "938a53e8",
   "metadata": {},
   "outputs": [
    {
     "data": {
      "text/html": [
       "<div>\n",
       "<style scoped>\n",
       "    .dataframe tbody tr th:only-of-type {\n",
       "        vertical-align: middle;\n",
       "    }\n",
       "\n",
       "    .dataframe tbody tr th {\n",
       "        vertical-align: top;\n",
       "    }\n",
       "\n",
       "    .dataframe thead th {\n",
       "        text-align: right;\n",
       "    }\n",
       "</style>\n",
       "<table border=\"1\" class=\"dataframe\">\n",
       "  <thead>\n",
       "    <tr style=\"text-align: right;\">\n",
       "      <th></th>\n",
       "      <th>series1</th>\n",
       "      <th>series2</th>\n",
       "    </tr>\n",
       "  </thead>\n",
       "  <tbody>\n",
       "    <tr>\n",
       "      <th>a</th>\n",
       "      <td>1</td>\n",
       "      <td>3</td>\n",
       "    </tr>\n",
       "    <tr>\n",
       "      <th>b</th>\n",
       "      <td>2</td>\n",
       "      <td>4</td>\n",
       "    </tr>\n",
       "  </tbody>\n",
       "</table>\n",
       "</div>"
      ],
      "text/plain": [
       "   series1  series2\n",
       "a        1        3\n",
       "b        2        4"
      ]
     },
     "execution_count": 10,
     "metadata": {},
     "output_type": "execute_result"
    }
   ],
   "source": [
    "# From a dictionary of Series\n",
    "s1 = pd.Series([1, 2], index=[\"a\", \"b\"])\n",
    "s2 = pd.Series([3, 4], index=[\"a\", \"b\"])\n",
    "data = {\"series1\": s1, \"series2\": s2}\n",
    "df = pd.DataFrame(data)\n",
    "df"
   ]
  },
  {
   "cell_type": "code",
   "execution_count": 11,
   "id": "178e49af",
   "metadata": {},
   "outputs": [
    {
     "data": {
      "text/html": [
       "<div>\n",
       "<style scoped>\n",
       "    .dataframe tbody tr th:only-of-type {\n",
       "        vertical-align: middle;\n",
       "    }\n",
       "\n",
       "    .dataframe tbody tr th {\n",
       "        vertical-align: top;\n",
       "    }\n",
       "\n",
       "    .dataframe thead th {\n",
       "        text-align: right;\n",
       "    }\n",
       "</style>\n",
       "<table border=\"1\" class=\"dataframe\">\n",
       "  <thead>\n",
       "    <tr style=\"text-align: right;\">\n",
       "      <th></th>\n",
       "      <th>series1</th>\n",
       "      <th>series2</th>\n",
       "    </tr>\n",
       "  </thead>\n",
       "  <tbody>\n",
       "    <tr>\n",
       "      <th>a</th>\n",
       "      <td>1.0</td>\n",
       "      <td>NaN</td>\n",
       "    </tr>\n",
       "    <tr>\n",
       "      <th>b</th>\n",
       "      <td>2.0</td>\n",
       "      <td>3.0</td>\n",
       "    </tr>\n",
       "    <tr>\n",
       "      <th>c</th>\n",
       "      <td>NaN</td>\n",
       "      <td>4.0</td>\n",
       "    </tr>\n",
       "  </tbody>\n",
       "</table>\n",
       "</div>"
      ],
      "text/plain": [
       "   series1  series2\n",
       "a      1.0      NaN\n",
       "b      2.0      3.0\n",
       "c      NaN      4.0"
      ]
     },
     "execution_count": 11,
     "metadata": {},
     "output_type": "execute_result"
    }
   ],
   "source": [
    "# From a dictionary of Series - showing index alignment\n",
    "s1 = pd.Series([1, 2], index=[\"a\", \"b\"])\n",
    "s2 = pd.Series([3, 4], index=[\"b\", \"c\"])\n",
    "data = {\"series1\": s1, \"series2\": s2}\n",
    "df = pd.DataFrame(data)\n",
    "df # NaN = Not a Number = Null in SQL"
   ]
  },
  {
   "cell_type": "markdown",
   "id": "adc6ddad",
   "metadata": {},
   "source": [
    "---\n",
    "## 3. Getting the Index, Columns and Values from a DataFrame:\n",
    "\n",
    "Obtaining information on values and the index of a DataFrame is identical to how we do it with Series:"
   ]
  },
  {
   "cell_type": "code",
   "execution_count": 12,
   "id": "a3f85471",
   "metadata": {},
   "outputs": [
    {
     "data": {
      "text/plain": [
       "Index(['a', 'b', 'c'], dtype='object')"
      ]
     },
     "execution_count": 12,
     "metadata": {},
     "output_type": "execute_result"
    }
   ],
   "source": [
    "# index\n",
    "df.index"
   ]
  },
  {
   "cell_type": "code",
   "execution_count": 13,
   "id": "31ff664e",
   "metadata": {},
   "outputs": [
    {
     "data": {
      "text/plain": [
       "Index(['series1', 'series2'], dtype='object')"
      ]
     },
     "execution_count": 13,
     "metadata": {},
     "output_type": "execute_result"
    }
   ],
   "source": [
    "# columns\n",
    "df.columns"
   ]
  },
  {
   "cell_type": "code",
   "execution_count": 14,
   "id": "48b2cc66",
   "metadata": {},
   "outputs": [
    {
     "data": {
      "text/plain": [
       "array([[ 1., nan],\n",
       "       [ 2.,  3.],\n",
       "       [nan,  4.]])"
      ]
     },
     "execution_count": 14,
     "metadata": {},
     "output_type": "execute_result"
    }
   ],
   "source": [
    "# values\n",
    "df.values # Return an array of the values, lost index and column information"
   ]
  },
  {
   "cell_type": "markdown",
   "id": "a25e44c7",
   "metadata": {},
   "source": [
    "---\n",
    "## 4. DataFrame - Column Data Types:\n",
    "\n",
    "Since a __DataFrame__ is really just a collection of __Series__, we can easily obtain the data types of all columns in the same way we did with Series. To cast a new data type onto a column however, we now have to specify the column name of interest:"
   ]
  },
  {
   "cell_type": "code",
   "execution_count": 16,
   "id": "d152d60b",
   "metadata": {},
   "outputs": [
    {
     "data": {
      "text/plain": [
       "series1    float64\n",
       "series2    float64\n",
       "dtype: object"
      ]
     },
     "execution_count": 16,
     "metadata": {},
     "output_type": "execute_result"
    }
   ],
   "source": [
    "# datatypes of each column\n",
    "df.dtypes"
   ]
  },
  {
   "cell_type": "code",
   "execution_count": 17,
   "id": "400da893",
   "metadata": {},
   "outputs": [
    {
     "data": {
      "text/plain": [
       "series1     object\n",
       "series2    float64\n",
       "dtype: object"
      ]
     },
     "execution_count": 17,
     "metadata": {},
     "output_type": "execute_result"
    }
   ],
   "source": [
    "# Typecasting a dataframe column\n",
    "df[[\"series1\"]] = df[[\"series1\"]].astype(str) # Note the interesting way we indexed the column, we'll talk more about this later\n",
    "df.dtypes"
   ]
  },
  {
   "cell_type": "markdown",
   "id": "86630c6d",
   "metadata": {},
   "source": [
    "---\n",
    "## 5. DataFrame Shape:\n",
    "\n",
    "As we know, the __Shape__ of an object returns information on its dimensions. With __Series__ we saw that the outcome of the `.shape` method was a __(x,)__ pair, indicating the number of elements in the Series. \n",
    "\n",
    "\n",
    "__DataFrames__ are however 2-dimensional, so we would expect to obtain information on 2 things - the number of rows and number of columns in it. \n",
    "\n",
    "Remember: The output of `df.shape` is a pair __(x,y)__ where:\n",
    "- __x__ corresponds to the number of rows\n",
    "- __y__ corresponds to the number of columns"
   ]
  },
  {
   "cell_type": "code",
   "execution_count": 20,
   "id": "c84890a8",
   "metadata": {},
   "outputs": [
    {
     "data": {
      "text/html": [
       "<div>\n",
       "<style scoped>\n",
       "    .dataframe tbody tr th:only-of-type {\n",
       "        vertical-align: middle;\n",
       "    }\n",
       "\n",
       "    .dataframe tbody tr th {\n",
       "        vertical-align: top;\n",
       "    }\n",
       "\n",
       "    .dataframe thead th {\n",
       "        text-align: right;\n",
       "    }\n",
       "</style>\n",
       "<table border=\"1\" class=\"dataframe\">\n",
       "  <thead>\n",
       "    <tr style=\"text-align: right;\">\n",
       "      <th></th>\n",
       "      <th>series1</th>\n",
       "      <th>series2</th>\n",
       "    </tr>\n",
       "  </thead>\n",
       "  <tbody>\n",
       "    <tr>\n",
       "      <th>a</th>\n",
       "      <td>1.0</td>\n",
       "      <td>NaN</td>\n",
       "    </tr>\n",
       "    <tr>\n",
       "      <th>b</th>\n",
       "      <td>2.0</td>\n",
       "      <td>3.0</td>\n",
       "    </tr>\n",
       "    <tr>\n",
       "      <th>c</th>\n",
       "      <td>nan</td>\n",
       "      <td>4.0</td>\n",
       "    </tr>\n",
       "  </tbody>\n",
       "</table>\n",
       "</div>"
      ],
      "text/plain": [
       "  series1  series2\n",
       "a     1.0      NaN\n",
       "b     2.0      3.0\n",
       "c     nan      4.0"
      ]
     },
     "metadata": {},
     "output_type": "display_data"
    },
    {
     "data": {
      "text/plain": [
       "(3, 2)"
      ]
     },
     "execution_count": 20,
     "metadata": {},
     "output_type": "execute_result"
    }
   ],
   "source": [
    "display(df)\n",
    "df.shape # 2 dimensional - 3 rows, 2 columns"
   ]
  },
  {
   "cell_type": "markdown",
   "id": "c64c0841",
   "metadata": {},
   "source": [
    "---\n",
    "## 6. The Pandas Index Object:\n",
    "\n",
    "We encountered the concept of __Index__ with both __Series__ and __DataFrames__. \n",
    "\n",
    "__Pandas Index__ is an immutable sequence used for indexing and alignment - the basic object, storing axis labels for all Pandas objects. Think of an index as an immutable list or tuple.\n",
    "\n",
    "In the context of working with Series and DataFrames, unless explicitly specified, indices will be automatically created. Below we are showing a couple of ways to explicitly construct an __Index__ object via the `.Index()` method:"
   ]
  },
  {
   "cell_type": "code",
   "execution_count": 21,
   "id": "8228b599",
   "metadata": {},
   "outputs": [
    {
     "data": {
      "text/plain": [
       "Int64Index([1, 2, 3], dtype='int64')"
      ]
     },
     "execution_count": 21,
     "metadata": {},
     "output_type": "execute_result"
    }
   ],
   "source": [
    "# Create an integer index\n",
    "idx = pd.Index([1,2,3])\n",
    "idx"
   ]
  },
  {
   "cell_type": "code",
   "execution_count": 23,
   "id": "735764d6",
   "metadata": {},
   "outputs": [
    {
     "data": {
      "text/plain": [
       "DatetimeIndex(['2022-06-27', '2022-06-28'], dtype='datetime64[ns]', freq=None)"
      ]
     },
     "execution_count": 23,
     "metadata": {},
     "output_type": "execute_result"
    }
   ],
   "source": [
    "# Create a datetime index\n",
    "# import datetime as dt\n",
    "pd.Index([dt.datetime(2022,6,27), dt.datetime(2022,6,28)])"
   ]
  },
  {
   "cell_type": "code",
   "execution_count": 25,
   "id": "b9f12929",
   "metadata": {},
   "outputs": [
    {
     "ename": "TypeError",
     "evalue": "Index does not support mutable operations",
     "output_type": "error",
     "traceback": [
      "\u001b[1;31m---------------------------------------------------------------------------\u001b[0m",
      "\u001b[1;31mTypeError\u001b[0m                                 Traceback (most recent call last)",
      "\u001b[1;32mC:\\Users\\GARETH~1\\AppData\\Local\\Temp/ipykernel_30940/913747316.py\u001b[0m in \u001b[0;36m<module>\u001b[1;34m\u001b[0m\n\u001b[0;32m      1\u001b[0m \u001b[1;31m# Pandas indices are immutable objects -- we can't change its value\u001b[0m\u001b[1;33m\u001b[0m\u001b[1;33m\u001b[0m\u001b[0m\n\u001b[0;32m      2\u001b[0m \u001b[0midx\u001b[0m \u001b[1;33m=\u001b[0m \u001b[0mpd\u001b[0m\u001b[1;33m.\u001b[0m\u001b[0mIndex\u001b[0m\u001b[1;33m(\u001b[0m\u001b[1;33m[\u001b[0m\u001b[1;36m1\u001b[0m\u001b[1;33m,\u001b[0m\u001b[1;36m2\u001b[0m\u001b[1;33m,\u001b[0m\u001b[1;36m3\u001b[0m\u001b[1;33m]\u001b[0m\u001b[1;33m)\u001b[0m\u001b[1;33m\u001b[0m\u001b[1;33m\u001b[0m\u001b[0m\n\u001b[1;32m----> 3\u001b[1;33m \u001b[0midx\u001b[0m\u001b[1;33m[\u001b[0m\u001b[1;36m1\u001b[0m\u001b[1;33m]\u001b[0m \u001b[1;33m=\u001b[0m \u001b[1;36m5\u001b[0m \u001b[1;31m# We get an error\u001b[0m\u001b[1;33m\u001b[0m\u001b[1;33m\u001b[0m\u001b[0m\n\u001b[0m",
      "\u001b[1;32mc:\\Users\\GarethDavies\\anaconda3\\lib\\site-packages\\pandas\\core\\indexes\\base.py\u001b[0m in \u001b[0;36m__setitem__\u001b[1;34m(self, key, value)\u001b[0m\n\u001b[0;32m   4583\u001b[0m     \u001b[1;33m@\u001b[0m\u001b[0mfinal\u001b[0m\u001b[1;33m\u001b[0m\u001b[1;33m\u001b[0m\u001b[0m\n\u001b[0;32m   4584\u001b[0m     \u001b[1;32mdef\u001b[0m \u001b[0m__setitem__\u001b[0m\u001b[1;33m(\u001b[0m\u001b[0mself\u001b[0m\u001b[1;33m,\u001b[0m \u001b[0mkey\u001b[0m\u001b[1;33m,\u001b[0m \u001b[0mvalue\u001b[0m\u001b[1;33m)\u001b[0m\u001b[1;33m:\u001b[0m\u001b[1;33m\u001b[0m\u001b[1;33m\u001b[0m\u001b[0m\n\u001b[1;32m-> 4585\u001b[1;33m         \u001b[1;32mraise\u001b[0m \u001b[0mTypeError\u001b[0m\u001b[1;33m(\u001b[0m\u001b[1;34m\"Index does not support mutable operations\"\u001b[0m\u001b[1;33m)\u001b[0m\u001b[1;33m\u001b[0m\u001b[1;33m\u001b[0m\u001b[0m\n\u001b[0m\u001b[0;32m   4586\u001b[0m \u001b[1;33m\u001b[0m\u001b[0m\n\u001b[0;32m   4587\u001b[0m     \u001b[1;32mdef\u001b[0m \u001b[0m__getitem__\u001b[0m\u001b[1;33m(\u001b[0m\u001b[0mself\u001b[0m\u001b[1;33m,\u001b[0m \u001b[0mkey\u001b[0m\u001b[1;33m)\u001b[0m\u001b[1;33m:\u001b[0m\u001b[1;33m\u001b[0m\u001b[1;33m\u001b[0m\u001b[0m\n",
      "\u001b[1;31mTypeError\u001b[0m: Index does not support mutable operations"
     ]
    }
   ],
   "source": [
    "# Pandas indices are immutable objects -- we can't change its value\n",
    "idx = pd.Index([1,2,3])\n",
    "idx[1] = 5 # We get an error"
   ]
  },
  {
   "cell_type": "markdown",
   "id": "4c4f651e",
   "metadata": {},
   "source": [
    "---\n",
    "## 7. Summary:\n",
    "\n",
    "- Pandas __DataFrame__ is a 2-dimensional array of data, indexed by rows and columns\n",
    "- DataFrames can be constructed in multiple ways - via list of lists, list of dictionaries, dictionary of lists, etc.\n",
    "- Obtaining the values, index, columns, column data types and the shape of a dataframe is identical to Series\n",
    "- Pandas __Index__ Object is an immutable sequence for indexing and alignment of Pandas objects"
   ]
  },
  {
   "cell_type": "markdown",
   "id": "c17db8e7",
   "metadata": {},
   "source": [
    "---\n",
    "## 8. Concept Check:\n",
    "\n",
    "1. What is a pandas DataFrame? How is it different to a Series?\n",
    "2. What are some useful attributes of a DataFrame instance?\n",
    "3. What is the data type for a column in a dataframe?\n",
    "4. Construct the following dataframe:\n",
    "\n",
    "|   | col1 | col2 |\n",
    "|---|------|------|\n",
    "| 0 | 1    | 2    |\n",
    "| 1 | 3    | 4    |\n",
    "| 2 | 5    | 6.0  |\n",
    "\n",
    "Using:\n",
    "\n",
    "   - a. A list of lists\n",
    "   - b. A list of tuples\n",
    "   - c. A dictionary of lists\n",
    "   - d. A dictionary of pd.Series objects\n",
    "\n",
    "5. Construct a pandas.Index of length 20, object consisting of the first 20 days of this month"
   ]
  },
  {
   "cell_type": "code",
   "execution_count": 26,
   "id": "d7f349d9",
   "metadata": {},
   "outputs": [
    {
     "data": {
      "text/html": [
       "<div>\n",
       "<style scoped>\n",
       "    .dataframe tbody tr th:only-of-type {\n",
       "        vertical-align: middle;\n",
       "    }\n",
       "\n",
       "    .dataframe tbody tr th {\n",
       "        vertical-align: top;\n",
       "    }\n",
       "\n",
       "    .dataframe thead th {\n",
       "        text-align: right;\n",
       "    }\n",
       "</style>\n",
       "<table border=\"1\" class=\"dataframe\">\n",
       "  <thead>\n",
       "    <tr style=\"text-align: right;\">\n",
       "      <th></th>\n",
       "      <th>col1</th>\n",
       "      <th>col2</th>\n",
       "    </tr>\n",
       "  </thead>\n",
       "  <tbody>\n",
       "    <tr>\n",
       "      <th>0</th>\n",
       "      <td>1</td>\n",
       "      <td>2.0</td>\n",
       "    </tr>\n",
       "    <tr>\n",
       "      <th>1</th>\n",
       "      <td>3</td>\n",
       "      <td>4.0</td>\n",
       "    </tr>\n",
       "    <tr>\n",
       "      <th>2</th>\n",
       "      <td>5</td>\n",
       "      <td>6.0</td>\n",
       "    </tr>\n",
       "  </tbody>\n",
       "</table>\n",
       "</div>"
      ],
      "text/plain": [
       "   col1  col2\n",
       "0     1   2.0\n",
       "1     3   4.0\n",
       "2     5   6.0"
      ]
     },
     "metadata": {},
     "output_type": "display_data"
    },
    {
     "data": {
      "text/html": [
       "<div>\n",
       "<style scoped>\n",
       "    .dataframe tbody tr th:only-of-type {\n",
       "        vertical-align: middle;\n",
       "    }\n",
       "\n",
       "    .dataframe tbody tr th {\n",
       "        vertical-align: top;\n",
       "    }\n",
       "\n",
       "    .dataframe thead th {\n",
       "        text-align: right;\n",
       "    }\n",
       "</style>\n",
       "<table border=\"1\" class=\"dataframe\">\n",
       "  <thead>\n",
       "    <tr style=\"text-align: right;\">\n",
       "      <th></th>\n",
       "      <th>col1</th>\n",
       "      <th>col2</th>\n",
       "    </tr>\n",
       "  </thead>\n",
       "  <tbody>\n",
       "    <tr>\n",
       "      <th>0</th>\n",
       "      <td>1</td>\n",
       "      <td>2.0</td>\n",
       "    </tr>\n",
       "    <tr>\n",
       "      <th>1</th>\n",
       "      <td>3</td>\n",
       "      <td>4.0</td>\n",
       "    </tr>\n",
       "    <tr>\n",
       "      <th>2</th>\n",
       "      <td>5</td>\n",
       "      <td>6.0</td>\n",
       "    </tr>\n",
       "  </tbody>\n",
       "</table>\n",
       "</div>"
      ],
      "text/plain": [
       "   col1  col2\n",
       "0     1   2.0\n",
       "1     3   4.0\n",
       "2     5   6.0"
      ]
     },
     "metadata": {},
     "output_type": "display_data"
    },
    {
     "data": {
      "text/html": [
       "<div>\n",
       "<style scoped>\n",
       "    .dataframe tbody tr th:only-of-type {\n",
       "        vertical-align: middle;\n",
       "    }\n",
       "\n",
       "    .dataframe tbody tr th {\n",
       "        vertical-align: top;\n",
       "    }\n",
       "\n",
       "    .dataframe thead th {\n",
       "        text-align: right;\n",
       "    }\n",
       "</style>\n",
       "<table border=\"1\" class=\"dataframe\">\n",
       "  <thead>\n",
       "    <tr style=\"text-align: right;\">\n",
       "      <th></th>\n",
       "      <th>col1</th>\n",
       "      <th>col2</th>\n",
       "    </tr>\n",
       "  </thead>\n",
       "  <tbody>\n",
       "    <tr>\n",
       "      <th>0</th>\n",
       "      <td>1</td>\n",
       "      <td>4.0</td>\n",
       "    </tr>\n",
       "    <tr>\n",
       "      <th>1</th>\n",
       "      <td>3</td>\n",
       "      <td>5.0</td>\n",
       "    </tr>\n",
       "    <tr>\n",
       "      <th>2</th>\n",
       "      <td>5</td>\n",
       "      <td>6.0</td>\n",
       "    </tr>\n",
       "  </tbody>\n",
       "</table>\n",
       "</div>"
      ],
      "text/plain": [
       "   col1  col2\n",
       "0     1   4.0\n",
       "1     3   5.0\n",
       "2     5   6.0"
      ]
     },
     "metadata": {},
     "output_type": "display_data"
    },
    {
     "data": {
      "text/html": [
       "<div>\n",
       "<style scoped>\n",
       "    .dataframe tbody tr th:only-of-type {\n",
       "        vertical-align: middle;\n",
       "    }\n",
       "\n",
       "    .dataframe tbody tr th {\n",
       "        vertical-align: top;\n",
       "    }\n",
       "\n",
       "    .dataframe thead th {\n",
       "        text-align: right;\n",
       "    }\n",
       "</style>\n",
       "<table border=\"1\" class=\"dataframe\">\n",
       "  <thead>\n",
       "    <tr style=\"text-align: right;\">\n",
       "      <th></th>\n",
       "      <th>col1</th>\n",
       "      <th>col2</th>\n",
       "    </tr>\n",
       "  </thead>\n",
       "  <tbody>\n",
       "    <tr>\n",
       "      <th>0</th>\n",
       "      <td>1</td>\n",
       "      <td>4.0</td>\n",
       "    </tr>\n",
       "    <tr>\n",
       "      <th>1</th>\n",
       "      <td>3</td>\n",
       "      <td>5.0</td>\n",
       "    </tr>\n",
       "    <tr>\n",
       "      <th>2</th>\n",
       "      <td>5</td>\n",
       "      <td>6.0</td>\n",
       "    </tr>\n",
       "  </tbody>\n",
       "</table>\n",
       "</div>"
      ],
      "text/plain": [
       "   col1  col2\n",
       "0     1   4.0\n",
       "1     3   5.0\n",
       "2     5   6.0"
      ]
     },
     "metadata": {},
     "output_type": "display_data"
    },
    {
     "data": {
      "text/plain": [
       "DatetimeIndex(['2022-06-01', '2022-06-02', '2022-06-03', '2022-06-04',\n",
       "               '2022-06-05', '2022-06-06', '2022-06-07', '2022-06-08',\n",
       "               '2022-06-09', '2022-06-10', '2022-06-11', '2022-06-12',\n",
       "               '2022-06-13', '2022-06-14', '2022-06-15', '2022-06-16',\n",
       "               '2022-06-17', '2022-06-18', '2022-06-19', '2022-06-20'],\n",
       "              dtype='datetime64[ns]', freq=None)"
      ]
     },
     "metadata": {},
     "output_type": "display_data"
    }
   ],
   "source": [
    "# 1. dataframes are 2-dimensional, series are 1-dimensional\n",
    "# 2. df.index, df.columns, df.values, df.shape\n",
    "# 3. pd.Series object\n",
    "# 4a.\n",
    "my_data1 = [[1,2], [3,4], [5,6.0]]\n",
    "df1 = pd.DataFrame(my_data1, columns=['col1', 'col2'])\n",
    "display(df1)\n",
    "# 4b.\n",
    "my_data2 = [(1,2), (3,4), (5,6.0)]\n",
    "df2 = pd.DataFrame(my_data2, columns=['col1', 'col2'])\n",
    "display(df2)\n",
    "# 4c.\n",
    "my_data3 = {'col1': [1,3,5], 'col2': [4,5,6.0]}\n",
    "df3 = pd.DataFrame(my_data3)\n",
    "display(df3)\n",
    "# 4d.\n",
    "s1 = pd.Series([1,3,5])\n",
    "s2 = pd.Series([4,5,6.0])\n",
    "df4 = pd.DataFrame({'col1': s1, 'col2': s2})\n",
    "display(df4)\n",
    "# 5.\n",
    "my_data4 = [dt.datetime(2022, 6, x) for x in range(1,21)]\n",
    "idx = pd.Index(my_data4)\n",
    "display(idx)"
   ]
  }
 ],
 "metadata": {
  "interpreter": {
   "hash": "54b57a9d7255aa9bd89013014712be1af3e9c0518087b34529522b12b0bc87de"
  },
  "kernelspec": {
   "display_name": "Python 3.9.7 ('base')",
   "language": "python",
   "name": "python3"
  },
  "language_info": {
   "codemirror_mode": {
    "name": "ipython",
    "version": 3
   },
   "file_extension": ".py",
   "mimetype": "text/x-python",
   "name": "python",
   "nbconvert_exporter": "python",
   "pygments_lexer": "ipython3",
   "version": "3.9.7"
  }
 },
 "nbformat": 4,
 "nbformat_minor": 5
}
