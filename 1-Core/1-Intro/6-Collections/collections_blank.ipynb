{
 "cells": [
  {
   "cell_type": "markdown",
   "metadata": {},
   "source": [
    "---\n",
    "# 8. Collections\n",
    "---\n"
   ]
  },
  {
   "cell_type": "markdown",
   "metadata": {},
   "source": [
    "## 8.1 The Python List\n",
    "\n",
    "### 8.1 Declaring a List\n",
    "\n",
    "- We declare a list by enclosing elements in square brackets `[]`.\n",
    "- Separate the elements by commas, e.g `[1, 2, 3]`.\n",
    "- Empty square brackets are okay (it means an empty list)."
   ]
  },
  {
   "cell_type": "code",
   "execution_count": 2,
   "metadata": {},
   "outputs": [
    {
     "name": "stdout",
     "output_type": "stream",
     "text": [
      "[50, 10]\n",
      "[[], [1, 2, 3]]\n"
     ]
    }
   ],
   "source": [
    "my_list = []\n",
    "your_list = [1, 2, 3]\n",
    "\n",
    "a = 50\n",
    "b = 10\n",
    "x = [a , b]\n",
    "print(x)\n",
    "\n",
    "our_list = [my_list, your_list]\n",
    "print(our_list)"
   ]
  },
  {
   "cell_type": "markdown",
   "metadata": {},
   "source": [
    "### 8.1.2 Accessing Elements of the List\n",
    "\n",
    "- You can also use square brackets to access each element of the list.\n",
    "- List are 0-index based, so the first element is the 0th element.\n",
    "- We read and write elements in a list this way."
   ]
  },
  {
   "cell_type": "code",
   "execution_count": 10,
   "metadata": {},
   "outputs": [
    {
     "name": "stdout",
     "output_type": "stream",
     "text": [
      "the first element of my_list is: a\n"
     ]
    }
   ],
   "source": [
    "#          0     1    2\n",
    "my_list = ['a', 'b', 'c']\n",
    "\n",
    "print(\"the first element of my_list is:\", my_list[0])"
   ]
  },
  {
   "cell_type": "code",
   "execution_count": 12,
   "metadata": {},
   "outputs": [
    {
     "data": {
      "text/plain": [
       "[1, 'b', 'c']"
      ]
     },
     "execution_count": 12,
     "metadata": {},
     "output_type": "execute_result"
    }
   ],
   "source": [
    "my_list[0] = 1\n",
    "my_list"
   ]
  },
  {
   "cell_type": "markdown",
   "metadata": {},
   "source": [
    "### Concept Check: Accessing List Elements\n",
    "\n",
    "Change the last element of `my_list` to a `'z'`, and print out the list."
   ]
  },
  {
   "cell_type": "code",
   "execution_count": 13,
   "metadata": {},
   "outputs": [
    {
     "data": {
      "text/plain": [
       "[1, 'b', 'z']"
      ]
     },
     "execution_count": 13,
     "metadata": {},
     "output_type": "execute_result"
    }
   ],
   "source": [
    "my_list[2] = 'z'\n",
    "my_list"
   ]
  },
  {
   "cell_type": "markdown",
   "metadata": {},
   "source": [
    "### 8.1.3 Adding Elements to the List\n",
    "\n",
    "- We use the `.append()` method to add one element to the end.\n",
    "- We use the `+` operator to join two lists together.\n",
    "- There are more list methods that we will cover later."
   ]
  },
  {
   "cell_type": "code",
   "execution_count": 14,
   "metadata": {},
   "outputs": [
    {
     "data": {
      "text/plain": [
       "[1, 'b', 'z', 'new item']"
      ]
     },
     "execution_count": 14,
     "metadata": {},
     "output_type": "execute_result"
    }
   ],
   "source": [
    "my_list.append(\"new item\")\n",
    "my_list"
   ]
  },
  {
   "cell_type": "code",
   "execution_count": 15,
   "metadata": {},
   "outputs": [
    {
     "name": "stdout",
     "output_type": "stream",
     "text": [
      "[1, 2, 3, 1, 2, 3]\n"
     ]
    }
   ],
   "source": [
    "your_list = [1, 2, 3]\n",
    "double_list = your_list + your_list\n",
    "print(double_list)"
   ]
  },
  {
   "cell_type": "markdown",
   "metadata": {},
   "source": [
    "### 8.1.4 The List `sort` Method \n",
    "\n",
    "- Calling the `.sort()` method wihtout arguments sorts the elements with the smallest first.\n",
    "- For strings, this is similar to alphabetic sorting (be careful with a mixture of capital letters).\n",
    "- Also, by default, it is not possible to sort a mixture of strings and integer types.\n",
    "- We can reverse the order of the sort, by specifying the input argument `reverse=True` (this is our first use of a *keyword* argument).\n"
   ]
  },
  {
   "cell_type": "code",
   "execution_count": 22,
   "metadata": {},
   "outputs": [
    {
     "name": "stdout",
     "output_type": "stream",
     "text": [
      "original order: ['Viral', 'Sophie', 'Tamia']\n",
      "default sort: ['Sophie', 'Tamia', 'Viral']\n",
      "reverse sort: ['Viral', 'Tamia', 'Sophie']\n"
     ]
    }
   ],
   "source": [
    "names = [\"Viral\", \"Sophie\", \"Tamia\"]\n",
    "print(\"original order:\", names)\n",
    "names.sort()\n",
    "print(\"default sort:\", names) # original list has been changed\n",
    "names.sort(reverse=True)\n",
    "print(\"reverse sort:\", names) # reverse alphabetical order"
   ]
  },
  {
   "cell_type": "markdown",
   "metadata": {},
   "source": [
    "### Concept Check: Making and Sorting a List of Names\n",
    "\n",
    "- Run the first code cell immediately below, to create a list called  `list_of_names`.\n",
    "- In the second code cell, write code to:\n",
    "    - Ask the user for a name to add to the list\n",
    "    - Append this name to the list\n",
    "    - Sort the list\n",
    "    - Print the list\n",
    "    \n",
    "You can run the second code cell multiple times, to add multiple names to the list. Each time you run the first code cell, the empty list will be re-created.\n"
   ]
  },
  {
   "cell_type": "code",
   "execution_count": 23,
   "metadata": {},
   "outputs": [],
   "source": [
    "# first code cell: run this once\n",
    "list_of_names = []"
   ]
  },
  {
   "cell_type": "code",
   "execution_count": 26,
   "metadata": {},
   "outputs": [
    {
     "name": "stdout",
     "output_type": "stream",
     "text": [
      "['Bhairavi', 'Gareth', 'George']\n"
     ]
    }
   ],
   "source": [
    "# second code cell: write your code here to add a name to this list, sort it and print it.\n",
    "new_name = input(\"New name: \")\n",
    "list_of_names.append(new_name)\n",
    "list_of_names.sort()\n",
    "print(list_of_names)"
   ]
  },
  {
   "cell_type": "markdown",
   "metadata": {},
   "source": [
    "## 8.2 The Python Dictionary\n",
    "\n",
    "### 8.2.1 Declaring a Dictionary\n",
    "\n",
    "A dictionary is a collection of key-value pairs. We can say the values are indexed by the keys. (In a list we say the values are indexed by 0, 1,2 etc.).\n",
    "\n",
    "- Use `{}` to enclose a new dictionary.\n",
    "- Just as with lists, we can declare an empty dictionary.\n",
    "- To define key-value paris, we use `:` to separate `key: value` pairs, and each pair is separated by a comma (just like a list).\n"
   ]
  },
  {
   "cell_type": "code",
   "execution_count": 28,
   "metadata": {},
   "outputs": [],
   "source": [
    "my_dict = {} # empty dictionary\n",
    "#              key :  value\n",
    "song_dict = {\"genre\": \"jazz\", \"length\": 432, \"year\": 1961} \n",
    "# genre, length and year are keys, with\n",
    "# \"jazz\", 432   and 1961 are the corresponding values"
   ]
  },
  {
   "cell_type": "markdown",
   "metadata": {},
   "source": [
    "### 8.2.2 Accessing Specific Keys and Values\n",
    "\n",
    "- To access a value in a dictionary, given its key, we can use square brackets to enclose the key.\n",
    "- This is very similar to accessing an element in a list, by enclosing an index.\n",
    "- The main difference is that lists are accessed with ordered integers (starting from 0), and dictionaries are accessed with keys (strings and numbers).\n"
   ]
  },
  {
   "cell_type": "code",
   "execution_count": 29,
   "metadata": {},
   "outputs": [
    {
     "data": {
      "text/plain": [
       "'jazz'"
      ]
     },
     "execution_count": 29,
     "metadata": {},
     "output_type": "execute_result"
    }
   ],
   "source": [
    "song_dict[\"genre\"] # Access the specific value of key 'genre'"
   ]
  },
  {
   "cell_type": "code",
   "execution_count": 30,
   "metadata": {},
   "outputs": [
    {
     "data": {
      "text/plain": [
       "{'genre': 'pop', 'length': 432, 'year': 1961}"
      ]
     },
     "execution_count": 30,
     "metadata": {},
     "output_type": "execute_result"
    }
   ],
   "source": [
    "song_dict[\"genre\"] = \"pop\"\n",
    "song_dict"
   ]
  },
  {
   "cell_type": "markdown",
   "metadata": {},
   "source": [
    "\n",
    "We can also use this syntax to assign a new value to an existing key, or indeed create a new key-value pair."
   ]
  },
  {
   "cell_type": "code",
   "execution_count": 31,
   "metadata": {},
   "outputs": [
    {
     "data": {
      "text/plain": [
       "{'genre': 'pop', 'length': 432, 'year': 1961, 'title': 'boys will be boys'}"
      ]
     },
     "execution_count": 31,
     "metadata": {},
     "output_type": "execute_result"
    }
   ],
   "source": [
    "song_dict[\"title\"] = \"boys will be boys\"\n",
    "song_dict"
   ]
  },
  {
   "cell_type": "markdown",
   "metadata": {},
   "source": [
    "### 8.2.3 Accessing All the Keys and Values\n",
    "\n",
    "- All the keys of a dictionary can be returned in a special type of list (`dict_keys`) by the `.keys()` method.\n",
    "- All the values of a dictionary can be returned in a special type of list (`dict_values`) by the `.values()` method.\n"
   ]
  },
  {
   "cell_type": "code",
   "execution_count": 35,
   "metadata": {},
   "outputs": [
    {
     "name": "stdout",
     "output_type": "stream",
     "text": [
      "keys: dict_keys(['genre', 'length', 'year', 'title'])\n",
      "values: dict_values(['pop', 432, 1961, 'boys will be boys'])\n"
     ]
    }
   ],
   "source": [
    "song_keys = song_dict.keys()\n",
    "song_values = song_dict.values()\n",
    "\n",
    "print(\"keys:\", song_keys)\n",
    "print(\"values:\", song_values)"
   ]
  },
  {
   "cell_type": "markdown",
   "metadata": {},
   "source": [
    "### 8.2.4 Is a Given Key in the Collection?\n",
    "\n",
    "We can use the Python `in` operator to find out whether a given value is in a list."
   ]
  },
  {
   "cell_type": "code",
   "execution_count": 38,
   "metadata": {},
   "outputs": [
    {
     "name": "stdout",
     "output_type": "stream",
     "text": [
      "Haris is not in my_names\n"
     ]
    }
   ],
   "source": [
    "my_names = [\"Rebecca\", \"Issac\", \"Aziz\"]\n",
    "\n",
    "name_check = \"Haris\"\n",
    "\n",
    "if name_check in my_names:\n",
    "    print(name_check, \"is in my_names\")\n",
    "else:\n",
    "    print(name_check, \"is not in my_names\")"
   ]
  },
  {
   "cell_type": "markdown",
   "metadata": {},
   "source": [
    "### Concept Check: a 'Phone Book' Dictionary (*)\n",
    "\n",
    "- Run the first code cell immediately below, to create a dictionary called  `phone_book`.\n",
    "- In the second code cell, write code to query this phone book:\n",
    "    - Ask the user for the name they'd like the phone number for\n",
    "    - If this name is in the phone book, print out the name and phone number.\n",
    "    - Otherwise, print out 'Sorry, that name is not in the phone book'.\n",
    "- In the third code cell, write code to ask the user for a name and number to add to the phone book.\n"
   ]
  },
  {
   "cell_type": "code",
   "execution_count": 39,
   "metadata": {},
   "outputs": [],
   "source": [
    "# first code cell: run this once, to reset the phone book\n",
    "\n",
    "phone_book = {'alice':'01234 567 890', \n",
    "              'bob': '06789 123 456',\n",
    "              'charlie': '0987 654 321'}\n"
   ]
  },
  {
   "cell_type": "code",
   "execution_count": 41,
   "metadata": {},
   "outputs": [
    {
     "name": "stdout",
     "output_type": "stream",
     "text": [
      "Sorry, that name is not in the phone book.\n"
     ]
    }
   ],
   "source": [
    "# second code cell: ask the user for a name\n",
    "# If this name is in the phone_book, print out the name and number\n",
    "\n",
    "name_to_check = input(\"Name to Check: \")\n",
    "\n",
    "if name_to_check in phone_book.keys():\n",
    "    print(f\"Here is the phone number {phone_book[name_to_check]} for {name_to_check}\")\n",
    "else:\n",
    "    print(\"Sorry, that name is not in the phone book.\")"
   ]
  },
  {
   "cell_type": "code",
   "execution_count": 42,
   "metadata": {},
   "outputs": [
    {
     "name": "stdout",
     "output_type": "stream",
     "text": [
      "{'alice': '01234 567 890', 'bob': '06789 123 456', 'charlie': '0987 654 321', 'Trevor': '123456'}\n"
     ]
    }
   ],
   "source": [
    "# third code cell: add name and number to phone book\n",
    "new_name = input(\"New name: \")\n",
    "new_number = input(\"New number: \")\n",
    "\n",
    "phone_book[new_name] = new_number\n",
    "print(phone_book)"
   ]
  },
  {
   "cell_type": "markdown",
   "metadata": {},
   "source": [
    "### Exercise: Write a Python Program to Get a Phone Number\n",
    "\n",
    "In the folder `Exercises`, there is a file `collections_ex1.py`.\n",
    "\n",
    "This file defines an address book (as a dictionary).\n",
    "\n",
    "Add Python statements to ask the user to input a name:\n",
    "- If this name is in the address book, print out the name and the number.\n",
    "- Otherwise, print out 'sorry, not in address book'. \n",
    "\n",
    "Run your program yourself, from the command line, to test that it works: you type `python collections_ex1.py`.\n",
    "\n",
    "You can also run the `pytest` from the command line to run the unit test for this file. (Please keep the entries in the address book as they are, for the test to work.)\n",
    "\n",
    "When you have completed this exercise, you can `add`, `commit` and `push` this version of your project to the `origin`, so that we can see that this is complete. "
   ]
  },
  {
   "cell_type": "markdown",
   "metadata": {},
   "source": [
    "---\n",
    "# 9. Iterations\n",
    "---\n",
    "## 9.1 Iterating Over a List\n",
    "\n",
    "- The `for` statement can be used to loop over each element in a collection (here a list).\n",
    "- The *iterable* is the object to be iterated over (the list).\n",
    "- The *iterator* / *iterator variable* is the variable assigned to each element in turn.\n",
    "- The colon denotes the start of a new indented code block, which is repeated once per element.\n",
    "\n"
   ]
  },
  {
   "cell_type": "code",
   "execution_count": null,
   "metadata": {},
   "outputs": [],
   "source": [
    "shopping_list = [\"apples\", \"bananas\", \"walnuts\"]\n",
    "\n",
    "print(\"item:\", shopping_list[0])\n",
    "print(\"----\")\n",
    "print(\"item:\", shopping_list[1])\n",
    "print(\"----\")\n",
    "print(\"item:\", shopping_list[2])\n",
    "print(\"----\")"
   ]
  },
  {
   "cell_type": "code",
   "execution_count": 54,
   "metadata": {},
   "outputs": [
    {
     "name": "stdout",
     "output_type": "stream",
     "text": [
      "item: apples\n",
      "----\n",
      "item: bananas\n",
      "----\n",
      "item: walnuts\n",
      "----\n",
      "item: tomatoes\n",
      "----\n",
      "item: broccoli\n",
      "----\n",
      "*****\n"
     ]
    }
   ],
   "source": [
    "# Here shopping_list is the 'iterable' thing: we can iterate over it\n",
    "shopping_list = [\"apples\", \"bananas\", \"walnuts\", \"tomatoes\", \"broccoli\"]\n",
    "\n",
    "for item in shopping_list: # 'item' is 'iterator variable', it is a dynamic variable assigned to each element in shopping_list\n",
    "    print(\"item:\", item)\n",
    "    print(\"----\") # This line is included in the iteration (indented)\n",
    "print(\"*****\") # This line is not included in the iteration (not indented)"
   ]
  },
  {
   "cell_type": "markdown",
   "metadata": {},
   "source": [
    "### Concept Check: Printing Each Name in a List\n",
    "\n",
    "- Run the first code cell immediately below, to create a list called  `list_of_names`.\n",
    "- In the second code cell, write code to:\n",
    "    - Ask the user for a name, and add it to the list\n",
    "    - Print this list: on seperate line for each item, print the name, along with how many characters there are in the name, e.g. \n",
    "```\n",
    "alice has 5 characters\n",
    "bob has 3 characters\n",
    "charlie has 7 characters\n",
    "```\n"
   ]
  },
  {
   "cell_type": "code",
   "execution_count": 52,
   "metadata": {},
   "outputs": [],
   "source": [
    "# first code cell:\n",
    "list_of_names = ['alice', 'bob', 'charlie']"
   ]
  },
  {
   "cell_type": "code",
   "execution_count": 53,
   "metadata": {},
   "outputs": [
    {
     "name": "stdout",
     "output_type": "stream",
     "text": [
      "Name: alice, Length: 5\n",
      "Name: bob, Length: 3\n",
      "Name: charlie, Length: 7\n",
      "Name: Zoofi, Length: 5\n"
     ]
    }
   ],
   "source": [
    "# second code cell:\n",
    "new_name = input(\"New name: \")\n",
    "list_of_names.append(new_name)\n",
    "for name in list_of_names:\n",
    "    print(f\"Name: {name}, Length: {len(name)}\")"
   ]
  },
  {
   "cell_type": "markdown",
   "metadata": {},
   "source": [
    "### Exercise: Write a Python Program to print out all names in a list\n",
    "\n",
    "In the folder `Exercises`, there is a file `collections_ex2.py`.\n",
    "\n",
    "This file defines an list of names. \n",
    "\n",
    "Add Python statements to print out each name on a separate line.  \n",
    "\n",
    "Run your program yourself, from the command line, to test that it works: you type `python collections_ex2.py`.\n",
    "\n",
    "You can also run the `pytest` from the command line to run the unit test for this file. (Please keep the entries in the address book as they are, for the test to work.)\n",
    "\n",
    "When you have completed this exercise, you can `add`, `commit` and `push` this version of your project to the `origin`, so that we can see that this is complete. "
   ]
  },
  {
   "cell_type": "markdown",
   "metadata": {},
   "source": [
    "## 9.2 Iterating Over a Dictionary\n"
   ]
  },
  {
   "cell_type": "code",
   "execution_count": 62,
   "metadata": {},
   "outputs": [
    {
     "name": "stdout",
     "output_type": "stream",
     "text": [
      "starter :\n",
      "samosas\n",
      "-----\n",
      "main course :\n",
      "truffle pasta\n",
      "-----\n",
      "dessert :\n",
      "mango sorbert\n",
      "-----\n",
      "*****\n"
     ]
    }
   ],
   "source": [
    "dinner = {\n",
    "    \"starter\": \"samosas\",\n",
    "    \"main course\": \"truffle pasta\",\n",
    "    \"dessert\": \"mango sorbert\",\n",
    "}\n",
    "\n",
    "for course in dinner:\n",
    "    print(course, \":\") # By default, the iterator variable will be a dictionaries keys.\n",
    "    print(dinner[course]) # To get values, we index the dictionary with the key as before.\n",
    "    print(\"-----\")\n",
    "print(\"*****\")"
   ]
  },
  {
   "cell_type": "code",
   "execution_count": 60,
   "metadata": {},
   "outputs": [
    {
     "data": {
      "text/plain": [
       "'mango sorbert'"
      ]
     },
     "execution_count": 60,
     "metadata": {},
     "output_type": "execute_result"
    }
   ],
   "source": [
    "dinner['dessert']"
   ]
  },
  {
   "cell_type": "markdown",
   "metadata": {},
   "source": [
    "### Concept Check:  Printing the Elements of a Dictionary\n",
    "\n",
    "Print the name and number of the entries in the phone book. Put each entry on a separate line. "
   ]
  },
  {
   "cell_type": "code",
   "execution_count": null,
   "metadata": {},
   "outputs": [],
   "source": [
    "phone_book = {'alice':'01234 567 890', \n",
    "              'bob': '06789 123 456',\n",
    "              'charlie': '0987 654 321'}\n",
    "# write your code here:\n"
   ]
  },
  {
   "cell_type": "markdown",
   "metadata": {},
   "source": [
    "### Exercise: Write a Python Program to print out all phone numbers\n",
    "\n",
    "In the folder `Exercises`, there is a file `collections_ex3.py`.\n",
    "\n",
    "This file defines an address book (as a dictionary).\n",
    "\n",
    "Add Python statements to print out the name and number of each entry in the address book. \n",
    "\n",
    "Run your program yourself, from the command line, to test that it works: you type `python collections_ex3.py`.\n",
    "\n",
    "You can also run the `pytest` from the command line to run the unit test for this file. (Please keep the entries in the address book as they are, for the test to work.)\n",
    "\n",
    "When you have completed this exercise, you can `add`, `commit` and `push` this version of your project to the `origin`, so that we can see that this is complete. "
   ]
  },
  {
   "cell_type": "markdown",
   "metadata": {},
   "source": [
    "## 9.3 Iterating Over a Range of Numbers\n",
    "\n"
   ]
  },
  {
   "cell_type": "code",
   "execution_count": null,
   "metadata": {},
   "outputs": [],
   "source": []
  },
  {
   "cell_type": "markdown",
   "metadata": {},
   "source": [
    "### Concept Check: Iterating Using `range`\n",
    "\n",
    "Iterate between the numbers 1 and 60 (inclusive), adding to `losing_numbers`, all those that are not in `winning_numbers`"
   ]
  },
  {
   "cell_type": "code",
   "execution_count": null,
   "metadata": {},
   "outputs": [],
   "source": [
    "winning_numbers = [12,14,16,23,27,59]\n",
    "losing_numbers = [] # to be filled up\n"
   ]
  },
  {
   "cell_type": "markdown",
   "metadata": {},
   "source": [
    "## 9.4 Iterating While a Statement is `True`\n",
    "\n"
   ]
  },
  {
   "cell_type": "code",
   "execution_count": null,
   "metadata": {},
   "outputs": [],
   "source": []
  },
  {
   "cell_type": "markdown",
   "metadata": {},
   "source": [
    "### Concept Check: Iteratively Adding Entries to a Phone Book (*)\n",
    "\n",
    "\n",
    "Iteratively ask the user to enter in names and phone numbers, which are then added to the `phone_book` dictionary. After each time a new entry is added, print out the `phone_book`.  If the user gives a name that is an empty string, then stop asking them.\n"
   ]
  },
  {
   "cell_type": "code",
   "execution_count": 3,
   "metadata": {},
   "outputs": [],
   "source": [
    "\n",
    "phone_book = {'alice':'01234 567 890', \n",
    "              'bob': '06789 123 456',\n",
    "              'charlie': '0987 654 321'}\n",
    "\n",
    "# write code here:\n"
   ]
  },
  {
   "cell_type": "code",
   "execution_count": null,
   "metadata": {},
   "outputs": [],
   "source": []
  }
 ],
 "metadata": {
  "kernelspec": {
   "display_name": "Python 3.9.7 ('base')",
   "language": "python",
   "name": "python3"
  },
  "language_info": {
   "codemirror_mode": {
    "name": "ipython",
    "version": 3
   },
   "file_extension": ".py",
   "mimetype": "text/x-python",
   "name": "python",
   "nbconvert_exporter": "python",
   "pygments_lexer": "ipython3",
   "version": "3.9.7"
  },
  "vscode": {
   "interpreter": {
    "hash": "f49206fcf84a9145e7e21228cbafa911d1ac18292303b01e865d8267a9c448f7"
   }
  }
 },
 "nbformat": 4,
 "nbformat_minor": 4
}
