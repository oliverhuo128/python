{
 "cells": [
  {
   "cell_type": "markdown",
   "metadata": {},
   "source": [
    "\n",
    "---\n",
    "# 4. Troubleshooting Problems\n",
    "---\n",
    "Below, we have included a list of issues that are occasionally encountered running Jupyter Notebooks. If you encounter an issue, you may wish to turn to that section, to see if one of the suggested solutions works for you. \n",
    "\n",
    "In addition, a common troubleshooting approach is to identify the most descriptive part of the error, and use these terms in an internet search for community solutions.  \n",
    "\n",
    "\n",
    "Here, we'll now troubleshoot four issues that you may encounter, using Jupyter notebooks. Fore-warned is fore-armed! \n",
    "\n",
    "The first issue you may encounter when starting Jupyter notebooks. Some applications do not have permission to write into certain folders. If you get a ‘permission denied’ error when trying to create a new notebook, then you can either try again in a different folder (the ‘One Drive’ location is a good choice, for several reasons), or try running the Anaconda prompt in ‘administrator’ mode. \n",
    "\n",
    "Second, looking at the anaconda prompt that is running Jupyter notebook application, we can see that if any text is selected, them this pauses the application  -- the controls on the notebook web page no longer respond. To 'unfreeze' the application, simply deselect the text, either by hitting the 'escape' key or some other way. Use of the Jupyter notebook is then resumed.\n",
    "\n",
    "The third item on our list of problems that you may encounter, is the program that runs forever. We can demonstrate this by writing a program that keeps writing 'hello world' for ever -- for example like this. We can see that, on the left margin, the number in square brackets is replaced by an asterisk -- which shows that this code cell is currently running (or scheduled to be run). The simplest way forward is to restart the kernel, which is the environment for running Python cells. We can then edit our program so that this doesn't happen again!\n",
    "\n",
    "The last item on our list occurs when we accidentally stop the Jupyter notebook program. This could happen if we accidentally close the anaconda prompt window, or if we type 'Control-C' at the prompt. In the second case, we can see that the Jupyter notebooks application has terminated. However, the browser windows are not closed -- they will now report an error message. To continue using these notebooks, we can close these windows, and run the Jupyter notebook application again, either through the existing anaconda prompt, or through a new prompt.\n",
    "All being well, you now have a good foundation knowledge of Jupyter notebooks. We introduced the two types of cell: the code cells hold lines of Python source code, and the markdown cells hold formatted text. We learned how to add, delete and re-arrange cells, using handy short-cut keys if preferred. And used some simple markdown formatting, including a link to an online resource. \n",
    "\n",
    "\n"
   ]
  }
 ],
 "metadata": {
  "language_info": {
   "name": "python"
  },
  "orig_nbformat": 4
 },
 "nbformat": 4,
 "nbformat_minor": 2
}
