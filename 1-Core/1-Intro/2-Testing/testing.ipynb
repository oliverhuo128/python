{
 "cells": [
  {
   "cell_type": "markdown",
   "metadata": {},
   "source": [
    "# Testing our first program\n",
    "\n",
    "\n",
    "We'd now like to run a test program to check that out 'hello world' program is working correctly.\n",
    "\n",
    "To do this we will:\n",
    "- Copy the program file `hello_world.py` from the folder `PY01.01.Intro.01.GettingStarted` into the `Exercises` folder, inside the `PY01.01.Intro.02.Testing` folder. \n",
    "- Open a command line console (the 'anaconda prompt') and, using the '`cd` command, change the working directory to be this folder. \n",
    "- Run the command `pytest`\n",
    "- Check that the output from `pytest` shows that the test has passed. \n",
    "\n",
    "Although this is a very simple program, what is now shown is a means of automatically checking that the program has run correctly. \n",
    "The program `test_hello_world.py` runs the program ``hello_world.py`, and checks that the output is correct. \n",
    "\n",
    "This is a very useful part of modern software development: it allows large teams to work quickly, easily identifying changes that 'break' their programs (because they will see a failing automated test.)\n",
    "\n",
    "In this module, we will use automated tests to check some of the programs that we write.  In a later module, we will learn to write these tests ourselves. \n",
    "\n",
    "Let's see what a failing test looks like, by modifying the `hello_world.py` program so that it prints out 'Goodbye, World!' instead. \n",
    "Re-run the `pytest` command on the Anaconda Prompt, and observe the  output. You can change it back, to the original greeting, to observe that the test passes once more. \n",
    "\n",
    "Experiment with some different greetings, to see which ones pass the test, and which ones fail. \n"
   ]
  }
 ],
 "metadata": {
  "kernelspec": {
   "display_name": "base",
   "language": "python",
   "name": "python3"
  },
  "language_info": {
   "name": "python",
   "version": "3.9.13 (main, Aug 25 2022, 23:51:50) [MSC v.1916 64 bit (AMD64)]"
  },
  "orig_nbformat": 4,
  "vscode": {
   "interpreter": {
    "hash": "ad2bdc8ecc057115af97d19610ffacc2b4e99fae6737bb82f5d7fb13d2f2c186"
   }
  }
 },
 "nbformat": 4,
 "nbformat_minor": 2
}
