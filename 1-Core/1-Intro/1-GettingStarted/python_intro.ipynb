{
 "cells": [
  {
   "cell_type": "markdown",
   "metadata": {},
   "source": [
    "# Introduction to Python\n",
    "\n",
    "## What is Python?\n",
    "\n",
    "Made by Guido van Rossum in 1991, Python is a general-purpose, high-level programming language that emphasises code readability that consistently ranks as one of the most popular programming languages for beginners and professionals alike.\n",
    "\n",
    "\n",
    "## What can you do with Python?\n",
    "\n",
    "- Data analysis\n",
    "- Data visualisation\n",
    "  - Example [Uber Ridesharing in NYC Visualisation built with Streamlit](https://share.streamlit.io/streamlit/demo-uber-nyc-pickups/main)\n",
    "  - See the [streamlit gallery](https://streamlit.io/gallery) for more examples, although you can create visualisation dashboards with many other librarires.\n",
    "- Statistics and machine learning\n",
    "- Web development\n",
    "    - Built with django web framework: [The National Geographic website](https://www.nationalgeographic.com/)\n",
    "- Automation or scripting of everyday tasks\n",
    "\n",
    "\n",
    "## Why Python?\n",
    "\n",
    "- It has simple syntax that mimics natural language\n",
    "  - This makes Python **beginner-friendly** and easy to read.\n",
    "- Its open source\n",
    "  - This means Python is free to use, built and supported by the developer community, without any corporate interest.\n",
    "- It has a large and active online community supporting and extending Python to suit many usecases\n",
    "  - This makes Python a very stable language.\n",
    "  - This makes Python very **versatile** (Python has a large array of useful modules and libraries that add functionality)\n",
    "  - This also makes it very **easy to find support** for learning and for troubleshooting online.\n",
    "  - Python is a **popular**, **in-demand** professional skill.\n",
    "- Python is a **high-level** language\n",
    "  - This combined with its simple syntax means that it takes less code to make big projects a reality.\n",
    "  - Althought this can come at the cost of performance for certain tasks\n",
    "- Python is a **multi-paradigm** language\n",
    "  - This means you have the ability to code in multiple ways and doesn't box you into one programming paradigm.\n",
    "- Here is the [2021 Stack Overflow Developer survey](https://insights.stackoverflow.com/survey/2021#technology)."
   ]
  },
  {
   "cell_type": "markdown",
   "metadata": {},
   "source": [
    "### What do you think this code below does?"
   ]
  },
  {
   "cell_type": "code",
   "execution_count": 2,
   "metadata": {},
   "outputs": [
    {
     "name": "stdout",
     "output_type": "stream",
     "text": [
      "\n",
      "        Dear Linus, \n",
      "        Please remember to hand in your git homework.\n",
      "        Many thanks,\n",
      "        Gareth\n",
      "        \n"
     ]
    }
   ],
   "source": [
    "consultants = {\n",
    "    \"Ada\": {\"homework_done\": True},\n",
    "    \"Marie\": {\"homework_done\": True},\n",
    "    \"Linus\": {\"homework_done\": False},\n",
    "    \"Guido\": {\"homework_done\": True},\n",
    "}\n",
    "\n",
    "for consultant_name, info in consultants.items():\n",
    "    if info[\"homework_done\"] is False:\n",
    "        print(f\"\"\"\n",
    "        Dear {consultant_name}, \n",
    "        Please remember to hand in your git homework.\n",
    "        Many thanks,\n",
    "        Gareth\n",
    "        \"\"\"\n",
    "        )"
   ]
  },
  {
   "cell_type": "markdown",
   "metadata": {},
   "source": [
    "Run this code below:"
   ]
  },
  {
   "cell_type": "code",
   "execution_count": null,
   "metadata": {},
   "outputs": [],
   "source": []
  },
  {
   "cell_type": "markdown",
   "metadata": {},
   "source": [
    "---"
   ]
  },
  {
   "cell_type": "markdown",
   "metadata": {},
   "source": [
    "## Installing Python on Mac\n",
    "\n",
    "Pre-requisites\n",
    "- [Homebrew](https://brew.sh/)\n",
    "- [Pyenv](https://github.com/pyenv/pyenv)\n",
    "\n",
    "Install the latest python version, and set that version to the global version.\n",
    "- `pyenv install --list`\n",
    "- `pyenv install 3.X.X`\n",
    "- `pyenv global 3.X.X`"
   ]
  },
  {
   "cell_type": "markdown",
   "metadata": {},
   "source": []
  },
  {
   "cell_type": "markdown",
   "metadata": {},
   "source": [
    "## Install jupyter notebooks\n"
   ]
  },
  {
   "cell_type": "markdown",
   "metadata": {},
   "source": []
  },
  {
   "cell_type": "code",
   "execution_count": 3,
   "metadata": {},
   "outputs": [
    {
     "name": "stdout",
     "output_type": "stream",
     "text": [
      "hello world\n"
     ]
    }
   ],
   "source": [
    "print(\"hello world\")"
   ]
  },
  {
   "cell_type": "markdown",
   "metadata": {},
   "source": [
    "### Hello World in Java\n",
    "\n",
    "```java\n",
    "public class myfirstclass {\n",
    "    public static void main(String[] args){\n",
    "        System.out.println(\"Hello World!\")\n",
    "    }\n",
    "}\n",
    "```"
   ]
  },
  {
   "cell_type": "markdown",
   "metadata": {},
   "source": []
  }
 ],
 "metadata": {
  "kernelspec": {
   "display_name": "base",
   "language": "python",
   "name": "python3"
  },
  "language_info": {
   "codemirror_mode": {
    "name": "ipython",
    "version": 3
   },
   "file_extension": ".py",
   "mimetype": "text/x-python",
   "name": "python",
   "nbconvert_exporter": "python",
   "pygments_lexer": "ipython3",
   "version": "3.9.13 (main, Aug 25 2022, 23:51:50) [MSC v.1916 64 bit (AMD64)]"
  },
  "vscode": {
   "interpreter": {
    "hash": "ad2bdc8ecc057115af97d19610ffacc2b4e99fae6737bb82f5d7fb13d2f2c186"
   }
  }
 },
 "nbformat": 4,
 "nbformat_minor": 2
}
