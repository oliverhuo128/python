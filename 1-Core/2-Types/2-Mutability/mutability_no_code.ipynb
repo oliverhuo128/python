{
 "cells": [
  {
   "cell_type": "markdown",
   "metadata": {},
   "source": [
    "---\n",
    "# 2. Mutability and Immutability\n",
    "---\n",
    "\n",
    "If an object's value can be changed, then it is mutable.\n",
    "Otherwise, it is immutable. \n",
    "\n",
    "Examples of mutable objects include Lists, Sets and Dictionaries. This means that multiple references to the same object will reflect changes made by any of the references. \n",
    "\n",
    "Examples of immutable objects include Tuples, ints, floats and strings. This means that multiple references to the same object will then refer to different objects, should any of them make a change. \n",
    "\n",
    "\n"
   ]
  },
  {
   "cell_type": "code",
   "execution_count": null,
   "metadata": {},
   "outputs": [],
   "source": []
  },
  {
   "cell_type": "code",
   "execution_count": null,
   "metadata": {},
   "outputs": [],
   "source": []
  },
  {
   "cell_type": "markdown",
   "metadata": {},
   "source": [
    "## 2.1 Tuples and Lists\n",
    "\n",
    "Tuples are immutable lists. This means that, once they are created:\n",
    "- It is not possible to add or remove items, e.g. there is no `append` method for tuples\n",
    "- Each element in the tuple contains an object that cannot be replaced with a different object \n",
    "\n",
    "We can create a tuple in several different ways:\n",
    "- Declare in normal brackets, separating with commas\n",
    "- Convert from a list to a tuple with the `tuple` built-in function (We can also do the reverse conversion using the `list` built-in function).\n",
    "- Concatenate other tuples together \n"
   ]
  },
  {
   "cell_type": "code",
   "execution_count": null,
   "metadata": {},
   "outputs": [],
   "source": []
  },
  {
   "cell_type": "code",
   "execution_count": null,
   "metadata": {},
   "outputs": [],
   "source": []
  },
  {
   "cell_type": "markdown",
   "metadata": {},
   "source": [
    "### Concept Check: Immutable Tuples\n",
    "\n",
    "\n",
    "If I have a tuple that includes a list as one of the elements, can I append items to this list?\n",
    "\n",
    "If so, what does it mean, that a tuple is immutable? \n"
   ]
  },
  {
   "cell_type": "code",
   "execution_count": null,
   "metadata": {},
   "outputs": [],
   "source": [
    "# space here to write your answer\n"
   ]
  },
  {
   "cell_type": "code",
   "execution_count": null,
   "metadata": {},
   "outputs": [],
   "source": []
  }
 ],
 "metadata": {
  "kernelspec": {
   "display_name": "Python 3",
   "language": "python",
   "name": "python3"
  },
  "language_info": {
   "codemirror_mode": {
    "name": "ipython",
    "version": 3
   },
   "file_extension": ".py",
   "mimetype": "text/x-python",
   "name": "python",
   "nbconvert_exporter": "python",
   "pygments_lexer": "ipython3",
   "version": "3.10.2"
  }
 },
 "nbformat": 4,
 "nbformat_minor": 2
}
