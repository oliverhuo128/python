{
 "cells": [
  {
   "cell_type": "markdown",
   "id": "378d5734",
   "metadata": {},
   "source": [
    "---\n",
    "Variables, Expressions and `if` statements\n",
    "---\n",
    "\n",
    "In Python, we store data in items called 'variables' - so called because the data values can 'vary' over the lifetime of a program."
   ]
  },
  {
   "cell_type": "code",
   "execution_count": 1,
   "id": "9bc1db9d",
   "metadata": {
    "scrolled": true
   },
   "outputs": [
    {
     "name": "stdout",
     "output_type": "stream",
     "text": [
      "10\n",
      "20\n"
     ]
    }
   ],
   "source": [
    "# x is a variable\n",
    "x = 10\n",
    "print(x)\n",
    "\n",
    "# We can vary x to be another number\n",
    "x = 20\n",
    "print(x)"
   ]
  },
  {
   "cell_type": "markdown",
   "id": "44a051eb",
   "metadata": {},
   "source": [
    "Point to note from the above code:\n",
    "\n",
    "- We can assign values to a variable name, the one above is called `x`.\n",
    "- The '=' sign is the assignment operator. We \"`x` is assigned to the value 10\".\n",
    "- The lines of code of executed in sequence.\n",
    "- Any text coming after the `#` character is ignored by Python: these text strings are called 'comments'.\n",
    "\n",
    "The `x` variable can be assigned to other types of data, e.g. a string of character:"
   ]
  },
  {
   "cell_type": "code",
   "execution_count": 2,
   "id": "7ea7c05a",
   "metadata": {},
   "outputs": [
    {
     "name": "stdout",
     "output_type": "stream",
     "text": [
      "hello world\n"
     ]
    }
   ],
   "source": [
    "x = \"hello world\"\n",
    "print(x)"
   ]
  },
  {
   "cell_type": "markdown",
   "id": "5744fefd",
   "metadata": {},
   "source": [
    "Another useful type of data is the `None` type. We use this to signify an empty variable:"
   ]
  },
  {
   "cell_type": "code",
   "execution_count": 3,
   "id": "db6e38ea",
   "metadata": {},
   "outputs": [],
   "source": [
    "name = \"Guido van Rossum\"\n",
    "age = 66\n",
    "email_address = None"
   ]
  },
  {
   "cell_type": "markdown",
   "id": "22c9073c",
   "metadata": {},
   "source": [
    "## Variable Names: Some Rules and Conventions\n",
    "\n",
    "Choosing correct and appropriate variable names is important:\n",
    "\n",
    "- There are a few rules:\n",
    "  - They can only include letters, numbers, and the '`_`'character.\n",
    "  - They cannot start with a number.\n",
    "  - They cannot be Python reserved words.\n",
    "- There are also a few conventions:\n",
    "  - Variable names use lowercase rather than uppercase.\n",
    "  - The words in a name are separated by the '`_`' character.\n",
    "  - If a variable starts with '`_`', it has a special role in Python - this is covered later.\n",
    "- They should be descriptive yet concise. This makes source code more understandable and 'easy on the eye'.\n",
    "- Avoid using python built-in functions e.g. `print = 1` as you will overwrite their behaviour"
   ]
  },
  {
   "cell_type": "markdown",
   "id": "513b2fc7",
   "metadata": {},
   "source": [
    "## Concept Check: Variable Names\n",
    "\n",
    "Which of the following variables names are valid, and which of these follow the above conventions? "
   ]
  },
  {
   "cell_type": "code",
   "execution_count": 4,
   "id": "9f6521c5",
   "metadata": {},
   "outputs": [],
   "source": [
    "# eight_ball = 8 \n",
    "# 8_ball = 8 \n",
    "# eight-ball = 8\n",
    "Eight_Ball = 8\n",
    "# ball_8 = 8\n",
    "# Gin&Tonic = 570\n",
    "# ManagingDirectorSalary = 100\n",
    "# category = 123\n",
    "# class = 456\n",
    "# None = \"nothing to see here\""
   ]
  },
  {
   "cell_type": "markdown",
   "id": "b5d8f2a3",
   "metadata": {},
   "source": [
    "## Expressions\n",
    "\n",
    "\n",
    "We can combine variables together in what Python calls expressions. For example:\n",
    "\n",
    "- `x + y` is an expression\n",
    "- `x * y` means 'x multiplied by y',\n",
    "- and `x ** 2` means 'x to the power 2', or 'x squared'."
   ]
  },
  {
   "cell_type": "code",
   "execution_count": 5,
   "id": "51ed5b8e",
   "metadata": {},
   "outputs": [
    {
     "name": "stdout",
     "output_type": "stream",
     "text": [
      "30\n",
      "200\n",
      "100000000000000000000\n",
      "3.1622776601683795\n"
     ]
    }
   ],
   "source": [
    "x = 10\n",
    "y = 20\n",
    "print(x + y)\n",
    "print(x * y)\n",
    "print(x ** y)\n",
    "print(x ** 0.5)"
   ]
  },
  {
   "cell_type": "markdown",
   "id": "4649e357",
   "metadata": {},
   "source": [
    "### Example: Calulating Volume\n",
    "\n",
    "Write a cell that calculates and prints the volume of a cuboid, given its width, height and depth."
   ]
  },
  {
   "cell_type": "code",
   "execution_count": 6,
   "id": "b5143896",
   "metadata": {},
   "outputs": [
    {
     "name": "stdout",
     "output_type": "stream",
     "text": [
      "Volume is 336\n"
     ]
    }
   ],
   "source": [
    "width = 6\n",
    "height = 7\n",
    "depth = 8\n",
    "volume = width * height * depth\n",
    "print(\"Volume is\", volume)"
   ]
  },
  {
   "cell_type": "markdown",
   "id": "b0c5e74f",
   "metadata": {},
   "source": [
    "## Bracket and Operator Precedence\n",
    "\n",
    "- Expressions can be combined together with round brackets, just like in regular maths. Expressions within brackets are evaluated first, and then combined with elements outside the brackets.\n",
    "- Operator are applied in order of precedence. Aside from brackets, arithmetic operators are applied in the following priority:\n",
    "  - The power operator `**` is the highest priority\n",
    "  - Next is the negative sign, e.g. `-x` reverse the sign of `x`\n",
    "  - Then there are multiplication (`*`) and division (`/`). The have equal priority and are applied left-to-right.\n",
    "  - Finally there are the addition (`+`) and subtraction (`-`) operators. These are the lowest priority.\n",
    "  \n",
    "There are also other types of operator in Python, which we cover later.\n",
    "\n",
    "Predict the outcomes of the expressions below:"
   ]
  },
  {
   "cell_type": "code",
   "execution_count": 10,
   "id": "14e6b4f5",
   "metadata": {},
   "outputs": [
    {
     "name": "stdout",
     "output_type": "stream",
     "text": [
      "60\n"
     ]
    }
   ],
   "source": [
    "x = 10\n",
    "y = 20\n",
    "z = (x + y) * 2\n",
    "print(z)"
   ]
  },
  {
   "cell_type": "code",
   "execution_count": 8,
   "id": "55f9be33",
   "metadata": {},
   "outputs": [
    {
     "name": "stdout",
     "output_type": "stream",
     "text": [
      "18\n"
     ]
    }
   ],
   "source": [
    "y = 6 + 6 * 2\n",
    "print(y)"
   ]
  },
  {
   "cell_type": "code",
   "execution_count": 11,
   "id": "ab12a398",
   "metadata": {},
   "outputs": [
    {
     "name": "stdout",
     "output_type": "stream",
     "text": [
      "8.0\n"
     ]
    }
   ],
   "source": [
    "x = 6 / 3 * 4\n",
    "print(x)"
   ]
  },
  {
   "cell_type": "markdown",
   "id": "e5ed91b0",
   "metadata": {},
   "source": [
    "### Concept Check: Calculate the Hypotenuse\n",
    "\n",
    "Write a notebook cell, to calculate and print the length of a right angle's hypotenuse, given the lengths of the adjacent and opposite sides."
   ]
  },
  {
   "cell_type": "code",
   "execution_count": 14,
   "id": "8b19f270",
   "metadata": {},
   "outputs": [
    {
     "name": "stdout",
     "output_type": "stream",
     "text": [
      "15.620499351813308\n"
     ]
    }
   ],
   "source": [
    "adjacent = 12\n",
    "opposite = 10\n",
    "\n",
    "# Write code below\n",
    "hypotenuse = (adjacent ** 2 + opposite ** 2) ** 0.5\n",
    "print(hypotenuse)"
   ]
  },
  {
   "cell_type": "markdown",
   "id": "0fbef3d8",
   "metadata": {},
   "source": [
    "## Conditional (`if`) Statements\n",
    "\n",
    "The `if` statement is used to compare expressions, and make our program act according to the result of that comparison."
   ]
  },
  {
   "cell_type": "code",
   "execution_count": 21,
   "id": "3b704ab7",
   "metadata": {},
   "outputs": [
    {
     "name": "stdout",
     "output_type": "stream",
     "text": [
      "Estimated volume is 320\n",
      "Volume is 336\n"
     ]
    }
   ],
   "source": [
    "estimated_volume = 320\n",
    "\n",
    "width = 6\n",
    "height = 7\n",
    "depth = 8\n",
    "volume = width * height * depth\n",
    "print(\"Estimated volume is\", estimated_volume)\n",
    "\n",
    "\n",
    "if estimated_volume > volume:\n",
    "    print(\"estimate is too big\")\n",
    "    print(\"please try again.\")\n",
    "\n",
    "print(\"Volume is\", volume)"
   ]
  },
  {
   "cell_type": "markdown",
   "id": "b90ee987",
   "metadata": {},
   "source": [
    "Notes on above:\n",
    "\n",
    "- The `if` statement uses the 'greater than' conditional operator, `>`, which evaluates to be either `True` or `False`.\n",
    "- At the end of the line containing the `if` statement, there's a colon, showing the beginning of a new 'code blocks'.\n",
    "- The new code block defined by the increased indent, typically 4 spaces. This code block wil only be run if the comparison is `True`.\n",
    "- The last line of the code is outside the code block and is run whatever the result of the comparison."
   ]
  },
  {
   "cell_type": "markdown",
   "id": "5953bd92",
   "metadata": {},
   "source": [
    "### Adding an `else` Statement\n",
    "\n",
    "Optionally, an `else` statement can be included, to provide an alternative indented code block to run."
   ]
  },
  {
   "cell_type": "code",
   "execution_count": 24,
   "id": "b83544c7",
   "metadata": {},
   "outputs": [
    {
     "name": "stdout",
     "output_type": "stream",
     "text": [
      "Estimated volume is 320\n",
      "estimate is less than or equal to volume\n",
      "Volume is 336\n"
     ]
    }
   ],
   "source": [
    "estimated_volume = 320\n",
    "\n",
    "width = 6\n",
    "height = 7\n",
    "depth = 8\n",
    "volume = width * height * depth\n",
    "print(\"Estimated volume is\", estimated_volume)\n",
    "\n",
    "if estimated_volume > volume:\n",
    "    print(\"estimate is too big\")\n",
    "    print(\"please try again.\")\n",
    "else:\n",
    "    print(\"estimate is less than or equal to volume\")\n",
    "\n",
    "    \n",
    "print(\"Volume is\", volume)"
   ]
  },
  {
   "cell_type": "markdown",
   "id": "6b669431",
   "metadata": {},
   "source": [
    "If we have no code to include in the indented block, we can just write '`pass`', the `pass` statement is a placeholder that we can use when we need at least one line of indented block."
   ]
  },
  {
   "cell_type": "code",
   "execution_count": 26,
   "id": "955bd541",
   "metadata": {},
   "outputs": [
    {
     "name": "stdout",
     "output_type": "stream",
     "text": [
      "Estimated volume is 320\n",
      "Volume is 336\n"
     ]
    }
   ],
   "source": [
    "estimated_volume = 320\n",
    "\n",
    "width = 6\n",
    "height = 7\n",
    "depth = 8\n",
    "volume = width * height * depth\n",
    "print(\"Estimated volume is\", estimated_volume)\n",
    "\n",
    "if estimated_volume > volume:\n",
    "    print(\"estimate is too big\")\n",
    "    print(\"please try again.\")\n",
    "else:\n",
    "    pass\n",
    "\n",
    "print(\"Volume is\", volume)"
   ]
  },
  {
   "cell_type": "markdown",
   "id": "6e0404c8",
   "metadata": {},
   "source": [
    "### Adding an `elif` Statement\n",
    "\n",
    "Furthermore, we can include addiion comparisons (and code blocks) with the `elif` operator:"
   ]
  },
  {
   "cell_type": "code",
   "execution_count": 34,
   "id": "005b9647",
   "metadata": {},
   "outputs": [
    {
     "name": "stdout",
     "output_type": "stream",
     "text": [
      "Estimated volume is 336\n",
      "Correct estimate!\n",
      "Volume is 336\n"
     ]
    }
   ],
   "source": [
    "estimated_volume = 336\n",
    "\n",
    "width = 6\n",
    "height = 7\n",
    "depth = 8\n",
    "volume = width * height * depth\n",
    "print(\"Estimated volume is\", estimated_volume)\n",
    "\n",
    "if estimated_volume > volume:\n",
    "    print(\"estimate is too big\")\n",
    "    print(\"please try again.\")\n",
    "elif estimated_volume == volume:\n",
    "    print(\"Correct estimate!\")\n",
    "else:\n",
    "    print(\"estimate is less than volume\")\n",
    "\n",
    "    \n",
    "print(\"Volume is\", volume)"
   ]
  },
  {
   "cell_type": "markdown",
   "id": "7b0f2708",
   "metadata": {},
   "source": [
    "Here, we use the `==` ('the equality operator') to see if the two values are equal.\n",
    "\n",
    "- Note the important difference between `==` and the `=` (the assignment operator).\n",
    "- Other comparison operators `<=` ('less than or equal') and `!=` ('not equal')"
   ]
  },
  {
   "cell_type": "markdown",
   "id": "3c2d1863",
   "metadata": {},
   "source": [
    "## Summary\n",
    "\n",
    "### Variables\n",
    "\n",
    "- Data can be stored in *variables* using the assingment operator `=`.\n",
    "- Variables have *names*, for which there are rules and conventions.\n",
    "\n",
    "### Expressions\n",
    "\n",
    "- We can combine together multiple variables and constant values using *expressions*.\n",
    "- For the *arithmetic* operators `*` is 'multiply, and `**` 'to the power of'.\n",
    "- More complex expressions use multiple operators, which are evaluated in order of precedence.\n",
    "- We can also use brackets to force some parts of the expression to be evaluated before others.\n",
    "\n",
    "### Conditional Statements\n",
    "\n",
    "- We can compare expressions using the `if` statement.\n",
    "- We can optionally include `else` and `elif` statements if needed.\n",
    "- In each case, there is an indented code block which may be run, depending on the result of the comparison.\n",
    "- To compare two expressions to see if they are equal, we use the equality operator `==`."
   ]
  }
 ],
 "metadata": {
  "kernelspec": {
   "display_name": "Python 3",
   "language": "python",
   "name": "python3"
  },
  "language_info": {
   "codemirror_mode": {
    "name": "ipython",
    "version": 3
   },
   "file_extension": ".py",
   "mimetype": "text/x-python",
   "name": "python",
   "nbconvert_exporter": "python",
   "pygments_lexer": "ipython3",
   "version": "3.11.1 (tags/v3.11.1:a7a450f, Dec  6 2022, 19:58:39) [MSC v.1934 64 bit (AMD64)]"
  },
  "vscode": {
   "interpreter": {
    "hash": "6ddf89528c052d17dd0ff6cad390b8a902d6a387dd5bf4c4e0f1be121ffe932c"
   }
  }
 },
 "nbformat": 4,
 "nbformat_minor": 5
}
