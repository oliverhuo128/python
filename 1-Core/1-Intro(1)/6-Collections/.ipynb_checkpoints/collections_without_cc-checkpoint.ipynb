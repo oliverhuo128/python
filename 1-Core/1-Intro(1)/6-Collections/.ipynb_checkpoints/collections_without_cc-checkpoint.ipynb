{
 "cells": [
  {
   "cell_type": "markdown",
   "metadata": {},
   "source": [
    "---\n",
    "# 8. Collections\n",
    "---\n",
    "Some examples of collections we'll work with:\n",
    "- The list: a sequence of items, indexed by number\n",
    "- The dictionary: a collection of key-value pairs"
   ]
  },
  {
   "cell_type": "markdown",
   "metadata": {},
   "source": [
    "## 8.1 The Python List\n",
    "\n",
    "### 8.1 Declaring a List\n",
    "- Declare a list by enclosing the elements in square brackets `[]`\n",
    "- Separate the elements by commas, e.g. `[1,2,3]`\n",
    "- Empty square brackets is ok (it means start with an empty list)"
   ]
  },
  {
   "cell_type": "code",
   "execution_count": null,
   "metadata": {},
   "outputs": [],
   "source": [
    "my_list   = [] # empty\n",
    "your_list = [1,2,3]\n",
    "\n",
    "a = 50\n",
    "b = 10\n",
    "x = [a,b] # include variables in a list\n",
    "\n",
    "our_list = [my_list, your_list] # include lists in a list!\n",
    "\n",
    "print(our_list)"
   ]
  },
  {
   "cell_type": "markdown",
   "metadata": {},
   "source": [
    "### 8.1.2 Accessing Elements of the List\n",
    "- You can also use square brackets to access each element of the list\n",
    "- Use `[0]` to access the first element of the list, `[1]` to access the second element, and so on. \n",
    "- You can both read and write elements of the list in this way "
   ]
  },
  {
   "cell_type": "code",
   "execution_count": null,
   "metadata": {},
   "outputs": [],
   "source": [
    "my_list = ['a', 'b', 'c']\n",
    "\n",
    "print('first element of list:', my_list[0]) # first element in list"
   ]
  },
  {
   "cell_type": "markdown",
   "metadata": {},
   "source": [
    "### Concept Check: Accessing List Elements\n",
    "\n",
    "Change the last element of `my_list` to a `'z'`, and print out the list"
   ]
  },
  {
   "cell_type": "code",
   "execution_count": null,
   "metadata": {},
   "outputs": [],
   "source": [
    "my_list = ['a', 'b', 'c']\n",
    "\n",
    "# Change the last element of `my_list` to a `'z'`, and print out the list\n"
   ]
  },
  {
   "cell_type": "markdown",
   "metadata": {},
   "source": [
    "*Common Error*: They may try and just reinitialist the entire list"
   ]
  },
  {
   "cell_type": "markdown",
   "metadata": {},
   "source": [
    "### 8.1.3 Adding Elements to the List\n",
    "\n",
    "- Use the `.append()` method to add one element to the end.\n",
    "- Use the plus operator (`+`) to join two lists together.\n",
    "- There are more list methods that we'll cover later in the module. "
   ]
  },
  {
   "cell_type": "markdown",
   "metadata": {},
   "source": []
  },
  {
   "cell_type": "markdown",
   "metadata": {},
   "source": [
    "*Common Error*: append is a method, not a function"
   ]
  },
  {
   "cell_type": "code",
   "execution_count": null,
   "metadata": {},
   "outputs": [],
   "source": [
    "your_list   = ['a', 'b', 'c']\n",
    "double_list = your_list + your_list\n",
    "print(double_list)"
   ]
  },
  {
   "cell_type": "markdown",
   "metadata": {},
   "source": [
    "### 8.1.4 The List `sort` Method \n",
    "- Calling the list `sort` method without arguments sorts the elements, smallest first \n",
    "- For strings, this is similar to alphabetic sorting (but be careful with capital letters) \n",
    "- Also, by default (without additional input arguments), it is not possible to sort a mixture of string and integer types\n",
    "- We can reverse the order of the list by specifying the input argument \n",
    "`reverse=True`. This is our first use of a *keyword* argument -- 'reverse' is a keyword. We'll learn more about these later in the module. "
   ]
  },
  {
   "cell_type": "code",
   "execution_count": null,
   "metadata": {},
   "outputs": [],
   "source": [
    "names = ['Bob', 'Charlie', 'Alice']\n",
    "print(' original order:', names)\n",
    "names.sort()\n",
    "print('default sorting:', names) # original list has been changed\n",
    "names.sort(reverse=True)\n",
    "print('reverse sorting:', names) # now sorted in reverse order"
   ]
  },
  {
   "cell_type": "markdown",
   "metadata": {},
   "source": [
    "### Concept Check: Making and Sorting a List of Names\n",
    "\n",
    "- Run the first code cell immediately below, to create a list called  `list_of_names`.\n",
    "- In the second code cell, write code to:\n",
    "    - Ask the user for a name to add to the list\n",
    "    - Append this name to the list\n",
    "    - Sort the list\n",
    "    - Print the list\n",
    "    \n",
    "You can run the second code cell multiple times, to add multiple names to the list. Each time you run the first code cell, the empty list will be re-created.\n"
   ]
  },
  {
   "cell_type": "code",
   "execution_count": null,
   "metadata": {},
   "outputs": [],
   "source": [
    "# first code cell: run this once\n",
    "list_of_names = []"
   ]
  },
  {
   "cell_type": "code",
   "execution_count": null,
   "metadata": {},
   "outputs": [],
   "source": [
    "# second code cell: write your code here to add a name to this list, sort it and print it.\n"
   ]
  },
  {
   "cell_type": "markdown",
   "metadata": {},
   "source": [
    "## 8.2 The Python Dictionary\n",
    "\n",
    "### 8.2.1 Declaring a Dictionary\n",
    "\n",
    "A dictionary is a collection of key-value pairs. It is similar to a list but instead of using integers `0,1,2...` as 'keys' to store the values, we can choose our own keys instead.\n",
    "\n",
    "- Use braces `{}` (sometimes known as curly brackets) to enclose a new dictionary\n",
    "- Declaring an empty dictionary is fine, we can add key-value pairs later \n",
    "- Or, enclose key-value pairs in the braces. The key is separated from the value by a colon, and each pair is separated from the previous pair by a comma – just like the elements of a list. "
   ]
  },
  {
   "cell_type": "code",
   "execution_count": null,
   "metadata": {},
   "outputs": [],
   "source": [
    "my_dict = {} # empty dictionary\n",
    "your_dict = {'genre':'jazz', 'length':432, 'year':1961} # genre, length and year are keys\n",
    "                                                        # 'jazz', 432 and 1961 are values\n",
    "    "
   ]
  },
  {
   "cell_type": "markdown",
   "metadata": {},
   "source": [
    "### 8.2.2 Accessing Specific Keys and Values\n",
    "To access a value in a dictionary, given the key, we can use square brackets to enclose the key.\n",
    "This is very similar to accessing an element of a list can be accessed, by enclosing an index. \n",
    "The main difference is that list elements are accessed with an integer that starts at zero, while dictionary keys can be strings or any valued number."
   ]
  },
  {
   "cell_type": "code",
   "execution_count": null,
   "metadata": {},
   "outputs": [],
   "source": [
    "your_dict['genre'] # accesses the corresponding value\n"
   ]
  },
  {
   "cell_type": "markdown",
   "metadata": {},
   "source": [
    "\n",
    "We can also use this syntax to assign a new value to an existing key, or indeed create a new key-value pair."
   ]
  },
  {
   "cell_type": "code",
   "execution_count": null,
   "metadata": {},
   "outputs": [],
   "source": [
    "your_dict['genre'] = 'pop'\n",
    "\n",
    "your_dict['genre']\n",
    "\n",
    "my_dict['new key'] = 'new value'\n",
    "print(my_dict)"
   ]
  },
  {
   "cell_type": "markdown",
   "metadata": {},
   "source": [
    "### 8.2.3 Accessing All the Keys and Values\n",
    "- All the keys are returned as a special type of list (a `dict_keys` list) by the `keys()` method\n",
    "- All the values are returned as a special type of list (a `dict_values` list) by the `values()` method\n"
   ]
  },
  {
   "cell_type": "code",
   "execution_count": null,
   "metadata": {},
   "outputs": [],
   "source": [
    "    \n",
    "your_keys = your_dict.keys()\n",
    "your_values = your_dict.values()\n",
    "\n",
    "print('keys', your_keys)\n",
    "print('values', your_values)"
   ]
  },
  {
   "cell_type": "markdown",
   "metadata": {},
   "source": [
    "### 8.2.4 Is a Given Key in the Collection?\n",
    "\n",
    "We can use the Python `in` operator to find out whether a given value is contained in the list. \n",
    "\n"
   ]
  },
  {
   "cell_type": "code",
   "execution_count": null,
   "metadata": {},
   "outputs": [],
   "source": [
    "# Example use of the 'in' operator\n",
    "\n",
    "my_list = ['alice', 'bob', 'charlie']\n",
    "\n",
    "value = 'alice'\n",
    "if value in my_list:\n",
    "    print(value, 'is in the book')\n",
    "else:\n",
    "    print(value, 'is NOT in the book')"
   ]
  },
  {
   "cell_type": "markdown",
   "metadata": {},
   "source": [
    "### Concept Check: a 'Phone Book' Dictionary (*)\n",
    "\n",
    "- Run the first code cell immediately below, to create a dictionary called  `phone_book`.\n",
    "- In the second code cell, write code to query this phone book:\n",
    "    - Ask the user for the name they'd like the phone number for\n",
    "    - If this name is in the phone book, print out the name and phone number.\n",
    "    - Otherwise, print out 'Sorry, that name is not in the phone book'.\n",
    "- In the third code cell, write code to ask the user for a name and number to add to the phone book.\n"
   ]
  },
  {
   "cell_type": "code",
   "execution_count": null,
   "metadata": {},
   "outputs": [],
   "source": [
    "# first code cell: run this once, to reset the phone book\n",
    "\n",
    "phone_book = {'alice':'01234 567 890', \n",
    "              'bob': '06789 123 456',\n",
    "              'charlie': '0987 654 321'}\n"
   ]
  },
  {
   "cell_type": "code",
   "execution_count": null,
   "metadata": {},
   "outputs": [],
   "source": [
    "# second code cell: ask the user for a name\n",
    "# If this name is in the phone_book, print out the name and number"
   ]
  },
  {
   "cell_type": "markdown",
   "metadata": {},
   "source": [
    "*Common error*: may struggle to index the "
   ]
  },
  {
   "cell_type": "code",
   "execution_count": null,
   "metadata": {},
   "outputs": [],
   "source": [
    "# third code cell: add name and number to phone book\n"
   ]
  },
  {
   "cell_type": "markdown",
   "metadata": {},
   "source": [
    "### Exercise: Write a Python Program to Get a Phone Number\n",
    "\n",
    "In the folder `Exercises`, there is a file `collections_ex1.py`.\n",
    "\n",
    "This file defines an address book (as a dictionary).\n",
    "\n",
    "Add Python statements to ask the user to input a name:\n",
    "- If this name is in the address book, print out the name and the number.\n",
    "- Otherwise, print out 'sorry, not in address book'. \n",
    "\n",
    "Run your program yourself, from the command line, to test that it works: you type `python collections_ex1.py`.\n",
    "\n",
    "You can also run the `pytest` from the command line to run the unit test for this file. (Please keep the entries in the address book as they are, for the test to work.)\n",
    "\n",
    "When you have completed this exercise, you can `add`, `commit` and `push` this version of your project to the `origin`, so that we can see that this is complete. "
   ]
  },
  {
   "cell_type": "markdown",
   "metadata": {},
   "source": [
    "---\n",
    "# 9. Iterations\n",
    "---\n",
    "## 9.1 Iterating Over a List\n",
    "\n",
    "- The `for` statement can be used to loop over each element in a list\n",
    "- The *iterable* is the object to be iterated over (the list)\n",
    "- The *iterator* is the variable assigned to each element in turn\n",
    "- The colon denotes the start of the indented code block, to be repeated once per element\n"
   ]
  },
  {
   "cell_type": "code",
   "execution_count": null,
   "metadata": {},
   "outputs": [],
   "source": [
    "# shopping_list is the 'iterable': we can iterate over it\n",
    "shopping_list = ['apples', 'bananas', 'walnuts']\n",
    "\n",
    "for item in shopping_list: # 'item' is the 'iterator' variable, it is a dynamic variable assigned to each _element_ in our list.\n",
    "    print(item)\n",
    "    print('-----') # this line included in iteration (indented)\n",
    "print('****') # this line not included in iteration (not indented)\n",
    "\n"
   ]
  },
  {
   "cell_type": "markdown",
   "metadata": {},
   "source": [
    "### Concept Check: Printing Each Name in a List\n",
    "\n",
    "- Run the first code cell immediately below, to create a list called  `list_of_names`.\n",
    "- In the second code cell, write code to:\n",
    "    - Ask the user for a name, and add it to the list\n",
    "    - Print this list: on seperate line for each item, print the name, along with how many characters there are in the name, e.g. \n",
    "```\n",
    "alice has 5 characters\n",
    "bob has 3 characters\n",
    "charlie has 7 characters\n",
    "```\n"
   ]
  },
  {
   "cell_type": "code",
   "execution_count": null,
   "metadata": {},
   "outputs": [],
   "source": [
    "# first code cell:\n",
    "list_of_names = ['alice', 'bob', 'charlie']"
   ]
  },
  {
   "cell_type": "code",
   "execution_count": null,
   "metadata": {},
   "outputs": [],
   "source": [
    "# second code cell:\n"
   ]
  },
  {
   "cell_type": "markdown",
   "metadata": {},
   "source": [
    "### Exercise: Write a Python Program to print out all names in a list\n",
    "\n",
    "In the folder `Exercises`, there is a file `collections_ex2.py`.\n",
    "\n",
    "This file defines an list of names. \n",
    "\n",
    "Add Python statements to print out each name on a separate line.  \n",
    "\n",
    "Run your program yourself, from the command line, to test that it works: you type `python collections_ex2.py`.\n",
    "\n",
    "You can also run the `pytest` from the command line to run the unit test for this file. (Please keep the entries in the address book as they are, for the test to work.)\n",
    "\n",
    "When you have completed this exercise, you can `add`, `commit` and `push` this version of your project to the `origin`, so that we can see that this is complete. "
   ]
  },
  {
   "cell_type": "markdown",
   "metadata": {},
   "source": [
    "## 9.2 Iterating Over a Dictionary\n",
    "\n",
    "- To iterate over the keys in a dictionary, the same pattern is followed\n",
    "- This also allows access to each value in the dictionary\n",
    "- Note that it is our choice of name for the iterator variable "
   ]
  },
  {
   "cell_type": "code",
   "execution_count": null,
   "metadata": {},
   "outputs": [],
   "source": [
    "dinner = {'starter':'prawn cocktail', \n",
    "          'main course': 'vegetable lasagne',\n",
    "          'dessert': 'trifle'}\n",
    "\n",
    "for my_item in dinner: \n",
    "    print(my_item)\n",
    "    print('----')\n",
    "print('***')"
   ]
  },
  {
   "cell_type": "code",
   "execution_count": null,
   "metadata": {},
   "outputs": [],
   "source": [
    "for x in dinner:\n",
    "    print(x)\n",
    "    print('----')\n",
    "print('***')"
   ]
  },
  {
   "cell_type": "code",
   "execution_count": null,
   "metadata": {},
   "outputs": [],
   "source": [
    "for x in dinner: # x is key\n",
    "    print(dinner[x]) # dinner[x] is the value\n",
    "    print('----')\n",
    "print('***')"
   ]
  },
  {
   "cell_type": "markdown",
   "metadata": {},
   "source": [
    "### Concept Check:  Printing the Elements of a Dictionary\n",
    "\n",
    "Print the name and number of the entries in the phone book. Put each entry on a separate line. "
   ]
  },
  {
   "cell_type": "code",
   "execution_count": null,
   "metadata": {},
   "outputs": [],
   "source": [
    "phone_book = {'alice':'01234 567 890', \n",
    "              'bob': '06789 123 456',\n",
    "              'charlie': '0987 654 321'}\n",
    "# write your code here:"
   ]
  },
  {
   "cell_type": "markdown",
   "metadata": {},
   "source": [
    "### Exercise: Write a Python Program to print out all phone numbers\n",
    "\n",
    "In the folder `Exercises`, there is a file `collections_ex3.py`.\n",
    "\n",
    "This file defines an address book (as a dictionary).\n",
    "\n",
    "Add Python statements to print out the name and number of each entry in the address book. \n",
    "\n",
    "Run your program yourself, from the command line, to test that it works: you type `python collections_ex3.py`.\n",
    "\n",
    "You can also run the `pytest` from the command line to run the unit test for this file. (Please keep the entries in the address book as they are, for the test to work.)\n",
    "\n",
    "When you have completed this exercise, you can `add`, `commit` and `push` this version of your project to the `origin`, so that we can see that this is complete. "
   ]
  },
  {
   "cell_type": "markdown",
   "metadata": {},
   "source": [
    "## 9.3 Iterating Over a Range of Numbers\n",
    "\n",
    "- To iterate over a range of integer numbers, we use the inbuilt function `range`\n",
    "- If we provide one input argument, then it iterates up to that number (but not including!)\n",
    "- If we provide two input arguments, then it iterates from the first number up to the second\n",
    "- If we provide three input arguments, then it uses the third number as the step (or 'stride') "
   ]
  },
  {
   "cell_type": "code",
   "execution_count": null,
   "metadata": {},
   "outputs": [],
   "source": [
    "for x in range(10):\n",
    "    print(x)\n"
   ]
  },
  {
   "cell_type": "code",
   "execution_count": null,
   "metadata": {},
   "outputs": [],
   "source": [
    "for x in range (10, 20):\n",
    "    print(x)"
   ]
  },
  {
   "cell_type": "code",
   "execution_count": null,
   "metadata": {},
   "outputs": [],
   "source": [
    "for x in range (10, 100, 20): # '20' is the step\n",
    "    print(x)"
   ]
  },
  {
   "cell_type": "markdown",
   "metadata": {},
   "source": [
    "### Concept Check: Iterating Using `range`\n",
    "\n",
    "Iterate between the numbers 1 and 60 (inclusive), adding to `losing_numbers`, all those that are not in `winning_numbers`"
   ]
  },
  {
   "cell_type": "code",
   "execution_count": null,
   "metadata": {},
   "outputs": [],
   "source": [
    "winning_numbers = [12,14,16,23,27,59]\n",
    "losing_numbers = [] # to be filled up\n"
   ]
  },
  {
   "cell_type": "markdown",
   "metadata": {},
   "source": [
    "## 9.4 Iterating While a Statement is `True`\n",
    "\n",
    "- Recall the conditional '`if`' statement: this only runs the indented code block (once), if the expression is true.\n",
    "- The `while` statement has similar form, but it repeatedly evaluates the expression on this line. Each time it is true, it re-runs the indented block, and returns back to this line. If the expression is false, the the program continues after the indented block. "
   ]
  },
  {
   "cell_type": "code",
   "execution_count": null,
   "metadata": {},
   "outputs": [],
   "source": [
    "play_again = 'y'\n",
    "while play_again=='y':\n",
    "    print('playing game...')\n",
    "    play_again = input('play again?')\n",
    "print('finished playing') "
   ]
  },
  {
   "cell_type": "markdown",
   "metadata": {},
   "source": [
    "### Concept Check: Iteratively Adding Entries to a Phone Book (*)\n",
    "\n",
    "\n",
    "Iteratively ask the user to enter in names and phone numbers, which are then added to the `phone_book` dictionary. After each time a new entry is added, print out the `phone_book`.  If the user gives a name that is an empty string, then stop asking them.\n"
   ]
  },
  {
   "cell_type": "code",
   "execution_count": 1,
   "metadata": {},
   "outputs": [],
   "source": [
    "\n",
    "phone_book = {'alice':'01234 567 890', \n",
    "              'bob': '06789 123 456',\n",
    "              'charlie': '0987 654 321'}\n",
    "\n",
    "# write code here:\n"
   ]
  }
 ],
 "metadata": {
  "interpreter": {
   "hash": "cafeaa2399fa74e6dc79b3b726e7872fe86cf7945b44d42102441e40f1b90793"
  },
  "kernelspec": {
   "display_name": "Python 3 (ipykernel)",
   "language": "python",
   "name": "python3"
  },
  "language_info": {
   "codemirror_mode": {
    "name": "ipython",
    "version": 3
   },
   "file_extension": ".py",
   "mimetype": "text/x-python",
   "name": "python",
   "nbconvert_exporter": "python",
   "pygments_lexer": "ipython3",
   "version": "3.9.7"
  }
 },
 "nbformat": 4,
 "nbformat_minor": 4
}
