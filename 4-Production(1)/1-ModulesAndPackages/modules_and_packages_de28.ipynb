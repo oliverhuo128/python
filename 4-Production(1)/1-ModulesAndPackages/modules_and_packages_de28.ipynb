{
 "cells": [
  {
   "cell_type": "markdown",
   "metadata": {},
   "source": [
    "# Python Scripts, Modules and Packages\n",
    "\n",
    "There are two ways a Python source file can be executed:\n",
    "- as a main program/script\n",
    "- as a module/package\n",
    "\n",
    "When a Python file is executed as a script, the `__name__` variable will set to the string `__main__`. If it is imported as a module, the `__name__` variable will be set to the module name. "
   ]
  },
  {
   "cell_type": "code",
   "execution_count": 3,
   "metadata": {},
   "outputs": [
    {
     "data": {
      "text/plain": [
       "'__main__'"
      ]
     },
     "execution_count": 3,
     "metadata": {},
     "output_type": "execute_result"
    }
   ],
   "source": [
    "__name__"
   ]
  },
  {
   "cell_type": "markdown",
   "metadata": {},
   "source": [
    "## Modules and Packages\n",
    "\n",
    "Large Python programs are typically organised into modules and packages. A module or a package is a way of wrapping up your code into nice organisational units. This has several benefits:\n",
    "- Logic in modules/packages can be reused in other scripts or programs. \n",
    "- Modules/packages in a program allow for better code design and separation of responsibilities. "
   ]
  },
  {
   "cell_type": "markdown",
   "metadata": {},
   "source": [
    "### Modules\n",
    "Any Python source file (`.py`) file can be used as a module. A module is just a python `.py` file. Modules can be imported using the `import` statement. "
   ]
  },
  {
   "cell_type": "markdown",
   "metadata": {},
   "source": [
    "### Import priority\n",
    "\n",
    "When you run an import statement, python will look in the following two places for a module/package:\n",
    "\n",
    "1. Your current working directory.\n",
    "2. File paths that are on you PYTHON PATH."
   ]
  },
  {
   "cell_type": "code",
   "execution_count": 4,
   "metadata": {},
   "outputs": [],
   "source": [
    "import os # This is a file called: os.py that lives somewhere on my computer\n",
    "import sys"
   ]
  },
  {
   "cell_type": "code",
   "execution_count": 5,
   "metadata": {},
   "outputs": [
    {
     "data": {
      "text/plain": [
       "'c:\\\\Users\\\\GarethDavies\\\\OneDrive - Kubrick Group\\\\cohorts\\\\DE\\\\de28\\\\Python\\\\4-Production\\\\1-ModulesAndPackages'"
      ]
     },
     "execution_count": 5,
     "metadata": {},
     "output_type": "execute_result"
    }
   ],
   "source": [
    "# get current working directory.\n",
    "os.getcwd() # First an import statement will look here"
   ]
  },
  {
   "cell_type": "code",
   "execution_count": 6,
   "metadata": {},
   "outputs": [
    {
     "data": {
      "text/plain": [
       "['c:\\\\Users\\\\GarethDavies\\\\OneDrive - Kubrick Group\\\\cohorts\\\\DE\\\\de28\\\\Python\\\\4-Production\\\\1-ModulesAndPackages',\n",
       " 'c:\\\\Users\\\\GarethDavies\\\\anaconda3\\\\python39.zip',\n",
       " 'c:\\\\Users\\\\GarethDavies\\\\anaconda3\\\\DLLs',\n",
       " 'c:\\\\Users\\\\GarethDavies\\\\anaconda3\\\\lib',\n",
       " 'c:\\\\Users\\\\GarethDavies\\\\anaconda3',\n",
       " '',\n",
       " 'c:\\\\Users\\\\GarethDavies\\\\anaconda3\\\\lib\\\\site-packages',\n",
       " 'c:\\\\Users\\\\GarethDavies\\\\anaconda3\\\\lib\\\\site-packages\\\\locket-0.2.1-py3.9.egg',\n",
       " 'c:\\\\Users\\\\GarethDavies\\\\anaconda3\\\\lib\\\\site-packages\\\\win32',\n",
       " 'c:\\\\Users\\\\GarethDavies\\\\anaconda3\\\\lib\\\\site-packages\\\\win32\\\\lib',\n",
       " 'c:\\\\Users\\\\GarethDavies\\\\anaconda3\\\\lib\\\\site-packages\\\\Pythonwin',\n",
       " 'c:\\\\Users\\\\GarethDavies\\\\anaconda3\\\\lib\\\\site-packages\\\\IPython\\\\extensions',\n",
       " 'C:\\\\Users\\\\GarethDavies\\\\.ipython']"
      ]
     },
     "execution_count": 6,
     "metadata": {},
     "output_type": "execute_result"
    }
   ],
   "source": [
    "# sys.path shows you the file paths on your PYTHON PATH\n",
    "sys.path"
   ]
  },
  {
   "cell_type": "markdown",
   "metadata": {},
   "source": [
    "#### Creating our own custom module\n"
   ]
  },
  {
   "cell_type": "code",
   "execution_count": null,
   "metadata": {},
   "outputs": [],
   "source": [
    "# Save the following content into a file called hello.py\n",
    "# \n",
    "import pandas as pd\n",
    "\n",
    "my_list = [1,2,3]\n",
    "my_series = pd.Series(my_list, index = ['a','b','c'])\n",
    "\n",
    "def make_df(cols, rows):\n",
    "    data = {c:[str(c)+str(r) for r in rows] for c in cols}\n",
    "    return pd.DataFrame(data)\n",
    "\n",
    "my_df = make_df('abc','1234')\n",
    "\n",
    "if __name__ == '__main__':\n",
    "    print(f'__name__ is {__name__}' )\n",
    "    print('This file is running as a script')\n",
    "else:\n",
    "    print(f'__name__ is {__name__}' )\n",
    "    print('This file is running as a module')"
   ]
  },
  {
   "cell_type": "markdown",
   "metadata": {},
   "source": [
    "Run the above file as a script by running `python hello.py` from command line and check the output. Also, do `import hello` and check the output. Compare the differences. "
   ]
  },
  {
   "cell_type": "markdown",
   "metadata": {},
   "source": [
    "#### Loading our module"
   ]
  },
  {
   "cell_type": "code",
   "execution_count": 7,
   "metadata": {},
   "outputs": [
    {
     "name": "stdout",
     "output_type": "stream",
     "text": [
      "__name__ is hello\n",
      "This file is running as a module\n"
     ]
    }
   ],
   "source": [
    "import hello"
   ]
  },
  {
   "cell_type": "code",
   "execution_count": 8,
   "metadata": {},
   "outputs": [
    {
     "data": {
      "text/plain": [
       "['__builtins__',\n",
       " '__cached__',\n",
       " '__doc__',\n",
       " '__file__',\n",
       " '__loader__',\n",
       " '__name__',\n",
       " '__package__',\n",
       " '__spec__',\n",
       " 'make_df',\n",
       " 'my_df',\n",
       " 'my_list',\n",
       " 'my_series',\n",
       " 'pd']"
      ]
     },
     "execution_count": 8,
     "metadata": {},
     "output_type": "execute_result"
    }
   ],
   "source": [
    "dir(hello)"
   ]
  },
  {
   "cell_type": "code",
   "execution_count": 9,
   "metadata": {},
   "outputs": [
    {
     "data": {
      "text/plain": [
       "[1, 2, 3]"
      ]
     },
     "execution_count": 9,
     "metadata": {},
     "output_type": "execute_result"
    }
   ],
   "source": [
    "# Getting variables from hello\n",
    "hello.my_list"
   ]
  },
  {
   "cell_type": "code",
   "execution_count": 11,
   "metadata": {},
   "outputs": [
    {
     "data": {
      "text/html": [
       "<div>\n",
       "<style scoped>\n",
       "    .dataframe tbody tr th:only-of-type {\n",
       "        vertical-align: middle;\n",
       "    }\n",
       "\n",
       "    .dataframe tbody tr th {\n",
       "        vertical-align: top;\n",
       "    }\n",
       "\n",
       "    .dataframe thead th {\n",
       "        text-align: right;\n",
       "    }\n",
       "</style>\n",
       "<table border=\"1\" class=\"dataframe\">\n",
       "  <thead>\n",
       "    <tr style=\"text-align: right;\">\n",
       "      <th></th>\n",
       "      <th>a</th>\n",
       "      <th>b</th>\n",
       "      <th>c</th>\n",
       "    </tr>\n",
       "  </thead>\n",
       "  <tbody>\n",
       "    <tr>\n",
       "      <th>0</th>\n",
       "      <td>a1</td>\n",
       "      <td>b1</td>\n",
       "      <td>c1</td>\n",
       "    </tr>\n",
       "    <tr>\n",
       "      <th>1</th>\n",
       "      <td>a2</td>\n",
       "      <td>b2</td>\n",
       "      <td>c2</td>\n",
       "    </tr>\n",
       "    <tr>\n",
       "      <th>2</th>\n",
       "      <td>a3</td>\n",
       "      <td>b3</td>\n",
       "      <td>c3</td>\n",
       "    </tr>\n",
       "    <tr>\n",
       "      <th>3</th>\n",
       "      <td>a4</td>\n",
       "      <td>b4</td>\n",
       "      <td>c4</td>\n",
       "    </tr>\n",
       "  </tbody>\n",
       "</table>\n",
       "</div>"
      ],
      "text/plain": [
       "    a   b   c\n",
       "0  a1  b1  c1\n",
       "1  a2  b2  c2\n",
       "2  a3  b3  c3\n",
       "3  a4  b4  c4"
      ]
     },
     "execution_count": 11,
     "metadata": {},
     "output_type": "execute_result"
    }
   ],
   "source": [
    "# Calling functions from hello\n",
    "new_df = hello.make_df(\"abc\", \"1234\")\n",
    "new_df"
   ]
  },
  {
   "cell_type": "code",
   "execution_count": 12,
   "metadata": {},
   "outputs": [],
   "source": [
    "import hello # Calling import for the second time in the file won't reload the module"
   ]
  },
  {
   "cell_type": "markdown",
   "metadata": {},
   "source": [
    "To reload an already imported module, we can use the reload method from importlib "
   ]
  },
  {
   "cell_type": "code",
   "execution_count": 13,
   "metadata": {},
   "outputs": [],
   "source": [
    "from importlib import reload"
   ]
  },
  {
   "cell_type": "code",
   "execution_count": 15,
   "metadata": {},
   "outputs": [
    {
     "name": "stdout",
     "output_type": "stream",
     "text": [
      "    a   b   c\n",
      "0  a1  b1  c1\n",
      "1  a2  b2  c2\n",
      "2  a3  b3  c3\n",
      "3  a4  b4  c4\n",
      "__name__ is hello\n",
      "This file is running as a module\n"
     ]
    },
    {
     "data": {
      "text/plain": [
       "<module 'hello' from 'c:\\\\Users\\\\GarethDavies\\\\OneDrive - Kubrick Group\\\\cohorts\\\\DE\\\\de28\\\\Python\\\\4-Production\\\\1-ModulesAndPackages\\\\hello.py'>"
      ]
     },
     "execution_count": 15,
     "metadata": {},
     "output_type": "execute_result"
    }
   ],
   "source": [
    "reload(hello) # When you import a module, all code in the module will be run"
   ]
  },
  {
   "cell_type": "markdown",
   "metadata": {},
   "source": [
    "#### Import specific names from the module\n",
    "\n",
    "`from <module> import <symbol1>, <symbol2>`"
   ]
  },
  {
   "cell_type": "code",
   "execution_count": 17,
   "metadata": {},
   "outputs": [],
   "source": [
    "# Just import my_list and make_df, \n",
    "# the other variables and functions won't exist in this file's namespace\n",
    "from hello import my_list, make_df"
   ]
  },
  {
   "cell_type": "code",
   "execution_count": 19,
   "metadata": {},
   "outputs": [
    {
     "data": {
      "text/plain": [
       "[1, 2, 3]"
      ]
     },
     "execution_count": 19,
     "metadata": {},
     "output_type": "execute_result"
    }
   ],
   "source": [
    "# Now my_list and my_series will be directly accesible in this namespace\n",
    "# Note: I don't have to use the hello. syntx\n",
    "my_list"
   ]
  },
  {
   "cell_type": "code",
   "execution_count": 22,
   "metadata": {},
   "outputs": [
    {
     "data": {
      "text/html": [
       "<div>\n",
       "<style scoped>\n",
       "    .dataframe tbody tr th:only-of-type {\n",
       "        vertical-align: middle;\n",
       "    }\n",
       "\n",
       "    .dataframe tbody tr th {\n",
       "        vertical-align: top;\n",
       "    }\n",
       "\n",
       "    .dataframe thead th {\n",
       "        text-align: right;\n",
       "    }\n",
       "</style>\n",
       "<table border=\"1\" class=\"dataframe\">\n",
       "  <thead>\n",
       "    <tr style=\"text-align: right;\">\n",
       "      <th></th>\n",
       "      <th>a</th>\n",
       "      <th>b</th>\n",
       "      <th>c</th>\n",
       "    </tr>\n",
       "  </thead>\n",
       "  <tbody>\n",
       "    <tr>\n",
       "      <th>0</th>\n",
       "      <td>a1</td>\n",
       "      <td>b1</td>\n",
       "      <td>c1</td>\n",
       "    </tr>\n",
       "    <tr>\n",
       "      <th>1</th>\n",
       "      <td>a2</td>\n",
       "      <td>b2</td>\n",
       "      <td>c2</td>\n",
       "    </tr>\n",
       "    <tr>\n",
       "      <th>2</th>\n",
       "      <td>a3</td>\n",
       "      <td>b3</td>\n",
       "      <td>c3</td>\n",
       "    </tr>\n",
       "  </tbody>\n",
       "</table>\n",
       "</div>"
      ],
      "text/plain": [
       "    a   b   c\n",
       "0  a1  b1  c1\n",
       "1  a2  b2  c2\n",
       "2  a3  b3  c3"
      ]
     },
     "execution_count": 22,
     "metadata": {},
     "output_type": "execute_result"
    }
   ],
   "source": [
    "make_df(\"abc\", \"123\")"
   ]
  },
  {
   "cell_type": "markdown",
   "metadata": {},
   "source": [
    "#### Import all names (Aside)\n",
    "You can import all elements from a module by using the following syntax:\n",
    "`from <module> import *`\n",
    "\n",
    "By default, this imports all symbols into the current namespace. You can control which symbols are imported by defining an `__all__` variable within the module. For example, add `__all__ = ['my_variable']` in the test_module.py, then only `my_variable` will be imported when you run `from test_module import *`.\n",
    "\n",
    "**Note**: While this is possible, it is considered bad practice to import all objects into the current namespace. \n"
   ]
  },
  {
   "cell_type": "markdown",
   "metadata": {},
   "source": [
    "## Packages\n",
    "Packages allow a collection of modules and subpackages to be grouped together under a common package name. \n",
    "\n",
    "A package is defined by creating a directory with the same name as the package, then creating `__init__.py` in that directory. When we import a package, the `__init__.py` file is run. \n",
    "\n",
    "In the directory, it is possible to have additional modules or subpackages. "
   ]
  },
  {
   "cell_type": "code",
   "execution_count": 28,
   "metadata": {},
   "outputs": [
    {
     "data": {
      "text/plain": [
       "<module 'my_package' from 'c:\\\\Users\\\\GarethDavies\\\\OneDrive - Kubrick Group\\\\cohorts\\\\DE\\\\de28\\\\Python\\\\4-Production\\\\1-ModulesAndPackages\\\\my_package\\\\__init__.py'>"
      ]
     },
     "execution_count": 28,
     "metadata": {},
     "output_type": "execute_result"
    }
   ],
   "source": [
    "reload(my_package)"
   ]
  },
  {
   "cell_type": "code",
   "execution_count": 29,
   "metadata": {},
   "outputs": [
    {
     "data": {
      "text/plain": [
       "2"
      ]
     },
     "execution_count": 29,
     "metadata": {},
     "output_type": "execute_result"
    }
   ],
   "source": [
    "# Variables and functions in the __init__.py are available in the my_package namespace\n",
    "my_package.package_var"
   ]
  },
  {
   "cell_type": "code",
   "execution_count": 25,
   "metadata": {},
   "outputs": [],
   "source": [
    "# If I want to access variables and functions in a my_module\n",
    "# We need to import it with the '.' syntax\n",
    "import my_package.my_module as mm"
   ]
  },
  {
   "cell_type": "code",
   "execution_count": 26,
   "metadata": {},
   "outputs": [
    {
     "data": {
      "text/plain": [
       "1"
      ]
     },
     "execution_count": 26,
     "metadata": {},
     "output_type": "execute_result"
    }
   ],
   "source": [
    "mm.my_var"
   ]
  },
  {
   "cell_type": "code",
   "execution_count": 27,
   "metadata": {},
   "outputs": [
    {
     "name": "stdout",
     "output_type": "stream",
     "text": [
      "Calling from my_func in my_package.my_module\n"
     ]
    }
   ],
   "source": [
    "mm.my_func()"
   ]
  },
  {
   "cell_type": "markdown",
   "metadata": {},
   "source": [
    "#### Concept Check\n",
    "\n",
    "Create a test package with the following structure\n",
    "\n",
    "- test_package\n",
    "    - `__init__.py`\n",
    "    - `module1.py`\n",
    "    - subpackage1\n",
    "        - `__init__.py`\n",
    "        - `module2.py`\n",
    "        - `module3.py`\n",
    "    - subpackage2\n",
    "        - `__init__.py`\n",
    "        - `module4.py`\n",
    "\n",
    "For `moduleX.py`, use the following code to store in the file.\n",
    "\n",
    "```\n",
    "varX = X\n",
    "def my_funcX():\n",
    "    print('my_package\\moduleX')\n",
    "```\n",
    "\n",
    "Include a package level variable: `my_pack_var = 0`\n"
   ]
  },
  {
   "cell_type": "code",
   "execution_count": 1,
   "metadata": {},
   "outputs": [
    {
     "data": {
      "text/plain": [
       "0"
      ]
     },
     "execution_count": 1,
     "metadata": {},
     "output_type": "execute_result"
    }
   ],
   "source": [
    "import test_package\n",
    "test_package.my_pack_var"
   ]
  },
  {
   "cell_type": "code",
   "execution_count": 2,
   "metadata": {},
   "outputs": [
    {
     "name": "stdout",
     "output_type": "stream",
     "text": [
      "my_package\\module1\n"
     ]
    },
    {
     "data": {
      "text/plain": [
       "1"
      ]
     },
     "execution_count": 2,
     "metadata": {},
     "output_type": "execute_result"
    }
   ],
   "source": [
    "import test_package.module1 as m1\n",
    "\n",
    "m1.my_func1()\n",
    "m1.var1"
   ]
  },
  {
   "cell_type": "code",
   "execution_count": 4,
   "metadata": {},
   "outputs": [
    {
     "name": "stdout",
     "output_type": "stream",
     "text": [
      "my_package\\module2\n",
      "2\n",
      "my_package\\module2\n",
      "2\n"
     ]
    }
   ],
   "source": [
    "import test_package.subpackage1.module2 as m2\n",
    "import test_package.subpackage1.module3 as m3\n",
    "\n",
    "m2.my_func2()\n",
    "print(m2.var2)\n",
    "\n",
    "m3.my_func3()\n",
    "print(m3.var3)\n"
   ]
  },
  {
   "cell_type": "code",
   "execution_count": 6,
   "metadata": {},
   "outputs": [
    {
     "name": "stdout",
     "output_type": "stream",
     "text": [
      "my_package\\module4\n",
      "4\n"
     ]
    }
   ],
   "source": [
    "import test_package.subpackage2.module4 as m4\n",
    "\n",
    "\n",
    "m4.my_func4()\n",
    "print(m4.var4)"
   ]
  }
 ],
 "metadata": {
  "kernelspec": {
   "display_name": "Python 3.9.7 64-bit",
   "language": "python",
   "name": "python3"
  },
  "language_info": {
   "codemirror_mode": {
    "name": "ipython",
    "version": 3
   },
   "file_extension": ".py",
   "mimetype": "text/x-python",
   "name": "python",
   "nbconvert_exporter": "python",
   "pygments_lexer": "ipython3",
   "version": "3.9.7"
  },
  "toc": {
   "base_numbering": 1,
   "nav_menu": {},
   "number_sections": true,
   "sideBar": true,
   "skip_h1_title": false,
   "title_cell": "Table of Contents",
   "title_sidebar": "Contents",
   "toc_cell": false,
   "toc_position": {},
   "toc_section_display": true,
   "toc_window_display": false
  },
  "varInspector": {
   "cols": {
    "lenName": 16,
    "lenType": 16,
    "lenVar": 40
   },
   "kernels_config": {
    "python": {
     "delete_cmd_postfix": "",
     "delete_cmd_prefix": "del ",
     "library": "var_list.py",
     "varRefreshCmd": "print(var_dic_list())"
    },
    "r": {
     "delete_cmd_postfix": ") ",
     "delete_cmd_prefix": "rm(",
     "library": "var_list.r",
     "varRefreshCmd": "cat(var_dic_list()) "
    }
   },
   "types_to_exclude": [
    "module",
    "function",
    "builtin_function_or_method",
    "instance",
    "_Feature"
   ],
   "window_display": false
  },
  "vscode": {
   "interpreter": {
    "hash": "54b57a9d7255aa9bd89013014712be1af3e9c0518087b34529522b12b0bc87de"
   }
  }
 },
 "nbformat": 4,
 "nbformat_minor": 2
}
