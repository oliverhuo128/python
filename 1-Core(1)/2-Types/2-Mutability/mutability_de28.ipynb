{
 "cells": [
  {
   "cell_type": "markdown",
   "metadata": {},
   "source": [
    "---\n",
    "# 2. Mutability and Immutability\n",
    "---\n",
    "\n",
    "- If an object's value can be changed, while keeping the same ID, then it is mutable. Otherwise, it is immutable.\n",
    "- Immutability means that each object has an unchangeable id-value pair, if I try and change an immutable object's value, I will just create a new object with a new ID.\n",
    "\n",
    "### Examples of mutable object\n",
    "\n",
    "- lists\n",
    "- sets\n",
    "- dictionaries\n",
    "\n",
    "This means that multiple references to the same object will reflect changes made by any of the references.\n",
    "\n",
    "### Examples of immutable objects\n",
    "\n",
    "- ints\n",
    "- floats\n",
    "- strings\n",
    "- tuples\n",
    "\n",
    "This means that multiple references to the same object will then refer to different objects, should any of them make a change. \n",
    "\n"
   ]
  },
  {
   "cell_type": "code",
   "execution_count": 8,
   "metadata": {},
   "outputs": [
    {
     "name": "stdout",
     "output_type": "stream",
     "text": [
      "Dictionaries are mutable\n",
      "my_meal id: 1720399970624\n",
      "my_meal value: {'starter': 'samosa'}\n",
      "my_meal id: 1720399970624\n",
      "my_meal value: {'starter': 'samosa', 'main course': 'pizza'}\n",
      "-----\n",
      "Strings are immutable\n",
      "username id: 1720430331824\n",
      "username value: gdog2000\n",
      "username id: 1720430362800\n",
      "username value: gdog20000\n"
     ]
    }
   ],
   "source": [
    "# Mutability: I can change the value and keep the id\n",
    "print(\"Dictionaries are mutable\")\n",
    "my_meal = {\"starter\": \"samosa\"}\n",
    "print(\"my_meal id:\", id(my_meal))\n",
    "print(\"my_meal value:\", my_meal)\n",
    "\n",
    "# Change value\n",
    "my_meal[\"main course\"] = \"pizza\"\n",
    "print(\"my_meal id:\", id(my_meal))\n",
    "print(\"my_meal value:\", my_meal)\n",
    "\n",
    "print(\"-----\")\n",
    "# Immutability\n",
    "print(\"Strings are immutable\")\n",
    "username = \"gdog2000\"\n",
    "print(\"username id:\", id(username))\n",
    "print(\"username value:\", username)\n",
    "username = username + \"0\"\n",
    "print(\"username id:\", id(username))\n",
    "print(\"username value:\", username)"
   ]
  },
  {
   "cell_type": "code",
   "execution_count": 2,
   "metadata": {},
   "outputs": [
    {
     "name": "stdout",
     "output_type": "stream",
     "text": [
      "Value of d2: {'starter': 'samosas'}\n"
     ]
    }
   ],
   "source": [
    "x = \"hello\"\n",
    "y = x\n",
    "# because x and y are strings, and strings are immutable, the object with this id will always have the same value\n",
    "\n",
    "d1 = {}\n",
    "d2 = d1\n",
    "d1[\"starter\"] = \"samosas\"\n",
    "print(\"Value of d2:\", d2)\n",
    "\n",
    "# d1 and d2 are both references to the same object (dictionary), which is mutable"
   ]
  },
  {
   "cell_type": "markdown",
   "metadata": {},
   "source": [
    "## 2.1 Tuples and Lists\n",
    "\n",
    "Tuples are immutable lists. This means that, once they are created:\n",
    "- It is not possible to add or remove items, e.g. there is no `append` method for tuples\n",
    "- Each element in the tuple contains an object that cannot be replaced with a different object \n",
    "\n",
    "We can create a tuple in several different ways:\n",
    "- Declare in normal brackets, separating with commas\n",
    "- Convert from a list to a tuple with the `tuple` built-in function (We can also do the reverse conversion using the `list` built-in function).\n",
    "- Concatenate other tuples together \n"
   ]
  },
  {
   "cell_type": "code",
   "execution_count": 9,
   "metadata": {},
   "outputs": [
    {
     "name": "stdout",
     "output_type": "stream",
     "text": [
      "(1, 2, 3)\n",
      "(4, 5, 6)\n",
      "(7, 8, 9)\n",
      "(1, 2, 3, 4, 5, 6)\n"
     ]
    }
   ],
   "source": [
    "# four ways to create a tuple:\n",
    "\n",
    "\n",
    "# 1.\n",
    "my_tuple1 = (1, 2, 3) # Use this way over way 2\n",
    "\n",
    "# 2.\n",
    "my_tuple2 = 4, 5, 6 # This is not always possible\n",
    "\n",
    "# 3.\n",
    "my_list = [7, 8, 9]\n",
    "my_tuple3 = tuple(my_list)\n",
    "\n",
    "# 4.\n",
    "my_tuple4 = my_tuple1 + my_tuple2\n",
    "\n",
    "print(my_tuple1)\n",
    "print(my_tuple2)\n",
    "print(my_tuple3)\n",
    "print(my_tuple4)\n"
   ]
  },
  {
   "cell_type": "code",
   "execution_count": 10,
   "metadata": {},
   "outputs": [
    {
     "name": "stdout",
     "output_type": "stream",
     "text": [
      "1\n",
      "2\n",
      "3\n",
      "4\n",
      "5\n",
      "6\n"
     ]
    }
   ],
   "source": [
    "# We can iterate over tuples in the same way as a list\n",
    "\n",
    "for item in my_tuple4:\n",
    "    print(item)"
   ]
  },
  {
   "cell_type": "code",
   "execution_count": 13,
   "metadata": {},
   "outputs": [
    {
     "ename": "TypeError",
     "evalue": "'tuple' object does not support item assignment",
     "output_type": "error",
     "traceback": [
      "\u001b[1;31m---------------------------------------------------------------------------\u001b[0m",
      "\u001b[1;31mTypeError\u001b[0m                                 Traceback (most recent call last)",
      "\u001b[1;32mC:\\Users\\GARETH~1\\AppData\\Local\\Temp/ipykernel_15652/2551251108.py\u001b[0m in \u001b[0;36m<module>\u001b[1;34m\u001b[0m\n\u001b[1;32m----> 1\u001b[1;33m \u001b[0mmy_tuple3\u001b[0m\u001b[1;33m[\u001b[0m\u001b[1;36m0\u001b[0m\u001b[1;33m]\u001b[0m \u001b[1;33m=\u001b[0m \u001b[1;34m\"whatever\"\u001b[0m\u001b[1;33m\u001b[0m\u001b[1;33m\u001b[0m\u001b[0m\n\u001b[0m",
      "\u001b[1;31mTypeError\u001b[0m: 'tuple' object does not support item assignment"
     ]
    }
   ],
   "source": [
    "# We cannot change the elements of a tuple!\n",
    "my_tuple3[0] = \"whatever\""
   ]
  },
  {
   "cell_type": "markdown",
   "metadata": {},
   "source": [
    "How do we add to a tuple?"
   ]
  },
  {
   "cell_type": "code",
   "execution_count": 15,
   "metadata": {},
   "outputs": [
    {
     "ename": "AttributeError",
     "evalue": "'tuple' object has no attribute 'append'",
     "output_type": "error",
     "traceback": [
      "\u001b[1;31m---------------------------------------------------------------------------\u001b[0m",
      "\u001b[1;31mAttributeError\u001b[0m                            Traceback (most recent call last)",
      "\u001b[1;32mC:\\Users\\GARETH~1\\AppData\\Local\\Temp/ipykernel_15652/4104497622.py\u001b[0m in \u001b[0;36m<module>\u001b[1;34m\u001b[0m\n\u001b[1;32m----> 1\u001b[1;33m \u001b[0mmy_tuple1\u001b[0m\u001b[1;33m.\u001b[0m\u001b[0mappend\u001b[0m\u001b[1;33m(\u001b[0m\u001b[1;36m4\u001b[0m\u001b[1;33m)\u001b[0m\u001b[1;33m\u001b[0m\u001b[1;33m\u001b[0m\u001b[0m\n\u001b[0m",
      "\u001b[1;31mAttributeError\u001b[0m: 'tuple' object has no attribute 'append'"
     ]
    }
   ],
   "source": [
    "# We cannot append to a tuple\n",
    "my_tuple1.append(4)"
   ]
  },
  {
   "cell_type": "code",
   "execution_count": 16,
   "metadata": {},
   "outputs": [
    {
     "data": {
      "text/plain": [
       "(1, 2, 3, 4)"
      ]
     },
     "execution_count": 16,
     "metadata": {},
     "output_type": "execute_result"
    }
   ],
   "source": [
    "# If I need to do this, we must first convert the tuple -> list\n",
    "my_list1 = list(my_tuple1)\n",
    "my_list1.append(4)\n",
    "\n",
    "# and then convert list -> tuple\n",
    "my_new_tuple = tuple(my_list1)\n",
    "my_new_tuple"
   ]
  },
  {
   "cell_type": "markdown",
   "metadata": {},
   "source": [
    "### Concept Check: Immutable Tuples\n",
    "\n",
    "\n",
    "If I have a tuple that includes a list as one of the elements, can I append items to this list?\n",
    "\n",
    "If so, what does it mean, that a tuple is immutable? \n"
   ]
  },
  {
   "cell_type": "code",
   "execution_count": 19,
   "metadata": {},
   "outputs": [],
   "source": [
    "# space here to write your answer\n",
    "my_tuple = (1, 2, [4, 5, 6])\n",
    "\n",
    "# The id of the list stays the same, but the value changes. This is why can append to a list in a tuple.\n",
    "my_tuple[2].append(7)"
   ]
  },
  {
   "cell_type": "code",
   "execution_count": 22,
   "metadata": {},
   "outputs": [
    {
     "data": {
      "text/plain": [
       "(1, 2, [4, 5, 6, 7])"
      ]
     },
     "execution_count": 22,
     "metadata": {},
     "output_type": "execute_result"
    }
   ],
   "source": [
    "my_tuple"
   ]
  },
  {
   "cell_type": "code",
   "execution_count": 21,
   "metadata": {},
   "outputs": [
    {
     "ename": "AttributeError",
     "evalue": "'tuple' object has no attribute 'append'",
     "output_type": "error",
     "traceback": [
      "\u001b[1;31m---------------------------------------------------------------------------\u001b[0m",
      "\u001b[1;31mAttributeError\u001b[0m                            Traceback (most recent call last)",
      "\u001b[1;32mC:\\Users\\GARETH~1\\AppData\\Local\\Temp/ipykernel_15652/3567082484.py\u001b[0m in \u001b[0;36m<module>\u001b[1;34m\u001b[0m\n\u001b[1;32m----> 1\u001b[1;33m \u001b[0mmy_tuple\u001b[0m\u001b[1;33m.\u001b[0m\u001b[0mappend\u001b[0m\u001b[1;33m(\u001b[0m\u001b[1;36m8\u001b[0m\u001b[1;33m)\u001b[0m\u001b[1;33m\u001b[0m\u001b[1;33m\u001b[0m\u001b[0m\n\u001b[0m",
      "\u001b[1;31mAttributeError\u001b[0m: 'tuple' object has no attribute 'append'"
     ]
    }
   ],
   "source": [
    "my_tuple.append(8)"
   ]
  },
  {
   "cell_type": "markdown",
   "metadata": {},
   "source": [
    "### Why would I use a tuple vs. a list?\n",
    "\n",
    "- We want to ensure the objects in the collection don't change.\n",
    "- Tuples take up less memory, and so are slightly more performant.\n",
    "- We can use tuples as keys in a dictionary, but we can't use lists."
   ]
  },
  {
   "cell_type": "code",
   "execution_count": null,
   "metadata": {},
   "outputs": [],
   "source": [
    "# tuples are for heterogeneous objects\n",
    "#      page number v\n",
    "bookmark_place = (234, 45)\n",
    "#                      ^ line number\n",
    "\n",
    "bookmark_place1 = (12, 23) # It doesn't make sense to append or remove items\n",
    "bookmark_place2 = (145, 53) # If the values change, it represents a completely new object\n",
    "bookmark_place3 = (234, 74)\n",
    "\n",
    "# list are for homogeneous objects\n",
    "\n",
    "my_favourite_quotes = [bookmark_place1, bookmark_place2, bookmark_place3]"
   ]
  }
 ],
 "metadata": {
  "kernelspec": {
   "display_name": "Python 3.9.7 ('base')",
   "language": "python",
   "name": "python3"
  },
  "language_info": {
   "codemirror_mode": {
    "name": "ipython",
    "version": 3
   },
   "file_extension": ".py",
   "mimetype": "text/x-python",
   "name": "python",
   "nbconvert_exporter": "python",
   "pygments_lexer": "ipython3",
   "version": "3.9.7"
  },
  "vscode": {
   "interpreter": {
    "hash": "54b57a9d7255aa9bd89013014712be1af3e9c0518087b34529522b12b0bc87de"
   }
  }
 },
 "nbformat": 4,
 "nbformat_minor": 2
}
