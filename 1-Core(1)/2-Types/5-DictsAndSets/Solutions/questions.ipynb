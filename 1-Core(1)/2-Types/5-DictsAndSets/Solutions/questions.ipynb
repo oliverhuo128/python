{
 "cells": [
  {
   "cell_type": "markdown",
   "metadata": {},
   "source": [
    "### Exercises\n",
    "For each exercise below, write the code in the files that correspond to the question. For example for the first question, write the code in `DictsAndSets_ex1.py` (in the Exercises Folder) and run it using `python DictsAndSets_ex1.py`, then call pytest to check that its working.\n",
    "\n",
    "**DictsAndSets_ex1**  \n",
    "Write a function called cleanup_address_book, that accepts a single argument: an 'address book' dictionary in which the keys are the names and the values are the numbers (stored as strings). The function should return a new dictionary, holding the names and numbers as the original, except that: all names should be in title case, separated by a single space if there is more than one name; all numbers should be stored as strings (not integers), with a single space before the last six digits (if there are eight or more digits in the number). \n",
    "\n",
    "**DictsAndSets_ex2**  \n",
    "Write a function called search_address_book, that accepts a two arguments: an 'address book' dictionary in which the keys are the names and the values are the numbers (stored as strings), and a search string. The function should return a dictionary that contains all the entries in the original address book, for which the name starts with the search string. \n",
    "\n",
    "**DictsAndSets_ex3**  \n",
    "Write a function that accepts a string and return a dictionary that contains each of the five vowels as keys. The corresponding values should represent that number of occurrence of each vowel, in the input string. For Example, the input string  'hello world' will return the dictionary:\n",
    "`{'a':0, 'e':1, 'i':0, 'o':2, 'u':0} `\n",
    "\n",
    "**DictsAndSets_ex4**  \n",
    "Write a function called get_names_in_common, that accepts a two arguments: each being an 'address book' dictionary in which the keys are the names and the values are the numbers (stored as strings). The function should return a  list of names. This list contains all the names that appear in both address books.\n",
    "\n",
    "**DictsAndSets_ex5**  \n",
    "Write a function called get_numbers_in_common, that accepts a two arguments: each being an 'address book' dictionary in which the keys are the names and the values are the phone numbers (stored as strings). The function should return a  list of (string) phone numbers. This list contains all the numbers that appear in both address books.\n",
    "\n",
    "**DictsAndSets_ex6**  \n",
    "Write a function called combine_address_books, that accepts two arguments: each being an 'address book' dictionary in which the keys are the names and the values are the phone numbers (stored as strings). The function should return a  tuple of two dictionaries (that also contain name and number strings). The first returned element contains all the elements in the first input address book, additionally with all names in the second  address book that aren't already in the first address book. The second element of the returned tuple is also a dictionary: it contains those elements of the second address book that weren't able to be added to the first returned element.  "
   ]
  }
 ],
 "metadata": {
  "language_info": {
   "name": "python"
  },
  "orig_nbformat": 4
 },
 "nbformat": 4,
 "nbformat_minor": 2
}
