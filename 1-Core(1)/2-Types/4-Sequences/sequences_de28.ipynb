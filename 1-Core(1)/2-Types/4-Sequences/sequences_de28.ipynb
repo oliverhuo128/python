{
 "cells": [
  {
   "cell_type": "markdown",
   "metadata": {},
   "source": [
    "---\n",
    "# Sequence Types\n",
    "---\n",
    "\n",
    "Sequences can be indexed using non-negative numbers.\n",
    "Examples include strings, lists and tuples.\n",
    "All sequences support slicing and iteration.\n",
    "\n",
    "In this section, we shall cover:\n",
    "- Concatenation (using `+`)\n",
    "- Copying (using `*`)\n",
    "- Slicing (using `[::]`)\n",
    "- Membership (using `in`)\n",
    "- Aggregation functions and methods (max, min, mean, count)\n",
    "- Further methods of the String sequence type "
   ]
  },
  {
   "cell_type": "markdown",
   "metadata": {},
   "source": [
    "## Concatenation\n",
    "\n",
    "Two or more sequences can be joined together using the `+` operator."
   ]
  },
  {
   "cell_type": "code",
   "execution_count": 5,
   "metadata": {},
   "outputs": [
    {
     "data": {
      "text/plain": [
       "'The wheels on the bus go round and round.'"
      ]
     },
     "execution_count": 5,
     "metadata": {},
     "output_type": "execute_result"
    }
   ],
   "source": [
    "# we can concatenate strings...\n",
    "\n",
    "s1 = \"The wheels on the bus \"\n",
    "s2 = \"go round and round.\"\n",
    "\n",
    "s1 + s2"
   ]
  },
  {
   "cell_type": "code",
   "execution_count": 6,
   "metadata": {},
   "outputs": [
    {
     "data": {
      "text/plain": [
       "[1, 2, 3, 4, 5, 6]"
      ]
     },
     "execution_count": 6,
     "metadata": {},
     "output_type": "execute_result"
    }
   ],
   "source": [
    "# and lists\n",
    "l1 = [1, 2, 3]\n",
    "l2 = [4, 5, 6]\n",
    "\n",
    "l1 + l2"
   ]
  },
  {
   "cell_type": "markdown",
   "metadata": {},
   "source": [
    "## Copying\n",
    "\n",
    "A sequence `s` can be copied `N` times by forming the expression `s*N`, i.e. using the `*` operator."
   ]
  },
  {
   "cell_type": "code",
   "execution_count": 7,
   "metadata": {},
   "outputs": [
    {
     "data": {
      "text/plain": [
       "'The wheels on the bus The wheels on the bus The wheels on the bus The wheels on the bus The wheels on the bus The wheels on the bus The wheels on the bus The wheels on the bus The wheels on the bus The wheels on the bus '"
      ]
     },
     "execution_count": 7,
     "metadata": {},
     "output_type": "execute_result"
    }
   ],
   "source": [
    "s1*10"
   ]
  },
  {
   "cell_type": "code",
   "execution_count": 8,
   "metadata": {},
   "outputs": [
    {
     "data": {
      "text/plain": [
       "['Tinker',\n",
       " 'Tailor',\n",
       " 'Soldier',\n",
       " 'Fashion Designer',\n",
       " 'Tinker',\n",
       " 'Tailor',\n",
       " 'Soldier',\n",
       " 'Fashion Designer',\n",
       " 'Tinker',\n",
       " 'Tailor',\n",
       " 'Soldier',\n",
       " 'Fashion Designer']"
      ]
     },
     "execution_count": 8,
     "metadata": {},
     "output_type": "execute_result"
    }
   ],
   "source": [
    "jobs = [\"Tinker\", \"Tailor\", \"Soldier\", \"Fashion Designer\"]\n",
    "\n",
    "jobs * 3"
   ]
  },
  {
   "cell_type": "markdown",
   "metadata": {},
   "source": [
    "### Concept Check -- Sequence Copying\n",
    "\n",
    "Use sequence copying to create a grid of zeros, represented as a list of lists. Let the number of rows be `num_rows` and the number of columns be `num_cols`."
   ]
  },
  {
   "cell_type": "code",
   "execution_count": 18,
   "metadata": {},
   "outputs": [
    {
     "data": {
      "text/plain": [
       "[[0, 0, 0, 0, 0, 0, 0, 0, 0, 0],\n",
       " [0, 0, 0, 0, 0, 0, 0, 0, 0, 0],\n",
       " [0, 0, 0, 0, 0, 0, 0, 0, 0, 0],\n",
       " [0, 0, 0, 0, 0, 0, 0, 0, 0, 0],\n",
       " [0, 0, 0, 0, 0, 0, 0, 0, 0, 0],\n",
       " [0, 0, 0, 0, 0, 0, 0, 0, 0, 0],\n",
       " [0, 0, 0, 0, 0, 0, 0, 0, 0, 0],\n",
       " [0, 0, 0, 0, 0, 0, 0, 0, 0, 0],\n",
       " [0, 0, 0, 0, 0, 0, 0, 0, 0, 0],\n",
       " [0, 0, 0, 0, 0, 0, 0, 0, 0, 0]]"
      ]
     },
     "execution_count": 18,
     "metadata": {},
     "output_type": "execute_result"
    }
   ],
   "source": [
    "num_rows = 10\n",
    "num_cols = 10\n",
    "\n",
    "[[0]*num_cols]*num_rows"
   ]
  },
  {
   "cell_type": "markdown",
   "metadata": {},
   "source": [
    "## Indexing\n",
    "\n",
    "If the sequence has `n` elements, then each element can be accessed by putting an integer index value (of between 0 and `n-1`) in square brackets after its variable name. \n"
   ]
  },
  {
   "cell_type": "code",
   "execution_count": 27,
   "metadata": {},
   "outputs": [
    {
     "name": "stdout",
     "output_type": "stream",
     "text": [
      "Jobs: ['Tinker', 'Tailor', 'Soldier', 'Fashion Designer']\n",
      "first job: Tinker\n",
      "last job: Fashion Designer\n",
      "for Tinker: first letter is T, and last letter is r\n"
     ]
    }
   ],
   "source": [
    "# list\n",
    "first_job = jobs[0]\n",
    "last_job = jobs[-1]\n",
    "num_job = len(jobs)\n",
    "print(\"Jobs:\", jobs)\n",
    "print(\"first job:\", first_job)\n",
    "print(\"last job:\", last_job)\n",
    "\n",
    "# strings\n",
    "first_letter = first_job[0]\n",
    "last_letter = first_job[-1]\n",
    "print(f\"for {first_job}: first letter is {first_letter}, and last letter is {last_letter}\")\n"
   ]
  },
  {
   "cell_type": "markdown",
   "metadata": {},
   "source": [
    "### Concept Check: Indexing\n",
    "\n",
    "The variable `x` is assigned to a list of 10 strings. Assign values to these strings so that the list starts with '1', '2', '3' and ends with '3', '2', '1':\n",
    "```\n",
    "['1', '2', '3', '-', '-', '-', '-', '3', '2', '1']\n",
    "```\n"
   ]
  },
  {
   "cell_type": "code",
   "execution_count": 35,
   "metadata": {},
   "outputs": [
    {
     "data": {
      "text/plain": [
       "['1', '2', '3', '-', '-', '-', '-', '-3', '-2', '-1']"
      ]
     },
     "execution_count": 35,
     "metadata": {},
     "output_type": "execute_result"
    }
   ],
   "source": [
    "my_list = [\"-\"] * 10\n",
    "\n",
    "for num in range(3):\n",
    "    my_list[num] = str(num+1)\n",
    "    my_list[-1 - num] = str(-1-num)\n",
    "\n",
    "# # Trick: You can use range to count down\n",
    "# for num in range(-1, -4, -1):\n",
    "#     my_list[num] = str(-num)\n",
    "\n",
    "my_list"
   ]
  },
  {
   "cell_type": "code",
   "execution_count": null,
   "metadata": {},
   "outputs": [],
   "source": [
    "# James\n",
    "for num in range(3):\n",
    "    print(num)\n",
    "    x[-1-num] = str(num+1)\n"
   ]
  },
  {
   "cell_type": "code",
   "execution_count": 37,
   "metadata": {},
   "outputs": [],
   "source": [
    "# Oliver\n",
    "def get_ten_strings():\n",
    "\n",
    "    string_len = 11\n",
    "    num_len = 3\n",
    "    #Intialize empty string\n",
    "    output_string = [None for x in range(string_len)]\n",
    "\n",
    "    #Assing ascending integers to the first and last, num_len places in the list.\n",
    "    for i in range(num_len):\n",
    "        output_string[i] = i+1\n",
    "        output_string[-i-1] = i+1\n",
    "\n",
    "    return output_string"
   ]
  },
  {
   "cell_type": "code",
   "execution_count": 36,
   "metadata": {},
   "outputs": [],
   "source": [
    "# Jack\n",
    "x = ['-']*10\n",
    "for y in range(3):\n",
    "    x[y] = x[-y-1] = str(y+1)"
   ]
  },
  {
   "cell_type": "markdown",
   "metadata": {},
   "source": [
    "### Exercise: Write a Python function to return this list of ten strings\n",
    "\n",
    "In the folder `Exercises`, there is a file `sequences_ex1.py`.\n",
    "\n",
    "This file defines a function named `return_ten_strings`. \n",
    "\n",
    "Add your Python statements to this function, so that it returns the list of ten strings.\n",
    "\n",
    "Call your function yourself, from this notebook, to test that it works: you can write a code cell containing the following lines:\n",
    "\n",
    "```\n",
    "import sequences_ex1\n",
    "x = sequences_ex1.return_ten_strings()\n",
    "print(x)\n",
    "```\n",
    "\n",
    "You can also run the `pytest` from the command line (using `Exercises` as its working directory). \n",
    "\n",
    "When you have completed this exercise, you can `add`, `commit` and `push` this version of your project to the `origin`, so that we can see that this is complete. "
   ]
  },
  {
   "cell_type": "markdown",
   "metadata": {},
   "source": [
    "## Slicing\n",
    "\n",
    "Most simply, the square brackets hold integers from 0 up to (but not including) the length of the sequence.\n",
    "\n",
    "However, more complex indexing operations are also possible: these are known as *slices*. Here are some of the slicing rules:\n",
    "\n",
    "- Negative numbers count from the back, so `[-1]` indexes the last element in the sequence.\n",
    "- Two numbers, separated by a colon, define a subsequence from the original sequence. The first number is inclusive and the second number is exclusive, and 0 is the start of the sequence (as usual). So `[2:4]` indexes the third and fourth elements in the sequence.\n",
    "- If a single colon is present but the first number is missing, then the sub-sequence starts at the beginning of the original sequence. So, `[:3]` indexes the first, second and third elements of the sequence. \n",
    "- If a single colon is present but the second number is missing, then the sub-sequence ends at the end of the original sequence. So, `[-2:]` indexes the penultimate and last elements of the original sequence. \n",
    "- If a second colon is present, then the number after this colon specifies the 'step' (or 'stride') of the slice. So, a slice `[10:20:2]` will include elements 10, 12, 14, 16 and 18, incrementing in steps of 2, and excluding the final index. "
   ]
  },
  {
   "cell_type": "code",
   "execution_count": 49,
   "metadata": {},
   "outputs": [
    {
     "name": "stdout",
     "output_type": "stream",
     "text": [
      "original list: ['Tinker', 'Tailor', 'Soldier', 'Fashion Designer']\n",
      "jobs[-2] = Soldier\n",
      "jobs[1:3] = ['Tailor', 'Soldier']\n",
      "jobs[:2] = ['Tinker', 'Tailor']\n",
      "jobs[1:3] = ['Tailor', 'Soldier', 'Fashion Designer']\n",
      "jobs[::2] = ['Tinker', 'Soldier']\n",
      "s1[::-1] =   sub eht no sleehw ehT\n"
     ]
    }
   ],
   "source": [
    "# slicing,  [start: stop (but not including): step]\n",
    "# this works similarly to the range function ^\n",
    "#         0          1         2              3\n",
    "jobs = [\"Tinker\", \"Tailor\", \"Soldier\", \"Fashion Designer\"]\n",
    "\n",
    "print(\"original list:\", jobs)\n",
    "# single element, from the end\n",
    "print(\"jobs[-2] =\", jobs[-2])\n",
    "# in the middle\n",
    "print(\"jobs[1:3] =\", jobs[1:3])\n",
    "# from start\n",
    "print(\"jobs[:2] =\", jobs[:2])\n",
    "# up to the end\n",
    "print(\"jobs[1:3] =\", jobs[1:])\n",
    "# Every job\n",
    "print(\"jobs[::2] =\", jobs[::2])\n",
    "# reverse the sequence using a negative step\n",
    "print(\"s1[::-1] =\", s1[::-1])"
   ]
  },
  {
   "cell_type": "markdown",
   "metadata": {},
   "source": [
    "\n",
    "### Concept Check: Slicing Operations\n",
    "\n",
    "- Create a list containing three your favourite activities. Store in `my_activities`.\n",
    "- Create another list containing three favourite activities for a friend. Store in `friend_activities`.\n",
    "- Concatenate the two lists together and store into a new list `combined_list`.\n",
    "- Copy the list three times and store into a new variable `combined_list_x3`. Is the id of `combined_list` and `combined_list_x3` the same? Why / why not?\n",
    "- Use slicing on combined_list to select the activities enjoyed by your friend.\n",
    "- Use a slice with a negative step size to reverse the order of `combined_list`."
   ]
  },
  {
   "cell_type": "code",
   "execution_count": 53,
   "metadata": {},
   "outputs": [
    {
     "name": "stdout",
     "output_type": "stream",
     "text": [
      "['rollerblading', 'boudering', 'coding']\n",
      "['coding', 'boudering', 'rollerblading', 'running', 'skateboarding', 'skiing']\n"
     ]
    }
   ],
   "source": [
    "# write your code here:\n",
    "my_activities = [\"skiing\", \"skateboarding\", \"running\"]\n",
    "friend_activites = [\"rollerblading\", \"boudering\", \"coding\"]\n",
    "\n",
    "combined_list = my_activities + friend_activites\n",
    "\n",
    "combined_list_x3 = combined_list * 3\n",
    "\n",
    "print(combined_list[3:])\n",
    "print(combined_list[::-1])"
   ]
  },
  {
   "cell_type": "markdown",
   "metadata": {},
   "source": [
    "### Exercise: Write a Python function to return a list of *n* strings\n",
    "\n",
    "In the folder `Exercises`, there is a file `sequences_ex2.py`.\n",
    "\n",
    "This file defines a function named `return_n_strings`, which accepts a single argument, `n`. \n",
    "\n",
    "Add your Python statements to this function, so that it returns a list of 'n' strings:\n",
    "- The first three elements of the list should contain the strings `'1'`, `'2'` and `'3'`.\n",
    "- The last three elements of the list should contain the strings `'3'`, `'2'` and `'1'`.\n",
    "- The elements in the middle of the list (if any) \n",
    "\n",
    "Call your function yourself, from this notebook, to test that it works: you can write a code cell containing the following lines:\n",
    "\n",
    "```\n",
    "import sequences_ex2\n",
    "x = sequences_ex2.return_n_strings()\n",
    "print(x)\n",
    "```\n",
    "\n",
    "You can also run the `pytest` from the command line (using `Exercises` as its working directory). \n",
    "\n",
    "When you have completed this exercise, you can `add`, `commit` and `push` this version of your project to the `origin`, so that we can see that this is complete. "
   ]
  },
  {
   "cell_type": "markdown",
   "metadata": {},
   "source": [
    "## Iteration\n",
    "\n",
    "Use the `for` statement to iterate over the elements in a list (or indeed the elements in any container):"
   ]
  },
  {
   "cell_type": "code",
   "execution_count": 55,
   "metadata": {},
   "outputs": [
    {
     "name": "stdout",
     "output_type": "stream",
     "text": [
      "T\n",
      "h\n",
      "e\n",
      " \n",
      "w\n",
      "h\n",
      "e\n",
      "e\n",
      "l\n",
      "s\n",
      " \n",
      "o\n",
      "n\n",
      " \n",
      "t\n",
      "h\n",
      "e\n",
      " \n",
      "b\n",
      "u\n",
      "s\n",
      " \n"
     ]
    }
   ],
   "source": [
    "for char in s1:\n",
    "    print(char)\n"
   ]
  },
  {
   "cell_type": "markdown",
   "metadata": {},
   "source": [
    "## The `in` membership operator\n",
    "\n",
    "- The expression `item in sequence` will return `True` if `item` is contained in `sequence`, and otherwise `False`. \n",
    "- This membership operator can also be applied to the mapping types (see next section).\n"
   ]
  },
  {
   "cell_type": "code",
   "execution_count": 60,
   "metadata": {},
   "outputs": [
    {
     "name": "stdout",
     "output_type": "stream",
     "text": [
      "x is in my_list\n",
      "Ar is in Arvind\n"
     ]
    }
   ],
   "source": [
    "my_list = [1, 2, 3]\n",
    "x = 1\n",
    "\n",
    "if x in my_list:\n",
    "    print(\"x is in my_list\")\n",
    "else:\n",
    "    print(\"x is not in my list\")\n",
    "\n",
    "if \"Ar\" in \"Arvind\":\n",
    "    print(\"Ar is in Arvind\")"
   ]
  },
  {
   "cell_type": "markdown",
   "metadata": {},
   "source": [
    "### Concept Check -- Using the Membership Operator\n",
    "\n",
    "If `example_list = ['Alice', 'Bob', 'Charlie', 123]` and `example_string = 'abcdefghijklmnopqrstuvwxyz'`, which of the following evaluate as `True`? What differences can you observe between string and list sequences?\n",
    "\n",
    "- `'a' in example_string`\n",
    "- `'Alice' in example_list`\n",
    "- `'abc' in example_string`\n",
    "- `['Alice', 'Bob'] in example_list`\n",
    "- `['Alice'] in example_list`\n",
    "- `'Ali' in example_list`\n",
    "- `'ABC' in example_string`\n",
    "- `123.0 in example_list`\n",
    "- `'123' in example_list`\n",
    "\n"
   ]
  },
  {
   "cell_type": "code",
   "execution_count": 1,
   "metadata": {},
   "outputs": [
    {
     "name": "stdout",
     "output_type": "stream",
     "text": [
      "True\n",
      "True\n",
      "True\n",
      "False\n",
      "False\n",
      "False\n",
      "False\n",
      "True\n",
      "False\n"
     ]
    }
   ],
   "source": [
    "# Write your code here\n",
    "# Write your code here\n",
    "example_list = ['Alice', 'Bob', 'Charlie', 123]\n",
    "example_string = 'abcdefghijklmnopqrstuvwxyz'\n",
    "print('a' in example_string)\n",
    "print('Alice' in example_list)\n",
    "print('abc' in example_string)\n",
    "print(['Alice', 'Bob'] in example_list)\n",
    "print(['Alice'] in example_list)\n",
    "print('Ali' in example_list)\n",
    "print('ABC' in example_string)\n",
    "print(123.0 in example_list)\n",
    "print('123' in example_list)"
   ]
  },
  {
   "cell_type": "markdown",
   "metadata": {},
   "source": [
    "## Aggregations\n",
    "\n",
    "An aggregator operates on a collection of data, reducing the output to a smaller set of values (often just one value). \n",
    "\n",
    "\n",
    "Some examples of aggregation functions:\n",
    "- Built-in functions: `len`, `sum`, `max` and `min`\n",
    "- Methods, e.g. `str.count()`\n",
    "- Functions from other modules and packages. For example, `numpy` is a 'numerical python' library that provides functions for calulating the mean and median values (among many other functions!)\n",
    "\n",
    "\n"
   ]
  },
  {
   "cell_type": "code",
   "execution_count": 63,
   "metadata": {},
   "outputs": [
    {
     "name": "stdout",
     "output_type": "stream",
     "text": [
      "len:  5\n",
      "sum:  15\n",
      "max:  5\n",
      "min:  1\n"
     ]
    }
   ],
   "source": [
    "my_list = [1, 2, 3, 4, 5]\n",
    "\n",
    "print(\"len: \", len(my_list))\n",
    "print(\"sum: \", sum(my_list))\n",
    "print(\"max: \", max(my_list))\n",
    "print(\"min: \", min(my_list))"
   ]
  },
  {
   "cell_type": "code",
   "execution_count": 64,
   "metadata": {},
   "outputs": [
    {
     "name": "stdout",
     "output_type": "stream",
     "text": [
      "There are 2 occurences of o in hello world\n"
     ]
    }
   ],
   "source": [
    "greeting = \"hello world\"\n",
    "letter_to_count = \"o\"\n",
    "num_occurences = greeting.count(letter_to_count)\n",
    "\n",
    "print(f\"There are {num_occurences} occurences of {letter_to_count} in {greeting}\")"
   ]
  },
  {
   "cell_type": "code",
   "execution_count": 68,
   "metadata": {},
   "outputs": [
    {
     "name": "stdout",
     "output_type": "stream",
     "text": [
      "mean: 5.833333333333333\n",
      "median: 6.0\n",
      "stddev: 3.1841621957571333\n"
     ]
    }
   ],
   "source": [
    "import numpy as np\n",
    "\n",
    "my_list = [1, 3, 5, 7, 9, 10]\n",
    "print(\"mean:\", np.mean(my_list))\n",
    "print(\"median:\", np.median(my_list))\n",
    "print(\"stddev:\", np.std(my_list))"
   ]
  },
  {
   "cell_type": "markdown",
   "metadata": {},
   "source": [
    "### Concept Check: Aggregations\n",
    "\n",
    "If `marks` is a list of integer marks, find the mean, median, mode and standard deviation of this data\n",
    "\n",
    "Hint: you can use aggregation functions in the `numpy` and `scipy` modules to do these\n"
   ]
  },
  {
   "cell_type": "code",
   "execution_count": 4,
   "metadata": {},
   "outputs": [
    {
     "name": "stdout",
     "output_type": "stream",
     "text": [
      "mean: 66.38095238095238\n",
      "median: 69.0\n",
      "stdev: 14.717906782058089\n",
      "mode: 70\n"
     ]
    }
   ],
   "source": [
    "marks = [70, 56, 47,70, 32, 67, 90, \n",
    "         82, 71, 64, 70, 88, 83, 59, \n",
    "         51, 66, 76, 49, 84, 69, 50]\n",
    "        \n",
    "import numpy as np\n",
    "import statistics\n",
    "\n",
    "print(\"mean:\", np.mean(marks))\n",
    "print(\"median:\", np.median(marks))\n",
    "print(\"stdev:\", np.std(marks))\n",
    "print(\"mode:\", statistics.mode(marks))\n",
    "\n"
   ]
  },
  {
   "cell_type": "markdown",
   "metadata": {},
   "source": [
    "## Further String Methods\n",
    "\n",
    "In addition to the `count` method (above), you may already have encountered the following methods:\n",
    "- `lower`: returns a lower-case version of the original string\n",
    "- `upper`: returns an upper-case version of the original string\n",
    "- `title`: returns a title-case version of the original string\n",
    "- `replace`: replaces all occurences of one string with another string\n",
    "- `format`: inserts values into a string\n",
    "\n",
    "Below, some further string methods are introduced: \n",
    "- `find`: finds a substring within a string\n",
    "- `strip`: returns a string with any surrounding 'white space' stripped away  \n",
    "- `split`: splits a string into a list of substrings\n",
    "- `join`: joins together a list of substrings\n",
    "\n"
   ]
  },
  {
   "cell_type": "code",
   "execution_count": 69,
   "metadata": {},
   "outputs": [],
   "source": [
    "my_string = \"The quick brown fox jumped over the lazy dog\""
   ]
  },
  {
   "cell_type": "code",
   "execution_count": 71,
   "metadata": {},
   "outputs": [
    {
     "data": {
      "text/plain": [
       "2"
      ]
     },
     "execution_count": 71,
     "metadata": {},
     "output_type": "execute_result"
    }
   ],
   "source": [
    "# counting substring\n",
    "my_string.count(\"he\")"
   ]
  },
  {
   "cell_type": "code",
   "execution_count": 73,
   "metadata": {},
   "outputs": [
    {
     "name": "stdout",
     "output_type": "stream",
     "text": [
      "Fox appears at index 16\n"
     ]
    }
   ],
   "source": [
    "index = my_string.find(\"fox\")\n",
    "print(\"Fox appears at index\", 16)\n"
   ]
  },
  {
   "cell_type": "code",
   "execution_count": 76,
   "metadata": {},
   "outputs": [
    {
     "data": {
      "text/plain": [
       "'The quick brown cat jumped over the lazy dog'"
      ]
     },
     "execution_count": 76,
     "metadata": {},
     "output_type": "execute_result"
    }
   ],
   "source": [
    "my_string.replace(\"fox\", \"cat\")\n"
   ]
  },
  {
   "cell_type": "markdown",
   "metadata": {},
   "source": [
    "### The `split` and `join` Methods\n",
    "\n",
    "- `split` will return a list of substrings, splitting the original string by space (by default)\n",
    "- `join` takes a list of strings as an argument, and uses the subject string as the joining string."
   ]
  },
  {
   "cell_type": "code",
   "execution_count": 78,
   "metadata": {},
   "outputs": [
    {
     "data": {
      "text/plain": [
       "['The', 'quick', 'brown', 'fox', 'jumped', 'over', 'the', 'lazy', 'dog']"
      ]
     },
     "execution_count": 78,
     "metadata": {},
     "output_type": "execute_result"
    }
   ],
   "source": [
    "word_list = my_string.split()\n",
    "word_list"
   ]
  },
  {
   "cell_type": "code",
   "execution_count": 79,
   "metadata": {},
   "outputs": [
    {
     "data": {
      "text/plain": [
       "'The.quick.brown.fox.jumped.over.the.lazy.dog'"
      ]
     },
     "execution_count": 79,
     "metadata": {},
     "output_type": "execute_result"
    }
   ],
   "source": [
    "new_string = \".\".join(word_list) # accepts a list of strings\n",
    "new_string"
   ]
  },
  {
   "cell_type": "code",
   "execution_count": 81,
   "metadata": {},
   "outputs": [
    {
     "data": {
      "text/plain": [
       "['The', 'quick', 'brown', 'fox', 'jumped', 'over', 'the', 'lazy', 'dog']"
      ]
     },
     "execution_count": 81,
     "metadata": {},
     "output_type": "execute_result"
    }
   ],
   "source": [
    "new_string.split(sep=\".\")"
   ]
  },
  {
   "cell_type": "code",
   "execution_count": 83,
   "metadata": {},
   "outputs": [
    {
     "data": {
      "text/plain": [
       "['C:',\n",
       " 'Users',\n",
       " 'GarethDavies',\n",
       " 'OneDrive - Kubrick Group',\n",
       " 'cohorts',\n",
       " 'CE',\n",
       " 'ce03_notes',\n",
       " 'py01.corepython.template',\n",
       " 'PY01.02.Types.02.Mutability']"
      ]
     },
     "execution_count": 83,
     "metadata": {},
     "output_type": "execute_result"
    }
   ],
   "source": [
    "fp = r\"C:\\Users\\GarethDavies\\OneDrive - Kubrick Group\\cohorts\\CE\\ce03_notes\\py01.corepython.template\\PY01.02.Types.02.Mutability\"\n",
    "fp.split(\"\\\\\")"
   ]
  },
  {
   "cell_type": "markdown",
   "metadata": {},
   "source": [
    "### Concept Check: Split, Sort and Join\n",
    "\n",
    "Write code to re-arrange the words in a (lower-case) sentence into alphabetical order.\n",
    "\n",
    "```\n",
    "my_string = \"the quick brown fox jumped over the lazy dog\"\n",
    "\n",
    "# becomes...\n",
    "\n",
    "'brown dog fox jumped lazy over quick the the'\n",
    "```"
   ]
  },
  {
   "cell_type": "code",
   "execution_count": 6,
   "metadata": {},
   "outputs": [
    {
     "name": "stdout",
     "output_type": "stream",
     "text": [
      "['the', 'quick', 'brown', 'fox', 'jumped', 'over', 'the', 'lazy', 'dog']\n"
     ]
    },
    {
     "data": {
      "text/plain": [
       "'brown dog fox jumped lazy over quick the the'"
      ]
     },
     "execution_count": 6,
     "metadata": {},
     "output_type": "execute_result"
    }
   ],
   "source": [
    "my_string = \"the quick brown fox jumped over the lazy dog\"\n",
    "\n",
    "# Write your code here\n",
    "# strs are immutable, so my_string won't be changed\n",
    "split_string_list = my_string.split()\n",
    "print(split_string_list)\n",
    "# lists are mutable, so split_string_list can be changed in place\n",
    "split_string_list.sort()\n",
    "ordered_string = \" \".join(split_string_list)\n",
    "ordered_string"
   ]
  },
  {
   "cell_type": "markdown",
   "metadata": {},
   "source": [
    "## Sequence Types: Summary \n",
    "\n",
    "- Sequence Types include Strings, Lists and Tuples\n",
    "- They are 'ordered', meaning they preserve the order of their elements\n",
    "- Sequences `x` and `y` can be concatenated together (using `x+y`) and copied `N` times (using `x*N`)\n",
    "- Elements in the sequence `x` can be accessed using `x[0]`, `x[1]`, etc \n"
   ]
  }
 ],
 "metadata": {
  "interpreter": {
   "hash": "54b57a9d7255aa9bd89013014712be1af3e9c0518087b34529522b12b0bc87de"
  },
  "kernelspec": {
   "display_name": "Python 3.9.7 ('base')",
   "language": "python",
   "name": "python3"
  },
  "language_info": {
   "codemirror_mode": {
    "name": "ipython",
    "version": 3
   },
   "file_extension": ".py",
   "mimetype": "text/x-python",
   "name": "python",
   "nbconvert_exporter": "python",
   "pygments_lexer": "ipython3",
   "version": "3.9.7"
  },
  "vscode": {
   "interpreter": {
    "hash": "3ac20631b1e2c56d9d5cecc4021ebb156a74570453510d053822b3d1307562c0"
   }
  }
 },
 "nbformat": 4,
 "nbformat_minor": 2
}
