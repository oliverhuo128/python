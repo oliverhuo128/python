{
 "cells": [
  {
   "cell_type": "markdown",
   "id": "db7eb157",
   "metadata": {},
   "source": [
    "# Core Python - Summary"
   ]
  },
  {
   "cell_type": "markdown",
   "id": "91960b08",
   "metadata": {},
   "source": [
    "## 1. Types of objects:\n",
    "1. __Integers__:\n",
    "    - type `int`\n",
    "    - e.g. x = 1, y = 100, z = 123\n",
    "    - belong to family __numbers__\n",
    "    - immutable objects - can be hashed, therefore can be used as keys in dictionaries and can be elements in a set\n",
    " \n",
    " \n",
    "2. __Floats__:\n",
    "    - type `float`\n",
    "    - e.g. `x = 1.0`, `y = 1.5`, `z = 3.14`\n",
    "    - belong to family __numbers__\n",
    "    - immutable objects - can be hashed, therefore can be used as keys in dictionaries and can be elements in a set\n",
    "    \n",
    "    \n",
    "3. __Booleans__:\n",
    "    - type `bool`\n",
    "    - e.g. `x = True`, `y = False` - note: not 'True' or true\n",
    "    - belong to family __numbers__\n",
    "    - `True` corresponds to __1__, `False` corresponds to __0__\n",
    " \n",
    " \n",
    "3. __Strings__:\n",
    "    - type `str`\n",
    "    - e.g. `x = 'hello world'`, `y = 'alice'`, `z = 'gin&tonic'`\n",
    "    - belong to family __sequences__\n",
    "    - __definition__: an ordered collection of letters, numbers, symbols, other characters, incl. whitespace `' '` or `'\\n'`; each character is associated with an index; first character has index of __0__\n",
    "    - immutable objects - can be hashed, therefore can be used as keys in dictionaries and can be elements in a set \n",
    "  \n",
    "  \n",
    "4. __Lists__:\n",
    "    - e.g. `x = [1,2,3,4,5]`, `y = [1,'name', 2.5, '5']`, `z = []`\n",
    "    - belong to family __sequences__\n",
    "    - __definition__: an ordered sequence of elements (objects); each object is associated with an index; first object has index of __0__\n",
    "    - mutable object - cannot be hashed; cannot be used as keys in dictionaries, cannot be an element in a set\n",
    "    \n",
    "    \n",
    "5. __Dictionaries__:\n",
    "    - e.g. `x = {'starter':'prawns', 'main course':'fish and chips', 'dessert':'ice cream'}`, `y = {}`\n",
    "    - belong to family __maps__\n",
    "    - __definition__: an unordered value of __key:value pairs__; each key is unique and hashable (i.e. immutable)\n",
    "    - mutable object - cannot be hashed; cannot be used as keys in dictionaries, cannot be an element in a set\n",
    "    \n",
    "    \n",
    "6. __Tuples__:\n",
    "    - e.g. `x = (1,2,3,4,5)`\n",
    "    - belong to family __sequences__\n",
    "    - __definition__: the immutable version of a list\n",
    "    - immutable objects - can be hashed, therefore can be used as keys in dictionaries and can be elements in a set\n",
    "    \n",
    "    \n",
    "7. __Sets__:\n",
    "    - e.g. `x = {1,2,3,4,5,6,7}`, `y=set()`\n",
    "    - __definition__: an unordered collection of unique elements (objects); each object in a set must be immutable\n",
    "    - mutable object - cannot be hashed; cannot be used as keys in dictionaries, cannot be an element in a set\n",
    "    \n",
    "    \n",
    "8. __Frozenset__:\n",
    "    - e.g. `x = frozenset(1,2,3,4,5)`\n",
    "    - __definition__: the immutable version of a set\n",
    "    - immutable objects - can be hashed, therefore can be used as keys in dictionaries and can be elements in a set"
   ]
  },
  {
   "cell_type": "markdown",
   "id": "5ae000fb",
   "metadata": {},
   "source": [
    "## 2. Numbers - Methods & Operations:\n",
    "Rule of thumb: if you do not remember the order of precedence of each operator, always surround the expression you want executed first by __()__, just like in maths:\n",
    "- e.g. `(2+3)*5` - here addition takes precedence over multiplication due to the brackets"
   ]
  },
  {
   "cell_type": "code",
   "execution_count": null,
   "id": "23ba994c",
   "metadata": {},
   "outputs": [],
   "source": [
    "x = 10\n",
    "y = 5\n",
    "\n",
    "x + y  # Addition\n",
    "x - y  # Subtraction\n",
    "x/y    # Division\n",
    "x*y    # Multiplication\n",
    "x**y   # Power Operator -- e.g.2**3 = 8\n",
    "x//y   # Floor division -- e.g. 41//10 = 4\n",
    "x%y    # Modulo Operator -- e.g. 41%10 = 1 (the remainder of floor division)"
   ]
  },
  {
   "cell_type": "markdown",
   "id": "00644aa3",
   "metadata": {},
   "source": [
    "## 3. Strings - Methods & Operations:\n",
    "Remember - as long as a piece of text is surrounded by __single quotes ''__, it is a string!"
   ]
  },
  {
   "cell_type": "code",
   "execution_count": null,
   "id": "c552133f",
   "metadata": {},
   "outputs": [],
   "source": [
    "x = 'heLLo worlD  '  # please note that the whitespaces at the end are PART of the string\n",
    "\n",
    "x.title()   # capitalise the first letter of each word in the string --> output: 'HeLLo WorlD  '\n",
    "x.lower()   # makes all letters in the string go small --> output: 'hello world  '\n",
    "x.upper()   # makes all letters in the string capital  --> output: 'HELLO WORLD  '\n",
    "x.split()   # takes a string and creates a list of all words in it by using ' ' as separator --> output: ['heLLo', 'worlD']\n",
    "x.strip()  # removes any unnecessary whitespaces before the first word or after the final word  --> output: 'heLLo worlD'\n",
    "x.replace('o', 'a')  # replaces all occurances of 'o' with 'a' --> output: 'heLLa warlD' - note this is only an example\n",
    "x.find('e') # searches for letter 'e' and returns the index of its first occurance --> output: 1 - if none found, returns -1\n",
    "x.count('o')# counts the number of occurrences of the letter 'o' --> output: 2\n",
    "x.index('D')# returns the index of the specified character --> output: 10\n",
    "\n",
    "len(x)      # returns the length of the string --> output: 13 - note that whitespaces are also counted! "
   ]
  },
  {
   "cell_type": "code",
   "execution_count": null,
   "id": "39d891ff",
   "metadata": {},
   "outputs": [],
   "source": [
    "x = 'mama'\n",
    "y = 'mia'\n",
    "\n",
    "x+y   # concatenates the 2 strings --> output: 'mamamia'\n",
    "x + ' ' + y  # concatenates all 3 strings; use when having to insert a whitespace --> output: 'mama mia'\n",
    "x*3   # creates a string, containing 3 copies of the initial string --> output: 'mamamamamama'\n",
    "\n",
    "\n",
    "# NOTE: the same operations apply to lists!"
   ]
  },
  {
   "cell_type": "code",
   "execution_count": null,
   "id": "bf8ae1b1",
   "metadata": {},
   "outputs": [],
   "source": [
    "# Iterating through a string: we can iterate through any sequence object using a for loop:\n",
    "my_string = 'strings'\n",
    "\n",
    "for letter in my_string: # letter is just a name for the iterator; you decide how to name it; once picked, you stick with it!\n",
    "    print(letter)        # this line is indented because it is in the body of the foor loop; \n",
    "\n",
    "\n",
    "#-----------------------------------------------------------------------------------------------------------------------    \n",
    "# Iterating is not just about printing -- e.g. here I print each letter and the index of its first occurrence in the string:\n",
    "for letter in my_string:\n",
    "    first_occurrence_i = my_string.find(letter)\n",
    "    print('Letter', letter, 'occured for the first time in index', first_occurrence_i)\n",
    "    \n",
    "#-----------------------------------------------------------------------------------------------------------------------\n",
    "\n",
    "# Alternative way to iterate - use range and the length of the string:\n",
    "for index in range(len(my_string)):\n",
    "    letter = my_string[index]\n",
    "    print('Letter', letter, 'comes at index', index)\n",
    "   "
   ]
  },
  {
   "cell_type": "markdown",
   "id": "a9f40e52",
   "metadata": {},
   "source": [
    "## 4. Lists - Methods & Operations: \n"
   ]
  },
  {
   "cell_type": "code",
   "execution_count": null,
   "id": "3ca186ae",
   "metadata": {},
   "outputs": [],
   "source": [
    "my_list = [1,2,3,4,5]\n",
    "\n",
    "my_list.index(5)    # returns the index of the specified element in the list --> output: 4\n",
    "my_list.append(6)   # appends a new object (element) at the end of the list --> output: [1,2,3,4,5,6]\n",
    "my_list.remove(6)   # removes an object (element) from the list --> output: [1,2,3,4,5]\n",
    "my_list.pop(0)      # accepts an INDEX NUMBER and removes the element, corresponding to this index; prints out the element value\n",
    "                    # --> output: [2,3,4,5] and prints out 1\n",
    "my_list.insert(0,10)# inserts VALUE of 10 at INDEX 0 in the list --> output: [10,1,2,3,4,5]\n",
    "my_list.count(10)   # counts the number of occurrences of an element --> output: 1\n",
    "\n",
    "len(my_list)        # returns the length of the list --> output: 5\n",
    "\n",
    "my_list.clear()     # clears the content from a list (mutating the list to an empty one) --> output: []"
   ]
  },
  {
   "cell_type": "code",
   "execution_count": null,
   "id": "09f05a22",
   "metadata": {},
   "outputs": [],
   "source": [
    "# Iterating through a list: we can iterate through any sequence object using a for loop\n",
    "my_list = ['kubrick', 'grows', 'data', 'experts']\n",
    "\n",
    "for item in my_list: # item is just a name for the iterator; you decide how to name it; once picked, you stick with it!\n",
    "    print(item)      # this line is indented because it is in the body of the foor loop; \n",
    "    \n",
    "#-----------------------------------------------------------------------------------------------------------------------\n",
    "    \n",
    "# Iterating is not just about printing -- e.g. here I print each item (a string) and its length\n",
    "for item in my_list:\n",
    "    len_item = len(item)\n",
    "    print('The word', item, 'has', len_item, 'letters')\n",
    "    \n",
    "#-----------------------------------------------------------------------------------------------------------------------    \n",
    "    \n",
    "# Iterating essentially allows us to get our hands on each element in a list and manipulate it:\n",
    "# Here I use iteration to go through the list, capitalise each element, then remove entries, containing the letter 'a'\n",
    "\n",
    "new_list = []    # essentially creating a new container to store my filtered elements\n",
    "\n",
    "for word in my_list:\n",
    "    if word.find('a') == -1:   # here I use the .find() method - if it returns -1, the word does not contain 'a'\n",
    "        word = word.title()    # in the body of the if statement -- capitalise first letter of the word\n",
    "        new_list.append(word)  # in the body of the if statement -- append to the new_list\n",
    "    \n",
    "print(new_list)\n",
    "\n",
    "#-----------------------------------------------------------------------------------------------------------------------    \n",
    "  \n",
    "# We can iterate through the indices of a list and access each element in the list via indexing!\n",
    "for index in range(len(my_list)):\n",
    "    print(my_list[index])"
   ]
  },
  {
   "cell_type": "markdown",
   "id": "4eb73a98",
   "metadata": {},
   "source": [
    "## 5. Lists and Strings - Indexing & Slicing:\n",
    "Remember - Indexing and Slicing are the 2 main ways we can access __one__ or __multiple__ elements of a sequence!\n",
    "Accessing individual elements in a sequence is important because it allows us to then manipulate them, make operations, extract valuable information!"
   ]
  },
  {
   "cell_type": "code",
   "execution_count": null,
   "id": "712ef8b7",
   "metadata": {},
   "outputs": [],
   "source": [
    "my_string = 'I am getting better at python'\n",
    "\n",
    "my_string[0]   # accessing first letter in my_string --> output: 'I'\n",
    "my_string[1]   # accessing second character in my_string --> output: ' '  - note, whitespaces are just as important as letters!\n",
    "my_string[-1]  # accessing the final letter in my_string --> output: 'n'\n",
    "my_string[len(my_string)-1]  # alternative way of accessing final letter, using the len() function --> output: 'n'\n",
    "\n",
    "reversed_string = my_string[::-1] # reversing the order of the string --> output: 'nohtyp ta retteb gnitteg ma I'\n",
    "my_substring = my_string[5:12]    # obtaining a substring via slicing --> output: 'getting' - note this is just an example\n",
    "every_2nd_letter = my_string[::2] # obtaining a substring via step of 2 --> output: 'Ia etn etra yhn'\n",
    "last_6_letters = my_string[-6:]   # obtaining last 6 letters in the string --> output: 'python'\n",
    "everything_but_last_6 = my_string[:-6]  # obtaining first X many letters up to the last 6th --> output: 'I am better at'\n"
   ]
  },
  {
   "cell_type": "code",
   "execution_count": null,
   "id": "ee7a8836",
   "metadata": {},
   "outputs": [],
   "source": [
    "my_list = ['mama', 'mia', 'here', 'we', 'go', 'again']   # note, this is a list of strings\n",
    "\n",
    "my_list[0]    # accessing first element in the list --> output: 'mama'\n",
    "my_list[-1]   # accessing last element in the list --> output: 'again'\n",
    "my_list[len(my_list)-1]    # alternative way to access the last element in the string via len() --> output: 'again'\n",
    "\n",
    "reversed_list = my_list[::-1]  # reversing the order of the list --> output: ['again', 'go', 'we', 'here', 'mia', 'mama']\n",
    "mama_mia = my_list[:2]   # obtaining the first two elements in the list --> output: ['mama', 'mia']\n",
    "here_we_go_again = my_list[-4:]  # obtaining the last 4 elements of the list --> output: ['here', 'we', 'go', 'again']\n",
    "\n",
    "\n",
    "\n",
    "# NOTE - WHEN A LIST CONTAINS STRINGS OR OTHER SEQUENCES, WE CAN DO MULTIPLE SLICING/INDEXING:\n",
    "first_letter_of_mama = my_list[0][0]  # accessing the first letter of the first word in the list --> output: 'm'\n",
    "last_letter_of_again = my_list[-1][-1] # accessing the last letter of the last word in the list  --> output: 'n'\n"
   ]
  },
  {
   "cell_type": "markdown",
   "id": "79ea778c",
   "metadata": {},
   "source": [
    "## 6. Dictionaries - Methods & Operations:\n",
    "Remember - dictionaries are unordered collections of key:value pairs; all keys must be immutable and unique"
   ]
  },
  {
   "cell_type": "code",
   "execution_count": null,
   "id": "136ac531",
   "metadata": {},
   "outputs": [],
   "source": [
    "empty_dict = {}  # defining an empty dictionary\n",
    "my_dict = {'Alice': 75, 'Bob': 68, 'Charlie': 90, 'David': 56}\n",
    "\n",
    "\n",
    "my_dict['Alice']         # accessing the value, corresponding to key 'Alice' --> output: 75\n",
    "my_dict['Bob'] = 70      # overwriting the value, corresponding to key 'Bob'\n",
    "my_dict['Eleanor'] = 78  # creating a new key-value pair of 'Eleanor':78\n",
    "\n",
    "#-----------------------------------------------------------------------------------------------------------------------\n",
    "my_dict.keys()           # obtaining a list of all keys --> output: ['Alice', 'Bob', 'Charlie', 'David', 'Eleanor'] \n",
    "my_dict.values()         # obtaining a list of all values --> output: [75, 70, 90, 56, 78]\n",
    "my_dict.items()          # obtaining a list of tuples; each tuple contains 2 elements - a key and a value\n",
    "                         # output: [('Alice', 75), ('Bob', 70), ('Charlie', 90), ('David', 56), ('Eleanor', 78)]\n",
    "    \n",
    "    \n",
    "#NOTE!!!!! To iterate through a dictionary, always use on the above 3 methods - .keys(), .values(), .items()\n",
    "#-----------------------------------------------------------------------------------------------------------------------\n",
    "\n",
    "my_dict.get('Bob')       # alternative method to getting a value by passing its corresponding key --> output: 70\n",
    "my_dict.pop('David')     # removes (pops) a key-value pair from the dictionary by passing a key; returns the removed value \n",
    "                         # output: {'Alice': 75, 'Bob': 70, 'Charlie': 90, 'Eleanor': 78} ; prints out 56\n",
    "my_dict.clear()          # permanently clears all content from a dictionary --> output: {}\n",
    "\n",
    "new_dict = {'Stefanie': 99, 'Jack': 90}\n",
    "my_dict.update(new_dict) # updates an empty dictionary with the content of another dict --> output: {'Stefanie': 99, 'Jack': 90}"
   ]
  },
  {
   "cell_type": "code",
   "execution_count": null,
   "id": "ab1bfd81",
   "metadata": {},
   "outputs": [],
   "source": [
    "# Iterating through a dictionary:\n",
    "my_dict = {'Alice': 75, 'Bob': 68, 'Charlie': 90, 'David': 56}\n",
    "\n",
    "\n",
    "# Iteration using the .keys() method\n",
    "for key in my_dict.keys():   # key is the name for the iterator - you can pick any name, but once picked, you stick with it!\n",
    "    print(key)               # in each iteration, the iterator 'key' will take the value of the corresponding key\n",
    "                             # in iteration 1, key will become 'Alice'; in iteration 2, key will become 'Bob', etc.\n",
    "    \n",
    "# Iterion using .keys() method beyond simple print()\n",
    "for ind_key in my_dict.keys():                                           # the iterator here is named 'ind_key' -- you pick it!\n",
    "    ind_value = my_dict[ind_key]                                         # ind_value takes the corresponding value to ind_key\n",
    "    ind_message = '{} has scored {} points on the exam'.format(ind_key, ind_value)  # use .format() method to make text dynamic\n",
    "    print(ind_message)\n",
    "    \n",
    "    \n",
    "#-----------------------------------------------------------------------------------------------------------------------   \n",
    "    \n",
    "    \n",
    "# Iteration using the .values() method: only useful when you need to get your hands on the values ONLY\n",
    "for value in my_dict.values():  # value is the name for the iterator - you can pick any name, e.g. v, my_value, val...\n",
    "    print(value)\n",
    "   \n",
    "    \n",
    "#Example of using iteration to obtain all values under 60 and append to a new list:\n",
    "fail_list = []                    # first, create an empty list --> we will store all filtered values in it\n",
    "for val in my_dict.values():\n",
    "    if val <60:                   # nested if statement, checking if val is under 60\n",
    "        fail_list.append(val)     # if val <60, we append it to the fail_list\n",
    "    \n",
    "print(fail_list)               # this will print out --> [56] - this is because only David scored under 60!\n",
    "\n",
    "#-----------------------------------------------------------------------------------------------------------------------\n",
    "\n",
    "# Iterating using the .items() method -- my favourite, as it allows us to get our hands on both the keys and values!\n",
    "for key, value in my_dict.items():                     # NOTE - we have 2 iterators - one storing the key, the other - the value\n",
    "    print('The key is', key, 'and the value is', value)# You pick tehe names of your iterators, once picked, you stick with it!!\n",
    "    \n",
    "    \n",
    "# Iterating through a dictionary to create a new dictionary with the students, who passed:\n",
    "pass_dict = {}\n",
    "for key, value in my_dict.items():\n",
    "    if value > 60:\n",
    "        pass_dict[key] = value\n",
    "    \n",
    "print(pass_dict)"
   ]
  },
  {
   "cell_type": "markdown",
   "id": "01890b44",
   "metadata": {},
   "source": [
    "## 7. Sets - Methods & Operations:\n",
    "Remember - sets are unordered collection of unique values. All elements in a set must be immutable objects!"
   ]
  },
  {
   "cell_type": "code",
   "execution_count": null,
   "id": "bdb15dda",
   "metadata": {},
   "outputs": [],
   "source": [
    "empty_set = set()                                   # creates an empty set\n",
    "integer_set = {0,1,2,3,4,5,6,7,8,9}                 # creates a set with content - all integers\n",
    "list_of_integers = [1,2,3,4,5,6,7,8,9,0,1,2,3,4]    \n",
    "set_from_list = set(list_of_integers)               # takes a list and dedupes it --> output: {1,2,3,4,5,6,7,8,9,0}"
   ]
  },
  {
   "cell_type": "code",
   "execution_count": null,
   "id": "d5e82ce9",
   "metadata": {},
   "outputs": [],
   "source": [
    "set_a = {'Alice', 'Bob', 'Charlie'}\n",
    "set_b = {'Charlie', 'David'}\n",
    "\n",
    "set_a.union(set_b)      # takes the union of two sets and creates a new set --> output: {'Alice', 'Bob', 'Charlie', 'David'}\n",
    "set_a.difference(set_b) # returns the difference between set_a and set_b -- output: {'Alice', 'Bob'} \n",
    "set_b.difference(set_a) # note that difference is not symmetric --> output: {'David'}\n",
    "set_a.intersection(set_b)   # returns the intersections (overlap) between the 2 sets --> output: {'Charlie'}\n",
    "set_a.isdisjoint(set_b)     # returns True if the sets are disjoint; otherwise returns False --> output: False\n",
    "\n",
    "set_a.add('David')      # adds a new element to the set --> output: {'Alice', 'Bob', 'Charlie', 'David'} \n",
    "set_a.remove('Alice')   # removes an element from the set --> output: {'Bob', 'Charlie', 'David'}"
   ]
  },
  {
   "cell_type": "code",
   "execution_count": null,
   "id": "e239e5dd",
   "metadata": {},
   "outputs": [],
   "source": [
    "# Iterating through a set is allowed! But remember - the elements inside it are unordered!!\n",
    "set_a = {'Alice', 'Bob', 'Charlie'}\n",
    "\n",
    "for name in set_a:\n",
    "    print(name)"
   ]
  },
  {
   "cell_type": "markdown",
   "id": "39028ddd",
   "metadata": {},
   "source": [
    "## 8. Tuples - Methods & Operations\n",
    "Remember - tuples are the immutable version of a list! We can iterate through them and count elements, but cannot add or delete any!"
   ]
  },
  {
   "cell_type": "code",
   "execution_count": null,
   "id": "8abcffa2",
   "metadata": {},
   "outputs": [],
   "source": [
    "my_tuple = (1,2,3,4,5)\n",
    "\n",
    "my_tuple.count(1)   # counts the occurrences of 1 in the tuple --> output: 1\n",
    "my_tuple[0]         # returns the first element in the tuple - remember, tuples are also indexed! --> output: 1\n",
    "my_tuple[::-1]      # reverses the order of the tuple --> output: (5, 4, 3, 2, 1)\n",
    "my_tuple.index(3)   # returns the index of a specified value in the tuple --> output: 2\n",
    "\n",
    "len(my_tuple)       # returns the length of the tuple --> output: 5"
   ]
  },
  {
   "cell_type": "code",
   "execution_count": null,
   "id": "8f53f048",
   "metadata": {},
   "outputs": [],
   "source": [
    "# Iteration through a tuple is allowed!\n",
    "for element in my_tuple:\n",
    "    print(element)\n",
    "    \n",
    "# We can iterate through the indices of the tuple, and access the corresponding element using indexing!    \n",
    "for i in range(len(my_tuple)):\n",
    "    print(my_tuple[i])"
   ]
  },
  {
   "cell_type": "markdown",
   "id": "4192847e",
   "metadata": {},
   "source": [
    "## 9. Booleans - Methods & Operations\n",
    "Remember that Boolean objects take one of 2 possible values - __True__ or __False__!\n",
    "Each Boolean object has a numerical equivalent - __True = 1__ and __False = 0__ - this allows us to do mathematical operations on them!"
   ]
  },
  {
   "cell_type": "code",
   "execution_count": null,
   "id": "ae03133a",
   "metadata": {},
   "outputs": [],
   "source": [
    "a = True\n",
    "b = False\n",
    "\n",
    "a + b            # Returns the sum of 1 and 0 (the numerical equivalents of the 2 objects) --> output: 1\n",
    "\n",
    "bool_list = [True, False, True, True]\n",
    "sum(bool_list)   # We can take the sum of boolean object, stored in a list --> output: 3\n",
    "\n",
    "type(a)         # type() function returns the type of the object --> output: bool\n",
    "\n",
    "x = 10\n",
    "bool(x)         # bool() function takes ANY object and returns their boolean equivalent --> output: True because x !=0"
   ]
  },
  {
   "cell_type": "code",
   "execution_count": null,
   "id": "dfa40eef",
   "metadata": {},
   "outputs": [],
   "source": [
    "# Boolean statements:\n",
    "a = True\n",
    "b = False\n",
    "\n",
    "a and b  # returns a if bool(a) is False; else returns b --> output: b\n",
    "a or b   # returns b if bool(a) is False; else returns a --> output: a\n",
    "\n",
    "#-----------------------------------------------------------------------------------------------------------------------\n",
    "\n",
    "# When a and b are in a 'dead heat' - i.e. both a=True and b=True, 'and' & 'or' return different values:\n",
    "a = True\n",
    "b = True\n",
    "\n",
    "a and b  # returned output: b\n",
    "a or b   # returned output: a\n",
    "\n",
    "#-----------------------------------------------------------------------------------------------------------------------\n",
    "\n",
    "# REMEMBER!!! - we can use 'and' & 'or' on ANY objects, not just Booleans!\n",
    "a = 'no more python'   # a is a string of length >0, therefore bool(a) = True\n",
    "b = 'more python'      # b is a string of length >0, therefore bool(b) = True\n",
    " \n",
    "a and b  # dead heat between a & b; Python returns b --> output: 'more python'\n",
    "a or b   # dead heat between a & b; Python returns a --> output: 'no more python'"
   ]
  },
  {
   "cell_type": "markdown",
   "id": "128caa55",
   "metadata": {},
   "source": [
    "## 10. IF Statements:\n",
    "Remember - `if ..... elif ..... else` statements are the go-to way when tackling a task which has conditional outcomes. As a rule of thumb, always try to map out a decision tree before attempting to write any code:\n",
    "\n",
    "Example: Today I have to cover 2 python units:\n",
    "- if I cover all in the morning, I have the afternoon free\n",
    "- if I cover only one in the morning, I have to cover 1 in the afternoon\n",
    "- if I don't cover anythin in the morning, I have to cover both in the afternoon"
   ]
  },
  {
   "cell_type": "code",
   "execution_count": null,
   "id": "5e8c193a",
   "metadata": {},
   "outputs": [],
   "source": [
    "# Example of above scenario:\n",
    "morning_covered_lessions = 1           # Change value to 0 or 2 to see how your code executes differently\n",
    "\n",
    "if morning_covered_lessions ==0:\n",
    "    print('I have to cover 2 units in the afternoon')\n",
    "elif morning_covered_lessions == 1:\n",
    "    print('I have to cover 1 unit in the afternoon')\n",
    "else:\n",
    "    print('I have the afternoon free')"
   ]
  },
  {
   "cell_type": "code",
   "execution_count": 7,
   "id": "ff8619db",
   "metadata": {},
   "outputs": [
    {
     "name": "stdout",
     "output_type": "stream",
     "text": [
      "The statement if is in my conditional statements list\n",
      "Which movie shall we watch? b\n",
      "Sorry, I could not find this one.\n",
      "The number 12 is even\n",
      "[50, 35]\n",
      "[('mama', 'mia'), (1, 2, 3, 4), ('python', 3.9)]\n"
     ]
    }
   ],
   "source": [
    "# If statements - examples:\n",
    "\n",
    "# Simple if statement -- no elif/else -- if statements are good to use on their own\n",
    "cond_statement_list = ['if', 'elif', 'else', 'while']\n",
    "statement = 'if'                                      # with 'if', the message gets printed; replace with 'for' to see no output\n",
    "if statement in cond_statement_list:\n",
    "    print('The statement {} is in my conditional statements list'.format(statement))\n",
    "    \n",
    "#-----------------------------------------------------------------------------------------------------------------------\n",
    "\n",
    "# Simple if - else statement:\n",
    "movie_dict = {'movie_1': 'Lord of the Rings', 'movie_2': 'Game of Thrones', 'movie_3': 'The Matrix'}\n",
    "\n",
    "movie_choice = input('Which movie shall we watch? ')                   # the input() function returns an object of type string\n",
    "if movie_choice in movie_dict.values():                                # the .values() method returns a list of all dict values\n",
    "    print('Great, tonight we are watching {}'.format(movie_choice))    # the format() method makes our message dynamic\n",
    "else:\n",
    "    print('Sorry, I could not find this one.')  \n",
    "\n",
    "\n",
    "#-----------------------------------------------------------------------------------------------------------------------\n",
    "    \n",
    "# Scenario with 3 conditional outcomes -- if - elif - else statement:\n",
    "# Suppose we have a variable which can be either a number (int - e.g. 12, or a float - e.g. 12.5) or a string (e.g. '12')\n",
    "# if the variable is not int, we print out 'Sorry, not an integer'; if it is int, we check if it is even or odd:\n",
    "\n",
    "my_variable = 12\n",
    "\n",
    "if type(my_variable) != int:\n",
    "    print('Sorry, not an integer')\n",
    "elif my_variable % 2 == 0:\n",
    "    print('The number {} is even'.format(my_variable))\n",
    "else:\n",
    "    print('The number {} is odd'.format(my_variable))\n",
    "    \n",
    "\n",
    "#-----------------------------------------------------------------------------------------------------------------------\n",
    "\n",
    "# Let's take the complexity up a notch - conditional statements are not all about using print! \n",
    "# We can use them in combination with iteration to inspect elements in a container and perform some conditional logic on them\n",
    "# Suppose we have a list of different objects - int, str, float, tuples\n",
    "# We are asked to separate the list into multiple lists - each containing elements of only one type:\n",
    "\n",
    "input_list = ['fox', '123', 3.14, 50, ('mama', 'mia'), '9.81', 35, (1,2,3,4), 'crazy frog', 12.5, ('python', 3.9)]\n",
    "\n",
    "int_list = []                           # creating an empty list to store all integers\n",
    "str_list = []                           # creating an empty list to store all strings\n",
    "float_list = []                         # creating an empty list to store all floats\n",
    "other_list = []                         # creating an empty list to store all other objects - in this scenario, tuples\n",
    "\n",
    "for item in input_list:                 # using a for loop to iterate through the initial input_list\n",
    "    if type(item) == int:               # if the item is int, we append to int_list\n",
    "        int_list.append(item)\n",
    "    elif type(item) == float:           # if the item is float, we append to float_list\n",
    "        float_list.append(item)\n",
    "    elif type(item) == str:             # if the item is string, we append to str_list\n",
    "        str_list.append(item)\n",
    "    else:                               # else catches all elements, which did not fulfil the above 3 conditions\n",
    "        other_list.append(item)\n",
    "\n",
    "print(int_list)                         # here we check if the above code worked well - you can inspect all 4 lists\n",
    "print(other_list)"
   ]
  },
  {
   "cell_type": "markdown",
   "id": "2024fcf2",
   "metadata": {},
   "source": [
    "## 11. For Loops:\n",
    "Remember - __For Loops__ are one of 2 possible loops in Python - `for` and `while`. We use __For Loops__ when we have to:\n",
    "- iterate through a collection of elements, stored in a container - e.g. lists, dictionaries, tuples, strings\n",
    "- perform a certain task (set of tasks) __X__ times and we know the number of repetitions (i.e. we know the value of __X__)\n",
    "\n",
    "__Example__: 'I need to go to the gym every day for the next 3 months' -- I know the number of times I have to go to the gym (90). In situations like this, I would use a `for` loop."
   ]
  },
  {
   "cell_type": "code",
   "execution_count": null,
   "id": "94fbb703",
   "metadata": {},
   "outputs": [],
   "source": [
    "# Simple for loop examples - iterating through a container \n",
    "# NOTE -- refer to LISTS, STRINGS and DICTIONARIES to see more examples on how to iterate through those objects:\n",
    "\n",
    "# e.g. 1 - iterating through a list - on each iteration produce a string of '*' and print it out to produce a pyramid of stars\n",
    "my_list = [1,2,3,4,5]\n",
    "for i in my_list:\n",
    "    star_string = '*'*i                           # on 1st iteration, i becomes 1; one 2nd iteration - 2, etc. \n",
    "    print(star_string)                            # at the end of each iteration we print star_string\n",
    "#-----------------------------------------------------------------------------------------------------------------------\n",
    "\n",
    "# e.g. 2 - iterating a list - on each iteration, produce a string of ' ' and '^' and print out a pyramid, alligned on the left\n",
    "my_list = [1,2,3,4,5]\n",
    "for i in my_list:\n",
    "    len_list = len(my_list)                       # since we now need to dynamically change number of * and ' ', we use len()\n",
    "    star_string = (len_list - i)*' ' + '*'*i      # one 1st iteration, star_string = '    *'; on 2nd - '   **' etc\n",
    "    print(star_string)\n",
    "#-----------------------------------------------------------------------------------------------------------------------\n",
    "\n",
    "# iterating through a range of numbers:\n",
    "for i in range(10):                               # range() accepts 1,2 or 3 arguments - start, end, step\n",
    "    print(i*2)                                    # default value of start = 0; default value of step = 1; always specify end!!!\n",
    "\n",
    "#-----------------------------------------------------------------------------------------------------------------------\n",
    "\n",
    "# Let's take it up a notch - in the next example we will build the Fibonacci sequence (google to see what it is)\n",
    "# Let's produce the first 100 numbers in the Fibonacci sequence - the beginning of the sequence looks like this:\n",
    "# fibonacci = [1,1,2,3,5,8,13,......] -- each element after the first 2 ones is the sum of the former 2\n",
    "\n",
    "fibonacci = []                                   # we begin with an empty container where we will be storing the fibonacci n-rs\n",
    "\n",
    "for i in range(1,101):                           # the iterator 'i' effectively shows the number of the element in the sequence\n",
    "    if (i == 1) or (i == 2):                     # on the first and second iteration we produce the 1st 2 'ones' in the sequence\n",
    "        fibonacci.append(1)                      \n",
    "    else:                                        # for all i's above 2, the else statement gets executed\n",
    "        number = fibonacci[i-2] +fibonacci[i-3]  # the i'th number is the sum of the former 2 - use i as a proxy for the index\n",
    "        fibonacci.append(number)              \n",
    "\n",
    "print(fibonacci)\n",
    "\n",
    "# If you strugle with the above logic at first, try to replay in your mind the first 3 or 4 iterations of the for loop\n",
    "# on 1st iteration i = 1, therefore we append 1 to the list; we do the same on the 2nd iteration\n",
    "# on 3rd iteration i = 3 --> we go to else clause --> number = fibonacci[1] + fibonacci[0] = 1+1 = 2 --> append 2\n",
    "# on 4th iteration i = 4 --> we go to else clause --> number = fibonacci[2] + fibonacci[1] = 2+1 = 3 --> append 3, and so on.."
   ]
  },
  {
   "cell_type": "code",
   "execution_count": 16,
   "id": "d3e83517",
   "metadata": {},
   "outputs": [
    {
     "name": "stdout",
     "output_type": "stream",
     "text": [
      "In the first 100 fibonacci numbers, there are 33 even and 67 odd numbers\n"
     ]
    }
   ],
   "source": [
    "# Let's extend the fibonacci question - we learnt how to generate a list with the first 100 numbers in it;\n",
    "# now, let's explore some of its properties - we want to count the number of odd and even numbers in the sequence:\n",
    "\n",
    "fibonacci = []\n",
    "count_odd = 0                                         # creating a variable, counting the odd numbers in the sequence   \n",
    "count_even = 0                                        # creating a variable, counting the even numbers in the sequence\n",
    "\n",
    "for i in range(1,101):\n",
    "    if (i == 1) or (i == 2):                          \n",
    "        number = 1\n",
    "        count_odd = count_odd + 1\n",
    "        fibonacci.append(number)\n",
    "    else:\n",
    "        number = fibonacci[i-2] + fibonacci[i-3]\n",
    "        fibonacci.append(number)\n",
    "        if number % 2 == 0:                           # after appending the number to the list, we check if it is even or not \n",
    "            count_even = count_even + 1               # note that if number is even, we add 1 to the count_even\n",
    "        else:\n",
    "            count_odd = count_odd + 1                 # and when the number is odd, we add 1 to the count_odd!\n",
    "            \n",
    "print('In the first 100 fibonacci numbers, there are {} even and {} odd numbers!'.format(count_even, count_odd))"
   ]
  },
  {
   "cell_type": "code",
   "execution_count": 18,
   "id": "17956bd4",
   "metadata": {},
   "outputs": [
    {
     "name": "stdout",
     "output_type": "stream",
     "text": [
      "In the first 10 000 fibonacci numbers, there are 3333 even and 6667 odd numbers\n"
     ]
    }
   ],
   "source": [
    "# Great!! We learnt how python and for loops allow mathematicians to explore theoretical concepts! \n",
    "# Let's now leverage the above logic and the comuptation power of our machines to see if the number of even to odd numbers \n",
    "# remains at a ratio of 1:2\n",
    "\n",
    "# Let's explore the first 10 000 fibonacci numbers? -- did you see how fast the cell got executed!\n",
    "# it would have taken us weeks to collectively calculate those manually! --> indeed, the result confirms the 1:2 even:odd ratio!\n",
    "fibonacci = []\n",
    "count_odd = 0\n",
    "count_even = 0\n",
    "\n",
    "for i in range(1,10001):\n",
    "    if (i == 1) or (i == 2):\n",
    "        number = 1\n",
    "        count_odd = count_odd + 1\n",
    "        fibonacci.append(number)\n",
    "    else:\n",
    "        number = fibonacci[i-2] + fibonacci[i-3]\n",
    "        fibonacci.append(number)\n",
    "        if number % 2 == 0:\n",
    "            count_even = count_even + 1\n",
    "        else:\n",
    "            count_odd = count_odd + 1\n",
    "            \n",
    "print('In the first 10 000 fibonacci numbers, there are {} even and {} odd numbers!'.format(count_even, count_odd))"
   ]
  },
  {
   "cell_type": "code",
   "execution_count": 20,
   "id": "125f2795",
   "metadata": {},
   "outputs": [
    {
     "name": "stdout",
     "output_type": "stream",
     "text": [
      "{'a': 2, 'e': 3, 'o': 2, 'i': 3, 'u': 0}\n",
      "{'a': 3, 'e': 3, 'o': 2, 'i': 3, 'u': 0}\n"
     ]
    }
   ],
   "source": [
    "# Nested for loops - nesting for loops is commonly used, however, it increases the complexity of our code logic!\n",
    "# we use nested for loops when we have a container of containers -- e.g. list of lists, and want to iterate through all\n",
    "# elements of each subcontainer!\n",
    "\n",
    "# Simple example - let's iterate through a list of names and count the number of names, in which the vowel is present\n",
    "name_list = ['Alice', 'Ben', 'Conlan', 'Daniella', 'Elliot']\n",
    "vowel_dict = {'a':0, 'e':0, 'o':0, 'i':0, 'u':0}\n",
    "\n",
    "for name in name_list:\n",
    "    for vowel in vowel_dict.keys():\n",
    "        if vowel in name:\n",
    "            vowel_dict[vowel] +=1                                         # x +=1 is a short-cut for writing x = x + 1\n",
    "            \n",
    "print(vowel_dict)\n",
    "\n",
    "\n",
    "# NOTE -- we can perform a similar task - this time we will count the number of vowel occurrences across all names\n",
    "name_list = ['Alice', 'Ben', 'Conlan', 'Daniella', 'Elliot']\n",
    "vowel_dict = {'a':0, 'e':0, 'o':0, 'i':0, 'u':0}\n",
    "vowel_list = ['a', 'e', 'o', 'i', 'u']\n",
    "\n",
    "for name in name_list:\n",
    "    for letter in name:\n",
    "        if letter in vowel_list:\n",
    "            vowel_dict[letter] +=1\n",
    "            \n",
    "print(vowel_dict)"
   ]
  },
  {
   "cell_type": "code",
   "execution_count": 21,
   "id": "938e3d68",
   "metadata": {},
   "outputs": [
    {
     "name": "stdout",
     "output_type": "stream",
     "text": [
      "{'0': 954, '1': 970, '2': 963, '3': 958, '4': 959, '5': 951, '6': 943, '7': 957, '8': 957, '9': 958}\n"
     ]
    }
   ],
   "source": [
    "# Nested for loops - application in maths - fibonacci sequence example continued\n",
    "# Here we will try to write a piece of code, coutning the number of occurrences of each digit 0-9 in the first 1000 fibonacci\n",
    "# numbers -- the logic is exactly like the one above!\n",
    "\n",
    "fibonacci = []\n",
    "digit_dict = {'0':0, '1':0, '2':0, '3':0, '4':0, '5':0, '6':0, '7':0, '8':0, '9':0}\n",
    "\n",
    "for i in range(1,1001):\n",
    "    if (i == 1) or (i == 2):                          \n",
    "        number = 1\n",
    "        fibonacci.append(number)\n",
    "        digit_dict['1'] +=1\n",
    "    else:\n",
    "        number = fibonacci[i-2] + fibonacci[i-3]\n",
    "        fibonacci.append(number)\n",
    "        for digit in digit_dict.keys():\n",
    "            if digit in str(number):\n",
    "                digit_dict[digit] +=1\n",
    "            \n",
    "print(digit_dict)\n",
    "\n",
    "# The results are interesting - although the first 1000 fibonacci numbers look random at first sight, we can see that\n",
    "# each of the 10 possible digits occured at largely the same frequency - very close to 1000! "
   ]
  },
  {
   "cell_type": "markdown",
   "id": "17b41b47",
   "metadata": {},
   "source": [
    "## 12. While Loops:\n",
    "Remember - __While Loops__ are one of 2 possible loops in Python - `for` and `while`. We use __While Loops__ when we have to\n",
    "- perform a certain task (set of tasks) __X__ times until a certain condition is satisfied! __X__ is NOT KNOWN!\n",
    "\n",
    "__Example__: 'I need to go to the gym every day until I lose 5kg' -- I do NOT know how many times I will have to go to the gym, but I know I have to keep repeating until I have lost the weight. In situations like this, we would use a `while` loop."
   ]
  },
  {
   "cell_type": "code",
   "execution_count": 23,
   "id": "7d20a7d1",
   "metadata": {},
   "outputs": [
    {
     "name": "stdout",
     "output_type": "stream",
     "text": [
      "After 17 gym sessions, I was able to go from 60 to 54.90000000000005 kg!\n"
     ]
    }
   ],
   "source": [
    "# Simple while loop: let's recreate the gym scenario above\n",
    "# Question - if my initial weight is X kg and my dream weight is Y kg, how many times do I have to go to the gym?\n",
    "# on each gym session, I am able to burn 0.3 kg\n",
    "\n",
    "dream_weight = 55                      # play around with the number for dream_weight\n",
    "initial_weight = 60                    # play around with the number for initial_weight\n",
    "weight = initial_weight\n",
    "gym_sessions = 0                       # create a gym sessions counter, which starts at 0 and increases incrementally by 1\n",
    "\n",
    "while weight > dream_weight:           # while the conditional statement evaluates as True, the body of the loop executes!\n",
    "    weight = weight - 0.3\n",
    "    gym_sessions = gym_sessions + 1    # at the end of each iteration, incrementally increase gym_sessions by 1\n",
    "    \n",
    "print('After {} gym sessions, I was able to go from {} to {} kg!'.format(gym_sessions, initial_weight, weight))"
   ]
  },
  {
   "cell_type": "code",
   "execution_count": 24,
   "id": "3760f041",
   "metadata": {},
   "outputs": [
    {
     "name": "stdout",
     "output_type": "stream",
     "text": [
      "After 17 gym sessions, I was able to go from 60 to 54.90000000000005 kg!\n"
     ]
    }
   ],
   "source": [
    "# Alternative way of writing the above code, using 'break' & 'continue'\n",
    "\n",
    "dream_weight = 55\n",
    "initial_weight = 60\n",
    "weight = initial_weight\n",
    "gym_sessions = 0\n",
    "\n",
    "while True:                                   # Note how we replaced the conditional statement with a simple True \n",
    "    weight = weight - 0.3\n",
    "    gym_sessions = gym_sessions + 1\n",
    "    if weight > dream_weight:                 # the conditional statement is now inside the while loop\n",
    "        continue\n",
    "    else:\n",
    "        break                                 # once the if statement returns False, this triggers the 'break' --> loop ends!\n",
    "        \n",
    "print('After {} gym sessions, I was able to go from {} to {} kg!'.format(gym_sessions, initial_weight, weight))"
   ]
  },
  {
   "cell_type": "markdown",
   "id": "d2a833bd",
   "metadata": {},
   "source": [
    "## 13. Functions:\n",
    "Remember - Functions allow us to automate a set of logical operations/steps in Python. When we enclose these step in the definition of a function, we can leverage these steps repeatedly without having to writing any code from scratch - instead we simply have to call the function.\n",
    "\n",
    "A function characterises with the following:\n",
    "- it accepts a set of __arguments__ (also called inputs - do not mistake with the input() function) - there can be 0, 1 or multiple arguments in a function\n",
    "- it performs one or multiple logical operations on the arguments\n",
    "- it __returns__ an __output__ (for a function to return a tangible object as an output, we use the command __return__!)\n",
    "\n",
    "Often times when learning how to define and work with functions , we use the __print()__ function inside. __Print()__ works as a notification system - when we call the function, it will print out a message, but it won't return an output. \n",
    "\n",
    "Think of the following real-life example: Suppose we have the latest coffee machine model - it accepts inputs/arguments (coffee grains, water) and performs a number of steps (grinds the grains, uses a pressure stream of water to extract the coffee, etc.):\n",
    "- the cup of hot coffee is the tangible output of the machine - this is what the machine __returns__\n",
    "- the messages on the coffee machine monitor - e.g. 'making espresso', etc. are the notifications we receive - this is what the machine __prints__"
   ]
  },
  {
   "cell_type": "code",
   "execution_count": 27,
   "id": "d0c4ceb7",
   "metadata": {},
   "outputs": [
    {
     "name": "stdout",
     "output_type": "stream",
     "text": [
      "Hello from the other side, Kubrick\n",
      "The output of my_function2() is None\n",
      "The output of my_function3() is Hello from the other side Kubrick\n"
     ]
    }
   ],
   "source": [
    "# Simple examples of defining a function:\n",
    "def my_function1():                            # this is an example of a function which does not take any arguments\n",
    "    print('Hello from the other side')         # this function does not return any tangible output - it only prints a message\n",
    "    \n",
    "def my_function2(name):                                      # this is an example of a function which takes one argument\n",
    "    print('Hello from the other side, {}'.format(name))      # the function does not return anything - it only prints a message\n",
    "    \n",
    "    \n",
    "def my_function3(name):                                      # this is an example of a function that takes one argument\n",
    "    message = 'Hello from the other side ' + str(name)       # this time we create a tangible object inside the function\n",
    "    return message                                           # the function returns the tangible object - it creates an output\n",
    "\n",
    "#-----------------------------------------------------------------------------------------------------------------------\n",
    "# To see that a function with print() and no return does NOT return anything tangible,\n",
    "# let's call my_function2() and my_function3(), let's store the output in a variable and check its value:\n",
    "\n",
    "output_f2 = my_function2('Kubrick')                          # calling my_function2() and storing its output in a variable\n",
    "output_f3 = my_function3('Kubrick')                          # calling my_function3() and storing its output in a variable\n",
    "\n",
    "print('The output of my_function2() is', output_f2)          # output: The output of my_function2() is None !!!!\n",
    "print('The output of my_function3() is', output_f3)          # output: the output of my_function3() is Hello from the ..... "
   ]
  },
  {
   "cell_type": "code",
   "execution_count": 29,
   "id": "25028117",
   "metadata": {},
   "outputs": [
    {
     "name": "stdout",
     "output_type": "stream",
     "text": [
      "[1, 1, 2, 3, 5, 8, 13, 21, 34, 55]\n",
      "[1, 1, 2, 3, 5]\n"
     ]
    }
   ],
   "source": [
    "# Functions beyond simple print() or return\n",
    "# Functions are reusable pieces of code that can be called using a function's name.\n",
    "# We use functions to automate a set of logical steps/operations, which are used multiple times\n",
    "# this makes our codes more efficient, less repetitive and more dynamic! \n",
    "\n",
    "#-----------------------------------------------------------------------------------------------------------------------\n",
    "# eg. No 1: Create a fibonacci function: - here we take the Fibonacci example from 'For Loops' and enclose it in a function:\n",
    "\n",
    "def create_fibonacci(n):\n",
    "    '''\n",
    "    The purpose of this function is to take an argument n (integer)                               \n",
    "    And produce a fibonacci list, containing the first n numbers in the Fibonacci Sequence.\n",
    "    The output of the function is a list.\n",
    "    '''\n",
    "    fibonacci = []                                                     # create an empty list to store all fibonacci numbers\n",
    "    for i in range(1, n + 1):                                          # perform iteration from 1 to n including \n",
    "        if (i==1) or (i==2):                                           # the length of the loop depends on argument 'n'\n",
    "            fibonacci.append(1)\n",
    "        else:\n",
    "            number = fibonacci[i-2] + fibonacci[i-3]\n",
    "            fibonacci.append(number)\n",
    "            \n",
    "    return fibonacci                                                   # once we are ready with the list, we return it!\n",
    "\n",
    "\n",
    "\n",
    "# Below we 'call' the function - i.e. we execute it!\n",
    "fibonacci_10_list = create_fibonacci(10)                               # here we create and store the first 10 numbers in a var\n",
    "print(fibonacci_10_list)                                               # output: [1, 1, 2, 3, 5, 8, 13, 21, 34, 55] \n",
    "\n",
    "fibonacci_5_list = create_fibonacci(5)                                 # here we create and store the first 5 numbers in a var\n",
    "print(fibonacci_5_list)                                                # output: [1, 1, 2, 3, 5]"
   ]
  },
  {
   "cell_type": "code",
   "execution_count": 33,
   "id": "07d2011b",
   "metadata": {},
   "outputs": [
    {
     "name": "stdout",
     "output_type": "stream",
     "text": [
      "20\n",
      "18\n"
     ]
    }
   ],
   "source": [
    "# eg. No 2: Gym function - here we take the gym example from 'While Loops' and enclose it in a function:\n",
    "\n",
    "def gym_function(initial_weight, dream_weight, loss_per_session):\n",
    "    '''\n",
    "    This function takes 3 arguments - initial_weight, dream_weight and loss_per_session (measured in kg)                               \n",
    "    It then calculates how many gym sessions you have to complete to get from your initial to your dream weight,\n",
    "    given the weight loss per session (this is used as a proxy for the intensivity of the work-out session).\n",
    "    The function returns the count of gym_sessions (integer)\n",
    "    '''\n",
    "    gym_sessions = 0\n",
    "    weight = initial_weight\n",
    "    \n",
    "    while weight > dream_weight:\n",
    "        weight = weight - loss_per_session\n",
    "        gym_sessions = gym_sessions + 1\n",
    "        \n",
    "    return gym_sessions\n",
    "\n",
    "# Below we 'call' the function\n",
    "cardio_sessions = gym_function(60, 55, 0.25)             # to get from 60kg to 55kg, doing cardio (and burning 0.25kg/sess)\n",
    "print(cardio_sessions)                                   # I need to complete 20 gym sessions\n",
    "\n",
    "weight_lifting_sessions = gym_function(60, 55, 0.28)     # to get from 60kg to 55kg with weight lifting (burning 0.28kg/sess)\n",
    "print(weight_lifting_sessions)                           # I need to complete 18 gym sessions"
   ]
  },
  {
   "cell_type": "code",
   "execution_count": 36,
   "id": "36299c66",
   "metadata": {},
   "outputs": [
    {
     "name": "stdout",
     "output_type": "stream",
     "text": [
      "{'Miri': '+447599487828'}\n",
      "{'Mom': '+359888410645', 'Dad': '+359888722795'}\n"
     ]
    }
   ],
   "source": [
    "# eg. No 3 - Create a function which accepts 2 arguments - a dictionary with names and phone numbers, and a country code\n",
    "# The function returns a new dictionary, containing all name:number pairs, for which the number starts with the country code\n",
    "\n",
    "def book_search(address_book, country_code):                    # two arguments - a dictionary, and a 'country code' str\n",
    "    new_book = {}                                               # create an empty dict to store the filtered pairs\n",
    "    for key, value in address_book.items():                     # iterate through each pair in the initial address_book\n",
    "        if value.find(country_code) == 0:                       # if the value (i.e. the number) starts with the country code\n",
    "            new_book[key] = value                               # append the pair to the new_book dictionary\n",
    "        else:\n",
    "            pass\n",
    "    return new_book                                             # return the new_book dictionary\n",
    "\n",
    "\n",
    "\n",
    "# Below we 'call' the function twice - we have created an example address_book to test it on\n",
    "my_address_book = {'Mom': '+359888410645', 'Dad': '+359888722795', 'Miri': '+447599487828'}\n",
    "\n",
    "uk_book = book_search(my_address_book, '+44')                  # search for all UK numbers, beginning with '+44'\n",
    "print(uk_book)                                                 # output: {'Miri': '+447599487828'}\n",
    "\n",
    "bg_book = book_search(my_address_book, '+359')                 # search for all Bulgarian numbers, beginning with '+359'\n",
    "print(bg_book)                                                 # output: {'Mom': '+359888410645', 'Dad': '+359888722795'}"
   ]
  },
  {
   "cell_type": "markdown",
   "id": "9b13bf17",
   "metadata": {},
   "source": [
    "## 14. Classes:\n",
    "Python is an Object-Oriented Programming Language! Remember that almost everything in Python is an object with its properties and methods - whenever we create a new variable and assign to it a value (e.g. an integer, a float, a string, a list, a dictionary, etc.), we are in fact creating an __object__!\n",
    "\n",
    "\n",
    "A __Class__ is like an object constructor - think of it as a 'blueprint' for creating objects. Defining Classes allows us all to design our own object types and shape their identity and behaviour!\n",
    "\n",
    "Once we have designed our __Class__ (i.e. created our 'blueprint'), we can then create __instances__ of this Class! A __Class instance__ is a tangible object, belonging to the Class - it will inherit certain features and behaviours from it (which in Python terms are called __attributes__ and __methods__)."
   ]
  },
  {
   "cell_type": "markdown",
   "id": "e5c152d4",
   "metadata": {},
   "source": [
    "### 14.1  Attributes and Methods:\n",
    "- __Attributes__ are variables, which store data. There are 2 types of attributes:\n",
    "    - __Instance Attribute__ - a variable, storing data, specific to a given instance of a Class. When we create a Class Instance (object), all of its unique features will be stored as instance attributes! Those attributes are accessible only by this single instance!\n",
    "    - __Class Attribute__ - a variable, storing data, specific to a given Class itself. It is shared across all instances (objects) of the Class.\n",
    "    \n",
    "Think of human kind as a Class in Python. Each person on the Earth is an Instance of the 'Human Kind' Class. All instances, i.e. all people share certain human features, which differentiate us from other 'Classes' in the world - our __consciousness__ is one example. In Python terms, __consciousness__ is a __Class Attribute__! However, each person has unique features, making us all different from one another - e.g. each person has a different __personality__, __virtues__, __ethic__, __eye colour__, __voice__, etc. In Python, these are calles __Instance Attributes__!\n",
    "\n",
    "- __Methods__ are functions, bound/inherent to instances of a Class. There are 2 types of methods:\n",
    "    - __Instance Method__ - a function, bound to Class instances. It can access both instance and class attributes. \n",
    "    - __Class Method__ - a function, bound to the Class itself. It can only access class attributes.\n",
    "    - __Static Method__ - a function which does NOT access or perform logical operations on either instance or class attributes.\n",
    "    \n",
    "Again, think of human kind as a Class in Python. Our behaviour and everything we do is an example of a __method__! When we perfom an action - e.g. __think__, __speak__, __help others__, we are calling our __methods__! These are all examples of functions, bound to us as instances of the 'Human Kind' Class! The difference between __Instance__ and __Class Methods__ is in the details, but as long as you remember that methods are simply functions, specific to a certain Class, you are on the right track!! "
   ]
  },
  {
   "cell_type": "code",
   "execution_count": 3,
   "id": "041d7c70",
   "metadata": {},
   "outputs": [
    {
     "name": "stdout",
     "output_type": "stream",
     "text": [
      "Hello Mirela! I am Daniella - a consultant from cohort DP07!\n"
     ]
    }
   ],
   "source": [
    "# Example No 1 - Create a Class Consultant:\n",
    "\n",
    "class Consultant:                                  # opening line for the Class definition\n",
    "    \n",
    "    def __init__(self, name, cohort, specialty):   # defining the __init__ method, called immediately when a Class instance \n",
    "                                                   # is created; first argument is ALWAYS self! \n",
    "            \n",
    "        self.name = name                           # create instance attribtute name\n",
    "        self.cohort = cohort                       # create instance attribtute cohort\n",
    "        self.specialty = specialty                 # create instance attribute specialty\n",
    "        \n",
    "    \n",
    "    def greeting(self, colleague_name):            # create a greeting() method with 2 arguments - self & colleague_name\n",
    "                                            \n",
    "        msg = f'Hello {colleague_name}! I am {self.name} - a consultant from cohort {self.cohort}!'\n",
    "        print(msg)                                 # note how the msg contains (calls) instance attributes\n",
    "        \n",
    "        \n",
    "#--------------------------------------------------------------------------------------------\n",
    "\n",
    "# Once we have defined our Class, we can create instances of it - running the below code automatically calls the __init__()\n",
    "\n",
    "dani = Consultant('Daniella', 'DP07', 'English Language')   # here we create an instance of the class, stored in var 'dani' \n",
    "                                                   # inside the () we pass the values for the instance attributes, passed on\n",
    "                                                   # as arguments in the __init__() method\n",
    "            \n",
    "# Let's call the instance attributes:\n",
    "dani.name                                          # calling the name attribute --> output: 'Daniella'\n",
    "dani.cohort                                        # calling the cohort attribute --> output: 'DP07'\n",
    "dani.specialty                                     # calling the specialty attribute --> output: 'English Language'\n",
    "\n",
    "# Let's call the instance methods:\n",
    "dani.greeting('Mirela')                            # calling the greeting method with argument 'Mirela'\n",
    "                                                   #  --> output: Hello Mirela! I am Daniella - a consultant from cohort DP07!\n"
   ]
  },
  {
   "cell_type": "code",
   "execution_count": 15,
   "id": "ef48383b",
   "metadata": {},
   "outputs": [],
   "source": [
    "# Let's revamp the definition of our Consultant Class to make it more realistic (and functional):\n",
    "\n",
    "class Consultant:\n",
    "    \n",
    "    # training_schedule and placement are CLASS attributes - all Consultant instances share these attributes\n",
    "    training_schedule = {'Week 1': 'SQL', 'Week 2': 'Power BI', 'Week 3': 'Python', 'Week 4': 'EDGAR Project'}\n",
    "    placement = None\n",
    "    \n",
    "    def __init__(self, name, cohort, specialty):\n",
    "        self.name = name\n",
    "        self.cohort = cohort\n",
    "        self.specialty = specialty\n",
    "        \n",
    "    def greeting(self, colleague_name):\n",
    "        msg = f'Hello {colleague_name}! I am {self.name} - a consultant from cohort {self.cohort}!'\n",
    "        print(msg)\n",
    "    \n",
    "    # creating a new instance method, accessing both instance and class attributes \n",
    "    def check_training(self, week_number):                          \n",
    "        topic = Consultant.training_schedule[week_number]      # to call a class atribute, we pass the Class Name!\n",
    "        msg = f'In {week_number} we - cohort {self.cohort}, are covering {topic}!'\n",
    "        return msg"
   ]
  },
  {
   "cell_type": "code",
   "execution_count": 19,
   "id": "2ce8c43a",
   "metadata": {},
   "outputs": [],
   "source": [
    "dani = Consultant('Daniella', 'DP07', 'English Language')      # creating an instance to Class Consultant\n",
    "\n",
    "    \n",
    "Consultant.training_schedule         # calling training_schedule cls attr --> output: {'Week 1': 'SQL', 'Week 2': 'Power BI'..}\n",
    "Consultant.placement                 # calling placement cls attr --> output: None\n",
    "\n",
    "\n",
    "dani.check_training('Week 3')        # call the check_training() method and pass a week_number value\n",
    "                                     # --> output: 'In Week 3 we - cohort DP07, are covering Python!'"
   ]
  },
  {
   "cell_type": "code",
   "execution_count": 20,
   "id": "ab587cbe",
   "metadata": {},
   "outputs": [],
   "source": [
    "# Finally, let's try to add a class method and a static method to our Consultant Class Definition:\n",
    "\n",
    "class Consultant:\n",
    "    \n",
    "    training_schedule = {'Week 1': 'SQL', 'Week 2': 'Power BI', 'Week 3': 'Python', 'Week 4': 'EDGAR Project'}\n",
    "    placement = None\n",
    "    \n",
    "    def __init__(self, name, cohort, specialty):\n",
    "        self.name = name\n",
    "        self.cohort = cohort\n",
    "        self.specialty = specialty\n",
    "    \n",
    "    @staticmethod                                     # defining a static method - this is a function which does not\n",
    "    def hi():                                         # interact with any instance/class attributes\n",
    "        print('Hi folks!')                            # note that we replaced the self argument with a decorator (@staticmethod)\n",
    "        \n",
    "    def greeting(self, colleague_name):\n",
    "        msg = f'Hello {colleague_name}! I am {self.name} - a consultant from cohort {self.cohort}!'\n",
    "        print(msg)\n",
    "    \n",
    "    \n",
    "    def check_training(self, week_number):                          \n",
    "        topic = Consultant.training_schedule[week_number]      \n",
    "        msg = f'In {week_number} we - cohort {self.cohort}, are covering {topic}!'\n",
    "        return msg\n",
    "\n",
    "    # creating a class method - a function which aims to access and modify the Class itself, rather than a given instance!\n",
    "    @classmethod                                      # defining a class method - note that it interacts with the Class itself! \n",
    "    def get_placement(cls, client_list):              # we have replaced the 'self' argument with 'cls' and decorated the method\n",
    "        cls.placement = client_list                   # to access the class attribute here we use the 'cls' keyword"
   ]
  },
  {
   "cell_type": "code",
   "execution_count": 21,
   "id": "5cd5d528",
   "metadata": {},
   "outputs": [
    {
     "data": {
      "text/plain": [
       "['Credit Suisse', 'JP Morgan', 'John Lewis']"
      ]
     },
     "execution_count": 21,
     "metadata": {},
     "output_type": "execute_result"
    }
   ],
   "source": [
    "dani = Consultant('Daniella', 'DP07', 'English Language')      \n",
    "\n",
    "\n",
    "Consultant.get_placement(['Credit Suisse', 'JP Morgan', 'John Lewis']) # assign clients to the whole Consultant Class\n",
    "Consultant.placement                                                   # call the placement attribute to see the change:\n",
    "                                                                       # output: ['Credit Suisse', 'JP Morgan', 'John Lewis']"
   ]
  }
 ],
 "metadata": {
  "kernelspec": {
   "display_name": "Python 3 (ipykernel)",
   "language": "python",
   "name": "python3"
  },
  "language_info": {
   "codemirror_mode": {
    "name": "ipython",
    "version": 3
   },
   "file_extension": ".py",
   "mimetype": "text/x-python",
   "name": "python",
   "nbconvert_exporter": "python",
   "pygments_lexer": "ipython3",
   "version": "3.9.7"
  }
 },
 "nbformat": 4,
 "nbformat_minor": 5
}
