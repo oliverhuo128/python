{
 "cells": [
  {
   "cell_type": "markdown",
   "metadata": {},
   "source": [
    "---\n",
    "# 6. Strings and Built-in Functions\n",
    "---\n",
    "\n",
    "- The string data type holds sequence of characters (letters, numbers, punctuation *etc*)\n",
    "- Many common built-in functions use strings. We'll cover six more (we already know the built-in function `print`) "
   ]
  },
  {
   "cell_type": "markdown",
   "metadata": {},
   "source": [
    "## 6.1 Literal Strings\n",
    "\n",
    "Just as we can assign variables to actual numbers, we can assign variables to 'string literals': specific sequences of characters, enclosed in quotes. "
   ]
  },
  {
   "cell_type": "code",
   "execution_count": null,
   "metadata": {},
   "outputs": [],
   "source": [
    "y = 10\n",
    "x = 'hello world' # String object\n",
    "\n",
    "print(x)\n",
    "\n",
    "my_string = \"here's a longer string\"\n",
    "print(my_string)"
   ]
  },
  {
   "cell_type": "markdown",
   "metadata": {},
   "source": [
    "### A String is Enclosed with Quotation Marks\n",
    "\n",
    "A string is enclosed in quotes: these can be single quotes, double quotes or triple quotes. "
   ]
  },
  {
   "cell_type": "code",
   "execution_count": null,
   "metadata": {},
   "outputs": [],
   "source": [
    "thing_1 = 'single quotes are the default'\n",
    "\n",
    "thing_2 = \"double quotes' value is that they can quote single quotes\"\n",
    "\n",
    "thing_3 = ''' triple quotes are another option,\n",
    "              also they extend\n",
    "              over multiple lines.\n",
    "'''"
   ]
  },
  {
   "cell_type": "markdown",
   "metadata": {},
   "source": [
    "### Escape Characters and Raw Strings\n",
    "\n",
    "If a string includes the sequence '`\\n`', then the `print` function displays this as a line break or 'newline'.\n"
   ]
  },
  {
   "cell_type": "code",
   "execution_count": null,
   "metadata": {},
   "outputs": [],
   "source": [
    "haiku = 'I write, erase, rewrite\\nErase again, and then\\nA poppy blooms.'\n",
    "print(haiku)"
   ]
  },
  {
   "cell_type": "markdown",
   "metadata": {},
   "source": [
    "This is an example of an 'escape sequence'. \n",
    "\n",
    "Escape sequences combine the backslash character '`\\`' with other characters, to create special codes.\n",
    "\n",
    "Another example is the `\\t` -- can you create and print a string to display this escape character?\n",
    "\n",
    "You can also create a 'raw string' by prefixing the quotes with an '`r`'. \n",
    "\n",
    "Raw strings treat the backslash character '`\\`' as a literal character, rather than as the first element of an escape sequence.  "
   ]
  },
  {
   "cell_type": "code",
   "execution_count": null,
   "metadata": {},
   "outputs": [],
   "source": [
    "regular_string = 'You can also use the backslash, \\'\\\\\\', to escape the \\' character'\n",
    "print(regular_string)\n",
    "\n",
    "raw_string = r'You can also use the backslash, \\'\\\\\\', to escape the \\' character'\n",
    "print(raw_string)"
   ]
  },
  {
   "cell_type": "markdown",
   "metadata": {},
   "source": [
    "## 6.2 The `len` Built-in Function\n",
    "\n",
    "- The `len` function accepts one input argument -- a reference to a container. \n",
    "- It will return the number of items in that container. \n",
    "- An example of a container is a string (it's a sequence of characters)\n"
   ]
  },
  {
   "cell_type": "code",
   "execution_count": null,
   "metadata": {},
   "outputs": [],
   "source": [
    "my_string = \"here's a longer string\"\n",
    "s1 = len(my_string) # my_string is the function 'argument', s1 holds the 'return value'\n",
    "print('This string has', s1, 'characters')\n",
    "\n",
    "print('We can also call the len function right here:', len('some random phrase'))"
   ]
  },
  {
   "cell_type": "markdown",
   "metadata": {},
   "source": [
    "### Concept Check:\n",
    "\n",
    "What are the lengths of the following two strings, `s1` and `s2`?\n",
    "Use the `len` function to check your answer \n",
    "\n",
    "```\n",
    "s1 =  '\\n\\n\\n'\n",
    "s2 = r'\\n\\n\\n'\n",
    "```"
   ]
  },
  {
   "cell_type": "code",
   "execution_count": null,
   "metadata": {},
   "outputs": [],
   "source": [
    "# Check your answer here"
   ]
  },
  {
   "cell_type": "markdown",
   "metadata": {},
   "source": [
    "## 6.2 The `type` Built-in Function\n",
    "\n",
    "Above, the variables `s1` and `s2` can be added together because they are integers. \n",
    "\n",
    "We can check this using another built-in function, '`type`': "
   ]
  },
  {
   "cell_type": "code",
   "execution_count": 3,
   "metadata": {},
   "outputs": [
    {
     "data": {
      "text/plain": [
       "str"
      ]
     },
     "execution_count": 3,
     "metadata": {},
     "output_type": "execute_result"
    }
   ],
   "source": [
    "type(\"string\")"
   ]
  },
  {
   "cell_type": "markdown",
   "metadata": {},
   "source": [
    "### Example: Variable Types\n",
    "\n",
    "Use an `if` statement to print out 't is an integer' or 't is NOT an integer', as appropriate.\n",
    "- [ ] Teach the `int` and `str` outcomes.\n",
    "- [ ] Re-write this exercise to read better and write a better solution"
   ]
  },
  {
   "cell_type": "code",
   "execution_count": null,
   "metadata": {},
   "outputs": [],
   "source": [
    "my_variable = len('hello')\n",
    "\n",
    "t = type(my_variable) \n",
    "\n",
    "print('the type of my_variable is', t)\n",
    "\n",
    "if t==int:\n",
    "    print('this is an integer-type variable')\n",
    "else:\n",
    "    print('this is NOT an integer-type variable')\n"
   ]
  },
  {
   "cell_type": "markdown",
   "metadata": {},
   "source": [
    "## 6.3 The String (`str`)Type \n",
    "\n",
    "- Strings and integers are different types of data objects (that's why `+` works differently on them).\n",
    "- The Python type for integers is `int`, and the Python type for Strings is `str`. \n"
   ]
  },
  {
   "cell_type": "code",
   "execution_count": null,
   "metadata": {},
   "outputs": [],
   "source": [
    "type('hello world') # returns the type of the input argument"
   ]
  },
  {
   "cell_type": "markdown",
   "metadata": {},
   "source": [
    "### Concept Check: More Variable Types\n",
    "\n",
    "Modify the above example (in 6.2) so that one of three sentences is printed out: \n",
    "- '`this is an integer-type variable`', or \n",
    "- '`this is a string-type variable`', or \n",
    "- '`this is neither an integer nor a string`'. \n",
    "\n",
    "Try assigning `x` to an integer, a string and a decimal number, so that the different sentences are printed out. "
   ]
  },
  {
   "cell_type": "code",
   "execution_count": null,
   "metadata": {},
   "outputs": [],
   "source": [
    "# Write your code here:\n"
   ]
  },
  {
   "cell_type": "markdown",
   "metadata": {},
   "source": [
    "## 6.4 The `+` Operator\n",
    "\n",
    "What happens when we add two string objects together?"
   ]
  },
  {
   "cell_type": "code",
   "execution_count": null,
   "metadata": {},
   "outputs": [],
   "source": [
    "my_string   = 'hello'\n",
    "your_string = 'world'\n",
    "our_string  = my_string + your_string # join together\n",
    "print(our_string)"
   ]
  },
  {
   "cell_type": "markdown",
   "metadata": {},
   "source": [
    "- Adding strings has the effect of joining them together \n",
    "- This is called 'concatenation'\n",
    "- We can join multiple strings together using this operator \n"
   ]
  },
  {
   "cell_type": "code",
   "execution_count": null,
   "metadata": {},
   "outputs": [],
   "source": [
    "dashes = '---'\n",
    "dots = '...'\n",
    "\n",
    "dots_and_dashes = dashes + dots + dashes + dots + dashes\n",
    "print(dots_and_dashes)"
   ]
  },
  {
   "cell_type": "markdown",
   "metadata": {},
   "source": [
    "## 6.5 The `input()` Built-in Function\n",
    "- This function returns the string that the user enters on the keyboard\n",
    "- There is an optional input argument that contains a  message for the user \n"
   ]
  },
  {
   "cell_type": "code",
   "execution_count": null,
   "metadata": {},
   "outputs": [],
   "source": [
    "user_input = input('please enter your name')\n",
    "print('hello,', user_input)"
   ]
  },
  {
   "cell_type": "markdown",
   "metadata": {},
   "source": [
    "### Concept Check: First and Second Name\n",
    "\n",
    "In the cell below, ask the user to enter in the their first name, and then ask them to enter their second name. Make a string variable to hold their full name, and print this out.\n",
    "\n",
    "Once your code in the cell below is working:\n",
    "- Copy it into the file `strings_ex1.py`. \n",
    "- Run this program from the command line typing `python strings_ex1.py` (and check that it works ok).\n",
    "- Run `pytest` from the command line to check that that your solution is correct."
   ]
  },
  {
   "cell_type": "code",
   "execution_count": null,
   "metadata": {},
   "outputs": [],
   "source": [
    "# Write your code here"
   ]
  },
  {
   "cell_type": "markdown",
   "metadata": {},
   "source": [
    "### Concept Check: Base and Bonus (First Attempt)\n",
    "\n",
    "Ask the user to enter in the base salary, and the bonus. Calculate and print out the total (sum of these two)).\n",
    "\n",
    "*Don't worry if the answer is not what you expected it to be!*"
   ]
  },
  {
   "cell_type": "code",
   "execution_count": null,
   "metadata": {},
   "outputs": [],
   "source": [
    "# Write your code here\n"
   ]
  },
  {
   "cell_type": "markdown",
   "metadata": {},
   "source": [
    "If the calculation of the total was incorrect, don't worry! \n",
    "\n",
    "Read on to find out how to solve this problem."
   ]
  },
  {
   "cell_type": "markdown",
   "metadata": {},
   "source": [
    "## 6.6 Converting Between Data Types\n",
    "- The `int` built-in function converts from a string to an integer, e.g. `x = int('123')`\n",
    "- The `float` built-in function converts from a string to a decmal (floating point) number, e.g. `x = float('1.5')`\n",
    "- The `str` function can convert from numbers into strings, e.g. `my_string = str(x)` "
   ]
  },
  {
   "cell_type": "code",
   "execution_count": null,
   "metadata": {},
   "outputs": [],
   "source": [
    "# Example: calculate age on next birthday\n",
    "\n",
    "user_input = input('What is your current age (in whole years)?')\n",
    "current_age = int(user_input)\n",
    "age_next_year = current_age+1\n",
    "print('Next year, you will be', age_next_year)"
   ]
  },
  {
   "cell_type": "markdown",
   "metadata": {},
   "source": [
    "###  Concept Check: Base and Bonus (Second Attempt)\n",
    "\n",
    "\n",
    "Ask the user to enter in the base salary, and the bonus. Calculate and print out the total (sum of these two)).\n",
    "\n",
    "*Hint: use one of the above functions to convert the user input*\n",
    "\n",
    "Once your code in the cell below is working:\n",
    "- Copy it into the file `strings_ex2.py`. \n",
    "- Run this program from the command line typing `python strings_ex2.py` (and check that it works ok).\n",
    "- Run `pytest` from the command line to check that that your solution is correct."
   ]
  },
  {
   "cell_type": "code",
   "execution_count": null,
   "metadata": {},
   "outputs": [],
   "source": [
    "# Write your code here\n"
   ]
  },
  {
   "cell_type": "markdown",
   "metadata": {},
   "source": [
    "### Concept Check:  String Creation\n",
    "\n",
    "Ask the user for base and bonus salary, then create a string `salary_note` that shows this base, bonus and total salary information, e.g.\n",
    "\n",
    "'Salary details: base is 10000, bonus is 5000, total is 15000'\n",
    "\n",
    "- *First hint: you can use concatenation to build the string*\n",
    "- *Second hint: which of the three conversion functions do you think you will need to use, when making the string?*"
   ]
  },
  {
   "cell_type": "code",
   "execution_count": null,
   "metadata": {},
   "outputs": [],
   "source": [
    "# Write your code here"
   ]
  },
  {
   "cell_type": "markdown",
   "metadata": {},
   "source": [
    "## Summary for Section 6:\n",
    "- Python stores a sequence of characters as a ‘string’ (`str`) object type.\n",
    "- The inbuilt function `len` returns the length of a string.\n",
    "- The inbuilt function `type` returns the type of a variable. \n",
    "- The `+` operator joins strings together (called concatenation).\n",
    "- The inbuilt function `input` gets a string from the user keyboard.\n",
    "- The inbuilt functions `str`, `int` and `float` convert between between string, int and float data types.\n"
   ]
  },
  {
   "cell_type": "markdown",
   "metadata": {},
   "source": [
    "---\n",
    "# 7. String Methods\n",
    "---\n",
    "- Every Python object has some functions attached to it. These are called 'methods'. \n",
    "- To call a named object's method, we write the object's variable name, followed by a dot, followed by the method name, followed by brackets.  \n",
    "- Below, we look at four methods that belong to string objects. \n"
   ]
  },
  {
   "cell_type": "markdown",
   "metadata": {},
   "source": [
    "## 7.1 The `lower` String Method\n",
    "\n",
    "Below, we call the  `lower` method, and assign the return value to another variable:"
   ]
  },
  {
   "cell_type": "code",
   "execution_count": null,
   "metadata": {},
   "outputs": [],
   "source": [
    "string_1 = \"Example STRING\"\n",
    "string_2 = string_1.lower() # empty brackets mean no input arguments\n",
    "print(string_2)"
   ]
  },
  {
   "cell_type": "markdown",
   "metadata": {},
   "source": [
    "Notes: \n",
    "-\tThe original string is unchanged (try printing out `string_1`)\n",
    "-\tBrackets with nothing in them `()` means we are calling the method, but without any input arguments. \n",
    "-\tString methods can be called on actual literal strings, by placing a dot after the final quote, like this: `'Example STRING'.lower()`\n",
    "-   We’ll use this style of calling a method in the last example that we use today."
   ]
  },
  {
   "cell_type": "code",
   "execution_count": null,
   "metadata": {},
   "outputs": [],
   "source": [
    "'Example STRING'.lower()"
   ]
  },
  {
   "cell_type": "markdown",
   "metadata": {},
   "source": [
    "## 7.2 The `title` and `replace` Methods\n",
    "- `title()` works the same way as `lower()`\n",
    "- The same is true of `upper()`\n",
    "- None of the above take input arguments, they are called using empty brackets '`()`' after their name  \n",
    "- The method `replace(arg1, arg2)` takes two input arguments: `arg1` is the string to search for, `arg2` is the string to replace it with"
   ]
  },
  {
   "cell_type": "code",
   "execution_count": null,
   "metadata": {},
   "outputs": [],
   "source": [
    "string_3 = string_2.title()\n",
    "print(string_3)"
   ]
  },
  {
   "cell_type": "code",
   "execution_count": null,
   "metadata": {},
   "outputs": [],
   "source": [
    "# Example of using the 'replace' method\n",
    "data = 'row, row, row your boat'\n",
    "data.replace('o', 'a')"
   ]
  },
  {
   "cell_type": "code",
   "execution_count": null,
   "metadata": {},
   "outputs": [],
   "source": [
    "data.replace('row', 'pull')"
   ]
  },
  {
   "cell_type": "code",
   "execution_count": null,
   "metadata": {},
   "outputs": [],
   "source": [
    "data.replace('r', '')"
   ]
  },
  {
   "cell_type": "markdown",
   "metadata": {},
   "source": [
    "### Concept Check: Using the 'replace' Method\n",
    "\n",
    "For the string `haiku`, Replace each comma with a new line character, and print out the result"
   ]
  },
  {
   "cell_type": "code",
   "execution_count": null,
   "metadata": {},
   "outputs": [],
   "source": [
    "haiku = 'I write, erase, rewrite\\nErase again, and then\\nA poppy blooms.'\n",
    "print(haiku)"
   ]
  },
  {
   "cell_type": "markdown",
   "metadata": {},
   "source": [
    "## 7.5 The `format` Method\n",
    "- Used to dynamically format strings with fresh data\n",
    "- Uses curly brackets `{}` in the string as placeholders for data\n",
    "- Data is provided as input arguments\n",
    "- Often performed on literal strings"
   ]
  },
  {
   "cell_type": "code",
   "execution_count": null,
   "metadata": {},
   "outputs": [],
   "source": [
    "w = 20\n",
    "h = 30\n",
    "a = w*h\n",
    "\n",
    "# Below, we are calling a method from a 'literal string object':\n",
    "\n",
    "'width is {}, height is {} so area is {}'.format(w,h,a)"
   ]
  },
  {
   "cell_type": "markdown",
   "metadata": {},
   "source": [
    "## A short-hand for the `format` method: 'f-strings'\n",
    "\n",
    "As we can see above, we can use the `format` method to insert program values into a literal string.\n",
    "\n",
    "A more convenient way to do the same thing is to define this literal string as an 'f-string'. \n",
    "\n",
    "We do this by placing an `f` in front of the first string quote. Also, the program values are placed directly in the braces (curly brackets), instead of in a list at the end. \n",
    "\n",
    "For example, we can re-write the above code using an 'f-string' as follows:"
   ]
  },
  {
   "cell_type": "code",
   "execution_count": null,
   "metadata": {},
   "outputs": [],
   "source": [
    "width = 20\n",
    "height = 30\n",
    "area = width * height\n",
    "\n",
    "# Here, we achieve the same as above, by defining an 'f-string' to contain these values: \n",
    "\n",
    "output_string = f'width is {w}, height is {h} so area is {a}'\n",
    "output_string"
   ]
  },
  {
   "cell_type": "markdown",
   "metadata": {},
   "source": [
    "## Concept Check: String Formatting\n",
    "\n",
    "In the code cell below, write Python statements to input three things from the user: \n",
    "- Their first name\n",
    "- Their second name\n",
    "- Their age (as a whole number, in years)\n",
    "\n",
    "Print out a 'birthday greeting' that includes both names (starting each with a capital letter) and their age at their next birthday. \n",
    "\n",
    "For example, If the user entered in 'albert', 'EINSTEIN', '24', then the message could say:\n",
    "\n",
    "```\n",
    "'Greetings, Albert Einstein! On your next birthday you will be 22.'\n",
    "```\n",
    "Once your code in the cell below is working:\n",
    "- Copy it into the file `strings_ex3.py`. \n",
    "- Run this program from the command line typing `python strings_ex3.py` (and check that it works ok).\n",
    "- Run `pytest` from the command line to check that that your solution is correct."
   ]
  },
  {
   "cell_type": "code",
   "execution_count": null,
   "metadata": {},
   "outputs": [],
   "source": [
    "# Write your code here"
   ]
  }
 ],
 "metadata": {
  "interpreter": {
   "hash": "cafeaa2399fa74e6dc79b3b726e7872fe86cf7945b44d42102441e40f1b90793"
  },
  "kernelspec": {
   "display_name": "Python 3 (ipykernel)",
   "language": "python",
   "name": "python3"
  },
  "language_info": {
   "codemirror_mode": {
    "name": "ipython",
    "version": 3
   },
   "file_extension": ".py",
   "mimetype": "text/x-python",
   "name": "python",
   "nbconvert_exporter": "python",
   "pygments_lexer": "ipython3",
   "version": "3.9.7"
  }
 },
 "nbformat": 4,
 "nbformat_minor": 4
}
