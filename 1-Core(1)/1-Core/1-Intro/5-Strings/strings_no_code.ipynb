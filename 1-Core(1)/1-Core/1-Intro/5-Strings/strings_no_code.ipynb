{
 "cells": [
  {
   "cell_type": "markdown",
   "metadata": {},
   "source": [
    "---\n",
    "# 6. Strings and Built-in Functions\n",
    "---\n",
    "\n",
    "- The string data type holds sequence of characters (letters, numbers, punctuation *etc*)\n",
    "- Many common built-in functions use strings. We'll cover six more (we already know the built-in function `print`) "
   ]
  },
  {
   "cell_type": "markdown",
   "metadata": {},
   "source": [
    "## 6.1 Literal Strings\n",
    "\n",
    "Just as we can assign variables to actual numbers, we can assign variables to 'string literals': specific sequences of characters, enclosed in quotes. "
   ]
  },
  {
   "cell_type": "code",
   "execution_count": 2,
   "metadata": {},
   "outputs": [
    {
     "name": "stdout",
     "output_type": "stream",
     "text": [
      "hello world\n",
      "here's a longer string\n"
     ]
    }
   ],
   "source": [
    "y = 10\n",
    "x = \"hello world\" # String object\n",
    "print(x)\n",
    "\n",
    "my_string = \"here's a longer string\"\n",
    "print(my_string)"
   ]
  },
  {
   "cell_type": "markdown",
   "metadata": {},
   "source": [
    "### A String is Enclosed with Quotation Marks\n",
    "\n",
    "A string is enclosed in quotes: these can be single quotes, double quotes or triple quotes. "
   ]
  },
  {
   "cell_type": "code",
   "execution_count": null,
   "metadata": {},
   "outputs": [],
   "source": [
    "thing_1 = 'single quotes can be used to enclose a double quote: \" '\n",
    " \n",
    "thing_2 = \"doubles quotes can be used to enclose a single quote: ' \"\n",
    "\n",
    "thing_3 = \"\"\"triple quotes are another option,\n",
    "and they allow you to extend strings over\n",
    "multiple lines\n",
    "\"\"\""
   ]
  },
  {
   "cell_type": "markdown",
   "metadata": {},
   "source": [
    "### Escape Characters and Raw Strings\n",
    "\n",
    "If a string includes the sequence '`\\n`', then the `print` function displays this as a line break or 'newline'.\n"
   ]
  },
  {
   "cell_type": "code",
   "execution_count": 6,
   "metadata": {},
   "outputs": [
    {
     "name": "stdout",
     "output_type": "stream",
     "text": [
      "I write, erase, rewrite\n",
      "Erase again, and then\n",
      "A poppy blooms.\n"
     ]
    }
   ],
   "source": [
    "haiku = 'I write, erase, rewrite\\nErase again, and then\\nA poppy blooms.'\n",
    "print(haiku)"
   ]
  },
  {
   "cell_type": "markdown",
   "metadata": {},
   "source": [
    "This is an example of an 'escape sequence'. \n",
    "\n",
    "Escape sequences combine the backslash character '`\\`' with other characters, to create special codes.\n",
    "\n",
    "Another example is the `\\t` -- can you create and print a string to display this escape character?\n",
    "\n",
    "You can also create a 'raw string' by prefixing the quotes with an '`r`'. \n",
    "\n",
    "Raw strings treat the backslash character '`\\`' as a literal character, rather than as the first element of an escape sequence.  "
   ]
  },
  {
   "cell_type": "code",
   "execution_count": 8,
   "metadata": {},
   "outputs": [
    {
     "name": "stdout",
     "output_type": "stream",
     "text": [
      "I write, erase, rewrite\n",
      "\tErase again, and then\n",
      "\tA poppy blooms.\n"
     ]
    }
   ],
   "source": [
    "haiku = 'I write, erase, rewrite\\n\\tErase again, and then\\n\\tA poppy blooms.'\n",
    "print(haiku)"
   ]
  },
  {
   "cell_type": "code",
   "execution_count": 17,
   "metadata": {},
   "outputs": [
    {
     "name": "stdout",
     "output_type": "stream",
     "text": [
      "You can also use the backslash, ' \\ ', to escape the ' or the \\ character\n",
      "You can also use the backslash, \\' \\\\ \\', to escape the \\' or the \\\\ character\n"
     ]
    }
   ],
   "source": [
    "regular_string = 'You can also use the backslash, \\' \\\\ \\', to escape the \\' or the \\\\ character'\n",
    "print(regular_string)\n",
    "\n",
    "raw_string = r'You can also use the backslash, \\' \\\\ \\', to escape the \\' or the \\\\ character'\n",
    "print(raw_string)"
   ]
  },
  {
   "cell_type": "markdown",
   "metadata": {},
   "source": [
    "## 6.2 The `len` Built-in Function\n",
    "\n",
    "- The `len` function accepts one input argument -- a reference to a container. \n",
    "- It will return the number of items in that container. \n",
    "- An example of a container is a string (it's a sequence of characters)\n"
   ]
  },
  {
   "cell_type": "code",
   "execution_count": 28,
   "metadata": {},
   "outputs": [
    {
     "name": "stdout",
     "output_type": "stream",
     "text": [
      "The length of my_string is 27 characters\n",
      "We can also call functions inside of other functions: 27\n"
     ]
    }
   ],
   "source": [
    "my_string = \"here is another long string\"\n",
    "length_of_string = len(my_string)\n",
    "print(\"The length of my_string is\", length_of_string, \"characters\")\n",
    "\n",
    "print(\"We can also call functions inside of other functions:\", len(my_string))"
   ]
  },
  {
   "cell_type": "markdown",
   "metadata": {},
   "source": [
    "### Concept Check:\n",
    "\n",
    "What are the lengths of the following two strings, `s1` and `s2`?\n",
    "Use the `len` function to check your answer \n",
    "\n",
    "```\n",
    "s1 =  '\\n\\n\\n'\n",
    "s2 = r'\\n\\n\\n'\n",
    "```"
   ]
  },
  {
   "cell_type": "code",
   "execution_count": 29,
   "metadata": {},
   "outputs": [
    {
     "name": "stdout",
     "output_type": "stream",
     "text": [
      "3\n",
      "6\n"
     ]
    }
   ],
   "source": [
    "# Check your answer here\n",
    "s1 =  '\\n\\n\\n'\n",
    "s2 = r'\\n\\n\\n'\n",
    "print(len(s1))\n",
    "print(len(s2))"
   ]
  },
  {
   "cell_type": "markdown",
   "metadata": {},
   "source": [
    "## 6.2 The `type` Built-in Function\n",
    "\n",
    "We can check this using another built-in function, '`type`': "
   ]
  },
  {
   "cell_type": "code",
   "execution_count": 37,
   "metadata": {},
   "outputs": [
    {
     "name": "stdout",
     "output_type": "stream",
     "text": [
      "The type of s1 is  <class 'str'>\n",
      "The type of len(s1) is  <class 'int'>\n",
      "The type of x is <class 'float'>\n"
     ]
    }
   ],
   "source": [
    "print(\"The type of s1 is \", type(s1))\n",
    "l1 = len(s1)\n",
    "print(\"The type of len(s1) is \", type(l1))\n",
    "x = 8/4\n",
    "print(\"The type of x is\", type(x))"
   ]
  },
  {
   "cell_type": "markdown",
   "metadata": {},
   "source": [
    "### Example: Variable Types"
   ]
  },
  {
   "cell_type": "code",
   "execution_count": 39,
   "metadata": {},
   "outputs": [
    {
     "name": "stdout",
     "output_type": "stream",
     "text": [
      "The type of my_variable is <class 'int'>\n",
      "This is an integer-type variable\n"
     ]
    }
   ],
   "source": [
    "my_variable = len(\"John\")\n",
    "\n",
    "print(\"The type of my_variable is\", type(my_variable))\n",
    "\n",
    "if type(my_variable) == int:\n",
    "    print(\"This is an integer-type variable\")\n",
    "else:\n",
    "    print(\"This is not an integer-type variable\")"
   ]
  },
  {
   "cell_type": "markdown",
   "metadata": {},
   "source": [
    "## 6.3 The String (`str`)Type \n",
    "\n",
    "- Strings and integers are different types of data objects (that's why `+` works differently on them).\n",
    "- The Python type for integers is `int`, and the Python type for Strings is `str`. \n"
   ]
  },
  {
   "cell_type": "code",
   "execution_count": 40,
   "metadata": {},
   "outputs": [
    {
     "data": {
      "text/plain": [
       "str"
      ]
     },
     "execution_count": 40,
     "metadata": {},
     "output_type": "execute_result"
    }
   ],
   "source": [
    "type(\"hello\")"
   ]
  },
  {
   "cell_type": "markdown",
   "metadata": {},
   "source": [
    "### Concept Check: More Variable Types\n",
    "\n",
    "Modify the above example (in 6.2) so that one of three sentences is printed out: \n",
    "- '`this is an integer-type variable`', or \n",
    "- '`this is a string-type variable`', or \n",
    "- '`this is neither an integer nor a string`'. \n",
    "\n",
    "Try assigning `my_variable` to an integer, a string and a decimal number, so that the different sentences are printed out. "
   ]
  },
  {
   "cell_type": "code",
   "execution_count": 46,
   "metadata": {},
   "outputs": [
    {
     "name": "stdout",
     "output_type": "stream",
     "text": [
      "The type of my_variable is <class 'NoneType'>\n",
      "This is not an integer or a string\n"
     ]
    }
   ],
   "source": [
    "# Write your code here:\n",
    "my_variable = None\n",
    "\n",
    "print(\"The type of my_variable is\", type(my_variable))\n",
    "\n",
    "if type(my_variable) == int:\n",
    "    print(\"This is an integer-type variable\")\n",
    "elif type(my_variable) == str:\n",
    "    print(\"This is a string-type variable\")\n",
    "else:\n",
    "    print(\"This is not an integer or a string\")"
   ]
  },
  {
   "cell_type": "markdown",
   "metadata": {},
   "source": [
    "## 6.4 The `+` Operator\n",
    "\n",
    "What happens when we add two string objects together?"
   ]
  },
  {
   "cell_type": "code",
   "execution_count": 48,
   "metadata": {},
   "outputs": [
    {
     "name": "stdout",
     "output_type": "stream",
     "text": [
      "helloworld\n"
     ]
    }
   ],
   "source": [
    "my_string = \"hello\"\n",
    "your_string = \"world\"\n",
    "our_string = my_string + your_string\n",
    "print(our_string)"
   ]
  },
  {
   "cell_type": "markdown",
   "metadata": {},
   "source": [
    "- Adding strings has the effect of joining them together \n",
    "- This is called 'concatenation'\n",
    "- We can join multiple strings together using this operator \n"
   ]
  },
  {
   "cell_type": "code",
   "execution_count": 50,
   "metadata": {},
   "outputs": [
    {
     "name": "stdout",
     "output_type": "stream",
     "text": [
      "---...---...---\n"
     ]
    }
   ],
   "source": [
    "dashes = \"---\"\n",
    "dots = \"...\"\n",
    "\n",
    "dots_and_dashes = dashes + dots + dashes + dots + dashes\n",
    "print(dots_and_dashes)"
   ]
  },
  {
   "cell_type": "markdown",
   "metadata": {},
   "source": [
    "## 6.5 The `input()` Built-in Function\n",
    "- This function returns the string that the user enters on the keyboard\n",
    "- There is an optional input argument that contains a  message for the user \n"
   ]
  },
  {
   "cell_type": "code",
   "execution_count": 54,
   "metadata": {},
   "outputs": [
    {
     "name": "stdout",
     "output_type": "stream",
     "text": [
      "Please enter your name:\n",
      "Gareth\n",
      "Hello Gareth\n"
     ]
    }
   ],
   "source": [
    "user_input = input(\"Please enter your name:\\n\")\n",
    "print(\"Hello\", user_input)"
   ]
  },
  {
   "cell_type": "markdown",
   "metadata": {},
   "source": [
    "### Concept Check: First and Second Name\n",
    "\n",
    "In the cell below, ask the user to enter in the their first name, and then ask them to enter their second name. Make a string variable to hold their full name, and print this out.\n",
    "\n",
    "Once your code in the cell below is working:\n",
    "- Copy it into the file `strings_ex1.py`. \n",
    "- Run this program from the command line typing `python strings_ex1.py` (and check that it works ok).\n",
    "- Run `pytest` from the command line to check that that your solution is correct."
   ]
  },
  {
   "cell_type": "code",
   "execution_count": 56,
   "metadata": {},
   "outputs": [
    {
     "name": "stdout",
     "output_type": "stream",
     "text": [
      "Please enter your first name: Gareth\n",
      "Please enter your second name: Davies\n",
      "Gareth Davies\n"
     ]
    }
   ],
   "source": [
    "# Write your code here\n",
    "first_name = input(\"Please enter your first name: \")\n",
    "second_name = input(\"Please enter your second name: \")\n",
    "full_name = first_name + \" \" +second_name\n",
    "print(full_name)"
   ]
  },
  {
   "cell_type": "markdown",
   "metadata": {},
   "source": [
    "### Concept Check: Base and Bonus (First Attempt)\n",
    "\n",
    "Ask the user to enter in the base salary, and the bonus. Calculate and print out the total (sum of these two)).\n",
    "\n",
    "*Don't worry if the answer is not what you expected it to be!*"
   ]
  },
  {
   "cell_type": "code",
   "execution_count": 57,
   "metadata": {},
   "outputs": [
    {
     "name": "stdout",
     "output_type": "stream",
     "text": [
      "Please enter base salary: 30000\n",
      "Please enter bonus: 5000\n",
      "300005000\n"
     ]
    }
   ],
   "source": [
    "# Write your code here\n",
    "base = input(\"Please enter base salary: \")\n",
    "bonus = input(\"Please enter bonus: \")\n",
    "total = base + bonus\n",
    "print(total)"
   ]
  },
  {
   "cell_type": "markdown",
   "metadata": {},
   "source": [
    "If the calculation of the total was incorrect, don't worry! \n",
    "\n",
    "Read on to find out how to solve this problem."
   ]
  },
  {
   "cell_type": "markdown",
   "metadata": {},
   "source": [
    "## 6.6 Converting Between Data Types\n",
    "- The `int` built-in function converts from a string to an integer, e.g. `x = int('123')`\n",
    "- The `float` built-in function converts from a string to a decmal (floating point) number, e.g. `x = float('1.5')`\n",
    "- The `str` function can convert from numbers into strings, e.g. `my_string = str(x)`"
   ]
  },
  {
   "cell_type": "code",
   "execution_count": 60,
   "metadata": {},
   "outputs": [
    {
     "name": "stdout",
     "output_type": "stream",
     "text": [
      "What is your current age (in whole years)?15\n",
      "Next year, you will be 16\n"
     ]
    }
   ],
   "source": [
    "# Example: calculate age on next birthday\n",
    "user_input = input(\"What is your current age (in whole years)?\")\n",
    "current_age = int(user_input)\n",
    "age_next_year = current_age + 1\n",
    "print(\"Next year, you will be\", age_next_year)"
   ]
  },
  {
   "cell_type": "markdown",
   "metadata": {},
   "source": [
    "###  Concept Check: Base and Bonus (Second Attempt)\n",
    "\n",
    "\n",
    "Ask the user to enter in the base salary, and the bonus. Calculate and print out the total (sum of these two)).\n",
    "\n",
    "*Hint: use one of the above functions to convert the user input*\n",
    "\n",
    "Once your code in the cell below is working:\n",
    "- Copy it into the file `strings_ex2.py`. \n",
    "- Run this program from the command line typing `python strings_ex2.py` (and check that it works ok).\n",
    "- Run `pytest` from the command line to check that that your solution is correct."
   ]
  },
  {
   "cell_type": "code",
   "execution_count": 61,
   "metadata": {},
   "outputs": [
    {
     "name": "stdout",
     "output_type": "stream",
     "text": [
      "Please enter base salary: 40000\n",
      "Please enter bonus: 2000\n",
      "42000\n"
     ]
    }
   ],
   "source": [
    "# Write your code here\n",
    "base = int(input(\"Please enter base salary: \"))\n",
    "bonus = int(input(\"Please enter bonus: \"))\n",
    "total = base + bonus\n",
    "print(total)\n"
   ]
  },
  {
   "cell_type": "markdown",
   "metadata": {},
   "source": [
    "### Concept Check:  String Creation\n",
    "\n",
    "Ask the user for base and bonus salary, then create a string `salary_note` that shows this base, bonus and total salary information, e.g.\n",
    "\n",
    "'Salary details: base is 10000, bonus is 5000, total is 15000'\n",
    "\n",
    "- *First hint: you can use concatenation to build the string*\n",
    "- *Second hint: which of the three conversion functions do you think you will need to use, when making the string?*"
   ]
  },
  {
   "cell_type": "code",
   "execution_count": 63,
   "metadata": {},
   "outputs": [
    {
     "name": "stdout",
     "output_type": "stream",
     "text": [
      "Please enter base salary: 30000\n",
      "Please enter bonus: 1020\n",
      "Salary details: base is 30000, bonus is 1020, total is 31020\n"
     ]
    }
   ],
   "source": [
    "# Write your code here\n",
    "\n",
    "base = int(input(\"Please enter base salary: \"))\n",
    "bonus = int(input(\"Please enter bonus: \"))\n",
    "total = base + bonus\n",
    "\n",
    "salary_note = \"Salary details: base is \" + str(base) + \", bonus is \" + str(bonus) + \", total is \" + str(total)\n",
    "print(salary_note)"
   ]
  },
  {
   "cell_type": "markdown",
   "metadata": {},
   "source": [
    "## Summary for Section 6:\n",
    "- Python stores a sequence of characters as a ‘string’ (`str`) object type.\n",
    "- The inbuilt function `len` returns the length of a string.\n",
    "- The inbuilt function `type` returns the type of a variable. \n",
    "- The `+` operator joins strings together (called concatenation).\n",
    "- The inbuilt function `input` gets a string from the user keyboard.\n",
    "- The inbuilt functions `str`, `int` and `float` convert between between string, int and float data types.\n"
   ]
  },
  {
   "cell_type": "markdown",
   "metadata": {},
   "source": [
    "---\n",
    "# 7. String Methods\n",
    "---\n",
    "- Every Python object has some functions attached to it. These are called 'methods'. \n",
    "- To call a named object's method, we write the object's variable name, followed by a dot, followed by the method name, followed by brackets.  \n",
    "- Below, we look at four methods that belong to string objects. \n"
   ]
  },
  {
   "cell_type": "markdown",
   "metadata": {},
   "source": [
    "## 7.1 The `lower` String Method\n",
    "\n",
    "Below, we call the  `lower` method, and assign the return value to another variable:"
   ]
  },
  {
   "cell_type": "code",
   "execution_count": 65,
   "metadata": {
    "scrolled": true
   },
   "outputs": [
    {
     "name": "stdout",
     "output_type": "stream",
     "text": [
      "Example STRING\n",
      "example string\n"
     ]
    }
   ],
   "source": [
    "string_1 = \"Example STRING\"\n",
    "print(string_1)\n",
    "string_2 = string_1.lower()\n",
    "print(string_2)"
   ]
  },
  {
   "cell_type": "code",
   "execution_count": 67,
   "metadata": {},
   "outputs": [
    {
     "data": {
      "text/plain": [
       "'example string'"
      ]
     },
     "execution_count": 67,
     "metadata": {},
     "output_type": "execute_result"
    }
   ],
   "source": [
    "'Example STRING'.lower()"
   ]
  },
  {
   "cell_type": "markdown",
   "metadata": {},
   "source": [
    "Notes: \n",
    "-\tThe original string is unchanged (try printing out `string_1`)\n",
    "-\tBrackets with nothing in them `()` means we are calling the method, but without any input arguments. \n",
    "-\tString methods can be called on actual literal strings, by placing a dot after the final quote, like this: `'Example STRING'.lower()`"
   ]
  },
  {
   "cell_type": "markdown",
   "metadata": {},
   "source": [
    "## 7.2 The `title` and `replace` Methods\n",
    "- `title()` works the same way as `lower()`\n",
    "- The same is true of `upper()`\n",
    "- None of the above take input arguments, they are called using empty brackets '`()`' after their name  \n",
    "- The method `replace(arg1, arg2)` takes two input arguments: `arg1` is the string to search for, `arg2` is the string to replace it with"
   ]
  },
  {
   "cell_type": "code",
   "execution_count": 69,
   "metadata": {},
   "outputs": [
    {
     "data": {
      "text/plain": [
       "'EXAMPLE STRING'"
      ]
     },
     "execution_count": 69,
     "metadata": {},
     "output_type": "execute_result"
    }
   ],
   "source": [
    "string_1.upper()"
   ]
  },
  {
   "cell_type": "code",
   "execution_count": 70,
   "metadata": {},
   "outputs": [
    {
     "data": {
      "text/plain": [
       "'Example String'"
      ]
     },
     "execution_count": 70,
     "metadata": {},
     "output_type": "execute_result"
    }
   ],
   "source": [
    "string_1.title()"
   ]
  },
  {
   "cell_type": "code",
   "execution_count": 73,
   "metadata": {},
   "outputs": [
    {
     "name": "stdout",
     "output_type": "stream",
     "text": [
      "raw, raw, raw yaur baat\n"
     ]
    }
   ],
   "source": [
    "# Example of using the 'replace' method\n",
    "long_string = \"row, row, row your boat\"\n",
    "print(long_string.replace(\"o\", \"a\"))"
   ]
  },
  {
   "cell_type": "code",
   "execution_count": 77,
   "metadata": {},
   "outputs": [
    {
     "name": "stdout",
     "output_type": "stream",
     "text": [
      "pull, pull, pull your boat\n"
     ]
    }
   ],
   "source": [
    "print(long_string.replace(\"row\", \"pull\"))"
   ]
  },
  {
   "cell_type": "code",
   "execution_count": 78,
   "metadata": {},
   "outputs": [
    {
     "name": "stdout",
     "output_type": "stream",
     "text": [
      "ow, ow, ow you boat\n"
     ]
    }
   ],
   "source": [
    "print(long_string.replace(\"r\", \"\"))"
   ]
  },
  {
   "cell_type": "markdown",
   "metadata": {},
   "source": [
    "### Concept Check: Using the 'replace' Method\n",
    "\n",
    "For the string `haiku`, Replace each comma with a new line character, and print out the result"
   ]
  },
  {
   "cell_type": "code",
   "execution_count": 79,
   "metadata": {},
   "outputs": [
    {
     "name": "stdout",
     "output_type": "stream",
     "text": [
      "I write\n",
      " erase\n",
      " rewrite\n",
      "Erase again\n",
      " and then\n",
      "A poppy blooms.\n"
     ]
    }
   ],
   "source": [
    "haiku = 'I write, erase, rewrite\\nErase again, and then\\nA poppy blooms.'\n",
    "print(haiku.replace(\",\", \"\\n\"))"
   ]
  },
  {
   "cell_type": "markdown",
   "metadata": {},
   "source": [
    "## 7.5 The `format` Method\n",
    "- Used to dynamically format strings with fresh data\n",
    "- Uses curly brackets `{}` in the string as placeholders for data\n",
    "- Data is provided as input arguments\n",
    "- Often performed on literal strings"
   ]
  },
  {
   "cell_type": "code",
   "execution_count": 80,
   "metadata": {},
   "outputs": [
    {
     "data": {
      "text/plain": [
       "'width is 20, height is 30, so the area 600'"
      ]
     },
     "execution_count": 80,
     "metadata": {},
     "output_type": "execute_result"
    }
   ],
   "source": [
    "width = 20\n",
    "height = 30\n",
    "area = width * height\n",
    "\n",
    "# Below, we are calling a method from a 'literal string object':\n",
    "\n",
    "\"width is {}, height is {}, so the area {}\".format(width, height, area)"
   ]
  },
  {
   "cell_type": "markdown",
   "metadata": {},
   "source": [
    "## A short-hand for the `format` method: 'f-strings'\n",
    "\n",
    "As we can see above, we can use the `format` method to insert program values into a literal string.\n",
    "\n",
    "A more convenient way to do the same thing is to define this literal string as an 'f-string'. \n",
    "\n",
    "We do this by placing an `f` in front of the first string quote. Also, the program values are placed directly in the braces (curly brackets), instead of in a list at the end. \n",
    "\n",
    "For example, we can re-write the above code using an 'f-string' as follows:"
   ]
  },
  {
   "cell_type": "code",
   "execution_count": 81,
   "metadata": {},
   "outputs": [
    {
     "data": {
      "text/plain": [
       "'width is 20, height is 30, so the area 600'"
      ]
     },
     "execution_count": 81,
     "metadata": {},
     "output_type": "execute_result"
    }
   ],
   "source": [
    "width = 20\n",
    "height = 30\n",
    "area = width * height\n",
    "\n",
    "# Here, we achieve the same as above, by defining an 'f-string' to contain these values: \n",
    "f\"width is {width}, height is {height}, so the area {area}\""
   ]
  },
  {
   "cell_type": "markdown",
   "metadata": {},
   "source": [
    "## Concept Check: String Formatting\n",
    "\n",
    "In the code cell below, write Python statements to input three things from the user: \n",
    "- Their first name\n",
    "- Their second name\n",
    "- Their age (as a whole number, in years)\n",
    "\n",
    "Print out a 'birthday greeting' that includes both names (starting each with a capital letter) and their age at their next birthday. \n",
    "\n",
    "For example, If the user entered in 'albert', 'EINSTEIN', '24', then the message could say:\n",
    "\n",
    "```\n",
    "'Greetings, Albert Einstein! On your next birthday you will be 22.'\n",
    "```\n",
    "Once your code in the cell below is working:\n",
    "- Copy it into the file `strings_ex3.py`. \n",
    "- Run this program from the command line typing `python strings_ex3.py` (and check that it works ok).\n",
    "- Run `pytest` from the command line to check that that your solution is correct."
   ]
  },
  {
   "cell_type": "code",
   "execution_count": 86,
   "metadata": {},
   "outputs": [
    {
     "name": "stdout",
     "output_type": "stream",
     "text": [
      "Please enter your first name: SDF\n",
      "Please enter your second name: E\n",
      "Please enter your age:1\n",
      "Greetings, Sdf E! On your next birthday you will be 2.\n"
     ]
    }
   ],
   "source": [
    "# Write your code here\n",
    "first_name = input(\"Please enter your first name: \" )\n",
    "second_name = input(\"Please enter your second name: \")\n",
    "age = int(input(\"Please enter your age:\"))\n",
    "\n",
    "bday_msg = \"Greetings, {} {}! On your next birthday you will be {}.\".format(first_name.title(), second_name.title(), age+1)\n",
    "print(bday_msg)"
   ]
  }
 ],
 "metadata": {
  "interpreter": {
   "hash": "cafeaa2399fa74e6dc79b3b726e7872fe86cf7945b44d42102441e40f1b90793"
  },
  "kernelspec": {
   "display_name": "Python 3 (ipykernel)",
   "language": "python",
   "name": "python3"
  },
  "language_info": {
   "codemirror_mode": {
    "name": "ipython",
    "version": 3
   },
   "file_extension": ".py",
   "mimetype": "text/x-python",
   "name": "python",
   "nbconvert_exporter": "python",
   "pygments_lexer": "ipython3",
   "version": "3.9.7"
  }
 },
 "nbformat": 4,
 "nbformat_minor": 4
}
