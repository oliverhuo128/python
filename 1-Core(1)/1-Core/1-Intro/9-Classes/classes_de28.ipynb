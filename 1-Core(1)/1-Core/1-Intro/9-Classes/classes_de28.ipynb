{
 "cells": [
  {
   "cell_type": "markdown",
   "metadata": {},
   "source": [
    "---\n",
    "# 12. Objects and Classes\n",
    "---\n"
   ]
  },
  {
   "cell_type": "markdown",
   "metadata": {},
   "source": [
    "So far we've been using a couple of different built-in types of objects, \n",
    "such as the string type and the file types for reading and writing. \n",
    "\n",
    "These objects store data and they also have methods we can call, \n",
    "such as `lower` for the string type and `writelines` for the file type. \n",
    "\n",
    "Here, we'll learn how to create our own types of data object – also known as a *class*.\n",
    "We'll write the initialization method that gets called when a new object is created, \n",
    "and show how data and methods can be created and used. \n",
    "\n",
    "It’s useful to be clear about the relationship between classes, types and objects. \n",
    "In Python 3, *classes* and *types* are the same thing: \n",
    "the blueprints for the python objects that are created and used in our programs. \n",
    "The class is the abstract design (like a design for a car), \n",
    "and the object is the specific physical instance, \n",
    "that has a specific physical location and registration details. \n",
    "\n",
    "## 12.1 Defining a Class\n",
    "\n",
    "We'll demonstrate this idea by defining our own class to store data and methods about a user. \n",
    "It will store their  real name, username and password, and provide methods to change these attributes.\n",
    "To define our own class, we start with the `class` keyword:\n"
   ]
  },
  {
   "cell_type": "code",
   "execution_count": 4,
   "metadata": {},
   "outputs": [],
   "source": [
    "class User:\n",
    "    pass"
   ]
  },
  {
   "cell_type": "markdown",
   "metadata": {},
   "source": [
    "Although our class is empty, we can still make objects from this class:"
   ]
  },
  {
   "cell_type": "code",
   "execution_count": 5,
   "metadata": {},
   "outputs": [],
   "source": [
    "gareth = User()"
   ]
  },
  {
   "cell_type": "markdown",
   "metadata": {},
   "source": [
    "## 12.2 Writing Class Methods\n",
    "\n",
    "We can give the `User` class methods, by defining functions within the indented code block (the *scope*) of the class, like the code below.\n",
    "\n",
    "Note that the first argument of each class method is (by convention) named `self`:\n",
    "- We don't provide this argument when we *call* the method. This may seem odd, but it's because of the way classes are implemented in Python: the `self` argument is used to provide a reference to the object itself.  \n",
    "- If the method has additional arguments, then we can set these in the normal way, by providing values when we call the method. So the first value gets assigned to the second argument, and so on."
   ]
  },
  {
   "cell_type": "code",
   "execution_count": 12,
   "metadata": {},
   "outputs": [],
   "source": [
    "class User:\n",
    "    def say_hello(self):\n",
    "        print(\"Hello from me!\")\n",
    "        \n",
    "    def greet_by_name(self, name):\n",
    "        print(f\"A hello to {name} from me!\")\n",
    "    "
   ]
  },
  {
   "cell_type": "code",
   "execution_count": 13,
   "metadata": {},
   "outputs": [
    {
     "name": "stdout",
     "output_type": "stream",
     "text": [
      "Hello from me!\n",
      "A hello to Sam from me!\n"
     ]
    }
   ],
   "source": [
    "gareth = User()\n",
    "gareth.say_hello()\n",
    "gareth.greet_by_name(\"Sam\")"
   ]
  },
  {
   "cell_type": "markdown",
   "metadata": {},
   "source": [
    "### Concept Check: Calling Class Methods\n",
    "\n",
    "When calling a class method, how many arguments do you need to provide?\n",
    "\n",
    "Call the method `greet_by_name`, on the object `alice`.\n",
    "\n",
    "You can add your code to the code block above."
   ]
  },
  {
   "cell_type": "code",
   "execution_count": 14,
   "metadata": {},
   "outputs": [
    {
     "name": "stdout",
     "output_type": "stream",
     "text": [
      "A hello to Dana from me!\n"
     ]
    }
   ],
   "source": [
    "alice = User()\n",
    "alice.greet_by_name(\"Dana\")"
   ]
  },
  {
   "cell_type": "markdown",
   "metadata": {},
   "source": [
    "## 12.3 Initializing an object: the `__init__` method\n",
    "\n",
    "To store data in these objects, we write a special method called `__init__`, that gets called when the object is created. \n",
    "\n",
    "We have to include a special argument in this method, by convention called `self`, that allows us access to the object, from within the class.\n",
    "\n",
    "For example, we can store the number of failed login attempts by this user as follows:"
   ]
  },
  {
   "cell_type": "code",
   "execution_count": 15,
   "metadata": {},
   "outputs": [],
   "source": [
    "class User:\n",
    "    \n",
    "    # Functions inside classes, are called methods. These are called with the '.' syntax.\n",
    "    def __init__(self):\n",
    "        # Variables in classes are called attributes. These are also accessed with the '.' syntax.\n",
    "        self.num_failed_logins = 0 \n",
    "    \n",
    "    def say_hello(self):\n",
    "        print(\"Hello from me!\")\n",
    "        \n",
    "    def greet_by_name(self, name):\n",
    "        print(f\"A hello to {name} from me!\")\n",
    "    "
   ]
  },
  {
   "cell_type": "code",
   "execution_count": 16,
   "metadata": {},
   "outputs": [
    {
     "name": "stdout",
     "output_type": "stream",
     "text": [
      "Hello from me!\n",
      "Gareth has 0 failed logins.\n"
     ]
    }
   ],
   "source": [
    "gareth = User()\n",
    "gareth.say_hello()\n",
    "print(f\"Gareth has {gareth.num_failed_logins} failed logins.\")"
   ]
  },
  {
   "cell_type": "markdown",
   "metadata": {},
   "source": [
    "We can add argments to the `__init__` method, to initialise our object with more attributes, e.g. a username and a password:\n"
   ]
  },
  {
   "cell_type": "code",
   "execution_count": null,
   "metadata": {},
   "outputs": [],
   "source": [
    "class User:\n",
    "    \n",
    "    def __init__(self, username, password):\n",
    "        self.num_failed_logins = 0\n",
    "        self.username = username\n",
    "        self.password = password\n",
    "    \n",
    "    def say_hello(self):\n",
    "        print(\"Hello from me!\")\n",
    "        \n",
    "    def greet_by_name(self, name):\n",
    "        print(f\"A hello to {name} from me!\")"
   ]
  },
  {
   "cell_type": "code",
   "execution_count": null,
   "metadata": {},
   "outputs": [],
   "source": [
    "gareth = User(\"partyindahouse\", \"qwerty1\")\n",
    "\n",
    "print(\"Username:\", gareth.username)\n",
    "print(\"Password:\", gareth.password)"
   ]
  },
  {
   "cell_type": "markdown",
   "metadata": {},
   "source": [
    "### Concept Check: Writing a Class Method\n",
    "\n",
    "Write a `try_login` method that takes a `password_attempt` as a method argument. It returns `True` if the argument matches the user's password, or `False` otherwise. It also adjusts the integer value `self.num_failed_logins` accordingly (this variable should store the the number of failed login attempts since the last successful attempt).\n",
    "\n",
    "You can add your method to the code block above. When you think it is working, you can check it by copying the whole class into the file `classes_ex1.py` (in the Exercises folder) and run `pytest` (using the command line from that folder)\n"
   ]
  },
  {
   "cell_type": "code",
   "execution_count": 22,
   "metadata": {},
   "outputs": [],
   "source": [
    "class User:\n",
    "    \n",
    "    def __init__(self, username, password):\n",
    "        self.num_failed_logins = 0\n",
    "        self.username = username\n",
    "        self.password = password\n",
    "    \n",
    "    def say_hello(self):\n",
    "        print(\"Hello from me!\")\n",
    "        \n",
    "    def greet_by_name(self, name):\n",
    "        print(f\"A hello to {name} from me!\")\n",
    "        \n",
    "    def try_login(self, password_attempt):\n",
    "        pass"
   ]
  }
 ],
 "metadata": {
  "interpreter": {
   "hash": "cafeaa2399fa74e6dc79b3b726e7872fe86cf7945b44d42102441e40f1b90793"
  },
  "kernelspec": {
   "display_name": "Python 3 (ipykernel)",
   "language": "python",
   "name": "python3"
  },
  "language_info": {
   "codemirror_mode": {
    "name": "ipython",
    "version": 3
   },
   "file_extension": ".py",
   "mimetype": "text/x-python",
   "name": "python",
   "nbconvert_exporter": "python",
   "pygments_lexer": "ipython3",
   "version": "3.9.7"
  }
 },
 "nbformat": 4,
 "nbformat_minor": 4
}
