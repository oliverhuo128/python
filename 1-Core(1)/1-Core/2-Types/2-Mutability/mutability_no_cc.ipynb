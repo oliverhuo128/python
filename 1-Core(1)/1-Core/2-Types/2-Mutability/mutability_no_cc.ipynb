{
 "cells": [
  {
   "cell_type": "markdown",
   "metadata": {},
   "source": [
    "---\n",
    "# 2. Mutability and Immutability\n",
    "---\n",
    "\n",
    "If an object's value can be changed, then it is mutable.\n",
    "Otherwise, it is immutable. \n",
    "\n",
    "Examples of mutable objects include Lists, Sets and Dictionaries. This means that multiple references to the same object will reflect changes made by any of the references. \n",
    "\n",
    "Examples of immutable objects include Tuples, ints, floats and strings. This means that multiple references to the same object will then refer to different objects, should any of them make a change. \n",
    "\n",
    "\n"
   ]
  },
  {
   "cell_type": "code",
   "execution_count": null,
   "metadata": {},
   "outputs": [],
   "source": [
    "x = 'hello'\n",
    "y = x\n",
    "# because and x (and y) is a string, and strings are immutable, the object with this id will always have that value\n",
    "\n",
    "d1 = {}\n",
    "d2 = d1\n",
    "d1['starter'] = 'prawn cocktail'\n",
    "print(d2)\n",
    "\n",
    "# d1 and d2 are both references to the same object (dictionary), which is mutable(changable).\n",
    "\n"
   ]
  },
  {
   "cell_type": "code",
   "execution_count": null,
   "metadata": {},
   "outputs": [],
   "source": [
    "x = 10 # integers are immutable\n",
    "y = x\n",
    "x = 20 # x has now moved to a different object, leaving y as it is.\n",
    "print(y)"
   ]
  },
  {
   "cell_type": "markdown",
   "metadata": {},
   "source": [
    "## 2.1 Tuples and Lists\n",
    "\n",
    "Tuples are immutable lists. This means that, once they are created:\n",
    "- It is not possible to add or remove items, e.g. there is no `append` method for tuples\n",
    "- Each element in the tuple contains an object that cannot be replaced with a different object \n",
    "\n",
    "We can create a tuple in several different ways:\n",
    "- Declare in normal brackets, separating with commas\n",
    "- Convert from a list to a tuple with the `tuple` built-in function (We can also do the reverse conversion using the `list` built-in function).\n",
    "- Concatenate other tuples together \n"
   ]
  },
  {
   "cell_type": "code",
   "execution_count": null,
   "metadata": {},
   "outputs": [],
   "source": [
    "# four ways to create a tuple:\n",
    "\n",
    "# 1. as a comma-separated sequence, enclosed with normal brackets: \n",
    "my_tuple = (1,2,3)\n",
    "\n",
    "# 2. as a comma-separated sequence, not enclosed by brackets (NB not always possible)\n",
    "your_tuple = 4,5,6\n",
    "\n",
    "# 3. by converting a list into a tuple using the 'tuple' built-in function:\n",
    "her_list = [7,8,9]\n",
    "her_tuple = tuple(her_list)\n",
    "\n",
    "# 4. By concatenating tuples using the '+' operator:\n",
    "our_tuple = my_tuple+your_tuple\n",
    "\n",
    "# We can iterate over the tuple in the same way we iterate over a list:\n",
    "for item in your_tuple:\n",
    "    print(item)\n",
    "\n",
    "    \n",
    "# Try uncommenting the line below to see the error:\n",
    "# my_tuple[1] = 10  # error!"
   ]
  },
  {
   "cell_type": "code",
   "execution_count": null,
   "metadata": {},
   "outputs": [],
   "source": [
    "my_list = list(my_tuple)\n",
    "my_list.append(4)\n",
    "\n",
    "\n",
    "print(my_list)\n",
    "print(my_tuple[2])\n",
    "\n",
    "my_list[1] = 10\n",
    "my_list"
   ]
  },
  {
   "cell_type": "markdown",
   "metadata": {},
   "source": [
    "### Concept Check: Immutable Tuples\n",
    "\n",
    "\n",
    "If I have a tuple that includes a list as one of the elements, can I append items to this list?\n",
    "\n",
    "If so, what does it mean, that a tuple is immutable? \n"
   ]
  },
  {
   "cell_type": "code",
   "execution_count": null,
   "metadata": {},
   "outputs": [],
   "source": [
    "# space here to write your answer\n"
   ]
  },
  {
   "cell_type": "code",
   "execution_count": null,
   "metadata": {},
   "outputs": [],
   "source": []
  }
 ],
 "metadata": {
  "kernelspec": {
   "display_name": "Python 3",
   "language": "python",
   "name": "python3"
  },
  "language_info": {
   "codemirror_mode": {
    "name": "ipython",
    "version": 3
   },
   "file_extension": ".py",
   "mimetype": "text/x-python",
   "name": "python",
   "nbconvert_exporter": "python",
   "pygments_lexer": "ipython3",
   "version": "3.10.2"
  }
 },
 "nbformat": 4,
 "nbformat_minor": 2
}
