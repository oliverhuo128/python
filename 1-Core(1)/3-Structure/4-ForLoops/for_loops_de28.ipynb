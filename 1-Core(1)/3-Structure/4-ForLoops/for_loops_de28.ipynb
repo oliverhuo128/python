{
 "cells": [
  {
   "cell_type": "markdown",
   "metadata": {},
   "source": [
    "---\n",
    "# 4.  `for` Statements\n",
    "---\n",
    "Python `for` statements are used to iterate through an iterable object.\n",
    "\n",
    "What objects are iterable?\n",
    "\n",
    "- All sequences (tuples, strings, lists, ranges).\n",
    "- Sets and dictionaries.\n",
    "- Generator-like objects returned by in-built functions like `range` and `zip` (We will cover these in more detail later on).\n",
    "- (In fact, any object that has either an `__iter__()` method or a  `__getitem__()` dunder method is iterable. But we will not be making iterable objects at this point, so this can be considered an advanced topic.)  \n"
   ]
  },
  {
   "cell_type": "markdown",
   "metadata": {},
   "source": [
    "## 4.1 Simple iteration\n",
    "\n",
    "If `my_collection` is some sort of iterable object (a list, a string, a dictionary...) then we can iterate over its contents like this: \n",
    "\n",
    "```\n",
    "for x in my_collection:\n",
    "    print(x)\n",
    "    print('more statements here')\n",
    "```\n",
    "\n",
    "We call `x` the iterator variable: it is assigned in turn to each of the elements in 'my_collection'.\n",
    "\n",
    "Each iteration, all the indented statements in this code block will be executed. \n",
    "- Above, there are two lines in this code block. \n",
    "- Below, there is just one line in this code block."
   ]
  },
  {
   "cell_type": "markdown",
   "metadata": {},
   "source": [
    "### Exercise: Triangles\n",
    "Write a function called `top_left_triangle` that accepts an integer, n, and outputs a list of n strings. When printed out, these strings show a triangle of `*` characters, such that the first line has n  `*`, characters, the second has n-1 characters, and so on. As shown in the example below. \n",
    "```\n",
    "*****\n",
    "****\n",
    "***\n",
    "**\n",
    "*\n",
    "```\n",
    "\n",
    "Write an additional function, `bottom_right_triangle` to create the following triangle.\n",
    "```\n",
    "    *\n",
    "   **\n",
    "  ***\n",
    " ****\n",
    "*****\n",
    "```\n",
    "Put both functions into `forloops_ex1.py` (in the Exercises Folder) and run it using `python forloops_ex1.py`, then call pytest to check that its working.\n"
   ]
  },
  {
   "cell_type": "markdown",
   "metadata": {},
   "source": [
    "### 4.1.2 Iterating over a String\n",
    "\n",
    "The iterator variable will be assigned to each character in the string sequence.\n",
    "\n",
    "Below, we have named the iterator variable `item`:"
   ]
  },
  {
   "cell_type": "code",
   "execution_count": 1,
   "metadata": {},
   "outputs": [
    {
     "name": "stdout",
     "output_type": "stream",
     "text": [
      "g\n",
      "o\n",
      "o\n",
      "d\n",
      " \n",
      "a\n",
      "f\n",
      "t\n",
      "e\n",
      "r\n",
      "n\n",
      "o\n",
      "o\n",
      "n\n",
      " \n",
      "d\n",
      "e\n",
      "2\n",
      "8\n"
     ]
    }
   ],
   "source": [
    "greeting = \"good afternoon de28\"\n",
    "for char in greeting:\n",
    "    print(char)"
   ]
  },
  {
   "cell_type": "markdown",
   "metadata": {},
   "source": [
    "### 4.1.3 Iterating over  a List:\n",
    "\n",
    "\n",
    "The iterator variable will be assigned to each element in the list.\n",
    "\n",
    "Below, we have named the iterator variable `s`:"
   ]
  },
  {
   "cell_type": "code",
   "execution_count": 2,
   "metadata": {},
   "outputs": [
    {
     "name": "stdout",
     "output_type": "stream",
     "text": [
      "bruschetta\n",
      "samosas\n",
      "olives and bread\n"
     ]
    }
   ],
   "source": [
    "starters = [\"bruschetta\", \"samosas\", \"olives and bread\"]\n",
    "for s in starters:\n",
    "    print(s)"
   ]
  },
  {
   "cell_type": "markdown",
   "metadata": {},
   "source": [
    "### 4.1.4 Iterating over a Dictionary\n",
    "\n",
    "\n",
    "The iterator variable will be assigned to each key in the string sequence.\n",
    "\n",
    "Below, we have named the iterator variable `key`.\n",
    "\n",
    "Note that we can access each value in this dictionary using `selected_menu[key]`.\n"
   ]
  },
  {
   "cell_type": "code",
   "execution_count": 5,
   "metadata": {},
   "outputs": [
    {
     "name": "stdout",
     "output_type": "stream",
     "text": [
      "title: Boys Will By Boys\n",
      "artist: Dua Lipa\n",
      "album: Future Nostalgia\n"
     ]
    }
   ],
   "source": [
    "favourite_song = {\"title\": \"Boys Will By Boys\", \"artist\": \"Dua Lipa\", \"album\": \"Future Nostalgia\"}\n",
    "\n",
    "for key in favourite_song:\n",
    "    print(f\"{key}: {favourite_song[key]}\")"
   ]
  },
  {
   "cell_type": "markdown",
   "metadata": {},
   "source": [
    "### 4.1.5 Iterating over a Range of Numbers:\n",
    "\n",
    "To iterate over a range of integer numbers, we use the inbuilt function `range`.\n",
    "- If we provide one input argument, then it iterates up to that number\n",
    "- If we provide two input arguments, then it iterates from the first number up to the second\n",
    "- If we provide three input arguments, then it uses the third number as the step (or 'stride')  "
   ]
  },
  {
   "cell_type": "code",
   "execution_count": 6,
   "metadata": {},
   "outputs": [
    {
     "name": "stdout",
     "output_type": "stream",
     "text": [
      "200\n",
      "190\n",
      "180\n",
      "170\n",
      "160\n",
      "150\n",
      "140\n",
      "130\n",
      "120\n",
      "110\n"
     ]
    }
   ],
   "source": [
    "for x in range(200, 100, -10):\n",
    "    print(x)"
   ]
  },
  {
   "cell_type": "markdown",
   "metadata": {},
   "source": [
    "## 4.2 Beyond Simple Iteration \n",
    "\n",
    "In this section, some variations on the standard `for` iteration are introduced:\n",
    "- Iterating in reverse\n",
    "- Using `break` and `continue`\n",
    "- Using nested `for` statements\n",
    "- Using `enumerate` and `zip`\n",
    "- Alternative dictionary iteration forms"
   ]
  },
  {
   "cell_type": "markdown",
   "metadata": {},
   "source": [
    "### 4.2.1 Iterating in reverse\n",
    "\n",
    "To reverse the order of a sequence, recall that we can use the slice operator `[::-1]` to use a negative step from the end to the start:\n"
   ]
  },
  {
   "cell_type": "code",
   "execution_count": 7,
   "metadata": {},
   "outputs": [
    {
     "name": "stdout",
     "output_type": "stream",
     "text": [
      "bronze\n",
      "silver\n",
      "gold\n"
     ]
    }
   ],
   "source": [
    "medals = [\"gold\", \"silver\", \"bronze\"]\n",
    "for medal in medals[::-1]:\n",
    "    print(medal)"
   ]
  },
  {
   "cell_type": "markdown",
   "metadata": {},
   "source": [
    "### 4.2.2 Using `break` and `continue`\n",
    "\n",
    "We saw how  `break` and `continue` statements can be used in `while` code blocks. \n",
    "\n",
    "In `for` code blocks, these statements work in the same way. "
   ]
  },
  {
   "cell_type": "markdown",
   "metadata": {},
   "source": [
    "### Concept Check: `break` and `continue`\n",
    "- Iterate through the list of meal choices, asking the user if this is the selection they would like.\n",
    "- If they answer 'y', then assign `user_choice` to this item, and stop asking them.\n",
    "- If they did not answer 'y' to any of the options, then `user_choice` should be assigned `spam`."
   ]
  },
  {
   "cell_type": "code",
   "execution_count": null,
   "metadata": {},
   "outputs": [],
   "source": [
    "meal_choices = ['lobster', 'tofu', 'pineapple']\n",
    "# Write your answer here:"
   ]
  },
  {
   "cell_type": "markdown",
   "metadata": {},
   "source": [
    "### 4.2.3 Using Nested `for` Statements\n",
    "\n",
    "One `for` statement can be included within the code block for another for statement: this is known as *nested* iteration. \n",
    "\n",
    "All iterations of the inner `for` code block will be completed, for each iteration of the outer `for` code block. "
   ]
  },
  {
   "attachments": {
    "image.png": {
     "image/png": "[encoded data removed]"
    }
   },
   "cell_type": "markdown",
   "metadata": {},
   "source": [
    "### Concept Check: Nested `for` Statements\n",
    "\n",
    "Can you write a code cell that prints out the *N x M* times tables?\n",
    "\n",
    "(*N* is the number of rows, and *M* is the number of columnes)\n",
    "\n",
    "Example given below for 8 rows and 7 columns:\n",
    "\n",
    "![image.png](attachment:image.png)\n",
    "\n"
   ]
  },
  {
   "cell_type": "code",
   "execution_count": null,
   "metadata": {},
   "outputs": [],
   "source": [
    "# Write your solution here:"
   ]
  },
  {
   "cell_type": "markdown",
   "metadata": {},
   "source": [
    "### 4.2.4 Using `enumerate`\n",
    "\n",
    "The build-in function `enumerate` provides us with a two-element tuple at each iteration:\n",
    "- The first element of the tuple will be the index of the iteration (starting at zero). \n",
    "- The second element contains the item from the iterable object.\n",
    "\n"
   ]
  },
  {
   "cell_type": "code",
   "execution_count": 9,
   "metadata": {},
   "outputs": [
    {
     "name": "stdout",
     "output_type": "stream",
     "text": [
      "In position 1, we award the gold medal.\n",
      "In position 2, we award the silver medal.\n",
      "In position 3, we award the bronze medal.\n"
     ]
    }
   ],
   "source": [
    "# Example `enumerate`\n",
    "medals = [\"gold\", \"silver\", \"bronze\"]\n",
    "\n",
    "for index, medal in enumerate(medals): # We can unpack the tuple with two comma separated variables\n",
    "    position = index + 1\n",
    "    print(f\"In position {position}, we award the {medal} medal.\")"
   ]
  },
  {
   "cell_type": "markdown",
   "metadata": {},
   "source": [
    "### 4.2.5 Using `zip`\n",
    "\n",
    "- Used in a `for` statement, the `zip` function provides a way of pairing together the elements from multiple iterables\n",
    "- At each iteration, a tuple of elements is provided, one from each of the iterable objects. \n",
    "- It will only iterates as far as the shortest-length iterable.\n",
    "\n"
   ]
  },
  {
   "cell_type": "code",
   "execution_count": 10,
   "metadata": {},
   "outputs": [
    {
     "name": "stdout",
     "output_type": "stream",
     "text": [
      "In position 1, we award the gold medal.\n",
      "In position 2, we award the silver medal.\n",
      "In position 3, we award the bronze medal.\n"
     ]
    }
   ],
   "source": [
    "# Example 'zip'\n",
    "medals = [\"gold\", \"silver\", \"bronze\"]\n",
    "positions = [1, 2, 3, 4] # 4 is skipped out because it doesn't have a matched index in medals\n",
    "\n",
    "for position, medal in zip(positions, medals):\n",
    "    print(f\"In position {position}, we award the {medal} medal.\")\n",
    "\n"
   ]
  },
  {
   "cell_type": "markdown",
   "metadata": {},
   "source": [
    "### 4.2.6 Alternative Dictionary Iteration Forms\n",
    "\n",
    "Two additional forms for iterating over dictionaries are presented below:\n"
   ]
  },
  {
   "cell_type": "code",
   "execution_count": 12,
   "metadata": {},
   "outputs": [
    {
     "name": "stdout",
     "output_type": "stream",
     "text": [
      "Boys Will By Boys\n",
      "Dua Lipa\n",
      "Future Nostalgia\n"
     ]
    }
   ],
   "source": [
    "# Iterating directly over the values in a dictionary\n",
    "favourite_song = {\"title\": \"Boys Will By Boys\", \"artist\": \"Dua Lipa\", \"album\": \"Future Nostalgia\"}\n",
    "\n",
    "for value in favourite_song.values():\n",
    "    print(value)"
   ]
  },
  {
   "cell_type": "code",
   "execution_count": 13,
   "metadata": {},
   "outputs": [
    {
     "name": "stdout",
     "output_type": "stream",
     "text": [
      "title: Boys Will By Boys\n",
      "artist: Dua Lipa\n",
      "album: Future Nostalgia\n"
     ]
    }
   ],
   "source": [
    "# Iterating over the items() in a dictionary:\n",
    "# Each iteration, the key and value are provided as a tuple\n",
    "for key, value in favourite_song.items():\n",
    "    print(f\"{key}: {value}\")"
   ]
  },
  {
   "cell_type": "markdown",
   "metadata": {},
   "source": [
    "## 4.3 Pitfalls \n",
    "\n",
    "When working with iterations, two potential pitfalls are described below.\n",
    "\n",
    "They both concern the editing of  elements in the iterator variable.\n",
    "\n",
    "\n",
    "### 4.3.1 Re-assigning the value when iterating over `items()` \n",
    "\n",
    "In the code cell above, the variable `value` is assigned to each value in the dictionary.\n",
    "\n",
    "As the example below shows, updating this variable won't change the original values in he dictionary:\n"
   ]
  },
  {
   "cell_type": "code",
   "execution_count": 17,
   "metadata": {},
   "outputs": [
    {
     "name": "stdout",
     "output_type": "stream",
     "text": [
      "starter: NOT AVAILABLE\n",
      "main course: NOT AVAILABLE\n",
      "desert: NOT AVAILABLE\n",
      "{'starter': 'samosa', 'main course': 'pizza', 'desert': 'sorbert'}\n",
      "{'starter': 'NOT AVAILABLE', 'main course': 'NOT AVAILABLE', 'desert': 'NOT AVAILABLE'}\n"
     ]
    }
   ],
   "source": [
    "selected_menu = {\"starter\": \"samosa\", \"main course\": \"pizza\", \"desert\": \"sorbert\"}\n",
    "\n",
    "# Let's re-assign all values to 'NOT AVAILABLE'\n",
    "for key, value in selected_menu.items():\n",
    "    value = \"NOT AVAILABLE\"\n",
    "    print(f\"{key}: {value}\")\n",
    "\n",
    "\n",
    "# did that change the data stored in selected_menu?\n",
    "print(selected_menu)\n",
    "\n",
    "# How would you use a for statement to set all values in the dictionary to 'NOT AVAILABLE'?\n",
    "\n",
    "for course in selected_menu:\n",
    "    selected_menu[course] = \"NOT AVAILABLE\"\n",
    "\n",
    "print(selected_menu)\n"
   ]
  },
  {
   "cell_type": "markdown",
   "metadata": {},
   "source": [
    "### 4.3.2 Removing Items During Iteration\n",
    "\n",
    "Beware removing items within an iteration: a maximum of one removal is allowed.\n",
    "\n",
    "If more than one removal is attempted, then the result may be unexpected (and unhelpful!)\n"
   ]
  },
  {
   "cell_type": "code",
   "execution_count": 19,
   "metadata": {},
   "outputs": [
    {
     "data": {
      "text/plain": [
       "[('tofu', 'vegetarian'),\n",
       " ('lasagne', 'NOT vegetarian'),\n",
       " ('salad', 'vegetarian')]"
      ]
     },
     "execution_count": 19,
     "metadata": {},
     "output_type": "execute_result"
    }
   ],
   "source": [
    "menu = [\n",
    "    ('steak'  , 'NOT vegetarian'),\n",
    "    ('tofu'   , 'vegetarian'),\n",
    "    ('tuna'   , 'NOT vegetarian'),\n",
    "    ('lasagne', 'NOT vegetarian'),\n",
    "    ('salad'  , 'vegetarian')\n",
    "]\n",
    "\n",
    "# Let's remove non-vegetarian items from the menu\n",
    "\n",
    "for item in menu:\n",
    "    if item[1] != \"vegetarian\":\n",
    "        menu.remove(item)\n",
    "    \n",
    "# Did it work?\n",
    "menu"
   ]
  },
  {
   "cell_type": "code",
   "execution_count": 20,
   "metadata": {},
   "outputs": [
    {
     "data": {
      "text/plain": [
       "[('tofu', 'vegetarian'), ('salad', 'vegetarian')]"
      ]
     },
     "execution_count": 20,
     "metadata": {},
     "output_type": "execute_result"
    }
   ],
   "source": [
    "### a better pattern for filtering a list\n",
    "veg_menu = []\n",
    "for item in menu:\n",
    "    if item[1] == \"vegetarian\":\n",
    "        veg_menu.append(item)\n",
    "\n",
    "veg_menu"
   ]
  },
  {
   "cell_type": "markdown",
   "metadata": {},
   "source": [
    "### Exercise: Remove Entries\n",
    "\n",
    "Write a 'remove_entries' function that accepts an 'address book' dictionary and a 'begins_with' string, and returns a dictionary that has the elements of the address book, but without any of the elements whose keys start with the 'begins_with' string. For example, providing a string of 'al' would remove the keys 'alan', 'alice' etc \n",
    "\n",
    "Put this into `forloops_ex3.py` (in the Exercises Folder) and run it using `python forloops_ex3.py`, then call pytest to check that its working."
   ]
  },
  {
   "cell_type": "markdown",
   "metadata": {},
   "source": [
    "### Exercise (Bit Tricky): Print Address Books\n",
    "Write a function called display_shopping_lists that outputs a list of lines that contain the contents of shopping lists. When these output lines are printed out, they will show the shopping lists displayed next to each other. For example, if the input  list contained three shopping lists, the first being   `['almonds', 'walnuts', 'hazelnuts']`, the second being `['beer']` and the third being `['apples', 'oranges']`, then the output lines would print out as follows:\n",
    "```\n",
    "almonds       beer      apples\n",
    "walnuts                 oranges\n",
    "hazelnuts\n",
    "```\n",
    "Put this into `forloops_ex2.py` (in the Exercises Folder) and run it using `python forloops_ex2.py`, then call pytest to check that its working.\n"
   ]
  },
  {
   "cell_type": "markdown",
   "metadata": {},
   "source": [
    "## 4.4 Shortened For-loops: Comprehensions\n",
    "\n",
    "Recall the shortened or 'ternary' form of the `if` statement:\n",
    "```\n",
    "no_money = True\n",
    "x = 'stay_at_home' if no_money else 'goto_party'\n",
    "```\n",
    "\n",
    "A similar trick can be done with `for` statements\n"
   ]
  },
  {
   "cell_type": "code",
   "execution_count": 21,
   "metadata": {},
   "outputs": [
    {
     "data": {
      "text/plain": [
       "[1, 4, 9, 16, 25]"
      ]
     },
     "execution_count": 21,
     "metadata": {},
     "output_type": "execute_result"
    }
   ],
   "source": [
    "# original \n",
    "original_list = [1, 2, 3, 4, 5]\n",
    "output = []\n",
    "\n",
    "for num in original_list:\n",
    "    y = num ** 2\n",
    "    output.append(y)\n",
    "\n",
    "output"
   ]
  },
  {
   "cell_type": "code",
   "execution_count": 22,
   "metadata": {},
   "outputs": [
    {
     "data": {
      "text/plain": [
       "[1, 4, 9, 16, 25]"
      ]
     },
     "execution_count": 22,
     "metadata": {},
     "output_type": "execute_result"
    }
   ],
   "source": [
    "# list comprehension:\n",
    "\n",
    "output = [num ** 2 for num in original_list]\n",
    "output"
   ]
  },
  {
   "cell_type": "code",
   "execution_count": 23,
   "metadata": {},
   "outputs": [
    {
     "data": {
      "text/plain": [
       "{'title': 'Boys Will By Boys',\n",
       " 'artist': 'Dua Lipa',\n",
       " 'album': 'Future Nostalgia'}"
      ]
     },
     "execution_count": 23,
     "metadata": {},
     "output_type": "execute_result"
    }
   ],
   "source": [
    "# original \n",
    "favourite_song\n"
   ]
  },
  {
   "cell_type": "code",
   "execution_count": 28,
   "metadata": {},
   "outputs": [
    {
     "data": {
      "text/plain": [
       "{'Title': 'BOYS WILL BY BOYS',\n",
       " 'Artist': 'DUA LIPA',\n",
       " 'Album': 'FUTURE NOSTALGIA'}"
      ]
     },
     "execution_count": 28,
     "metadata": {},
     "output_type": "execute_result"
    }
   ],
   "source": [
    "# Creating a new dictionary without a comprehension\n",
    "favourite_song = {\"title\": \"Boys Will By Boys\", \"artist\": \"Dua Lipa\", \"album\": \"Future Nostalgia\"}\n",
    "\n",
    "output = {}\n",
    "for key, value in favourite_song.items():\n",
    "    output[key.title()] = value.upper()\n",
    "\n",
    "output\n",
    "    "
   ]
  },
  {
   "cell_type": "code",
   "execution_count": 29,
   "metadata": {},
   "outputs": [
    {
     "data": {
      "text/plain": [
       "{'Title': 'BOYS WILL BY BOYS',\n",
       " 'Artist': 'DUA LIPA',\n",
       " 'Album': 'FUTURE NOSTALGIA'}"
      ]
     },
     "execution_count": 29,
     "metadata": {},
     "output_type": "execute_result"
    }
   ],
   "source": [
    "# dictionary comprehension\n",
    "favourite_song = {\"title\": \"Boys Will By Boys\", \"artist\": \"Dua Lipa\", \"album\": \"Future Nostalgia\"}\n",
    "\n",
    "output = {key.title(): value.upper() for key, value in favourite_song.items()}\n",
    "output"
   ]
  }
 ],
 "metadata": {
  "interpreter": {
   "hash": "f49206fcf84a9145e7e21228cbafa911d1ac18292303b01e865d8267a9c448f7"
  },
  "kernelspec": {
   "display_name": "Python 3.9.7 64-bit",
   "language": "python",
   "name": "python3"
  },
  "language_info": {
   "codemirror_mode": {
    "name": "ipython",
    "version": 3
   },
   "file_extension": ".py",
   "mimetype": "text/x-python",
   "name": "python",
   "nbconvert_exporter": "python",
   "pygments_lexer": "ipython3",
   "version": "3.9.7"
  }
 },
 "nbformat": 4,
 "nbformat_minor": 2
}
