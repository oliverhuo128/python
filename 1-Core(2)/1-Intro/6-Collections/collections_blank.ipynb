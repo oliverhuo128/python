{
 "cells": [
  {
   "cell_type": "markdown",
   "metadata": {},
   "source": [
    "---\n",
    "# 8. Collections\n",
    "---\n"
   ]
  },
  {
   "cell_type": "markdown",
   "metadata": {},
   "source": [
    "## 8.1 The Python List\n",
    "\n",
    "### 8.1 Declaring a List\n"
   ]
  },
  {
   "cell_type": "code",
   "execution_count": null,
   "metadata": {},
   "outputs": [],
   "source": []
  },
  {
   "cell_type": "markdown",
   "metadata": {},
   "source": [
    "### 8.1.2 Accessing Elements of the List\n"
   ]
  },
  {
   "cell_type": "code",
   "execution_count": null,
   "metadata": {},
   "outputs": [],
   "source": []
  },
  {
   "cell_type": "markdown",
   "metadata": {},
   "source": [
    "### Concept Check: Accessing List Elements\n",
    "\n",
    "Change the last element of `my_list` to a `'z'`, and print out the list."
   ]
  },
  {
   "cell_type": "code",
   "execution_count": null,
   "metadata": {},
   "outputs": [],
   "source": [
    "\n"
   ]
  },
  {
   "cell_type": "markdown",
   "metadata": {},
   "source": [
    "### 8.1.3 Adding Elements to the List\n",
    "\n"
   ]
  },
  {
   "cell_type": "code",
   "execution_count": null,
   "metadata": {},
   "outputs": [],
   "source": []
  },
  {
   "cell_type": "markdown",
   "metadata": {},
   "source": [
    "### 8.1.4 The List `sort` Method \n"
   ]
  },
  {
   "cell_type": "code",
   "execution_count": null,
   "metadata": {},
   "outputs": [],
   "source": []
  },
  {
   "cell_type": "markdown",
   "metadata": {},
   "source": [
    "### Concept Check: Making and Sorting a List of Names\n",
    "\n",
    "- Run the first code cell immediately below, to create a list called  `list_of_names`.\n",
    "- In the second code cell, write code to:\n",
    "    - Ask the user for a name to add to the list\n",
    "    - Append this name to the list\n",
    "    - Sort the list\n",
    "    - Print the list\n",
    "    \n",
    "You can run the second code cell multiple times, to add multiple names to the list. Each time you run the first code cell, the empty list will be re-created.\n"
   ]
  },
  {
   "cell_type": "code",
   "execution_count": null,
   "metadata": {},
   "outputs": [],
   "source": [
    "# first code cell: run this once\n",
    "list_of_names = []"
   ]
  },
  {
   "cell_type": "code",
   "execution_count": null,
   "metadata": {},
   "outputs": [],
   "source": [
    "# second code cell: write your code here to add a name to this list, sort it and print it.\n"
   ]
  },
  {
   "cell_type": "markdown",
   "metadata": {},
   "source": [
    "## 8.2 The Python Dictionary\n",
    "\n",
    "### 8.2.1 Declaring a Dictionary\n",
    "\n"
   ]
  },
  {
   "cell_type": "code",
   "execution_count": null,
   "metadata": {},
   "outputs": [],
   "source": []
  },
  {
   "cell_type": "markdown",
   "metadata": {},
   "source": [
    "### 8.2.2 Accessing Specific Keys and Values\n"
   ]
  },
  {
   "cell_type": "code",
   "execution_count": null,
   "metadata": {},
   "outputs": [],
   "source": []
  },
  {
   "cell_type": "code",
   "execution_count": null,
   "metadata": {},
   "outputs": [],
   "source": [
    "\n"
   ]
  },
  {
   "cell_type": "markdown",
   "metadata": {},
   "source": [
    "\n",
    "We can also use this syntax to assign a new value to an existing key, or indeed create a new key-value pair."
   ]
  },
  {
   "cell_type": "code",
   "execution_count": null,
   "metadata": {},
   "outputs": [],
   "source": []
  },
  {
   "cell_type": "markdown",
   "metadata": {},
   "source": [
    "### 8.2.3 Accessing All the Keys and Values\n",
    "\n"
   ]
  },
  {
   "cell_type": "code",
   "execution_count": null,
   "metadata": {},
   "outputs": [],
   "source": []
  },
  {
   "cell_type": "markdown",
   "metadata": {},
   "source": [
    "### 8.2.4 Is a Given Key in the Collection?\n",
    "\n",
    "\n",
    "\n"
   ]
  },
  {
   "cell_type": "code",
   "execution_count": null,
   "metadata": {},
   "outputs": [],
   "source": []
  },
  {
   "cell_type": "markdown",
   "metadata": {},
   "source": [
    "### Concept Check: a 'Phone Book' Dictionary (*)\n",
    "\n",
    "- Run the first code cell immediately below, to create a dictionary called  `phone_book`.\n",
    "- In the second code cell, write code to query this phone book:\n",
    "    - Ask the user for the name they'd like the phone number for\n",
    "    - If this name is in the phone book, print out the name and phone number.\n",
    "    - Otherwise, print out 'Sorry, that name is not in the phone book'.\n",
    "- In the third code cell, write code to ask the user for a name and number to add to the phone book.\n"
   ]
  },
  {
   "cell_type": "code",
   "execution_count": null,
   "metadata": {},
   "outputs": [],
   "source": [
    "# first code cell: run this once, to reset the phone book\n",
    "\n",
    "phone_book = {'alice':'01234 567 890', \n",
    "              'bob': '06789 123 456',\n",
    "              'charlie': '0987 654 321'}\n"
   ]
  },
  {
   "cell_type": "code",
   "execution_count": null,
   "metadata": {},
   "outputs": [],
   "source": [
    "# second code cell: ask the user for a name\n",
    "# If this name is in the phone_book, print out the name and number\n",
    "\n",
    "    \n"
   ]
  },
  {
   "cell_type": "code",
   "execution_count": null,
   "metadata": {},
   "outputs": [],
   "source": [
    "# third code cell: add name and number to phone book\n"
   ]
  },
  {
   "cell_type": "markdown",
   "metadata": {},
   "source": [
    "### Exercise: Write a Python Program to Get a Phone Number\n",
    "\n",
    "In the folder `Exercises`, there is a file `collections_ex1.py`.\n",
    "\n",
    "This file defines an address book (as a dictionary).\n",
    "\n",
    "Add Python statements to ask the user to input a name:\n",
    "- If this name is in the address book, print out the name and the number.\n",
    "- Otherwise, print out 'sorry, not in address book'. \n",
    "\n",
    "Run your program yourself, from the command line, to test that it works: you type `python collections_ex1.py`.\n",
    "\n",
    "You can also run the `pytest` from the command line to run the unit test for this file. (Please keep the entries in the address book as they are, for the test to work.)\n",
    "\n",
    "When you have completed this exercise, you can `add`, `commit` and `push` this version of your project to the `origin`, so that we can see that this is complete. "
   ]
  },
  {
   "cell_type": "markdown",
   "metadata": {},
   "source": [
    "---\n",
    "# 9. Iterations\n",
    "---\n",
    "## 9.1 Iterating Over a List\n",
    "\n",
    "\n"
   ]
  },
  {
   "cell_type": "code",
   "execution_count": null,
   "metadata": {},
   "outputs": [],
   "source": []
  },
  {
   "cell_type": "code",
   "execution_count": null,
   "metadata": {},
   "outputs": [],
   "source": [
    "\n"
   ]
  },
  {
   "cell_type": "markdown",
   "metadata": {},
   "source": [
    "### Concept Check: Printing Each Name in a List\n",
    "\n",
    "- Run the first code cell immediately below, to create a list called  `list_of_names`.\n",
    "- In the second code cell, write code to:\n",
    "    - Ask the user for a name, and add it to the list\n",
    "    - Print this list: on seperate line for each item, print the name, along with how many characters there are in the name, e.g. \n",
    "```\n",
    "alice has 5 characters\n",
    "bob has 3 characters\n",
    "charlie has 7 characters\n",
    "```\n"
   ]
  },
  {
   "cell_type": "code",
   "execution_count": null,
   "metadata": {},
   "outputs": [],
   "source": [
    "# first code cell:\n",
    "list_of_names = ['alice', 'bob', 'charlie']"
   ]
  },
  {
   "cell_type": "code",
   "execution_count": null,
   "metadata": {},
   "outputs": [],
   "source": [
    "# second code cell:\n"
   ]
  },
  {
   "cell_type": "markdown",
   "metadata": {},
   "source": [
    "### Exercise: Write a Python Program to print out all names in a list\n",
    "\n",
    "In the folder `Exercises`, there is a file `collections_ex2.py`.\n",
    "\n",
    "This file defines an list of names. \n",
    "\n",
    "Add Python statements to print out each name on a separate line.  \n",
    "\n",
    "Run your program yourself, from the command line, to test that it works: you type `python collections_ex2.py`.\n",
    "\n",
    "You can also run the `pytest` from the command line to run the unit test for this file. (Please keep the entries in the address book as they are, for the test to work.)\n",
    "\n",
    "When you have completed this exercise, you can `add`, `commit` and `push` this version of your project to the `origin`, so that we can see that this is complete. "
   ]
  },
  {
   "cell_type": "markdown",
   "metadata": {},
   "source": [
    "## 9.2 Iterating Over a Dictionary\n"
   ]
  },
  {
   "cell_type": "code",
   "execution_count": null,
   "metadata": {},
   "outputs": [],
   "source": []
  },
  {
   "cell_type": "markdown",
   "metadata": {},
   "source": [
    "### Concept Check:  Printing the Elements of a Dictionary\n",
    "\n",
    "Print the name and number of the entries in the phone book. Put each entry on a separate line. "
   ]
  },
  {
   "cell_type": "code",
   "execution_count": null,
   "metadata": {},
   "outputs": [],
   "source": [
    "phone_book = {'alice':'01234 567 890', \n",
    "              'bob': '06789 123 456',\n",
    "              'charlie': '0987 654 321'}\n",
    "# write your code here:\n"
   ]
  },
  {
   "cell_type": "markdown",
   "metadata": {},
   "source": [
    "### Exercise: Write a Python Program to print out all phone numbers\n",
    "\n",
    "In the folder `Exercises`, there is a file `collections_ex3.py`.\n",
    "\n",
    "This file defines an address book (as a dictionary).\n",
    "\n",
    "Add Python statements to print out the name and number of each entry in the address book. \n",
    "\n",
    "Run your program yourself, from the command line, to test that it works: you type `python collections_ex3.py`.\n",
    "\n",
    "You can also run the `pytest` from the command line to run the unit test for this file. (Please keep the entries in the address book as they are, for the test to work.)\n",
    "\n",
    "When you have completed this exercise, you can `add`, `commit` and `push` this version of your project to the `origin`, so that we can see that this is complete. "
   ]
  },
  {
   "cell_type": "markdown",
   "metadata": {},
   "source": [
    "## 9.3 Iterating Over a Range of Numbers\n",
    "\n"
   ]
  },
  {
   "cell_type": "code",
   "execution_count": null,
   "metadata": {},
   "outputs": [],
   "source": []
  },
  {
   "cell_type": "markdown",
   "metadata": {},
   "source": [
    "### Concept Check: Iterating Using `range`\n",
    "\n",
    "Iterate between the numbers 1 and 60 (inclusive), adding to `losing_numbers`, all those that are not in `winning_numbers`"
   ]
  },
  {
   "cell_type": "code",
   "execution_count": null,
   "metadata": {},
   "outputs": [],
   "source": [
    "winning_numbers = [12,14,16,23,27,59]\n",
    "losing_numbers = [] # to be filled up\n"
   ]
  },
  {
   "cell_type": "markdown",
   "metadata": {},
   "source": [
    "## 9.4 Iterating While a Statement is `True`\n",
    "\n"
   ]
  },
  {
   "cell_type": "code",
   "execution_count": null,
   "metadata": {},
   "outputs": [],
   "source": []
  },
  {
   "cell_type": "markdown",
   "metadata": {},
   "source": [
    "### Concept Check: Iteratively Adding Entries to a Phone Book (*)\n",
    "\n",
    "\n",
    "Iteratively ask the user to enter in names and phone numbers, which are then added to the `phone_book` dictionary. After each time a new entry is added, print out the `phone_book`.  If the user gives a name that is an empty string, then stop asking them.\n"
   ]
  },
  {
   "cell_type": "code",
   "execution_count": 3,
   "metadata": {},
   "outputs": [],
   "source": [
    "\n",
    "phone_book = {'alice':'01234 567 890', \n",
    "              'bob': '06789 123 456',\n",
    "              'charlie': '0987 654 321'}\n",
    "\n",
    "# write code here:\n"
   ]
  },
  {
   "cell_type": "code",
   "execution_count": null,
   "metadata": {},
   "outputs": [],
   "source": []
  }
 ],
 "metadata": {
  "interpreter": {
   "hash": "cafeaa2399fa74e6dc79b3b726e7872fe86cf7945b44d42102441e40f1b90793"
  },
  "kernelspec": {
   "display_name": "Python 3 (ipykernel)",
   "language": "python",
   "name": "python3"
  },
  "language_info": {
   "codemirror_mode": {
    "name": "ipython",
    "version": 3
   },
   "file_extension": ".py",
   "mimetype": "text/x-python",
   "name": "python",
   "nbconvert_exporter": "python",
   "pygments_lexer": "ipython3",
   "version": "3.10.3"
  }
 },
 "nbformat": 4,
 "nbformat_minor": 4
}
