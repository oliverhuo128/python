{
 "cells": [
  {
   "cell_type": "markdown",
   "id": "1fc77725",
   "metadata": {
    "toc": true
   },
   "source": [
    "<h1>Table of Contents<span class=\"tocSkip\"></span></h1>\n",
    "<div class=\"toc\"><ul class=\"toc-item\">\n",
    "<li><span><a href=\"#1.-Introduction-to-Web-Scraping\" data-toc-modified-id=\"1.-Introduction-to-Web-Scraping-1\">1. Introduction to Web Scraping</a></span><ul class=\"toc-item\">\n",
    "<li><span><a href=\"#1.1-Example:-Getting-information-about-the-International-Space-Station-(ISS)-from-http://api.open-notify.org\" data-toc-modified-id=\"1.2-Example:-Getting-information-about-the-International-Space-Station-(ISS)-from-http://api.open-notify.org-1.2\">1.2 Example: Getting information about the International Space Station (ISS) from <a href=\"http://api.open-notify.org\" target=\"_blank\">http://api.open-notify.org</a></a></span></li>\n",
    "<li><span><a href=\"#1.2-Example:-Getting-information-about-countries-using-Rest-Countries-API\" data-toc-modified-id=\"1.2-Example:-Getting-information-about-countries-using-Rest-Countries-API-1.3\">1.3 Example: Getting information about countries using Rest Countries API</a></span></li></ul>\n",
    "</li></ul></div>"
   ]
  },
  {
   "cell_type": "markdown",
   "id": "a5fd2746",
   "metadata": {},
   "source": [
    "---\n",
    "# 1. Introduction to Web Scraping\n",
    "---\n",
    "\n",
    "Web scraping is the process of extracting data from websites. It can be performed manually or automated using software to download and store the data in an accessible format. \n",
    "\n",
    "In this notebook, we will be exploring web data access in Python using the built-in **requests** package, which allows us to make HTTP requests."
   ]
  },
  {
   "cell_type": "markdown",
   "id": "6b00adc5",
   "metadata": {},
   "source": [
    "## 1.1 Example: Getting information about the International Space Station (ISS) from http://api.open-notify.org"
   ]
  },
  {
   "cell_type": "code",
   "execution_count": null,
   "id": "a1b35c3f",
   "metadata": {},
   "outputs": [],
   "source": [
    "# Imports\n",
    "import requests"
   ]
  },
  {
   "cell_type": "code",
   "execution_count": null,
   "id": "a86e51a3",
   "metadata": {},
   "outputs": [],
   "source": [
    "# Request the current location of the ISS using the requests.get() method\n",
    "url = r'http://api.open-notify.org/iss-now.json'\n",
    "r = requests.get(url)"
   ]
  },
  {
   "cell_type": "code",
   "execution_count": null,
   "id": "7d81021a",
   "metadata": {},
   "outputs": [],
   "source": [
    "# Check the status code of the response object\n",
    "r.status_code"
   ]
  },
  {
   "cell_type": "markdown",
   "id": "8132ea8e",
   "metadata": {},
   "source": [
    "The response is in .json format, which looks similar to a Python dictionary. It can be converted into an actual Python dictionary using `.json()` method\n",
    "\n",
    "Note: Some websites may also return the response in formats other than json (e.g. html or xml)"
   ]
  },
  {
   "cell_type": "code",
   "execution_count": null,
   "id": "062f6d13",
   "metadata": {},
   "outputs": [],
   "source": [
    "# Get the contents of the response as plain text\n",
    "r.text"
   ]
  },
  {
   "cell_type": "code",
   "execution_count": null,
   "id": "79bd5994",
   "metadata": {},
   "outputs": [],
   "source": [
    "# Convert from json to a dictionary using .json() method\n",
    "response = r.json()\n",
    "response"
   ]
  },
  {
   "cell_type": "markdown",
   "id": "d7ab9254",
   "metadata": {},
   "source": [
    "Once converted into a dictionary, the response can be manipulated using standard indexing techniques"
   ]
  },
  {
   "cell_type": "code",
   "execution_count": null,
   "id": "708eb2fe",
   "metadata": {},
   "outputs": [],
   "source": [
    "# Getting the current latitude\n",
    "response['iss_position']['latitude']"
   ]
  },
  {
   "cell_type": "markdown",
   "id": "557df510",
   "metadata": {},
   "source": [
    "The timestamp is a sequence of numbers ([Unix time format](https://en.wikipedia.org/wiki/Unix_time)). We can convert this into a readable date using the built-in **datetime** package in Python"
   ]
  },
  {
   "cell_type": "code",
   "execution_count": null,
   "id": "0a4e7db3",
   "metadata": {},
   "outputs": [],
   "source": [
    "# Import the datetime package\n",
    "from datetime import datetime"
   ]
  },
  {
   "cell_type": "code",
   "execution_count": null,
   "id": "4ad38160",
   "metadata": {},
   "outputs": [],
   "source": [
    "# Convert the timestamp from Unix time to a more readable format\n",
    "print(datetime.utcfromtimestamp(response['timestamp']))"
   ]
  },
  {
   "cell_type": "markdown",
   "id": "82d2a718",
   "metadata": {},
   "source": [
    "### Concept Check <a class=\"tocSkip\">\n",
    "\n",
    "Print out a list of all people who are currently in space on the ISS. Use `http://api.open-notify.org/astros.json`\n",
    "\n"
   ]
  },
  {
   "cell_type": "code",
   "execution_count": null,
   "id": "a0d4386d",
   "metadata": {},
   "outputs": [],
   "source": [
    "api_endpoint = r\"http://api.open-notify.org/astros.json\"\n",
    "r = requests.get(api_endpoint)\n",
    "print(f\"GET request status code to {api_endpoint}: {r.status_code}\")\n",
    "response = r.json()\n",
    "_ = [print('name:', astronaut['name']) for astronaut in response['people']]\n"
   ]
  },
  {
   "cell_type": "markdown",
   "id": "d589bc6d",
   "metadata": {},
   "source": [
    "## 1.2 Example: Getting information about countries using Rest Countries API\n",
    "Rest Countries API: <https://restcountries.com>"
   ]
  },
  {
   "cell_type": "code",
   "execution_count": null,
   "id": "2cfb85c9",
   "metadata": {},
   "outputs": [],
   "source": [
    "# Getting the API url for a particular country\n",
    "country = 'Japan'\n",
    "url = rf'https://restcountries.com/v3.1/name/{country}'"
   ]
  },
  {
   "cell_type": "code",
   "execution_count": null,
   "id": "b0b5b577",
   "metadata": {},
   "outputs": [],
   "source": [
    "# Do the request and check the status code\n",
    "r = requests.get(url)\n",
    "r.status_code"
   ]
  },
  {
   "cell_type": "code",
   "execution_count": null,
   "id": "1b054f23",
   "metadata": {},
   "outputs": [],
   "source": [
    "# Check the response\n",
    "response = r.json()\n",
    "print(response)"
   ]
  },
  {
   "cell_type": "code",
   "execution_count": null,
   "id": "83061da8",
   "metadata": {},
   "outputs": [],
   "source": [
    "# Having a look at what is in the response object\n",
    "# Note: The response is returned as a list of dictionaries. The above response contains only one dictionary in the list.\n",
    "response[0].keys()"
   ]
  },
  {
   "cell_type": "code",
   "execution_count": null,
   "id": "12f1d4ad",
   "metadata": {},
   "outputs": [],
   "source": [
    "# Getting the currency name from the response\n",
    "response[0]['currencies']['JPY']['name']"
   ]
  },
  {
   "cell_type": "markdown",
   "id": "30a75bbf",
   "metadata": {},
   "source": [
    "### Concept Check  <a class=\"tocSkip\">\n",
    "\n",
    "1. Print out a list of all the capital cities in Europe that begin with the letter 'L'?\n",
    "2.  Print out a list of all the capital cities for countries that begin with the letter 'L'?"
   ]
  },
  {
   "cell_type": "code",
   "execution_count": null,
   "id": "0e2f6488",
   "metadata": {},
   "outputs": [],
   "source": [
    "# Type your code here\n",
    "\n",
    "# 1.\n",
    "countries_endpoint = r'https://restcountries.com/v3.1/all'\n",
    "r = requests.get(countries_endpoint)"
   ]
  },
  {
   "cell_type": "code",
   "execution_count": null,
   "id": "dd1b0345",
   "metadata": {},
   "outputs": [],
   "source": [
    "print(f\"GET request status code for {countries_endpoint}: {r.status_code}\")\n",
    "response = r.json()"
   ]
  },
  {
   "cell_type": "code",
   "execution_count": null,
   "id": "ff17407b",
   "metadata": {},
   "outputs": [],
   "source": [
    "continent_list = []\n",
    "for country in response:\n",
    "    if country['continents'] in continent_list:\n",
    "        continue\n",
    "    else:\n",
    "        continent_list.append(country['continents'])\n",
    "print(continent_list)\n",
    "    # print(country['name']['common'])"
   ]
  },
  {
   "cell_type": "code",
   "execution_count": null,
   "id": "5bc86f72",
   "metadata": {},
   "outputs": [],
   "source": [
    "# 2.\n",
    "for country in response:\n",
    "    capital_city = country.get('capital')\n",
    "    if capital_city is not None:\n",
    "        if capital_city[0].startswith('L'):\n",
    "            print(capital_city[0])"
   ]
  },
  {
   "cell_type": "code",
   "execution_count": null,
   "id": "f2f87802",
   "metadata": {},
   "outputs": [],
   "source": [
    "for country in response:\n",
    "    if country['continents'][0] == 'Europe':\n",
    "        capital_city = country.get('capital')\n",
    "        if capital_city is not None:\n",
    "            if capital_city[0].startswith('L'):\n",
    "                print(capital_city[0])\n"
   ]
  }
 ],
 "metadata": {
  "kernelspec": {
   "display_name": "Python 3 (ipykernel)",
   "language": "python",
   "name": "python3"
  },
  "language_info": {
   "codemirror_mode": {
    "name": "ipython",
    "version": 3
   },
   "file_extension": ".py",
   "mimetype": "text/x-python",
   "name": "python",
   "nbconvert_exporter": "python",
   "pygments_lexer": "ipython3",
   "version": "3.9.7"
  },
  "toc": {
   "base_numbering": 1,
   "nav_menu": {},
   "number_sections": false,
   "sideBar": true,
   "skip_h1_title": false,
   "title_cell": "Table of Contents",
   "title_sidebar": "Contents",
   "toc_cell": true,
   "toc_position": {},
   "toc_section_display": true,
   "toc_window_display": false
  },
  "varInspector": {
   "cols": {
    "lenName": 16,
    "lenType": 16,
    "lenVar": 40
   },
   "kernels_config": {
    "python": {
     "delete_cmd_postfix": "",
     "delete_cmd_prefix": "del ",
     "library": "var_list.py",
     "varRefreshCmd": "print(var_dic_list())"
    },
    "r": {
     "delete_cmd_postfix": ") ",
     "delete_cmd_prefix": "rm(",
     "library": "var_list.r",
     "varRefreshCmd": "cat(var_dic_list()) "
    }
   },
   "types_to_exclude": [
    "module",
    "function",
    "builtin_function_or_method",
    "instance",
    "_Feature"
   ],
   "window_display": false
  },
  "vscode": {
   "interpreter": {
    "hash": "54b57a9d7255aa9bd89013014712be1af3e9c0518087b34529522b12b0bc87de"
   }
  }
 },
 "nbformat": 4,
 "nbformat_minor": 5
}
