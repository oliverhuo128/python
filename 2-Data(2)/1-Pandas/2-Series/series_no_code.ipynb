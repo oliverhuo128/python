{
 "cells": [
  {
   "cell_type": "markdown",
   "id": "e72e9f44",
   "metadata": {},
   "source": [
    "# Pandas Series\n",
    "---\n",
    "## 2. Imports:\n",
    "\n",
    "To use the __Pandas__ library, as well as some additional libraries, useful throughout the course, we will be making the following imports before running our codes:"
   ]
  },
  {
   "cell_type": "code",
   "execution_count": null,
   "id": "0457365f",
   "metadata": {},
   "outputs": [],
   "source": []
  },
  {
   "cell_type": "markdown",
   "id": "65755dba",
   "metadata": {},
   "source": [
    "---\n",
    "## 3. Pandas Series - Definition:\n",
    "\n",
    "- A __Series__ is a 1-dimensional array of indexed data: a linear arrangement of indexed data.\n",
    "- The elements in a __Series__ object all take a single data type!\n",
    "- We can think of each element's index as its __key__"
   ]
  },
  {
   "cell_type": "markdown",
   "id": "0c8b3459",
   "metadata": {},
   "source": [
    "---\n",
    "## 4. Constructing a Pandas Series Object:\n",
    "\n",
    "A __Series__ can be created in two ways - from a list and from a dictionary.\n",
    "\n",
    "- From a __List__:\n",
    "    - `pd.Series([item1, item2, ...])`\n",
    "    - `pd.Series([item1, item2, ...], index = [index1, index2, ...])`\n",
    "    \n",
    "    \n",
    "- From a __dictionary__:\n",
    "    - `pd.Series({index1: item1, index2:item2, ...})`"
   ]
  },
  {
   "cell_type": "code",
   "execution_count": null,
   "id": "f0162e8c",
   "metadata": {},
   "outputs": [],
   "source": []
  },
  {
   "cell_type": "code",
   "execution_count": null,
   "id": "1d50caa4",
   "metadata": {},
   "outputs": [],
   "source": []
  },
  {
   "cell_type": "code",
   "execution_count": null,
   "id": "900de9d3",
   "metadata": {},
   "outputs": [],
   "source": []
  },
  {
   "cell_type": "markdown",
   "id": "d76f6528",
   "metadata": {},
   "source": [
    "---\n",
    "## 5. Getting Values and the Index of a Series:\n",
    "\n",
    "Now that we know how to construct a simple __Series__ (which essentially looks like an indexed column), let's learn how to obtain values and indeces from it:"
   ]
  },
  {
   "cell_type": "code",
   "execution_count": null,
   "id": "e1091f75",
   "metadata": {},
   "outputs": [],
   "source": []
  },
  {
   "cell_type": "code",
   "execution_count": null,
   "id": "b38977ab",
   "metadata": {},
   "outputs": [],
   "source": []
  },
  {
   "cell_type": "code",
   "execution_count": null,
   "id": "2ff38a89",
   "metadata": {},
   "outputs": [],
   "source": []
  },
  {
   "cell_type": "markdown",
   "id": "8bd7dac5",
   "metadata": {},
   "source": [
    "---\n",
    "## 6. Series Data Types:\n",
    "\n",
    "We have already mentioned that each Series has a __single data type__ - all elements in the Series share the same type. Series can take one of multiple data types - they can be of integer, float, string, python object data type, etc.\n",
    "\n",
    "Let's explore how to obtain a Series' data type and change it (where possible):"
   ]
  },
  {
   "cell_type": "code",
   "execution_count": null,
   "id": "f5db5288",
   "metadata": {},
   "outputs": [],
   "source": []
  },
  {
   "cell_type": "code",
   "execution_count": null,
   "id": "74c16954",
   "metadata": {},
   "outputs": [],
   "source": []
  },
  {
   "cell_type": "code",
   "execution_count": null,
   "id": "41f7340f",
   "metadata": {},
   "outputs": [],
   "source": []
  },
  {
   "cell_type": "markdown",
   "id": "acfa3505",
   "metadata": {},
   "source": [
    "---\n",
    "## 7. Series Shape:\n",
    "The __shape__ of a pandas `Series` or `DataFrame` gives us the size and dimensionality of the object we inspect (i.e the number of rows and columns). __Series__ are 1-dimensional, so we only expect to obtain information on 1 dimension."
   ]
  },
  {
   "cell_type": "code",
   "execution_count": null,
   "id": "bc836598",
   "metadata": {},
   "outputs": [],
   "source": []
  },
  {
   "cell_type": "code",
   "execution_count": null,
   "id": "16d67ada",
   "metadata": {},
   "outputs": [],
   "source": []
  },
  {
   "cell_type": "markdown",
   "id": "7fe8aa51",
   "metadata": {},
   "source": [
    "---\n",
    "## 8. Summary:\n",
    "\n",
    "- Pandas is a Python library providing high-performance data structures and analysis tools\n",
    "- Pandas 2 main objects are __Series__ and __DataFrames__\n",
    "- Pandas Series is a 1-dimensional array of indexed data, which has a single data type\n",
    "- Series can be constructed from __lists__ and __dictionaries__ using the `pd.Series()` method\n",
    "- We can obtain Series values via the `.values` property\n",
    "- We can obtain Series index via the `.index` property\n",
    "- We can obtain Series data type via the `.dtype` property and we can type cast a Series via the `.astype()` method\n",
    "- We can obtain the dimensions of a Series via the `.shape` property"
   ]
  },
  {
   "cell_type": "markdown",
   "id": "ad96a67d",
   "metadata": {},
   "source": [
    "---\n",
    "## 9. Concept Check:\n",
    "\n",
    "1. What is a pandas series object? List three useful attributes it has.\n",
    "2. How many dtypes (datatypes) can you have for the values of a single Series instance?\n",
    "3. Construct a series object from a tuple containing (10, 10.5, 11). What is the dtype for your series? Is this what you expect?\n",
    "4. Construct a series object from a list containing ['10', '10.5', '11']. What is the dtype for your series? Is this what you expect? If appropriate, how would you convert it to a numeric data type?\n",
    "5. Construct a series object from a list containing ['10', '10.5', '11'], with index set to [3,4,5]. How would you get the second element in your series?"
   ]
  },
  {
   "cell_type": "code",
   "execution_count": null,
   "id": "a186c04e",
   "metadata": {},
   "outputs": [],
   "source": []
  }
 ],
 "metadata": {
  "kernelspec": {
   "display_name": "Python 3 (ipykernel)",
   "language": "python",
   "name": "python3"
  },
  "language_info": {
   "codemirror_mode": {
    "name": "ipython",
    "version": 3
   },
   "file_extension": ".py",
   "mimetype": "text/x-python",
   "name": "python",
   "nbconvert_exporter": "python",
   "pygments_lexer": "ipython3",
   "version": "3.9.7"
  }
 },
 "nbformat": 4,
 "nbformat_minor": 5
}
